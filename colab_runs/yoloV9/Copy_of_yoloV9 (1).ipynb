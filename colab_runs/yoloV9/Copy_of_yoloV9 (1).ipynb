{
  "nbformat": 4,
  "nbformat_minor": 0,
  "metadata": {
    "colab": {
      "provenance": [],
      "gpuType": "T4"
    },
    "kernelspec": {
      "name": "python3",
      "display_name": "Python 3"
    },
    "language_info": {
      "name": "python"
    },
    "accelerator": "GPU"
  },
  "cells": [
    {
      "cell_type": "code",
      "execution_count": null,
      "metadata": {
        "colab": {
          "base_uri": "https://localhost:8080/"
        },
        "id": "N6HU_TamNSdu",
        "outputId": "37ff1992-7a63-49b8-b129-c44f095bb1ad"
      },
      "outputs": [
        {
          "output_type": "stream",
          "name": "stdout",
          "text": [
            "--2024-04-04 05:52:01--  http://cvgl.stanford.edu/data/ActivityDataset.zip\n",
            "Resolving cvgl.stanford.edu (cvgl.stanford.edu)... 171.64.64.64\n",
            "Connecting to cvgl.stanford.edu (cvgl.stanford.edu)|171.64.64.64|:80... connected.\n",
            "HTTP request sent, awaiting response... 301 Moved Permanently\n",
            "Location: https://cvgl.stanford.edu/data/ActivityDataset.zip [following]\n",
            "--2024-04-04 05:52:01--  https://cvgl.stanford.edu/data/ActivityDataset.zip\n",
            "Connecting to cvgl.stanford.edu (cvgl.stanford.edu)|171.64.64.64|:443... connected.\n",
            "HTTP request sent, awaiting response... 200 OK\n",
            "Length: 1026546376 (979M) [application/zip]\n",
            "Saving to: ‘ActivityDataset.zip’\n",
            "\n",
            "ActivityDataset.zip 100%[===================>] 978.99M  13.4MB/s    in 77s     \n",
            "\n",
            "2024-04-04 05:53:18 (12.7 MB/s) - ‘ActivityDataset.zip’ saved [1026546376/1026546376]\n",
            "\n"
          ]
        }
      ],
      "source": [
        "!wget http://cvgl.stanford.edu/data/ActivityDataset.zip"
      ]
    },
    {
      "cell_type": "code",
      "source": [
        "!mkdir -p output/images\n",
        "!mkdir -p output/lables"
      ],
      "metadata": {
        "id": "VwMZX996OCiq"
      },
      "execution_count": null,
      "outputs": []
    },
    {
      "cell_type": "code",
      "source": [
        "!unzip ActivityDataset.zip -d input"
      ],
      "metadata": {
        "id": "QLKen8eSOKT9",
        "colab": {
          "base_uri": "https://localhost:8080/"
        },
        "outputId": "1c6e1ed7-ec10-4fd6-ec42-93617f14b19c"
      },
      "execution_count": null,
      "outputs": [
        {
          "output_type": "stream",
          "name": "stdout",
          "text": [
            "\u001b[1;30;43mStreaming output truncated to the last 5000 lines.\u001b[0m\n",
            "  inflating: input/seq37/frame0626.jpg  \n",
            "  inflating: input/seq37/frame0627.jpg  \n",
            "  inflating: input/seq37/frame0628.jpg  \n",
            "  inflating: input/seq37/frame0629.jpg  \n",
            "  inflating: input/seq37/frame0630.jpg  \n",
            "  inflating: input/seq37/frame0631.jpg  \n",
            "  inflating: input/seq37/frame0632.jpg  \n",
            "  inflating: input/seq37/frame0633.jpg  \n",
            "  inflating: input/seq37/frame0634.jpg  \n",
            "  inflating: input/seq37/frame0635.jpg  \n",
            "  inflating: input/seq37/frame0636.jpg  \n",
            "  inflating: input/seq37/frame0637.jpg  \n",
            "  inflating: input/seq37/frame0638.jpg  \n",
            "  inflating: input/seq37/frame0639.jpg  \n",
            "  inflating: input/seq37/frame0640.jpg  \n",
            "  inflating: input/seq37/frame0641.jpg  \n",
            "  inflating: input/seq37/frame0642.jpg  \n",
            "  inflating: input/seq37/frame0643.jpg  \n",
            "  inflating: input/seq37/frame0644.jpg  \n",
            "  inflating: input/seq37/frame0645.jpg  \n",
            "  inflating: input/seq37/frame0646.jpg  \n",
            "  inflating: input/seq37/frame0647.jpg  \n",
            "  inflating: input/seq37/frame0648.jpg  \n",
            "  inflating: input/seq37/frame0649.jpg  \n",
            "  inflating: input/seq37/frame0650.jpg  \n",
            "  inflating: input/seq37/frame0651.jpg  \n",
            "  inflating: input/seq37/frame0652.jpg  \n",
            "  inflating: input/seq37/frame0653.jpg  \n",
            "  inflating: input/seq37/frame0654.jpg  \n",
            "  inflating: input/seq37/frame0655.jpg  \n",
            "  inflating: input/seq37/frame0656.jpg  \n",
            "  inflating: input/seq37/frame0657.jpg  \n",
            "  inflating: input/seq37/frame0658.jpg  \n",
            "  inflating: input/seq37/frame0659.jpg  \n",
            "  inflating: input/seq37/frame0660.jpg  \n",
            "  inflating: input/seq37/frame0661.jpg  \n",
            "  inflating: input/seq37/frame0662.jpg  \n",
            "  inflating: input/seq37/frame0663.jpg  \n",
            "  inflating: input/seq37/frame0664.jpg  \n",
            "  inflating: input/seq37/frame0665.jpg  \n",
            "  inflating: input/seq37/frame0666.jpg  \n",
            "  inflating: input/seq37/frame0667.jpg  \n",
            "  inflating: input/seq37/frame0668.jpg  \n",
            "  inflating: input/seq37/frame0669.jpg  \n",
            "  inflating: input/seq37/frame0670.jpg  \n",
            "  inflating: input/seq37/frame0671.jpg  \n",
            "  inflating: input/seq37/frame0672.jpg  \n",
            "  inflating: input/seq37/frame0673.jpg  \n",
            "  inflating: input/seq37/frame0674.jpg  \n",
            "  inflating: input/seq37/frame0675.jpg  \n",
            "  inflating: input/seq37/frame0676.jpg  \n",
            "  inflating: input/seq37/frame0677.jpg  \n",
            "  inflating: input/seq37/frame0678.jpg  \n",
            "  inflating: input/seq37/frame0679.jpg  \n",
            "  inflating: input/seq37/frame0680.jpg  \n",
            "  inflating: input/seq37/frame0681.jpg  \n",
            "  inflating: input/seq37/frame0682.jpg  \n",
            "  inflating: input/seq37/frame0683.jpg  \n",
            "  inflating: input/seq37/frame0684.jpg  \n",
            "  inflating: input/seq37/frame0685.jpg  \n",
            "  inflating: input/seq37/frame0686.jpg  \n",
            "  inflating: input/seq37/frame0687.jpg  \n",
            "  inflating: input/seq37/frame0688.jpg  \n",
            "  inflating: input/seq37/frame0689.jpg  \n",
            "  inflating: input/seq37/frame0690.jpg  \n",
            "  inflating: input/seq37/frame0691.jpg  \n",
            "  inflating: input/seq37/frame0692.jpg  \n",
            "  inflating: input/seq37/frame0693.jpg  \n",
            "  inflating: input/seq37/frame0694.jpg  \n",
            "  inflating: input/seq37/frame0695.jpg  \n",
            "  inflating: input/seq37/frame0696.jpg  \n",
            "  inflating: input/seq37/frame0697.jpg  \n",
            "  inflating: input/seq37/frame0698.jpg  \n",
            "  inflating: input/seq37/frame0699.jpg  \n",
            "  inflating: input/seq37/frame0700.jpg  \n",
            "  inflating: input/seq37/frame0701.jpg  \n",
            "  inflating: input/seq37/frame0702.jpg  \n",
            "  inflating: input/seq37/frame0703.jpg  \n",
            "  inflating: input/seq37/frame0704.jpg  \n",
            "  inflating: input/seq37/frame0705.jpg  \n",
            "  inflating: input/seq37/frame0706.jpg  \n",
            "  inflating: input/seq37/frame0707.jpg  \n",
            "  inflating: input/seq37/frame0708.jpg  \n",
            "  inflating: input/seq37/frame0709.jpg  \n",
            "  inflating: input/seq37/frame0710.jpg  \n",
            "  inflating: input/seq37/frame0711.jpg  \n",
            "  inflating: input/seq37/frame0712.jpg  \n",
            "  inflating: input/seq37/frame0713.jpg  \n",
            "  inflating: input/seq37/frame0714.jpg  \n",
            "  inflating: input/seq37/frame0715.jpg  \n",
            "  inflating: input/seq37/frame0716.jpg  \n",
            "  inflating: input/seq37/frame0717.jpg  \n",
            "  inflating: input/seq37/frame0718.jpg  \n",
            "  inflating: input/seq37/frame0719.jpg  \n",
            "  inflating: input/seq37/frame0720.jpg  \n",
            "  inflating: input/seq37/frame0721.jpg  \n",
            "  inflating: input/seq37/frame0722.jpg  \n",
            "  inflating: input/seq37/frame0723.jpg  \n",
            "  inflating: input/seq37/frame0724.jpg  \n",
            "  inflating: input/seq37/frame0725.jpg  \n",
            "  inflating: input/seq37/frame0726.jpg  \n",
            "  inflating: input/seq37/frame0727.jpg  \n",
            "  inflating: input/seq37/frame0728.jpg  \n",
            "  inflating: input/seq37/frame0729.jpg  \n",
            "  inflating: input/seq37/frame0730.jpg  \n",
            "  inflating: input/seq37/frame0731.jpg  \n",
            "  inflating: input/seq37/frame0732.jpg  \n",
            "  inflating: input/seq37/frame0733.jpg  \n",
            "  inflating: input/seq37/frame0734.jpg  \n",
            "  inflating: input/seq37/frame0735.jpg  \n",
            "  inflating: input/seq37/frame0736.jpg  \n",
            "  inflating: input/seq37/frame0737.jpg  \n",
            "  inflating: input/seq37/frame0738.jpg  \n",
            "  inflating: input/seq37/frame0739.jpg  \n",
            "  inflating: input/seq37/frame0740.jpg  \n",
            "  inflating: input/seq37/frame0741.jpg  \n",
            "  inflating: input/seq37/frame0742.jpg  \n",
            "  inflating: input/seq37/frame0743.jpg  \n",
            "  inflating: input/seq37/frame0744.jpg  \n",
            "  inflating: input/seq37/frame0745.jpg  \n",
            "  inflating: input/seq37/frame0746.jpg  \n",
            "  inflating: input/seq37/frame0747.jpg  \n",
            "  inflating: input/seq37/frame0748.jpg  \n",
            "  inflating: input/seq37/frame0749.jpg  \n",
            "  inflating: input/seq37/frame0750.jpg  \n",
            "  inflating: input/seq37/frame0751.jpg  \n",
            "  inflating: input/seq37/frame0752.jpg  \n",
            "  inflating: input/seq37/frame0753.jpg  \n",
            "  inflating: input/seq37/frame0754.jpg  \n",
            "  inflating: input/seq37/frame0755.jpg  \n",
            "  inflating: input/seq37/frame0756.jpg  \n",
            "  inflating: input/seq37/frame0757.jpg  \n",
            "  inflating: input/seq37/frame0758.jpg  \n",
            "  inflating: input/seq37/frame0759.jpg  \n",
            "  inflating: input/seq37/frame0760.jpg  \n",
            "  inflating: input/seq37/frame0761.jpg  \n",
            "  inflating: input/seq37/frame0762.jpg  \n",
            "  inflating: input/seq37/frame0763.jpg  \n",
            "  inflating: input/seq37/frame0764.jpg  \n",
            "  inflating: input/seq37/frame0765.jpg  \n",
            "  inflating: input/seq37/frame0766.jpg  \n",
            "  inflating: input/seq37/frame0767.jpg  \n",
            "  inflating: input/seq37/frame0768.jpg  \n",
            "  inflating: input/seq37/frame0769.jpg  \n",
            "  inflating: input/seq37/frame0770.jpg  \n",
            "  inflating: input/seq37/frame0771.jpg  \n",
            "  inflating: input/seq37/frame0772.jpg  \n",
            "  inflating: input/seq37/frame0773.jpg  \n",
            "  inflating: input/seq37/frame0774.jpg  \n",
            "  inflating: input/seq37/frame0775.jpg  \n",
            "  inflating: input/seq37/frame0776.jpg  \n",
            "  inflating: input/seq37/frame0777.jpg  \n",
            "  inflating: input/seq37/frame0778.jpg  \n",
            "  inflating: input/seq37/frame0779.jpg  \n",
            "  inflating: input/seq37/frame0780.jpg  \n",
            "  inflating: input/seq37/frame0781.jpg  \n",
            "  inflating: input/seq37/frame0782.jpg  \n",
            "  inflating: input/seq37/frame0783.jpg  \n",
            "  inflating: input/seq37/frame0784.jpg  \n",
            "  inflating: input/seq37/frame0785.jpg  \n",
            "  inflating: input/seq37/frame0786.jpg  \n",
            "  inflating: input/seq37/frame0787.jpg  \n",
            "  inflating: input/seq37/frame0788.jpg  \n",
            "  inflating: input/seq37/frame0789.jpg  \n",
            "  inflating: input/seq37/frame0790.jpg  \n",
            "  inflating: input/seq37/frame0791.jpg  \n",
            "  inflating: input/seq37/frame0792.jpg  \n",
            "  inflating: input/seq37/frame0793.jpg  \n",
            "  inflating: input/seq37/frame0794.jpg  \n",
            "  inflating: input/seq37/frame0795.jpg  \n",
            "  inflating: input/seq37/frame0796.jpg  \n",
            "  inflating: input/seq37/frame0797.jpg  \n",
            "  inflating: input/seq37/frame0798.jpg  \n",
            "  inflating: input/seq37/frame0799.jpg  \n",
            "  inflating: input/seq37/frame0800.jpg  \n",
            "  inflating: input/seq37/frame0801.jpg  \n",
            "  inflating: input/seq37/frame0802.jpg  \n",
            "  inflating: input/seq37/frame0803.jpg  \n",
            "  inflating: input/seq37/frame0804.jpg  \n",
            "  inflating: input/seq37/frame0805.jpg  \n",
            "  inflating: input/seq37/frame0806.jpg  \n",
            "  inflating: input/seq37/frame0807.jpg  \n",
            "  inflating: input/seq37/frame0808.jpg  \n",
            "  inflating: input/seq37/frame0809.jpg  \n",
            "  inflating: input/seq37/frame0810.jpg  \n",
            "  inflating: input/seq37/frame0811.jpg  \n",
            "  inflating: input/seq37/frame0812.jpg  \n",
            "  inflating: input/seq37/frame0813.jpg  \n",
            "  inflating: input/seq37/frame0814.jpg  \n",
            "  inflating: input/seq37/frame0815.jpg  \n",
            "  inflating: input/seq37/frame0816.jpg  \n",
            "  inflating: input/seq37/frame0817.jpg  \n",
            "  inflating: input/seq37/frame0818.jpg  \n",
            "  inflating: input/seq37/frame0819.jpg  \n",
            "  inflating: input/seq37/frame0820.jpg  \n",
            "  inflating: input/seq37/frame0821.jpg  \n",
            "  inflating: input/seq37/frame0822.jpg  \n",
            "  inflating: input/seq37/frame0823.jpg  \n",
            "  inflating: input/seq37/frame0824.jpg  \n",
            "  inflating: input/seq37/frame0825.jpg  \n",
            "  inflating: input/seq37/frame0826.jpg  \n",
            "  inflating: input/seq37/frame0827.jpg  \n",
            "  inflating: input/seq37/frame0828.jpg  \n",
            "  inflating: input/seq37/frame0829.jpg  \n",
            "  inflating: input/seq37/frame0830.jpg  \n",
            "  inflating: input/seq37/frame0831.jpg  \n",
            "  inflating: input/seq37/frame0832.jpg  \n",
            "  inflating: input/seq37/frame0833.jpg  \n",
            "  inflating: input/seq37/frame0834.jpg  \n",
            "  inflating: input/seq37/frame0835.jpg  \n",
            "  inflating: input/seq37/frame0836.jpg  \n",
            "  inflating: input/seq37/frame0837.jpg  \n",
            "  inflating: input/seq37/frame0838.jpg  \n",
            "  inflating: input/seq37/frame0839.jpg  \n",
            "  inflating: input/seq37/frame0840.jpg  \n",
            "  inflating: input/seq37/frame0841.jpg  \n",
            "  inflating: input/seq37/frame0842.jpg  \n",
            "  inflating: input/seq37/frame0843.jpg  \n",
            "  inflating: input/seq37/frame0844.jpg  \n",
            "  inflating: input/seq37/frame0845.jpg  \n",
            "  inflating: input/seq37/frame0846.jpg  \n",
            "  inflating: input/seq37/frame0847.jpg  \n",
            "  inflating: input/seq37/frame0848.jpg  \n",
            "  inflating: input/seq37/frame0849.jpg  \n",
            "  inflating: input/seq37/frame0850.jpg  \n",
            "  inflating: input/seq37/frame0851.jpg  \n",
            "  inflating: input/seq37/frame0852.jpg  \n",
            "  inflating: input/seq37/frame0853.jpg  \n",
            "  inflating: input/seq37/frame0854.jpg  \n",
            "  inflating: input/seq37/frame0855.jpg  \n",
            "  inflating: input/seq37/frame0856.jpg  \n",
            "  inflating: input/seq37/frame0857.jpg  \n",
            "  inflating: input/seq37/frame0858.jpg  \n",
            "  inflating: input/seq37/frame0859.jpg  \n",
            "  inflating: input/seq37/frame0860.jpg  \n",
            "  inflating: input/seq37/frame0861.jpg  \n",
            "  inflating: input/seq37/frame0862.jpg  \n",
            "  inflating: input/seq37/frame0863.jpg  \n",
            "  inflating: input/seq37/frame0864.jpg  \n",
            "  inflating: input/seq37/frame0865.jpg  \n",
            "  inflating: input/seq37/frame0866.jpg  \n",
            "  inflating: input/seq37/frame0867.jpg  \n",
            "  inflating: input/seq37/frame0868.jpg  \n",
            "  inflating: input/seq37/frame0869.jpg  \n",
            "  inflating: input/seq37/frame0870.jpg  \n",
            "  inflating: input/seq37/frame0871.jpg  \n",
            "  inflating: input/seq37/frame0872.jpg  \n",
            "  inflating: input/seq37/frame0873.jpg  \n",
            "  inflating: input/seq37/frame0874.jpg  \n",
            "  inflating: input/seq37/frame0875.jpg  \n",
            "  inflating: input/seq37/frame0876.jpg  \n",
            "  inflating: input/seq37/frame0877.jpg  \n",
            "  inflating: input/seq37/frame0878.jpg  \n",
            "  inflating: input/seq37/frame0879.jpg  \n",
            "  inflating: input/seq37/frame0880.jpg  \n",
            "  inflating: input/seq37/frame0881.jpg  \n",
            "  inflating: input/seq37/frame0882.jpg  \n",
            "  inflating: input/seq37/frame0883.jpg  \n",
            "  inflating: input/seq37/frame0884.jpg  \n",
            "  inflating: input/seq37/frame0885.jpg  \n",
            "  inflating: input/seq37/frame0886.jpg  \n",
            "  inflating: input/seq37/frame0887.jpg  \n",
            "  inflating: input/seq37/frame0888.jpg  \n",
            "  inflating: input/seq37/frame0889.jpg  \n",
            "  inflating: input/seq37/frame0890.jpg  \n",
            "  inflating: input/seq37/frame0891.jpg  \n",
            "  inflating: input/seq37/frame0892.jpg  \n",
            "  inflating: input/seq37/frame0893.jpg  \n",
            "  inflating: input/seq37/frame0894.jpg  \n",
            "  inflating: input/seq37/frame0895.jpg  \n",
            "  inflating: input/seq37/frame0896.jpg  \n",
            "  inflating: input/seq37/frame0897.jpg  \n",
            "  inflating: input/seq37/frame0898.jpg  \n",
            "  inflating: input/seq37/frame0899.jpg  \n",
            "  inflating: input/seq37/frame0900.jpg  \n",
            "  inflating: input/seq37/frame0901.jpg  \n",
            "  inflating: input/seq37/frame0902.jpg  \n",
            "  inflating: input/seq37/frame0903.jpg  \n",
            "  inflating: input/seq37/frame0904.jpg  \n",
            "  inflating: input/seq37/frame0905.jpg  \n",
            "  inflating: input/seq37/frame0906.jpg  \n",
            "  inflating: input/seq37/frame0907.jpg  \n",
            "  inflating: input/seq37/frame0908.jpg  \n",
            "  inflating: input/seq37/frame0909.jpg  \n",
            "  inflating: input/seq37/frame0910.jpg  \n",
            "  inflating: input/seq37/frame0911.jpg  \n",
            "  inflating: input/seq37/frame0912.jpg  \n",
            "  inflating: input/seq37/frame0913.jpg  \n",
            "  inflating: input/seq37/frame0914.jpg  \n",
            "  inflating: input/seq37/frame0915.jpg  \n",
            "  inflating: input/seq37/frame0916.jpg  \n",
            "  inflating: input/seq37/frame0917.jpg  \n",
            "  inflating: input/seq37/frame0918.jpg  \n",
            "  inflating: input/seq37/frame0919.jpg  \n",
            "  inflating: input/seq37/frame0920.jpg  \n",
            "  inflating: input/seq37/frame0921.jpg  \n",
            "  inflating: input/seq37/frame0922.jpg  \n",
            "  inflating: input/seq37/frame0923.jpg  \n",
            "  inflating: input/seq37/frame0924.jpg  \n",
            "  inflating: input/seq37/frame0925.jpg  \n",
            "  inflating: input/seq37/frame0926.jpg  \n",
            "  inflating: input/seq37/frame0927.jpg  \n",
            "  inflating: input/seq37/frame0928.jpg  \n",
            "  inflating: input/seq37/frame0929.jpg  \n",
            "  inflating: input/seq37/frame0930.jpg  \n",
            "  inflating: input/seq37/frame0931.jpg  \n",
            "  inflating: input/seq37/frame0932.jpg  \n",
            "  inflating: input/seq37/frame0933.jpg  \n",
            "  inflating: input/seq37/frame0934.jpg  \n",
            "  inflating: input/seq37/frame0935.jpg  \n",
            "  inflating: input/seq37/frame0936.jpg  \n",
            "  inflating: input/seq37/frame0937.jpg  \n",
            "  inflating: input/seq37/frame0938.jpg  \n",
            "  inflating: input/seq37/frame0939.jpg  \n",
            "  inflating: input/seq37/frame0940.jpg  \n",
            "  inflating: input/seq37/frame0941.jpg  \n",
            "  inflating: input/seq37/frame0942.jpg  \n",
            "  inflating: input/seq37/frame0943.jpg  \n",
            "  inflating: input/seq37/frame0944.jpg  \n",
            "  inflating: input/seq37/frame0945.jpg  \n",
            "  inflating: input/seq37/frame0946.jpg  \n",
            "  inflating: input/seq37/frame0947.jpg  \n",
            "  inflating: input/seq37/frame0948.jpg  \n",
            "  inflating: input/seq37/frame0949.jpg  \n",
            "  inflating: input/seq37/frame0950.jpg  \n",
            "  inflating: input/seq37/frame0951.jpg  \n",
            "  inflating: input/seq37/frame0952.jpg  \n",
            "  inflating: input/seq37/frame0953.jpg  \n",
            "  inflating: input/seq37/frame0954.jpg  \n",
            "  inflating: input/seq37/frame0955.jpg  \n",
            "  inflating: input/seq37/frame0956.jpg  \n",
            "  inflating: input/seq37/frame0957.jpg  \n",
            "  inflating: input/seq37/frame0958.jpg  \n",
            "  inflating: input/seq37/frame0959.jpg  \n",
            "  inflating: input/seq37/frame0960.jpg  \n",
            "  inflating: input/seq37/frame0961.jpg  \n",
            "  inflating: input/seq37/frame0962.jpg  \n",
            "  inflating: input/seq37/frame0963.jpg  \n",
            "  inflating: input/seq37/frame0964.jpg  \n",
            "  inflating: input/seq37/frame0965.jpg  \n",
            "  inflating: input/seq37/frame0966.jpg  \n",
            "  inflating: input/seq37/frame0967.jpg  \n",
            "  inflating: input/seq37/frame0968.jpg  \n",
            "  inflating: input/seq37/frame0969.jpg  \n",
            "  inflating: input/seq37/frame0970.jpg  \n",
            "  inflating: input/seq37/frame0971.jpg  \n",
            "  inflating: input/seq37/frame0972.jpg  \n",
            "  inflating: input/seq37/frame0973.jpg  \n",
            "  inflating: input/seq37/frame0974.jpg  \n",
            "  inflating: input/seq37/frame0975.jpg  \n",
            "  inflating: input/seq37/frame0976.jpg  \n",
            "  inflating: input/seq37/frame0977.jpg  \n",
            "  inflating: input/seq37/frame0978.jpg  \n",
            "  inflating: input/seq37/frame0979.jpg  \n",
            "  inflating: input/seq37/frame0980.jpg  \n",
            "  inflating: input/seq37/frame0981.jpg  \n",
            "  inflating: input/seq37/frame0982.jpg  \n",
            "  inflating: input/seq37/frame0983.jpg  \n",
            "  inflating: input/seq37/frame0984.jpg  \n",
            "  inflating: input/seq37/frame0985.jpg  \n",
            "  inflating: input/seq37/frame0986.jpg  \n",
            "  inflating: input/seq37/frame0987.jpg  \n",
            "  inflating: input/seq37/frame0988.jpg  \n",
            "  inflating: input/seq37/frame0989.jpg  \n",
            "  inflating: input/seq37/frame0990.jpg  \n",
            "  inflating: input/seq37/frame0991.jpg  \n",
            "  inflating: input/seq37/frame0992.jpg  \n",
            "  inflating: input/seq37/frame0993.jpg  \n",
            "  inflating: input/seq37/frame0994.jpg  \n",
            "  inflating: input/seq37/frame0995.jpg  \n",
            "  inflating: input/seq37/frame0996.jpg  \n",
            "  inflating: input/seq37/frame0997.jpg  \n",
            "  inflating: input/seq37/frame0998.jpg  \n",
            "  inflating: input/seq37/frame0999.jpg  \n",
            "  inflating: input/seq37/frame1000.jpg  \n",
            "  inflating: input/seq37/frame1001.jpg  \n",
            "  inflating: input/seq37/frame1002.jpg  \n",
            "  inflating: input/seq37/frame1003.jpg  \n",
            "  inflating: input/seq37/frame1004.jpg  \n",
            "  inflating: input/seq37/frame1005.jpg  \n",
            "  inflating: input/seq37/frame1006.jpg  \n",
            "  inflating: input/seq37/frame1007.jpg  \n",
            "  inflating: input/seq37/frame1008.jpg  \n",
            "  inflating: input/seq37/frame1009.jpg  \n",
            "  inflating: input/seq37/frame1010.jpg  \n",
            "  inflating: input/seq37/frame1011.jpg  \n",
            "  inflating: input/seq37/frame1012.jpg  \n",
            "  inflating: input/seq37/frame1013.jpg  \n",
            "  inflating: input/seq37/frame1014.jpg  \n",
            "  inflating: input/seq37/frame1015.jpg  \n",
            "  inflating: input/seq37/frame1016.jpg  \n",
            "  inflating: input/seq37/frame1017.jpg  \n",
            "  inflating: input/seq37/frame1018.jpg  \n",
            "  inflating: input/seq37/frame1019.jpg  \n",
            "  inflating: input/seq37/frame1020.jpg  \n",
            "  inflating: input/seq37/frame1021.jpg  \n",
            "  inflating: input/seq37/frame1022.jpg  \n",
            "  inflating: input/seq37/frame1023.jpg  \n",
            "  inflating: input/seq37/frame1024.jpg  \n",
            "  inflating: input/seq37/frame1025.jpg  \n",
            "  inflating: input/seq37/frame1026.jpg  \n",
            "  inflating: input/seq37/frame1027.jpg  \n",
            "  inflating: input/seq37/frame1028.jpg  \n",
            "  inflating: input/seq37/frame1029.jpg  \n",
            "  inflating: input/seq37/frame1030.jpg  \n",
            "  inflating: input/seq37/frame1031.jpg  \n",
            "  inflating: input/seq37/frame1032.jpg  \n",
            "  inflating: input/seq37/frame1033.jpg  \n",
            "  inflating: input/seq37/frame1034.jpg  \n",
            "  inflating: input/seq37/frame1035.jpg  \n",
            "  inflating: input/seq37/frame1036.jpg  \n",
            "  inflating: input/seq37/frame1037.jpg  \n",
            "  inflating: input/seq37/frame1038.jpg  \n",
            "  inflating: input/seq37/frame1039.jpg  \n",
            "  inflating: input/seq37/frame1040.jpg  \n",
            "  inflating: input/seq37/frame1041.jpg  \n",
            "  inflating: input/seq37/frame1042.jpg  \n",
            "  inflating: input/seq37/frame1043.jpg  \n",
            "  inflating: input/seq37/frame1044.jpg  \n",
            "  inflating: input/seq37/frame1045.jpg  \n",
            "  inflating: input/seq37/frame1046.jpg  \n",
            "  inflating: input/seq37/frame1047.jpg  \n",
            "  inflating: input/seq37/frame1048.jpg  \n",
            "  inflating: input/seq37/frame1049.jpg  \n",
            "  inflating: input/seq38/annotations.txt  \n",
            "  inflating: input/seq38/frame0001.jpg  \n",
            "  inflating: input/seq38/frame0002.jpg  \n",
            "  inflating: input/seq38/frame0003.jpg  \n",
            "  inflating: input/seq38/frame0004.jpg  \n",
            "  inflating: input/seq38/frame0005.jpg  \n",
            "  inflating: input/seq38/frame0006.jpg  \n",
            "  inflating: input/seq38/frame0007.jpg  \n",
            "  inflating: input/seq38/frame0008.jpg  \n",
            "  inflating: input/seq38/frame0009.jpg  \n",
            "  inflating: input/seq38/frame0010.jpg  \n",
            "  inflating: input/seq38/frame0011.jpg  \n",
            "  inflating: input/seq38/frame0012.jpg  \n",
            "  inflating: input/seq38/frame0013.jpg  \n",
            "  inflating: input/seq38/frame0014.jpg  \n",
            "  inflating: input/seq38/frame0015.jpg  \n",
            "  inflating: input/seq38/frame0016.jpg  \n",
            "  inflating: input/seq38/frame0017.jpg  \n",
            "  inflating: input/seq38/frame0018.jpg  \n",
            "  inflating: input/seq38/frame0019.jpg  \n",
            "  inflating: input/seq38/frame0020.jpg  \n",
            "  inflating: input/seq38/frame0021.jpg  \n",
            "  inflating: input/seq38/frame0022.jpg  \n",
            "  inflating: input/seq38/frame0023.jpg  \n",
            "  inflating: input/seq38/frame0024.jpg  \n",
            "  inflating: input/seq38/frame0025.jpg  \n",
            "  inflating: input/seq38/frame0026.jpg  \n",
            "  inflating: input/seq38/frame0027.jpg  \n",
            "  inflating: input/seq38/frame0028.jpg  \n",
            "  inflating: input/seq38/frame0029.jpg  \n",
            "  inflating: input/seq38/frame0030.jpg  \n",
            "  inflating: input/seq38/frame0031.jpg  \n",
            "  inflating: input/seq38/frame0032.jpg  \n",
            "  inflating: input/seq38/frame0033.jpg  \n",
            "  inflating: input/seq38/frame0034.jpg  \n",
            "  inflating: input/seq38/frame0035.jpg  \n",
            "  inflating: input/seq38/frame0036.jpg  \n",
            "  inflating: input/seq38/frame0037.jpg  \n",
            "  inflating: input/seq38/frame0038.jpg  \n",
            "  inflating: input/seq38/frame0039.jpg  \n",
            "  inflating: input/seq38/frame0040.jpg  \n",
            "  inflating: input/seq38/frame0041.jpg  \n",
            "  inflating: input/seq38/frame0042.jpg  \n",
            "  inflating: input/seq38/frame0043.jpg  \n",
            "  inflating: input/seq38/frame0044.jpg  \n",
            "  inflating: input/seq38/frame0045.jpg  \n",
            "  inflating: input/seq38/frame0046.jpg  \n",
            "  inflating: input/seq38/frame0047.jpg  \n",
            "  inflating: input/seq38/frame0048.jpg  \n",
            "  inflating: input/seq38/frame0049.jpg  \n",
            "  inflating: input/seq38/frame0050.jpg  \n",
            "  inflating: input/seq38/frame0051.jpg  \n",
            "  inflating: input/seq38/frame0052.jpg  \n",
            "  inflating: input/seq38/frame0053.jpg  \n",
            "  inflating: input/seq38/frame0054.jpg  \n",
            "  inflating: input/seq38/frame0055.jpg  \n",
            "  inflating: input/seq38/frame0056.jpg  \n",
            "  inflating: input/seq38/frame0057.jpg  \n",
            "  inflating: input/seq38/frame0058.jpg  \n",
            "  inflating: input/seq38/frame0059.jpg  \n",
            "  inflating: input/seq38/frame0060.jpg  \n",
            "  inflating: input/seq38/frame0061.jpg  \n",
            "  inflating: input/seq38/frame0062.jpg  \n",
            "  inflating: input/seq38/frame0063.jpg  \n",
            "  inflating: input/seq38/frame0064.jpg  \n",
            "  inflating: input/seq38/frame0065.jpg  \n",
            "  inflating: input/seq38/frame0066.jpg  \n",
            "  inflating: input/seq38/frame0067.jpg  \n",
            "  inflating: input/seq38/frame0068.jpg  \n",
            "  inflating: input/seq38/frame0069.jpg  \n",
            "  inflating: input/seq38/frame0070.jpg  \n",
            "  inflating: input/seq38/frame0071.jpg  \n",
            "  inflating: input/seq38/frame0072.jpg  \n",
            "  inflating: input/seq38/frame0073.jpg  \n",
            "  inflating: input/seq38/frame0074.jpg  \n",
            "  inflating: input/seq38/frame0075.jpg  \n",
            "  inflating: input/seq38/frame0076.jpg  \n",
            "  inflating: input/seq38/frame0077.jpg  \n",
            "  inflating: input/seq38/frame0078.jpg  \n",
            "  inflating: input/seq38/frame0079.jpg  \n",
            "  inflating: input/seq38/frame0080.jpg  \n",
            "  inflating: input/seq38/frame0081.jpg  \n",
            "  inflating: input/seq38/frame0082.jpg  \n",
            "  inflating: input/seq38/frame0083.jpg  \n",
            "  inflating: input/seq38/frame0084.jpg  \n",
            "  inflating: input/seq38/frame0085.jpg  \n",
            "  inflating: input/seq38/frame0086.jpg  \n",
            "  inflating: input/seq38/frame0087.jpg  \n",
            "  inflating: input/seq38/frame0088.jpg  \n",
            "  inflating: input/seq38/frame0089.jpg  \n",
            "  inflating: input/seq38/frame0090.jpg  \n",
            "  inflating: input/seq38/frame0091.jpg  \n",
            "  inflating: input/seq38/frame0092.jpg  \n",
            "  inflating: input/seq38/frame0093.jpg  \n",
            "  inflating: input/seq38/frame0094.jpg  \n",
            "  inflating: input/seq38/frame0095.jpg  \n",
            "  inflating: input/seq38/frame0096.jpg  \n",
            "  inflating: input/seq38/frame0097.jpg  \n",
            "  inflating: input/seq38/frame0098.jpg  \n",
            "  inflating: input/seq38/frame0099.jpg  \n",
            "  inflating: input/seq38/frame0100.jpg  \n",
            "  inflating: input/seq38/frame0101.jpg  \n",
            "  inflating: input/seq38/frame0102.jpg  \n",
            "  inflating: input/seq38/frame0103.jpg  \n",
            "  inflating: input/seq38/frame0104.jpg  \n",
            "  inflating: input/seq38/frame0105.jpg  \n",
            "  inflating: input/seq38/frame0106.jpg  \n",
            "  inflating: input/seq38/frame0107.jpg  \n",
            "  inflating: input/seq38/frame0108.jpg  \n",
            "  inflating: input/seq38/frame0109.jpg  \n",
            "  inflating: input/seq38/frame0110.jpg  \n",
            "  inflating: input/seq38/frame0111.jpg  \n",
            "  inflating: input/seq38/frame0112.jpg  \n",
            "  inflating: input/seq38/frame0113.jpg  \n",
            "  inflating: input/seq38/frame0114.jpg  \n",
            "  inflating: input/seq38/frame0115.jpg  \n",
            "  inflating: input/seq38/frame0116.jpg  \n",
            "  inflating: input/seq38/frame0117.jpg  \n",
            "  inflating: input/seq38/frame0118.jpg  \n",
            "  inflating: input/seq38/frame0119.jpg  \n",
            "  inflating: input/seq38/frame0120.jpg  \n",
            "  inflating: input/seq38/frame0121.jpg  \n",
            "  inflating: input/seq38/frame0122.jpg  \n",
            "  inflating: input/seq38/frame0123.jpg  \n",
            "  inflating: input/seq38/frame0124.jpg  \n",
            "  inflating: input/seq38/frame0125.jpg  \n",
            "  inflating: input/seq38/frame0126.jpg  \n",
            "  inflating: input/seq38/frame0127.jpg  \n",
            "  inflating: input/seq38/frame0128.jpg  \n",
            "  inflating: input/seq38/frame0129.jpg  \n",
            "  inflating: input/seq38/frame0130.jpg  \n",
            "  inflating: input/seq38/frame0131.jpg  \n",
            "  inflating: input/seq38/frame0132.jpg  \n",
            "  inflating: input/seq38/frame0133.jpg  \n",
            "  inflating: input/seq38/frame0134.jpg  \n",
            "  inflating: input/seq38/frame0135.jpg  \n",
            "  inflating: input/seq38/frame0136.jpg  \n",
            "  inflating: input/seq38/frame0137.jpg  \n",
            "  inflating: input/seq38/frame0138.jpg  \n",
            "  inflating: input/seq38/frame0139.jpg  \n",
            "  inflating: input/seq38/frame0140.jpg  \n",
            "  inflating: input/seq38/frame0141.jpg  \n",
            "  inflating: input/seq38/frame0142.jpg  \n",
            "  inflating: input/seq38/frame0143.jpg  \n",
            "  inflating: input/seq38/frame0144.jpg  \n",
            "  inflating: input/seq38/frame0145.jpg  \n",
            "  inflating: input/seq38/frame0146.jpg  \n",
            "  inflating: input/seq38/frame0147.jpg  \n",
            "  inflating: input/seq38/frame0148.jpg  \n",
            "  inflating: input/seq38/frame0149.jpg  \n",
            "  inflating: input/seq38/frame0150.jpg  \n",
            "  inflating: input/seq38/frame0151.jpg  \n",
            "  inflating: input/seq38/frame0152.jpg  \n",
            "  inflating: input/seq38/frame0153.jpg  \n",
            "  inflating: input/seq38/frame0154.jpg  \n",
            "  inflating: input/seq38/frame0155.jpg  \n",
            "  inflating: input/seq38/frame0156.jpg  \n",
            "  inflating: input/seq38/frame0157.jpg  \n",
            "  inflating: input/seq38/frame0158.jpg  \n",
            "  inflating: input/seq38/frame0159.jpg  \n",
            "  inflating: input/seq38/frame0160.jpg  \n",
            "  inflating: input/seq38/frame0161.jpg  \n",
            "  inflating: input/seq38/frame0162.jpg  \n",
            "  inflating: input/seq38/frame0163.jpg  \n",
            "  inflating: input/seq38/frame0164.jpg  \n",
            "  inflating: input/seq38/frame0165.jpg  \n",
            "  inflating: input/seq38/frame0166.jpg  \n",
            "  inflating: input/seq38/frame0167.jpg  \n",
            "  inflating: input/seq38/frame0168.jpg  \n",
            "  inflating: input/seq38/frame0169.jpg  \n",
            "  inflating: input/seq38/frame0170.jpg  \n",
            "  inflating: input/seq38/frame0171.jpg  \n",
            "  inflating: input/seq38/frame0172.jpg  \n",
            "  inflating: input/seq38/frame0173.jpg  \n",
            "  inflating: input/seq38/frame0174.jpg  \n",
            "  inflating: input/seq38/frame0175.jpg  \n",
            "  inflating: input/seq38/frame0176.jpg  \n",
            "  inflating: input/seq38/frame0177.jpg  \n",
            "  inflating: input/seq38/frame0178.jpg  \n",
            "  inflating: input/seq38/frame0179.jpg  \n",
            "  inflating: input/seq38/frame0180.jpg  \n",
            "  inflating: input/seq38/frame0181.jpg  \n",
            "  inflating: input/seq38/frame0182.jpg  \n",
            "  inflating: input/seq38/frame0183.jpg  \n",
            "  inflating: input/seq38/frame0184.jpg  \n",
            "  inflating: input/seq38/frame0185.jpg  \n",
            "  inflating: input/seq38/frame0186.jpg  \n",
            "  inflating: input/seq38/frame0187.jpg  \n",
            "  inflating: input/seq38/frame0188.jpg  \n",
            "  inflating: input/seq38/frame0189.jpg  \n",
            "  inflating: input/seq38/frame0190.jpg  \n",
            "  inflating: input/seq38/frame0191.jpg  \n",
            "  inflating: input/seq38/frame0192.jpg  \n",
            "  inflating: input/seq38/frame0193.jpg  \n",
            "  inflating: input/seq38/frame0194.jpg  \n",
            "  inflating: input/seq38/frame0195.jpg  \n",
            "  inflating: input/seq38/frame0196.jpg  \n",
            "  inflating: input/seq38/frame0197.jpg  \n",
            "  inflating: input/seq38/frame0198.jpg  \n",
            "  inflating: input/seq38/frame0199.jpg  \n",
            "  inflating: input/seq38/frame0200.jpg  \n",
            "  inflating: input/seq38/frame0201.jpg  \n",
            "  inflating: input/seq38/frame0202.jpg  \n",
            "  inflating: input/seq38/frame0203.jpg  \n",
            "  inflating: input/seq38/frame0204.jpg  \n",
            "  inflating: input/seq38/frame0205.jpg  \n",
            "  inflating: input/seq38/frame0206.jpg  \n",
            "  inflating: input/seq38/frame0207.jpg  \n",
            "  inflating: input/seq38/frame0208.jpg  \n",
            "  inflating: input/seq38/frame0209.jpg  \n",
            "  inflating: input/seq38/frame0210.jpg  \n",
            "  inflating: input/seq38/frame0211.jpg  \n",
            "  inflating: input/seq38/frame0212.jpg  \n",
            "  inflating: input/seq38/frame0213.jpg  \n",
            "  inflating: input/seq38/frame0214.jpg  \n",
            "  inflating: input/seq38/frame0215.jpg  \n",
            "  inflating: input/seq38/frame0216.jpg  \n",
            "  inflating: input/seq38/frame0217.jpg  \n",
            "  inflating: input/seq38/frame0218.jpg  \n",
            "  inflating: input/seq38/frame0219.jpg  \n",
            "  inflating: input/seq38/frame0220.jpg  \n",
            "  inflating: input/seq38/frame0221.jpg  \n",
            "  inflating: input/seq38/frame0222.jpg  \n",
            "  inflating: input/seq38/frame0223.jpg  \n",
            "  inflating: input/seq38/frame0224.jpg  \n",
            "  inflating: input/seq38/frame0225.jpg  \n",
            "  inflating: input/seq38/frame0226.jpg  \n",
            "  inflating: input/seq38/frame0227.jpg  \n",
            "  inflating: input/seq38/frame0228.jpg  \n",
            "  inflating: input/seq38/frame0229.jpg  \n",
            "  inflating: input/seq38/frame0230.jpg  \n",
            "  inflating: input/seq38/frame0231.jpg  \n",
            "  inflating: input/seq38/frame0232.jpg  \n",
            "  inflating: input/seq38/frame0233.jpg  \n",
            "  inflating: input/seq38/frame0234.jpg  \n",
            "  inflating: input/seq38/frame0235.jpg  \n",
            "  inflating: input/seq38/frame0236.jpg  \n",
            "  inflating: input/seq38/frame0237.jpg  \n",
            "  inflating: input/seq38/frame0238.jpg  \n",
            "  inflating: input/seq38/frame0239.jpg  \n",
            "  inflating: input/seq38/frame0240.jpg  \n",
            "  inflating: input/seq38/frame0241.jpg  \n",
            "  inflating: input/seq38/frame0242.jpg  \n",
            "  inflating: input/seq38/frame0243.jpg  \n",
            "  inflating: input/seq38/frame0244.jpg  \n",
            "  inflating: input/seq38/frame0245.jpg  \n",
            "  inflating: input/seq38/frame0246.jpg  \n",
            "  inflating: input/seq38/frame0247.jpg  \n",
            "  inflating: input/seq38/frame0248.jpg  \n",
            "  inflating: input/seq38/frame0249.jpg  \n",
            "  inflating: input/seq38/frame0250.jpg  \n",
            "  inflating: input/seq38/frame0251.jpg  \n",
            "  inflating: input/seq38/frame0252.jpg  \n",
            "  inflating: input/seq38/frame0253.jpg  \n",
            "  inflating: input/seq38/frame0254.jpg  \n",
            "  inflating: input/seq38/frame0255.jpg  \n",
            "  inflating: input/seq38/frame0256.jpg  \n",
            "  inflating: input/seq38/frame0257.jpg  \n",
            "  inflating: input/seq38/frame0258.jpg  \n",
            "  inflating: input/seq38/frame0259.jpg  \n",
            "  inflating: input/seq38/frame0260.jpg  \n",
            "  inflating: input/seq38/frame0261.jpg  \n",
            "  inflating: input/seq38/frame0262.jpg  \n",
            "  inflating: input/seq38/frame0263.jpg  \n",
            "  inflating: input/seq38/frame0264.jpg  \n",
            "  inflating: input/seq38/frame0265.jpg  \n",
            "  inflating: input/seq38/frame0266.jpg  \n",
            "  inflating: input/seq38/frame0267.jpg  \n",
            "  inflating: input/seq38/frame0268.jpg  \n",
            "  inflating: input/seq38/frame0269.jpg  \n",
            "  inflating: input/seq38/frame0270.jpg  \n",
            "  inflating: input/seq38/frame0271.jpg  \n",
            "  inflating: input/seq38/frame0272.jpg  \n",
            "  inflating: input/seq38/frame0273.jpg  \n",
            "  inflating: input/seq38/frame0274.jpg  \n",
            "  inflating: input/seq38/frame0275.jpg  \n",
            "  inflating: input/seq38/frame0276.jpg  \n",
            "  inflating: input/seq38/frame0277.jpg  \n",
            "  inflating: input/seq38/frame0278.jpg  \n",
            "  inflating: input/seq38/frame0279.jpg  \n",
            "  inflating: input/seq38/frame0280.jpg  \n",
            "  inflating: input/seq38/frame0281.jpg  \n",
            "  inflating: input/seq38/frame0282.jpg  \n",
            "  inflating: input/seq38/frame0283.jpg  \n",
            "  inflating: input/seq38/frame0284.jpg  \n",
            "  inflating: input/seq38/frame0285.jpg  \n",
            "  inflating: input/seq38/frame0286.jpg  \n",
            "  inflating: input/seq38/frame0287.jpg  \n",
            "  inflating: input/seq38/frame0288.jpg  \n",
            "  inflating: input/seq38/frame0289.jpg  \n",
            "  inflating: input/seq38/frame0290.jpg  \n",
            "  inflating: input/seq38/frame0291.jpg  \n",
            "  inflating: input/seq38/frame0292.jpg  \n",
            "  inflating: input/seq38/frame0293.jpg  \n",
            "  inflating: input/seq38/frame0294.jpg  \n",
            "  inflating: input/seq38/frame0295.jpg  \n",
            "  inflating: input/seq38/frame0296.jpg  \n",
            "  inflating: input/seq38/frame0297.jpg  \n",
            "  inflating: input/seq38/frame0298.jpg  \n",
            "  inflating: input/seq38/frame0299.jpg  \n",
            "  inflating: input/seq38/frame0300.jpg  \n",
            "  inflating: input/seq38/frame0301.jpg  \n",
            "  inflating: input/seq38/frame0302.jpg  \n",
            "  inflating: input/seq38/frame0303.jpg  \n",
            "  inflating: input/seq38/frame0304.jpg  \n",
            "  inflating: input/seq38/frame0305.jpg  \n",
            "  inflating: input/seq38/frame0306.jpg  \n",
            "  inflating: input/seq38/frame0307.jpg  \n",
            "  inflating: input/seq38/frame0308.jpg  \n",
            "  inflating: input/seq38/frame0309.jpg  \n",
            "  inflating: input/seq38/frame0310.jpg  \n",
            "  inflating: input/seq38/frame0311.jpg  \n",
            "  inflating: input/seq38/frame0312.jpg  \n",
            "  inflating: input/seq38/frame0313.jpg  \n",
            "  inflating: input/seq38/frame0314.jpg  \n",
            "  inflating: input/seq38/frame0315.jpg  \n",
            "  inflating: input/seq38/frame0316.jpg  \n",
            "  inflating: input/seq38/frame0317.jpg  \n",
            "  inflating: input/seq38/frame0318.jpg  \n",
            "  inflating: input/seq38/frame0319.jpg  \n",
            "  inflating: input/seq38/frame0320.jpg  \n",
            "  inflating: input/seq38/frame0321.jpg  \n",
            "  inflating: input/seq38/frame0322.jpg  \n",
            "  inflating: input/seq38/frame0323.jpg  \n",
            "  inflating: input/seq38/frame0324.jpg  \n",
            "  inflating: input/seq38/frame0325.jpg  \n",
            "  inflating: input/seq38/frame0326.jpg  \n",
            "  inflating: input/seq38/frame0327.jpg  \n",
            "  inflating: input/seq38/frame0328.jpg  \n",
            "  inflating: input/seq38/frame0329.jpg  \n",
            "  inflating: input/seq38/frame0330.jpg  \n",
            "  inflating: input/seq38/frame0331.jpg  \n",
            "  inflating: input/seq38/frame0332.jpg  \n",
            "  inflating: input/seq38/frame0333.jpg  \n",
            "  inflating: input/seq38/frame0334.jpg  \n",
            "  inflating: input/seq38/frame0335.jpg  \n",
            "  inflating: input/seq38/frame0336.jpg  \n",
            "  inflating: input/seq38/frame0337.jpg  \n",
            "  inflating: input/seq38/frame0338.jpg  \n",
            "  inflating: input/seq38/frame0339.jpg  \n",
            "  inflating: input/seq38/frame0340.jpg  \n",
            "  inflating: input/seq38/frame0341.jpg  \n",
            "  inflating: input/seq38/frame0342.jpg  \n",
            "  inflating: input/seq38/frame0343.jpg  \n",
            "  inflating: input/seq38/frame0344.jpg  \n",
            "  inflating: input/seq38/frame0345.jpg  \n",
            "  inflating: input/seq38/frame0346.jpg  \n",
            "  inflating: input/seq38/frame0347.jpg  \n",
            "  inflating: input/seq38/frame0348.jpg  \n",
            "  inflating: input/seq38/frame0349.jpg  \n",
            "  inflating: input/seq38/frame0350.jpg  \n",
            "  inflating: input/seq38/frame0351.jpg  \n",
            "  inflating: input/seq38/frame0352.jpg  \n",
            "  inflating: input/seq38/frame0353.jpg  \n",
            "  inflating: input/seq38/frame0354.jpg  \n",
            "  inflating: input/seq38/frame0355.jpg  \n",
            "  inflating: input/seq38/frame0356.jpg  \n",
            "  inflating: input/seq38/frame0357.jpg  \n",
            "  inflating: input/seq38/frame0358.jpg  \n",
            "  inflating: input/seq38/frame0359.jpg  \n",
            "  inflating: input/seq38/frame0360.jpg  \n",
            "  inflating: input/seq38/frame0361.jpg  \n",
            "  inflating: input/seq38/frame0362.jpg  \n",
            "  inflating: input/seq38/frame0363.jpg  \n",
            "  inflating: input/seq38/frame0364.jpg  \n",
            "  inflating: input/seq38/frame0365.jpg  \n",
            "  inflating: input/seq38/frame0366.jpg  \n",
            "  inflating: input/seq38/frame0367.jpg  \n",
            "  inflating: input/seq38/frame0368.jpg  \n",
            "  inflating: input/seq38/frame0369.jpg  \n",
            "  inflating: input/seq38/frame0370.jpg  \n",
            "  inflating: input/seq38/frame0371.jpg  \n",
            "  inflating: input/seq38/frame0372.jpg  \n",
            "  inflating: input/seq38/frame0373.jpg  \n",
            "  inflating: input/seq38/frame0374.jpg  \n",
            "  inflating: input/seq38/frame0375.jpg  \n",
            "  inflating: input/seq38/frame0376.jpg  \n",
            "  inflating: input/seq38/frame0377.jpg  \n",
            "  inflating: input/seq38/frame0378.jpg  \n",
            "  inflating: input/seq38/frame0379.jpg  \n",
            "  inflating: input/seq38/frame0380.jpg  \n",
            "  inflating: input/seq38/frame0381.jpg  \n",
            "  inflating: input/seq38/frame0382.jpg  \n",
            "  inflating: input/seq38/frame0383.jpg  \n",
            "  inflating: input/seq38/frame0384.jpg  \n",
            "  inflating: input/seq38/frame0385.jpg  \n",
            "  inflating: input/seq38/frame0386.jpg  \n",
            "  inflating: input/seq38/frame0387.jpg  \n",
            "  inflating: input/seq38/frame0388.jpg  \n",
            "  inflating: input/seq38/frame0389.jpg  \n",
            "  inflating: input/seq38/frame0390.jpg  \n",
            "  inflating: input/seq38/frame0391.jpg  \n",
            "  inflating: input/seq38/frame0392.jpg  \n",
            "  inflating: input/seq38/frame0393.jpg  \n",
            "  inflating: input/seq38/frame0394.jpg  \n",
            "  inflating: input/seq38/frame0395.jpg  \n",
            "  inflating: input/seq38/frame0396.jpg  \n",
            "  inflating: input/seq38/frame0397.jpg  \n",
            "  inflating: input/seq38/frame0398.jpg  \n",
            "  inflating: input/seq38/frame0399.jpg  \n",
            "  inflating: input/seq38/frame0400.jpg  \n",
            "  inflating: input/seq38/frame0401.jpg  \n",
            "  inflating: input/seq38/frame0402.jpg  \n",
            "  inflating: input/seq38/frame0403.jpg  \n",
            "  inflating: input/seq38/frame0404.jpg  \n",
            "  inflating: input/seq38/frame0405.jpg  \n",
            "  inflating: input/seq38/frame0406.jpg  \n",
            "  inflating: input/seq38/frame0407.jpg  \n",
            "  inflating: input/seq38/frame0408.jpg  \n",
            "  inflating: input/seq38/frame0409.jpg  \n",
            "  inflating: input/seq38/frame0410.jpg  \n",
            "  inflating: input/seq38/frame0411.jpg  \n",
            "  inflating: input/seq38/frame0412.jpg  \n",
            "  inflating: input/seq38/frame0413.jpg  \n",
            "  inflating: input/seq38/frame0414.jpg  \n",
            "  inflating: input/seq38/frame0415.jpg  \n",
            "  inflating: input/seq38/frame0416.jpg  \n",
            "  inflating: input/seq38/frame0417.jpg  \n",
            "  inflating: input/seq38/frame0418.jpg  \n",
            "  inflating: input/seq38/frame0419.jpg  \n",
            "  inflating: input/seq38/frame0420.jpg  \n",
            "  inflating: input/seq38/frame0421.jpg  \n",
            "  inflating: input/seq38/frame0422.jpg  \n",
            "  inflating: input/seq38/frame0423.jpg  \n",
            "  inflating: input/seq38/frame0424.jpg  \n",
            "  inflating: input/seq38/frame0425.jpg  \n",
            "  inflating: input/seq38/frame0426.jpg  \n",
            "  inflating: input/seq38/frame0427.jpg  \n",
            "  inflating: input/seq38/frame0428.jpg  \n",
            "  inflating: input/seq38/frame0429.jpg  \n",
            "  inflating: input/seq38/frame0430.jpg  \n",
            "  inflating: input/seq38/frame0431.jpg  \n",
            "  inflating: input/seq38/frame0432.jpg  \n",
            "  inflating: input/seq38/frame0433.jpg  \n",
            "  inflating: input/seq38/frame0434.jpg  \n",
            "  inflating: input/seq38/frame0435.jpg  \n",
            "  inflating: input/seq38/frame0436.jpg  \n",
            "  inflating: input/seq38/frame0437.jpg  \n",
            "  inflating: input/seq38/frame0438.jpg  \n",
            "  inflating: input/seq38/frame0439.jpg  \n",
            "  inflating: input/seq38/frame0440.jpg  \n",
            "  inflating: input/seq38/frame0441.jpg  \n",
            "  inflating: input/seq38/frame0442.jpg  \n",
            "  inflating: input/seq38/frame0443.jpg  \n",
            "  inflating: input/seq38/frame0444.jpg  \n",
            "  inflating: input/seq38/frame0445.jpg  \n",
            "  inflating: input/seq38/frame0446.jpg  \n",
            "  inflating: input/seq38/frame0447.jpg  \n",
            "  inflating: input/seq38/frame0448.jpg  \n",
            "  inflating: input/seq38/frame0449.jpg  \n",
            "  inflating: input/seq38/frame0450.jpg  \n",
            "  inflating: input/seq38/frame0451.jpg  \n",
            "  inflating: input/seq38/frame0452.jpg  \n",
            "  inflating: input/seq38/frame0453.jpg  \n",
            "  inflating: input/seq38/frame0454.jpg  \n",
            "  inflating: input/seq38/frame0455.jpg  \n",
            "  inflating: input/seq38/frame0456.jpg  \n",
            "  inflating: input/seq38/frame0457.jpg  \n",
            "  inflating: input/seq38/frame0458.jpg  \n",
            "  inflating: input/seq38/frame0459.jpg  \n",
            "  inflating: input/seq38/frame0460.jpg  \n",
            "  inflating: input/seq38/frame0461.jpg  \n",
            "  inflating: input/seq38/frame0462.jpg  \n",
            "  inflating: input/seq38/frame0463.jpg  \n",
            "  inflating: input/seq38/frame0464.jpg  \n",
            "  inflating: input/seq38/frame0465.jpg  \n",
            "  inflating: input/seq38/frame0466.jpg  \n",
            "  inflating: input/seq38/frame0467.jpg  \n",
            "  inflating: input/seq38/frame0468.jpg  \n",
            "  inflating: input/seq38/frame0469.jpg  \n",
            "  inflating: input/seq38/frame0470.jpg  \n",
            "  inflating: input/seq38/frame0471.jpg  \n",
            "  inflating: input/seq38/frame0472.jpg  \n",
            "  inflating: input/seq38/frame0473.jpg  \n",
            "  inflating: input/seq38/frame0474.jpg  \n",
            "  inflating: input/seq38/frame0475.jpg  \n",
            "  inflating: input/seq38/frame0476.jpg  \n",
            "  inflating: input/seq38/frame0477.jpg  \n",
            "  inflating: input/seq38/frame0478.jpg  \n",
            "  inflating: input/seq38/frame0479.jpg  \n",
            "  inflating: input/seq38/frame0480.jpg  \n",
            "  inflating: input/seq38/frame0481.jpg  \n",
            "  inflating: input/seq38/frame0482.jpg  \n",
            "  inflating: input/seq38/frame0483.jpg  \n",
            "  inflating: input/seq38/frame0484.jpg  \n",
            "  inflating: input/seq38/frame0485.jpg  \n",
            "  inflating: input/seq38/frame0486.jpg  \n",
            "  inflating: input/seq38/frame0487.jpg  \n",
            "  inflating: input/seq38/frame0488.jpg  \n",
            "  inflating: input/seq38/frame0489.jpg  \n",
            "  inflating: input/seq38/frame0490.jpg  \n",
            "  inflating: input/seq38/frame0491.jpg  \n",
            "  inflating: input/seq38/frame0492.jpg  \n",
            "  inflating: input/seq38/frame0493.jpg  \n",
            "  inflating: input/seq38/frame0494.jpg  \n",
            "  inflating: input/seq38/frame0495.jpg  \n",
            "  inflating: input/seq38/frame0496.jpg  \n",
            "  inflating: input/seq38/frame0497.jpg  \n",
            "  inflating: input/seq38/frame0498.jpg  \n",
            "  inflating: input/seq38/frame0499.jpg  \n",
            "  inflating: input/seq38/frame0500.jpg  \n",
            "  inflating: input/seq38/frame0501.jpg  \n",
            "  inflating: input/seq38/frame0502.jpg  \n",
            "  inflating: input/seq38/frame0503.jpg  \n",
            "  inflating: input/seq38/frame0504.jpg  \n",
            "  inflating: input/seq38/frame0505.jpg  \n",
            "  inflating: input/seq38/frame0506.jpg  \n",
            "  inflating: input/seq38/frame0507.jpg  \n",
            "  inflating: input/seq38/frame0508.jpg  \n",
            "  inflating: input/seq38/frame0509.jpg  \n",
            "  inflating: input/seq38/frame0510.jpg  \n",
            "  inflating: input/seq38/frame0511.jpg  \n",
            "  inflating: input/seq38/frame0512.jpg  \n",
            "  inflating: input/seq38/frame0513.jpg  \n",
            "  inflating: input/seq38/frame0514.jpg  \n",
            "  inflating: input/seq38/frame0515.jpg  \n",
            "  inflating: input/seq38/frame0516.jpg  \n",
            "  inflating: input/seq38/frame0517.jpg  \n",
            "  inflating: input/seq38/frame0518.jpg  \n",
            "  inflating: input/seq38/frame0519.jpg  \n",
            "  inflating: input/seq38/frame0520.jpg  \n",
            "  inflating: input/seq38/frame0521.jpg  \n",
            "  inflating: input/seq38/frame0522.jpg  \n",
            "  inflating: input/seq38/frame0523.jpg  \n",
            "  inflating: input/seq38/frame0524.jpg  \n",
            "  inflating: input/seq38/frame0525.jpg  \n",
            "  inflating: input/seq38/frame0526.jpg  \n",
            "  inflating: input/seq38/frame0527.jpg  \n",
            "  inflating: input/seq38/frame0528.jpg  \n",
            "  inflating: input/seq38/frame0529.jpg  \n",
            "  inflating: input/seq38/frame0530.jpg  \n",
            "  inflating: input/seq38/frame0531.jpg  \n",
            "  inflating: input/seq38/frame0532.jpg  \n",
            "  inflating: input/seq38/frame0533.jpg  \n",
            "  inflating: input/seq38/frame0534.jpg  \n",
            "  inflating: input/seq38/frame0535.jpg  \n",
            "  inflating: input/seq38/frame0536.jpg  \n",
            "  inflating: input/seq38/frame0537.jpg  \n",
            "  inflating: input/seq38/frame0538.jpg  \n",
            "  inflating: input/seq38/frame0539.jpg  \n",
            "  inflating: input/seq38/frame0540.jpg  \n",
            "  inflating: input/seq38/frame0541.jpg  \n",
            "  inflating: input/seq38/frame0542.jpg  \n",
            "  inflating: input/seq38/frame0543.jpg  \n",
            "  inflating: input/seq38/frame0544.jpg  \n",
            "  inflating: input/seq38/frame0545.jpg  \n",
            "  inflating: input/seq38/frame0546.jpg  \n",
            "  inflating: input/seq38/frame0547.jpg  \n",
            "  inflating: input/seq38/frame0548.jpg  \n",
            "  inflating: input/seq38/frame0549.jpg  \n",
            "  inflating: input/seq38/frame0550.jpg  \n",
            "  inflating: input/seq38/frame0551.jpg  \n",
            "  inflating: input/seq38/frame0552.jpg  \n",
            "  inflating: input/seq38/frame0553.jpg  \n",
            "  inflating: input/seq38/frame0554.jpg  \n",
            "  inflating: input/seq38/frame0555.jpg  \n",
            "  inflating: input/seq38/frame0556.jpg  \n",
            "  inflating: input/seq38/frame0557.jpg  \n",
            "  inflating: input/seq38/frame0558.jpg  \n",
            "  inflating: input/seq38/frame0559.jpg  \n",
            "  inflating: input/seq38/frame0560.jpg  \n",
            "  inflating: input/seq38/frame0561.jpg  \n",
            "  inflating: input/seq38/frame0562.jpg  \n",
            "  inflating: input/seq38/frame0563.jpg  \n",
            "  inflating: input/seq38/frame0564.jpg  \n",
            "  inflating: input/seq38/frame0565.jpg  \n",
            "  inflating: input/seq38/frame0566.jpg  \n",
            "  inflating: input/seq38/frame0567.jpg  \n",
            "  inflating: input/seq38/frame0568.jpg  \n",
            "  inflating: input/seq38/frame0569.jpg  \n",
            "  inflating: input/seq38/frame0570.jpg  \n",
            "  inflating: input/seq38/frame0571.jpg  \n",
            "  inflating: input/seq38/frame0572.jpg  \n",
            "  inflating: input/seq38/frame0573.jpg  \n",
            "  inflating: input/seq38/frame0574.jpg  \n",
            "  inflating: input/seq38/frame0575.jpg  \n",
            "  inflating: input/seq38/frame0576.jpg  \n",
            "  inflating: input/seq38/frame0577.jpg  \n",
            "  inflating: input/seq38/frame0578.jpg  \n",
            "  inflating: input/seq38/frame0579.jpg  \n",
            "  inflating: input/seq38/frame0580.jpg  \n",
            "  inflating: input/seq38/frame0581.jpg  \n",
            "  inflating: input/seq38/frame0582.jpg  \n",
            "  inflating: input/seq38/frame0583.jpg  \n",
            "  inflating: input/seq38/frame0584.jpg  \n",
            "  inflating: input/seq38/frame0585.jpg  \n",
            "  inflating: input/seq38/frame0586.jpg  \n",
            "  inflating: input/seq38/frame0587.jpg  \n",
            "  inflating: input/seq38/frame0588.jpg  \n",
            "  inflating: input/seq38/frame0589.jpg  \n",
            "  inflating: input/seq38/frame0590.jpg  \n",
            "  inflating: input/seq38/frame0591.jpg  \n",
            "  inflating: input/seq38/frame0592.jpg  \n",
            "  inflating: input/seq38/frame0593.jpg  \n",
            "  inflating: input/seq38/frame0594.jpg  \n",
            "  inflating: input/seq38/frame0595.jpg  \n",
            "  inflating: input/seq38/frame0596.jpg  \n",
            "  inflating: input/seq38/frame0597.jpg  \n",
            "  inflating: input/seq38/frame0598.jpg  \n",
            "  inflating: input/seq38/frame0599.jpg  \n",
            "  inflating: input/seq38/frame0600.jpg  \n",
            "  inflating: input/seq38/frame0601.jpg  \n",
            "  inflating: input/seq38/frame0602.jpg  \n",
            "  inflating: input/seq38/frame0603.jpg  \n",
            "  inflating: input/seq38/frame0604.jpg  \n",
            "  inflating: input/seq38/frame0605.jpg  \n",
            "  inflating: input/seq38/frame0606.jpg  \n",
            "  inflating: input/seq38/frame0607.jpg  \n",
            "  inflating: input/seq38/frame0608.jpg  \n",
            "  inflating: input/seq38/frame0609.jpg  \n",
            "  inflating: input/seq38/frame0610.jpg  \n",
            "  inflating: input/seq38/frame0611.jpg  \n",
            "  inflating: input/seq38/frame0612.jpg  \n",
            "  inflating: input/seq38/frame0613.jpg  \n",
            "  inflating: input/seq38/frame0614.jpg  \n",
            "  inflating: input/seq38/frame0615.jpg  \n",
            "  inflating: input/seq38/frame0616.jpg  \n",
            "  inflating: input/seq38/frame0617.jpg  \n",
            "  inflating: input/seq38/frame0618.jpg  \n",
            "  inflating: input/seq38/frame0619.jpg  \n",
            "  inflating: input/seq38/frame0620.jpg  \n",
            "  inflating: input/seq38/frame0621.jpg  \n",
            "  inflating: input/seq38/frame0622.jpg  \n",
            "  inflating: input/seq38/frame0623.jpg  \n",
            "  inflating: input/seq38/frame0624.jpg  \n",
            "  inflating: input/seq38/frame0625.jpg  \n",
            "  inflating: input/seq38/frame0626.jpg  \n",
            "  inflating: input/seq38/frame0627.jpg  \n",
            "  inflating: input/seq38/frame0628.jpg  \n",
            "  inflating: input/seq38/frame0629.jpg  \n",
            "  inflating: input/seq38/frame0630.jpg  \n",
            "  inflating: input/seq38/frame0631.jpg  \n",
            "  inflating: input/seq38/frame0632.jpg  \n",
            "  inflating: input/seq38/frame0633.jpg  \n",
            "  inflating: input/seq38/frame0634.jpg  \n",
            "  inflating: input/seq38/frame0635.jpg  \n",
            "  inflating: input/seq38/frame0636.jpg  \n",
            "  inflating: input/seq38/frame0637.jpg  \n",
            "  inflating: input/seq38/frame0638.jpg  \n",
            "  inflating: input/seq38/frame0639.jpg  \n",
            "  inflating: input/seq38/frame0640.jpg  \n",
            "  inflating: input/seq38/frame0641.jpg  \n",
            "  inflating: input/seq38/frame0642.jpg  \n",
            "  inflating: input/seq38/frame0643.jpg  \n",
            "  inflating: input/seq38/frame0644.jpg  \n",
            "  inflating: input/seq38/frame0645.jpg  \n",
            "  inflating: input/seq38/frame0646.jpg  \n",
            "  inflating: input/seq38/frame0647.jpg  \n",
            "  inflating: input/seq38/frame0648.jpg  \n",
            "  inflating: input/seq38/frame0649.jpg  \n",
            "  inflating: input/seq38/frame0650.jpg  \n",
            "  inflating: input/seq38/frame0651.jpg  \n",
            "  inflating: input/seq38/frame0652.jpg  \n",
            "  inflating: input/seq38/frame0653.jpg  \n",
            "  inflating: input/seq39/annotations.txt  \n",
            "  inflating: input/seq39/frame0001.jpg  \n",
            "  inflating: input/seq39/frame0002.jpg  \n",
            "  inflating: input/seq39/frame0003.jpg  \n",
            "  inflating: input/seq39/frame0004.jpg  \n",
            "  inflating: input/seq39/frame0005.jpg  \n",
            "  inflating: input/seq39/frame0006.jpg  \n",
            "  inflating: input/seq39/frame0007.jpg  \n",
            "  inflating: input/seq39/frame0008.jpg  \n",
            "  inflating: input/seq39/frame0009.jpg  \n",
            "  inflating: input/seq39/frame0010.jpg  \n",
            "  inflating: input/seq39/frame0011.jpg  \n",
            "  inflating: input/seq39/frame0012.jpg  \n",
            "  inflating: input/seq39/frame0013.jpg  \n",
            "  inflating: input/seq39/frame0014.jpg  \n",
            "  inflating: input/seq39/frame0015.jpg  \n",
            "  inflating: input/seq39/frame0016.jpg  \n",
            "  inflating: input/seq39/frame0017.jpg  \n",
            "  inflating: input/seq39/frame0018.jpg  \n",
            "  inflating: input/seq39/frame0019.jpg  \n",
            "  inflating: input/seq39/frame0020.jpg  \n",
            "  inflating: input/seq39/frame0021.jpg  \n",
            "  inflating: input/seq39/frame0022.jpg  \n",
            "  inflating: input/seq39/frame0023.jpg  \n",
            "  inflating: input/seq39/frame0024.jpg  \n",
            "  inflating: input/seq39/frame0025.jpg  \n",
            "  inflating: input/seq39/frame0026.jpg  \n",
            "  inflating: input/seq39/frame0027.jpg  \n",
            "  inflating: input/seq39/frame0028.jpg  \n",
            "  inflating: input/seq39/frame0029.jpg  \n",
            "  inflating: input/seq39/frame0030.jpg  \n",
            "  inflating: input/seq39/frame0031.jpg  \n",
            "  inflating: input/seq39/frame0032.jpg  \n",
            "  inflating: input/seq39/frame0033.jpg  \n",
            "  inflating: input/seq39/frame0034.jpg  \n",
            "  inflating: input/seq39/frame0035.jpg  \n",
            "  inflating: input/seq39/frame0036.jpg  \n",
            "  inflating: input/seq39/frame0037.jpg  \n",
            "  inflating: input/seq39/frame0038.jpg  \n",
            "  inflating: input/seq39/frame0039.jpg  \n",
            "  inflating: input/seq39/frame0040.jpg  \n",
            "  inflating: input/seq39/frame0041.jpg  \n",
            "  inflating: input/seq39/frame0042.jpg  \n",
            "  inflating: input/seq39/frame0043.jpg  \n",
            "  inflating: input/seq39/frame0044.jpg  \n",
            "  inflating: input/seq39/frame0045.jpg  \n",
            "  inflating: input/seq39/frame0046.jpg  \n",
            "  inflating: input/seq39/frame0047.jpg  \n",
            "  inflating: input/seq39/frame0048.jpg  \n",
            "  inflating: input/seq39/frame0049.jpg  \n",
            "  inflating: input/seq39/frame0050.jpg  \n",
            "  inflating: input/seq39/frame0051.jpg  \n",
            "  inflating: input/seq39/frame0052.jpg  \n",
            "  inflating: input/seq39/frame0053.jpg  \n",
            "  inflating: input/seq39/frame0054.jpg  \n",
            "  inflating: input/seq39/frame0055.jpg  \n",
            "  inflating: input/seq39/frame0056.jpg  \n",
            "  inflating: input/seq39/frame0057.jpg  \n",
            "  inflating: input/seq39/frame0058.jpg  \n",
            "  inflating: input/seq39/frame0059.jpg  \n",
            "  inflating: input/seq39/frame0060.jpg  \n",
            "  inflating: input/seq39/frame0061.jpg  \n",
            "  inflating: input/seq39/frame0062.jpg  \n",
            "  inflating: input/seq39/frame0063.jpg  \n",
            "  inflating: input/seq39/frame0064.jpg  \n",
            "  inflating: input/seq39/frame0065.jpg  \n",
            "  inflating: input/seq39/frame0066.jpg  \n",
            "  inflating: input/seq39/frame0067.jpg  \n",
            "  inflating: input/seq39/frame0068.jpg  \n",
            "  inflating: input/seq39/frame0069.jpg  \n",
            "  inflating: input/seq39/frame0070.jpg  \n",
            "  inflating: input/seq39/frame0071.jpg  \n",
            "  inflating: input/seq39/frame0072.jpg  \n",
            "  inflating: input/seq39/frame0073.jpg  \n",
            "  inflating: input/seq39/frame0074.jpg  \n",
            "  inflating: input/seq39/frame0075.jpg  \n",
            "  inflating: input/seq39/frame0076.jpg  \n",
            "  inflating: input/seq39/frame0077.jpg  \n",
            "  inflating: input/seq39/frame0078.jpg  \n",
            "  inflating: input/seq39/frame0079.jpg  \n",
            "  inflating: input/seq39/frame0080.jpg  \n",
            "  inflating: input/seq39/frame0081.jpg  \n",
            "  inflating: input/seq39/frame0082.jpg  \n",
            "  inflating: input/seq39/frame0083.jpg  \n",
            "  inflating: input/seq39/frame0084.jpg  \n",
            "  inflating: input/seq39/frame0085.jpg  \n",
            "  inflating: input/seq39/frame0086.jpg  \n",
            "  inflating: input/seq39/frame0087.jpg  \n",
            "  inflating: input/seq39/frame0088.jpg  \n",
            "  inflating: input/seq39/frame0089.jpg  \n",
            "  inflating: input/seq39/frame0090.jpg  \n",
            "  inflating: input/seq39/frame0091.jpg  \n",
            "  inflating: input/seq39/frame0092.jpg  \n",
            "  inflating: input/seq39/frame0093.jpg  \n",
            "  inflating: input/seq39/frame0094.jpg  \n",
            "  inflating: input/seq39/frame0095.jpg  \n",
            "  inflating: input/seq39/frame0096.jpg  \n",
            "  inflating: input/seq39/frame0097.jpg  \n",
            "  inflating: input/seq39/frame0098.jpg  \n",
            "  inflating: input/seq39/frame0099.jpg  \n",
            "  inflating: input/seq39/frame0100.jpg  \n",
            "  inflating: input/seq39/frame0101.jpg  \n",
            "  inflating: input/seq39/frame0102.jpg  \n",
            "  inflating: input/seq39/frame0103.jpg  \n",
            "  inflating: input/seq39/frame0104.jpg  \n",
            "  inflating: input/seq39/frame0105.jpg  \n",
            "  inflating: input/seq39/frame0106.jpg  \n",
            "  inflating: input/seq39/frame0107.jpg  \n",
            "  inflating: input/seq39/frame0108.jpg  \n",
            "  inflating: input/seq39/frame0109.jpg  \n",
            "  inflating: input/seq39/frame0110.jpg  \n",
            "  inflating: input/seq39/frame0111.jpg  \n",
            "  inflating: input/seq39/frame0112.jpg  \n",
            "  inflating: input/seq39/frame0113.jpg  \n",
            "  inflating: input/seq39/frame0114.jpg  \n",
            "  inflating: input/seq39/frame0115.jpg  \n",
            "  inflating: input/seq39/frame0116.jpg  \n",
            "  inflating: input/seq39/frame0117.jpg  \n",
            "  inflating: input/seq39/frame0118.jpg  \n",
            "  inflating: input/seq39/frame0119.jpg  \n",
            "  inflating: input/seq39/frame0120.jpg  \n",
            "  inflating: input/seq39/frame0121.jpg  \n",
            "  inflating: input/seq39/frame0122.jpg  \n",
            "  inflating: input/seq39/frame0123.jpg  \n",
            "  inflating: input/seq39/frame0124.jpg  \n",
            "  inflating: input/seq39/frame0125.jpg  \n",
            "  inflating: input/seq39/frame0126.jpg  \n",
            "  inflating: input/seq39/frame0127.jpg  \n",
            "  inflating: input/seq39/frame0128.jpg  \n",
            "  inflating: input/seq39/frame0129.jpg  \n",
            "  inflating: input/seq39/frame0130.jpg  \n",
            "  inflating: input/seq39/frame0131.jpg  \n",
            "  inflating: input/seq39/frame0132.jpg  \n",
            "  inflating: input/seq39/frame0133.jpg  \n",
            "  inflating: input/seq39/frame0134.jpg  \n",
            "  inflating: input/seq39/frame0135.jpg  \n",
            "  inflating: input/seq39/frame0136.jpg  \n",
            "  inflating: input/seq39/frame0137.jpg  \n",
            "  inflating: input/seq39/frame0138.jpg  \n",
            "  inflating: input/seq39/frame0139.jpg  \n",
            "  inflating: input/seq39/frame0140.jpg  \n",
            "  inflating: input/seq39/frame0141.jpg  \n",
            "  inflating: input/seq39/frame0142.jpg  \n",
            "  inflating: input/seq39/frame0143.jpg  \n",
            "  inflating: input/seq39/frame0144.jpg  \n",
            "  inflating: input/seq39/frame0145.jpg  \n",
            "  inflating: input/seq39/frame0146.jpg  \n",
            "  inflating: input/seq39/frame0147.jpg  \n",
            "  inflating: input/seq39/frame0148.jpg  \n",
            "  inflating: input/seq39/frame0149.jpg  \n",
            "  inflating: input/seq39/frame0150.jpg  \n",
            "  inflating: input/seq39/frame0151.jpg  \n",
            "  inflating: input/seq39/frame0152.jpg  \n",
            "  inflating: input/seq39/frame0153.jpg  \n",
            "  inflating: input/seq39/frame0154.jpg  \n",
            "  inflating: input/seq39/frame0155.jpg  \n",
            "  inflating: input/seq39/frame0156.jpg  \n",
            "  inflating: input/seq39/frame0157.jpg  \n",
            "  inflating: input/seq39/frame0158.jpg  \n",
            "  inflating: input/seq39/frame0159.jpg  \n",
            "  inflating: input/seq39/frame0160.jpg  \n",
            "  inflating: input/seq39/frame0161.jpg  \n",
            "  inflating: input/seq39/frame0162.jpg  \n",
            "  inflating: input/seq39/frame0163.jpg  \n",
            "  inflating: input/seq39/frame0164.jpg  \n",
            "  inflating: input/seq39/frame0165.jpg  \n",
            "  inflating: input/seq39/frame0166.jpg  \n",
            "  inflating: input/seq39/frame0167.jpg  \n",
            "  inflating: input/seq39/frame0168.jpg  \n",
            "  inflating: input/seq39/frame0169.jpg  \n",
            "  inflating: input/seq39/frame0170.jpg  \n",
            "  inflating: input/seq39/frame0171.jpg  \n",
            "  inflating: input/seq39/frame0172.jpg  \n",
            "  inflating: input/seq39/frame0173.jpg  \n",
            "  inflating: input/seq39/frame0174.jpg  \n",
            "  inflating: input/seq39/frame0175.jpg  \n",
            "  inflating: input/seq39/frame0176.jpg  \n",
            "  inflating: input/seq39/frame0177.jpg  \n",
            "  inflating: input/seq39/frame0178.jpg  \n",
            "  inflating: input/seq39/frame0179.jpg  \n",
            "  inflating: input/seq39/frame0180.jpg  \n",
            "  inflating: input/seq39/frame0181.jpg  \n",
            "  inflating: input/seq39/frame0182.jpg  \n",
            "  inflating: input/seq39/frame0183.jpg  \n",
            "  inflating: input/seq39/frame0184.jpg  \n",
            "  inflating: input/seq39/frame0185.jpg  \n",
            "  inflating: input/seq39/frame0186.jpg  \n",
            "  inflating: input/seq39/frame0187.jpg  \n",
            "  inflating: input/seq39/frame0188.jpg  \n",
            "  inflating: input/seq39/frame0189.jpg  \n",
            "  inflating: input/seq39/frame0190.jpg  \n",
            "  inflating: input/seq39/frame0191.jpg  \n",
            "  inflating: input/seq39/frame0192.jpg  \n",
            "  inflating: input/seq39/frame0193.jpg  \n",
            "  inflating: input/seq39/frame0194.jpg  \n",
            "  inflating: input/seq39/frame0195.jpg  \n",
            "  inflating: input/seq39/frame0196.jpg  \n",
            "  inflating: input/seq39/frame0197.jpg  \n",
            "  inflating: input/seq39/frame0198.jpg  \n",
            "  inflating: input/seq39/frame0199.jpg  \n",
            "  inflating: input/seq39/frame0200.jpg  \n",
            "  inflating: input/seq39/frame0201.jpg  \n",
            "  inflating: input/seq39/frame0202.jpg  \n",
            "  inflating: input/seq39/frame0203.jpg  \n",
            "  inflating: input/seq39/frame0204.jpg  \n",
            "  inflating: input/seq39/frame0205.jpg  \n",
            "  inflating: input/seq39/frame0206.jpg  \n",
            "  inflating: input/seq39/frame0207.jpg  \n",
            "  inflating: input/seq39/frame0208.jpg  \n",
            "  inflating: input/seq39/frame0209.jpg  \n",
            "  inflating: input/seq39/frame0210.jpg  \n",
            "  inflating: input/seq39/frame0211.jpg  \n",
            "  inflating: input/seq39/frame0212.jpg  \n",
            "  inflating: input/seq39/frame0213.jpg  \n",
            "  inflating: input/seq39/frame0214.jpg  \n",
            "  inflating: input/seq39/frame0215.jpg  \n",
            "  inflating: input/seq39/frame0216.jpg  \n",
            "  inflating: input/seq39/frame0217.jpg  \n",
            "  inflating: input/seq39/frame0218.jpg  \n",
            "  inflating: input/seq39/frame0219.jpg  \n",
            "  inflating: input/seq39/frame0220.jpg  \n",
            "  inflating: input/seq39/frame0221.jpg  \n",
            "  inflating: input/seq39/frame0222.jpg  \n",
            "  inflating: input/seq39/frame0223.jpg  \n",
            "  inflating: input/seq39/frame0224.jpg  \n",
            "  inflating: input/seq39/frame0225.jpg  \n",
            "  inflating: input/seq39/frame0226.jpg  \n",
            "  inflating: input/seq39/frame0227.jpg  \n",
            "  inflating: input/seq39/frame0228.jpg  \n",
            "  inflating: input/seq39/frame0229.jpg  \n",
            "  inflating: input/seq39/frame0230.jpg  \n",
            "  inflating: input/seq39/frame0231.jpg  \n",
            "  inflating: input/seq39/frame0232.jpg  \n",
            "  inflating: input/seq39/frame0233.jpg  \n",
            "  inflating: input/seq39/frame0234.jpg  \n",
            "  inflating: input/seq39/frame0235.jpg  \n",
            "  inflating: input/seq39/frame0236.jpg  \n",
            "  inflating: input/seq39/frame0237.jpg  \n",
            "  inflating: input/seq39/frame0238.jpg  \n",
            "  inflating: input/seq39/frame0239.jpg  \n",
            "  inflating: input/seq39/frame0240.jpg  \n",
            "  inflating: input/seq39/frame0241.jpg  \n",
            "  inflating: input/seq39/frame0242.jpg  \n",
            "  inflating: input/seq39/frame0243.jpg  \n",
            "  inflating: input/seq39/frame0244.jpg  \n",
            "  inflating: input/seq39/frame0245.jpg  \n",
            "  inflating: input/seq39/frame0246.jpg  \n",
            "  inflating: input/seq39/frame0247.jpg  \n",
            "  inflating: input/seq39/frame0248.jpg  \n",
            "  inflating: input/seq39/frame0249.jpg  \n",
            "  inflating: input/seq39/frame0250.jpg  \n",
            "  inflating: input/seq39/frame0251.jpg  \n",
            "  inflating: input/seq39/frame0252.jpg  \n",
            "  inflating: input/seq39/frame0253.jpg  \n",
            "  inflating: input/seq39/frame0254.jpg  \n",
            "  inflating: input/seq39/frame0255.jpg  \n",
            "  inflating: input/seq39/frame0256.jpg  \n",
            "  inflating: input/seq39/frame0257.jpg  \n",
            "  inflating: input/seq39/frame0258.jpg  \n",
            "  inflating: input/seq39/frame0259.jpg  \n",
            "  inflating: input/seq39/frame0260.jpg  \n",
            "  inflating: input/seq39/frame0261.jpg  \n",
            "  inflating: input/seq39/frame0262.jpg  \n",
            "  inflating: input/seq39/frame0263.jpg  \n",
            "  inflating: input/seq39/frame0264.jpg  \n",
            "  inflating: input/seq39/frame0265.jpg  \n",
            "  inflating: input/seq39/frame0266.jpg  \n",
            "  inflating: input/seq39/frame0267.jpg  \n",
            "  inflating: input/seq39/frame0268.jpg  \n",
            "  inflating: input/seq39/frame0269.jpg  \n",
            "  inflating: input/seq39/frame0270.jpg  \n",
            "  inflating: input/seq39/frame0271.jpg  \n",
            "  inflating: input/seq39/frame0272.jpg  \n",
            "  inflating: input/seq39/frame0273.jpg  \n",
            "  inflating: input/seq39/frame0274.jpg  \n",
            "  inflating: input/seq39/frame0275.jpg  \n",
            "  inflating: input/seq39/frame0276.jpg  \n",
            "  inflating: input/seq39/frame0277.jpg  \n",
            "  inflating: input/seq39/frame0278.jpg  \n",
            "  inflating: input/seq39/frame0279.jpg  \n",
            "  inflating: input/seq39/frame0280.jpg  \n",
            "  inflating: input/seq39/frame0281.jpg  \n",
            "  inflating: input/seq39/frame0282.jpg  \n",
            "  inflating: input/seq39/frame0283.jpg  \n",
            "  inflating: input/seq39/frame0284.jpg  \n",
            "  inflating: input/seq39/frame0285.jpg  \n",
            "  inflating: input/seq39/frame0286.jpg  \n",
            "  inflating: input/seq39/frame0287.jpg  \n",
            "  inflating: input/seq39/frame0288.jpg  \n",
            "  inflating: input/seq39/frame0289.jpg  \n",
            "  inflating: input/seq39/frame0290.jpg  \n",
            "  inflating: input/seq39/frame0291.jpg  \n",
            "  inflating: input/seq39/frame0292.jpg  \n",
            "  inflating: input/seq39/frame0293.jpg  \n",
            "  inflating: input/seq39/frame0294.jpg  \n",
            "  inflating: input/seq39/frame0295.jpg  \n",
            "  inflating: input/seq39/frame0296.jpg  \n",
            "  inflating: input/seq39/frame0297.jpg  \n",
            "  inflating: input/seq39/frame0298.jpg  \n",
            "  inflating: input/seq39/frame0299.jpg  \n",
            "  inflating: input/seq39/frame0300.jpg  \n",
            "  inflating: input/seq39/frame0301.jpg  \n",
            "  inflating: input/seq39/frame0302.jpg  \n",
            "  inflating: input/seq39/frame0303.jpg  \n",
            "  inflating: input/seq39/frame0304.jpg  \n",
            "  inflating: input/seq39/frame0305.jpg  \n",
            "  inflating: input/seq39/frame0306.jpg  \n",
            "  inflating: input/seq39/frame0307.jpg  \n",
            "  inflating: input/seq39/frame0308.jpg  \n",
            "  inflating: input/seq39/frame0309.jpg  \n",
            "  inflating: input/seq39/frame0310.jpg  \n",
            "  inflating: input/seq39/frame0311.jpg  \n",
            "  inflating: input/seq39/frame0312.jpg  \n",
            "  inflating: input/seq39/frame0313.jpg  \n",
            "  inflating: input/seq39/frame0314.jpg  \n",
            "  inflating: input/seq39/frame0315.jpg  \n",
            "  inflating: input/seq39/frame0316.jpg  \n",
            "  inflating: input/seq39/frame0317.jpg  \n",
            "  inflating: input/seq39/frame0318.jpg  \n",
            "  inflating: input/seq39/frame0319.jpg  \n",
            "  inflating: input/seq39/frame0320.jpg  \n",
            "  inflating: input/seq39/frame0321.jpg  \n",
            "  inflating: input/seq39/frame0322.jpg  \n",
            "  inflating: input/seq39/frame0323.jpg  \n",
            "  inflating: input/seq39/frame0324.jpg  \n",
            "  inflating: input/seq39/frame0325.jpg  \n",
            "  inflating: input/seq39/frame0326.jpg  \n",
            "  inflating: input/seq39/frame0327.jpg  \n",
            "  inflating: input/seq39/frame0328.jpg  \n",
            "  inflating: input/seq39/frame0329.jpg  \n",
            "  inflating: input/seq39/frame0330.jpg  \n",
            "  inflating: input/seq39/frame0331.jpg  \n",
            "  inflating: input/seq39/frame0332.jpg  \n",
            "  inflating: input/seq39/frame0333.jpg  \n",
            "  inflating: input/seq39/frame0334.jpg  \n",
            "  inflating: input/seq39/frame0335.jpg  \n",
            "  inflating: input/seq39/frame0336.jpg  \n",
            "  inflating: input/seq39/frame0337.jpg  \n",
            "  inflating: input/seq39/frame0338.jpg  \n",
            "  inflating: input/seq39/frame0339.jpg  \n",
            "  inflating: input/seq39/frame0340.jpg  \n",
            "  inflating: input/seq39/frame0341.jpg  \n",
            "  inflating: input/seq39/frame0342.jpg  \n",
            "  inflating: input/seq39/frame0343.jpg  \n",
            "  inflating: input/seq39/frame0344.jpg  \n",
            "  inflating: input/seq39/frame0345.jpg  \n",
            "  inflating: input/seq39/frame0346.jpg  \n",
            "  inflating: input/seq39/frame0347.jpg  \n",
            "  inflating: input/seq39/frame0348.jpg  \n",
            "  inflating: input/seq39/frame0349.jpg  \n",
            "  inflating: input/seq39/frame0350.jpg  \n",
            "  inflating: input/seq39/frame0351.jpg  \n",
            "  inflating: input/seq39/frame0352.jpg  \n",
            "  inflating: input/seq39/frame0353.jpg  \n",
            "  inflating: input/seq39/frame0354.jpg  \n",
            "  inflating: input/seq39/frame0355.jpg  \n",
            "  inflating: input/seq39/frame0356.jpg  \n",
            "  inflating: input/seq39/frame0357.jpg  \n",
            "  inflating: input/seq39/frame0358.jpg  \n",
            "  inflating: input/seq39/frame0359.jpg  \n",
            "  inflating: input/seq39/frame0360.jpg  \n",
            "  inflating: input/seq39/frame0361.jpg  \n",
            "  inflating: input/seq39/frame0362.jpg  \n",
            "  inflating: input/seq39/frame0363.jpg  \n",
            "  inflating: input/seq39/frame0364.jpg  \n",
            "  inflating: input/seq39/frame0365.jpg  \n",
            "  inflating: input/seq39/frame0366.jpg  \n",
            "  inflating: input/seq39/frame0367.jpg  \n",
            "  inflating: input/seq39/frame0368.jpg  \n",
            "  inflating: input/seq39/frame0369.jpg  \n",
            "  inflating: input/seq39/frame0370.jpg  \n",
            "  inflating: input/seq39/frame0371.jpg  \n",
            "  inflating: input/seq39/frame0372.jpg  \n",
            "  inflating: input/seq39/frame0373.jpg  \n",
            "  inflating: input/seq39/frame0374.jpg  \n",
            "  inflating: input/seq39/frame0375.jpg  \n",
            "  inflating: input/seq39/frame0376.jpg  \n",
            "  inflating: input/seq39/frame0377.jpg  \n",
            "  inflating: input/seq39/frame0378.jpg  \n",
            "  inflating: input/seq39/frame0379.jpg  \n",
            "  inflating: input/seq39/frame0380.jpg  \n",
            "  inflating: input/seq39/frame0381.jpg  \n",
            "  inflating: input/seq39/frame0382.jpg  \n",
            "  inflating: input/seq39/frame0383.jpg  \n",
            "  inflating: input/seq39/frame0384.jpg  \n",
            "  inflating: input/seq39/frame0385.jpg  \n",
            "  inflating: input/seq39/frame0386.jpg  \n",
            "  inflating: input/seq39/frame0387.jpg  \n",
            "  inflating: input/seq39/frame0388.jpg  \n",
            "  inflating: input/seq39/frame0389.jpg  \n",
            "  inflating: input/seq39/frame0390.jpg  \n",
            "  inflating: input/seq39/frame0391.jpg  \n",
            "  inflating: input/seq39/frame0392.jpg  \n",
            "  inflating: input/seq39/frame0393.jpg  \n",
            "  inflating: input/seq39/frame0394.jpg  \n",
            "  inflating: input/seq39/frame0395.jpg  \n",
            "  inflating: input/seq39/frame0396.jpg  \n",
            "  inflating: input/seq39/frame0397.jpg  \n",
            "  inflating: input/seq39/frame0398.jpg  \n",
            "  inflating: input/seq39/frame0399.jpg  \n",
            "  inflating: input/seq39/frame0400.jpg  \n",
            "  inflating: input/seq39/frame0401.jpg  \n",
            "  inflating: input/seq39/frame0402.jpg  \n",
            "  inflating: input/seq39/frame0403.jpg  \n",
            "  inflating: input/seq39/frame0404.jpg  \n",
            "  inflating: input/seq39/frame0405.jpg  \n",
            "  inflating: input/seq39/frame0406.jpg  \n",
            "  inflating: input/seq39/frame0407.jpg  \n",
            "  inflating: input/seq39/frame0408.jpg  \n",
            "  inflating: input/seq39/frame0409.jpg  \n",
            "  inflating: input/seq39/frame0410.jpg  \n",
            "  inflating: input/seq39/frame0411.jpg  \n",
            "  inflating: input/seq39/frame0412.jpg  \n",
            "  inflating: input/seq39/frame0413.jpg  \n",
            "  inflating: input/seq39/frame0414.jpg  \n",
            "  inflating: input/seq39/frame0415.jpg  \n",
            "  inflating: input/seq39/frame0416.jpg  \n",
            "  inflating: input/seq39/frame0417.jpg  \n",
            "  inflating: input/seq39/frame0418.jpg  \n",
            "  inflating: input/seq39/frame0419.jpg  \n",
            "  inflating: input/seq39/frame0420.jpg  \n",
            "  inflating: input/seq39/frame0421.jpg  \n",
            "  inflating: input/seq39/frame0422.jpg  \n",
            "  inflating: input/seq39/frame0423.jpg  \n",
            "  inflating: input/seq39/frame0424.jpg  \n",
            "  inflating: input/seq39/frame0425.jpg  \n",
            "  inflating: input/seq39/frame0426.jpg  \n",
            "  inflating: input/seq39/frame0427.jpg  \n",
            "  inflating: input/seq39/frame0428.jpg  \n",
            "  inflating: input/seq39/frame0429.jpg  \n",
            "  inflating: input/seq39/frame0430.jpg  \n",
            "  inflating: input/seq39/frame0431.jpg  \n",
            "  inflating: input/seq39/frame0432.jpg  \n",
            "  inflating: input/seq39/frame0433.jpg  \n",
            "  inflating: input/seq39/frame0434.jpg  \n",
            "  inflating: input/seq39/frame0435.jpg  \n",
            "  inflating: input/seq39/frame0436.jpg  \n",
            "  inflating: input/seq39/frame0437.jpg  \n",
            "  inflating: input/seq39/frame0438.jpg  \n",
            "  inflating: input/seq39/frame0439.jpg  \n",
            "  inflating: input/seq39/frame0440.jpg  \n",
            "  inflating: input/seq39/frame0441.jpg  \n",
            "  inflating: input/seq39/frame0442.jpg  \n",
            "  inflating: input/seq39/frame0443.jpg  \n",
            "  inflating: input/seq39/frame0444.jpg  \n",
            "  inflating: input/seq39/frame0445.jpg  \n",
            "  inflating: input/seq39/frame0446.jpg  \n",
            "  inflating: input/seq39/frame0447.jpg  \n",
            "  inflating: input/seq39/frame0448.jpg  \n",
            "  inflating: input/seq39/frame0449.jpg  \n",
            "  inflating: input/seq39/frame0450.jpg  \n",
            "  inflating: input/seq39/frame0451.jpg  \n",
            "  inflating: input/seq39/frame0452.jpg  \n",
            "  inflating: input/seq39/frame0453.jpg  \n",
            "  inflating: input/seq39/frame0454.jpg  \n",
            "  inflating: input/seq39/frame0455.jpg  \n",
            "  inflating: input/seq39/frame0456.jpg  \n",
            "  inflating: input/seq39/frame0457.jpg  \n",
            "  inflating: input/seq39/frame0458.jpg  \n",
            "  inflating: input/seq39/frame0459.jpg  \n",
            "  inflating: input/seq39/frame0460.jpg  \n",
            "  inflating: input/seq39/frame0461.jpg  \n",
            "  inflating: input/seq39/frame0462.jpg  \n",
            "  inflating: input/seq39/frame0463.jpg  \n",
            "  inflating: input/seq39/frame0464.jpg  \n",
            "  inflating: input/seq39/frame0465.jpg  \n",
            "  inflating: input/seq39/frame0466.jpg  \n",
            "  inflating: input/seq39/frame0467.jpg  \n",
            "  inflating: input/seq39/frame0468.jpg  \n",
            "  inflating: input/seq39/frame0469.jpg  \n",
            "  inflating: input/seq39/frame0470.jpg  \n",
            "  inflating: input/seq39/frame0471.jpg  \n",
            "  inflating: input/seq39/frame0472.jpg  \n",
            "  inflating: input/seq39/frame0473.jpg  \n",
            "  inflating: input/seq39/frame0474.jpg  \n",
            "  inflating: input/seq39/frame0475.jpg  \n",
            "  inflating: input/seq39/frame0476.jpg  \n",
            "  inflating: input/seq39/frame0477.jpg  \n",
            "  inflating: input/seq39/frame0478.jpg  \n",
            "  inflating: input/seq39/frame0479.jpg  \n",
            "  inflating: input/seq39/frame0480.jpg  \n",
            "  inflating: input/seq39/frame0481.jpg  \n",
            "  inflating: input/seq39/frame0482.jpg  \n",
            "  inflating: input/seq39/frame0483.jpg  \n",
            "  inflating: input/seq39/frame0484.jpg  \n",
            "  inflating: input/seq39/frame0485.jpg  \n",
            "  inflating: input/seq39/frame0486.jpg  \n",
            "  inflating: input/seq39/frame0487.jpg  \n",
            "  inflating: input/seq39/frame0488.jpg  \n",
            "  inflating: input/seq39/frame0489.jpg  \n",
            "  inflating: input/seq39/frame0490.jpg  \n",
            "  inflating: input/seq39/frame0491.jpg  \n",
            "  inflating: input/seq39/frame0492.jpg  \n",
            "  inflating: input/seq39/frame0493.jpg  \n",
            "  inflating: input/seq39/frame0494.jpg  \n",
            "  inflating: input/seq39/frame0495.jpg  \n",
            "  inflating: input/seq39/frame0496.jpg  \n",
            "  inflating: input/seq39/frame0497.jpg  \n",
            "  inflating: input/seq39/frame0498.jpg  \n",
            "  inflating: input/seq39/frame0499.jpg  \n",
            "  inflating: input/seq39/frame0500.jpg  \n",
            "  inflating: input/seq39/frame0501.jpg  \n",
            "  inflating: input/seq39/frame0502.jpg  \n",
            "  inflating: input/seq39/frame0503.jpg  \n",
            "  inflating: input/seq39/frame0504.jpg  \n",
            "  inflating: input/seq39/frame0505.jpg  \n",
            "  inflating: input/seq39/frame0506.jpg  \n",
            "  inflating: input/seq39/frame0507.jpg  \n",
            "  inflating: input/seq39/frame0508.jpg  \n",
            "  inflating: input/seq39/frame0509.jpg  \n",
            "  inflating: input/seq39/frame0510.jpg  \n",
            "  inflating: input/seq39/frame0511.jpg  \n",
            "  inflating: input/seq39/frame0512.jpg  \n",
            "  inflating: input/seq39/frame0513.jpg  \n",
            "  inflating: input/seq39/frame0514.jpg  \n",
            "  inflating: input/seq39/frame0515.jpg  \n",
            "  inflating: input/seq39/frame0516.jpg  \n",
            "  inflating: input/seq39/frame0517.jpg  \n",
            "  inflating: input/seq39/frame0518.jpg  \n",
            "  inflating: input/seq40/annotations.txt  \n",
            "  inflating: input/seq40/frame0001.jpg  \n",
            "  inflating: input/seq40/frame0002.jpg  \n",
            "  inflating: input/seq40/frame0003.jpg  \n",
            "  inflating: input/seq40/frame0004.jpg  \n",
            "  inflating: input/seq40/frame0005.jpg  \n",
            "  inflating: input/seq40/frame0006.jpg  \n",
            "  inflating: input/seq40/frame0007.jpg  \n",
            "  inflating: input/seq40/frame0008.jpg  \n",
            "  inflating: input/seq40/frame0009.jpg  \n",
            "  inflating: input/seq40/frame0010.jpg  \n",
            "  inflating: input/seq40/frame0011.jpg  \n",
            "  inflating: input/seq40/frame0012.jpg  \n",
            "  inflating: input/seq40/frame0013.jpg  \n",
            "  inflating: input/seq40/frame0014.jpg  \n",
            "  inflating: input/seq40/frame0015.jpg  \n",
            "  inflating: input/seq40/frame0016.jpg  \n",
            "  inflating: input/seq40/frame0017.jpg  \n",
            "  inflating: input/seq40/frame0018.jpg  \n",
            "  inflating: input/seq40/frame0019.jpg  \n",
            "  inflating: input/seq40/frame0020.jpg  \n",
            "  inflating: input/seq40/frame0021.jpg  \n",
            "  inflating: input/seq40/frame0022.jpg  \n",
            "  inflating: input/seq40/frame0023.jpg  \n",
            "  inflating: input/seq40/frame0024.jpg  \n",
            "  inflating: input/seq40/frame0025.jpg  \n",
            "  inflating: input/seq40/frame0026.jpg  \n",
            "  inflating: input/seq40/frame0027.jpg  \n",
            "  inflating: input/seq40/frame0028.jpg  \n",
            "  inflating: input/seq40/frame0029.jpg  \n",
            "  inflating: input/seq40/frame0030.jpg  \n",
            "  inflating: input/seq40/frame0031.jpg  \n",
            "  inflating: input/seq40/frame0032.jpg  \n",
            "  inflating: input/seq40/frame0033.jpg  \n",
            "  inflating: input/seq40/frame0034.jpg  \n",
            "  inflating: input/seq40/frame0035.jpg  \n",
            "  inflating: input/seq40/frame0036.jpg  \n",
            "  inflating: input/seq40/frame0037.jpg  \n",
            "  inflating: input/seq40/frame0038.jpg  \n",
            "  inflating: input/seq40/frame0039.jpg  \n",
            "  inflating: input/seq40/frame0040.jpg  \n",
            "  inflating: input/seq40/frame0041.jpg  \n",
            "  inflating: input/seq40/frame0042.jpg  \n",
            "  inflating: input/seq40/frame0043.jpg  \n",
            "  inflating: input/seq40/frame0044.jpg  \n",
            "  inflating: input/seq40/frame0045.jpg  \n",
            "  inflating: input/seq40/frame0046.jpg  \n",
            "  inflating: input/seq40/frame0047.jpg  \n",
            "  inflating: input/seq40/frame0048.jpg  \n",
            "  inflating: input/seq40/frame0049.jpg  \n",
            "  inflating: input/seq40/frame0050.jpg  \n",
            "  inflating: input/seq40/frame0051.jpg  \n",
            "  inflating: input/seq40/frame0052.jpg  \n",
            "  inflating: input/seq40/frame0053.jpg  \n",
            "  inflating: input/seq40/frame0054.jpg  \n",
            "  inflating: input/seq40/frame0055.jpg  \n",
            "  inflating: input/seq40/frame0056.jpg  \n",
            "  inflating: input/seq40/frame0057.jpg  \n",
            "  inflating: input/seq40/frame0058.jpg  \n",
            "  inflating: input/seq40/frame0059.jpg  \n",
            "  inflating: input/seq40/frame0060.jpg  \n",
            "  inflating: input/seq40/frame0061.jpg  \n",
            "  inflating: input/seq40/frame0062.jpg  \n",
            "  inflating: input/seq40/frame0063.jpg  \n",
            "  inflating: input/seq40/frame0064.jpg  \n",
            "  inflating: input/seq40/frame0065.jpg  \n",
            "  inflating: input/seq40/frame0066.jpg  \n",
            "  inflating: input/seq40/frame0067.jpg  \n",
            "  inflating: input/seq40/frame0068.jpg  \n",
            "  inflating: input/seq40/frame0069.jpg  \n",
            "  inflating: input/seq40/frame0070.jpg  \n",
            "  inflating: input/seq40/frame0071.jpg  \n",
            "  inflating: input/seq40/frame0072.jpg  \n",
            "  inflating: input/seq40/frame0073.jpg  \n",
            "  inflating: input/seq40/frame0074.jpg  \n",
            "  inflating: input/seq40/frame0075.jpg  \n",
            "  inflating: input/seq40/frame0076.jpg  \n",
            "  inflating: input/seq40/frame0077.jpg  \n",
            "  inflating: input/seq40/frame0078.jpg  \n",
            "  inflating: input/seq40/frame0079.jpg  \n",
            "  inflating: input/seq40/frame0080.jpg  \n",
            "  inflating: input/seq40/frame0081.jpg  \n",
            "  inflating: input/seq40/frame0082.jpg  \n",
            "  inflating: input/seq40/frame0083.jpg  \n",
            "  inflating: input/seq40/frame0084.jpg  \n",
            "  inflating: input/seq40/frame0085.jpg  \n",
            "  inflating: input/seq40/frame0086.jpg  \n",
            "  inflating: input/seq40/frame0087.jpg  \n",
            "  inflating: input/seq40/frame0088.jpg  \n",
            "  inflating: input/seq40/frame0089.jpg  \n",
            "  inflating: input/seq40/frame0090.jpg  \n",
            "  inflating: input/seq40/frame0091.jpg  \n",
            "  inflating: input/seq40/frame0092.jpg  \n",
            "  inflating: input/seq40/frame0093.jpg  \n",
            "  inflating: input/seq40/frame0094.jpg  \n",
            "  inflating: input/seq40/frame0095.jpg  \n",
            "  inflating: input/seq40/frame0096.jpg  \n",
            "  inflating: input/seq40/frame0097.jpg  \n",
            "  inflating: input/seq40/frame0098.jpg  \n",
            "  inflating: input/seq40/frame0099.jpg  \n",
            "  inflating: input/seq40/frame0100.jpg  \n",
            "  inflating: input/seq40/frame0101.jpg  \n",
            "  inflating: input/seq40/frame0102.jpg  \n",
            "  inflating: input/seq40/frame0103.jpg  \n",
            "  inflating: input/seq40/frame0104.jpg  \n",
            "  inflating: input/seq40/frame0105.jpg  \n",
            "  inflating: input/seq40/frame0106.jpg  \n",
            "  inflating: input/seq40/frame0107.jpg  \n",
            "  inflating: input/seq40/frame0108.jpg  \n",
            "  inflating: input/seq40/frame0109.jpg  \n",
            "  inflating: input/seq40/frame0110.jpg  \n",
            "  inflating: input/seq40/frame0111.jpg  \n",
            "  inflating: input/seq40/frame0112.jpg  \n",
            "  inflating: input/seq40/frame0113.jpg  \n",
            "  inflating: input/seq40/frame0114.jpg  \n",
            "  inflating: input/seq40/frame0115.jpg  \n",
            "  inflating: input/seq40/frame0116.jpg  \n",
            "  inflating: input/seq40/frame0117.jpg  \n",
            "  inflating: input/seq40/frame0118.jpg  \n",
            "  inflating: input/seq40/frame0119.jpg  \n",
            "  inflating: input/seq40/frame0120.jpg  \n",
            "  inflating: input/seq40/frame0121.jpg  \n",
            "  inflating: input/seq40/frame0122.jpg  \n",
            "  inflating: input/seq40/frame0123.jpg  \n",
            "  inflating: input/seq40/frame0124.jpg  \n",
            "  inflating: input/seq40/frame0125.jpg  \n",
            "  inflating: input/seq40/frame0126.jpg  \n",
            "  inflating: input/seq40/frame0127.jpg  \n",
            "  inflating: input/seq40/frame0128.jpg  \n",
            "  inflating: input/seq40/frame0129.jpg  \n",
            "  inflating: input/seq40/frame0130.jpg  \n",
            "  inflating: input/seq40/frame0131.jpg  \n",
            "  inflating: input/seq40/frame0132.jpg  \n",
            "  inflating: input/seq40/frame0133.jpg  \n",
            "  inflating: input/seq40/frame0134.jpg  \n",
            "  inflating: input/seq40/frame0135.jpg  \n",
            "  inflating: input/seq40/frame0136.jpg  \n",
            "  inflating: input/seq40/frame0137.jpg  \n",
            "  inflating: input/seq40/frame0138.jpg  \n",
            "  inflating: input/seq40/frame0139.jpg  \n",
            "  inflating: input/seq40/frame0140.jpg  \n",
            "  inflating: input/seq40/frame0141.jpg  \n",
            "  inflating: input/seq40/frame0142.jpg  \n",
            "  inflating: input/seq40/frame0143.jpg  \n",
            "  inflating: input/seq40/frame0144.jpg  \n",
            "  inflating: input/seq40/frame0145.jpg  \n",
            "  inflating: input/seq40/frame0146.jpg  \n",
            "  inflating: input/seq40/frame0147.jpg  \n",
            "  inflating: input/seq40/frame0148.jpg  \n",
            "  inflating: input/seq40/frame0149.jpg  \n",
            "  inflating: input/seq40/frame0150.jpg  \n",
            "  inflating: input/seq40/frame0151.jpg  \n",
            "  inflating: input/seq40/frame0152.jpg  \n",
            "  inflating: input/seq40/frame0153.jpg  \n",
            "  inflating: input/seq40/frame0154.jpg  \n",
            "  inflating: input/seq40/frame0155.jpg  \n",
            "  inflating: input/seq40/frame0156.jpg  \n",
            "  inflating: input/seq40/frame0157.jpg  \n",
            "  inflating: input/seq40/frame0158.jpg  \n",
            "  inflating: input/seq40/frame0159.jpg  \n",
            "  inflating: input/seq40/frame0160.jpg  \n",
            "  inflating: input/seq40/frame0161.jpg  \n",
            "  inflating: input/seq40/frame0162.jpg  \n",
            "  inflating: input/seq40/frame0163.jpg  \n",
            "  inflating: input/seq40/frame0164.jpg  \n",
            "  inflating: input/seq40/frame0165.jpg  \n",
            "  inflating: input/seq40/frame0166.jpg  \n",
            "  inflating: input/seq40/frame0167.jpg  \n",
            "  inflating: input/seq40/frame0168.jpg  \n",
            "  inflating: input/seq40/frame0169.jpg  \n",
            "  inflating: input/seq40/frame0170.jpg  \n",
            "  inflating: input/seq40/frame0171.jpg  \n",
            "  inflating: input/seq40/frame0172.jpg  \n",
            "  inflating: input/seq40/frame0173.jpg  \n",
            "  inflating: input/seq40/frame0174.jpg  \n",
            "  inflating: input/seq40/frame0175.jpg  \n",
            "  inflating: input/seq40/frame0176.jpg  \n",
            "  inflating: input/seq40/frame0177.jpg  \n",
            "  inflating: input/seq40/frame0178.jpg  \n",
            "  inflating: input/seq40/frame0179.jpg  \n",
            "  inflating: input/seq40/frame0180.jpg  \n",
            "  inflating: input/seq40/frame0181.jpg  \n",
            "  inflating: input/seq40/frame0182.jpg  \n",
            "  inflating: input/seq40/frame0183.jpg  \n",
            "  inflating: input/seq40/frame0184.jpg  \n",
            "  inflating: input/seq40/frame0185.jpg  \n",
            "  inflating: input/seq40/frame0186.jpg  \n",
            "  inflating: input/seq40/frame0187.jpg  \n",
            "  inflating: input/seq40/frame0188.jpg  \n",
            "  inflating: input/seq40/frame0189.jpg  \n",
            "  inflating: input/seq40/frame0190.jpg  \n",
            "  inflating: input/seq40/frame0191.jpg  \n",
            "  inflating: input/seq40/frame0192.jpg  \n",
            "  inflating: input/seq40/frame0193.jpg  \n",
            "  inflating: input/seq40/frame0194.jpg  \n",
            "  inflating: input/seq40/frame0195.jpg  \n",
            "  inflating: input/seq40/frame0196.jpg  \n",
            "  inflating: input/seq40/frame0197.jpg  \n",
            "  inflating: input/seq40/frame0198.jpg  \n",
            "  inflating: input/seq40/frame0199.jpg  \n",
            "  inflating: input/seq40/frame0200.jpg  \n",
            "  inflating: input/seq40/frame0201.jpg  \n",
            "  inflating: input/seq40/frame0202.jpg  \n",
            "  inflating: input/seq40/frame0203.jpg  \n",
            "  inflating: input/seq40/frame0204.jpg  \n",
            "  inflating: input/seq40/frame0205.jpg  \n",
            "  inflating: input/seq40/frame0206.jpg  \n",
            "  inflating: input/seq40/frame0207.jpg  \n",
            "  inflating: input/seq40/frame0208.jpg  \n",
            "  inflating: input/seq40/frame0209.jpg  \n",
            "  inflating: input/seq40/frame0210.jpg  \n",
            "  inflating: input/seq40/frame0211.jpg  \n",
            "  inflating: input/seq40/frame0212.jpg  \n",
            "  inflating: input/seq40/frame0213.jpg  \n",
            "  inflating: input/seq40/frame0214.jpg  \n",
            "  inflating: input/seq40/frame0215.jpg  \n",
            "  inflating: input/seq40/frame0216.jpg  \n",
            "  inflating: input/seq40/frame0217.jpg  \n",
            "  inflating: input/seq40/frame0218.jpg  \n",
            "  inflating: input/seq40/frame0219.jpg  \n",
            "  inflating: input/seq40/frame0220.jpg  \n",
            "  inflating: input/seq40/frame0221.jpg  \n",
            "  inflating: input/seq40/frame0222.jpg  \n",
            "  inflating: input/seq40/frame0223.jpg  \n",
            "  inflating: input/seq40/frame0224.jpg  \n",
            "  inflating: input/seq40/frame0225.jpg  \n",
            "  inflating: input/seq40/frame0226.jpg  \n",
            "  inflating: input/seq40/frame0227.jpg  \n",
            "  inflating: input/seq40/frame0228.jpg  \n",
            "  inflating: input/seq40/frame0229.jpg  \n",
            "  inflating: input/seq40/frame0230.jpg  \n",
            "  inflating: input/seq40/frame0231.jpg  \n",
            "  inflating: input/seq40/frame0232.jpg  \n",
            "  inflating: input/seq40/frame0233.jpg  \n",
            "  inflating: input/seq40/frame0234.jpg  \n",
            "  inflating: input/seq40/frame0235.jpg  \n",
            "  inflating: input/seq40/frame0236.jpg  \n",
            "  inflating: input/seq40/frame0237.jpg  \n",
            "  inflating: input/seq40/frame0238.jpg  \n",
            "  inflating: input/seq40/frame0239.jpg  \n",
            "  inflating: input/seq40/frame0240.jpg  \n",
            "  inflating: input/seq40/frame0241.jpg  \n",
            "  inflating: input/seq40/frame0242.jpg  \n",
            "  inflating: input/seq40/frame0243.jpg  \n",
            "  inflating: input/seq40/frame0244.jpg  \n",
            "  inflating: input/seq40/frame0245.jpg  \n",
            "  inflating: input/seq40/frame0246.jpg  \n",
            "  inflating: input/seq40/frame0247.jpg  \n",
            "  inflating: input/seq40/frame0248.jpg  \n",
            "  inflating: input/seq40/frame0249.jpg  \n",
            "  inflating: input/seq40/frame0250.jpg  \n",
            "  inflating: input/seq40/frame0251.jpg  \n",
            "  inflating: input/seq40/frame0252.jpg  \n",
            "  inflating: input/seq40/frame0253.jpg  \n",
            "  inflating: input/seq40/frame0254.jpg  \n",
            "  inflating: input/seq40/frame0255.jpg  \n",
            "  inflating: input/seq40/frame0256.jpg  \n",
            "  inflating: input/seq40/frame0257.jpg  \n",
            "  inflating: input/seq40/frame0258.jpg  \n",
            "  inflating: input/seq40/frame0259.jpg  \n",
            "  inflating: input/seq40/frame0260.jpg  \n",
            "  inflating: input/seq40/frame0261.jpg  \n",
            "  inflating: input/seq40/frame0262.jpg  \n",
            "  inflating: input/seq40/frame0263.jpg  \n",
            "  inflating: input/seq40/frame0264.jpg  \n",
            "  inflating: input/seq40/frame0265.jpg  \n",
            "  inflating: input/seq40/frame0266.jpg  \n",
            "  inflating: input/seq40/frame0267.jpg  \n",
            "  inflating: input/seq40/frame0268.jpg  \n",
            "  inflating: input/seq40/frame0269.jpg  \n",
            "  inflating: input/seq40/frame0270.jpg  \n",
            "  inflating: input/seq40/frame0271.jpg  \n",
            "  inflating: input/seq40/frame0272.jpg  \n",
            "  inflating: input/seq40/frame0273.jpg  \n",
            "  inflating: input/seq40/frame0274.jpg  \n",
            "  inflating: input/seq40/frame0275.jpg  \n",
            "  inflating: input/seq40/frame0276.jpg  \n",
            "  inflating: input/seq40/frame0277.jpg  \n",
            "  inflating: input/seq40/frame0278.jpg  \n",
            "  inflating: input/seq40/frame0279.jpg  \n",
            "  inflating: input/seq40/frame0280.jpg  \n",
            "  inflating: input/seq40/frame0281.jpg  \n",
            "  inflating: input/seq40/frame0282.jpg  \n",
            "  inflating: input/seq40/frame0283.jpg  \n",
            "  inflating: input/seq40/frame0284.jpg  \n",
            "  inflating: input/seq40/frame0285.jpg  \n",
            "  inflating: input/seq40/frame0286.jpg  \n",
            "  inflating: input/seq40/frame0287.jpg  \n",
            "  inflating: input/seq40/frame0288.jpg  \n",
            "  inflating: input/seq40/frame0289.jpg  \n",
            "  inflating: input/seq40/frame0290.jpg  \n",
            "  inflating: input/seq40/frame0291.jpg  \n",
            "  inflating: input/seq40/frame0292.jpg  \n",
            "  inflating: input/seq40/frame0293.jpg  \n",
            "  inflating: input/seq40/frame0294.jpg  \n",
            "  inflating: input/seq40/frame0295.jpg  \n",
            "  inflating: input/seq40/frame0296.jpg  \n",
            "  inflating: input/seq40/frame0297.jpg  \n",
            "  inflating: input/seq40/frame0298.jpg  \n",
            "  inflating: input/seq40/frame0299.jpg  \n",
            "  inflating: input/seq40/frame0300.jpg  \n",
            "  inflating: input/seq40/frame0301.jpg  \n",
            "  inflating: input/seq40/frame0302.jpg  \n",
            "  inflating: input/seq40/frame0303.jpg  \n",
            "  inflating: input/seq40/frame0304.jpg  \n",
            "  inflating: input/seq40/frame0305.jpg  \n",
            "  inflating: input/seq40/frame0306.jpg  \n",
            "  inflating: input/seq40/frame0307.jpg  \n",
            "  inflating: input/seq40/frame0308.jpg  \n",
            "  inflating: input/seq40/frame0309.jpg  \n",
            "  inflating: input/seq40/frame0310.jpg  \n",
            "  inflating: input/seq40/frame0311.jpg  \n",
            "  inflating: input/seq40/frame0312.jpg  \n",
            "  inflating: input/seq40/frame0313.jpg  \n",
            "  inflating: input/seq40/frame0314.jpg  \n",
            "  inflating: input/seq40/frame0315.jpg  \n",
            "  inflating: input/seq40/frame0316.jpg  \n",
            "  inflating: input/seq40/frame0317.jpg  \n",
            "  inflating: input/seq40/frame0318.jpg  \n",
            "  inflating: input/seq40/frame0319.jpg  \n",
            "  inflating: input/seq40/frame0320.jpg  \n",
            "  inflating: input/seq40/frame0321.jpg  \n",
            "  inflating: input/seq40/frame0322.jpg  \n",
            "  inflating: input/seq40/frame0323.jpg  \n",
            "  inflating: input/seq40/frame0324.jpg  \n",
            "  inflating: input/seq40/frame0325.jpg  \n",
            "  inflating: input/seq40/frame0326.jpg  \n",
            "  inflating: input/seq40/frame0327.jpg  \n",
            "  inflating: input/seq40/frame0328.jpg  \n",
            "  inflating: input/seq40/frame0329.jpg  \n",
            "  inflating: input/seq40/frame0330.jpg  \n",
            "  inflating: input/seq40/frame0331.jpg  \n",
            "  inflating: input/seq40/frame0332.jpg  \n",
            "  inflating: input/seq40/frame0333.jpg  \n",
            "  inflating: input/seq40/frame0334.jpg  \n",
            "  inflating: input/seq40/frame0335.jpg  \n",
            "  inflating: input/seq40/frame0336.jpg  \n",
            "  inflating: input/seq40/frame0337.jpg  \n",
            "  inflating: input/seq40/frame0338.jpg  \n",
            "  inflating: input/seq40/frame0339.jpg  \n",
            "  inflating: input/seq40/frame0340.jpg  \n",
            "  inflating: input/seq40/frame0341.jpg  \n",
            "  inflating: input/seq40/frame0342.jpg  \n",
            "  inflating: input/seq40/frame0343.jpg  \n",
            "  inflating: input/seq40/frame0344.jpg  \n",
            "  inflating: input/seq40/frame0345.jpg  \n",
            "  inflating: input/seq40/frame0346.jpg  \n",
            "  inflating: input/seq40/frame0347.jpg  \n",
            "  inflating: input/seq40/frame0348.jpg  \n",
            "  inflating: input/seq40/frame0349.jpg  \n",
            "  inflating: input/seq40/frame0350.jpg  \n",
            "  inflating: input/seq40/frame0351.jpg  \n",
            "  inflating: input/seq40/frame0352.jpg  \n",
            "  inflating: input/seq40/frame0353.jpg  \n",
            "  inflating: input/seq40/frame0354.jpg  \n",
            "  inflating: input/seq40/frame0355.jpg  \n",
            "  inflating: input/seq40/frame0356.jpg  \n",
            "  inflating: input/seq40/frame0357.jpg  \n",
            "  inflating: input/seq40/frame0358.jpg  \n",
            "  inflating: input/seq40/frame0359.jpg  \n",
            "  inflating: input/seq40/frame0360.jpg  \n",
            "  inflating: input/seq40/frame0361.jpg  \n",
            "  inflating: input/seq40/frame0362.jpg  \n",
            "  inflating: input/seq40/frame0363.jpg  \n",
            "  inflating: input/seq40/frame0364.jpg  \n",
            "  inflating: input/seq40/frame0365.jpg  \n",
            "  inflating: input/seq40/frame0366.jpg  \n",
            "  inflating: input/seq40/frame0367.jpg  \n",
            "  inflating: input/seq40/frame0368.jpg  \n",
            "  inflating: input/seq40/frame0369.jpg  \n",
            "  inflating: input/seq40/frame0370.jpg  \n",
            "  inflating: input/seq40/frame0371.jpg  \n",
            "  inflating: input/seq40/frame0372.jpg  \n",
            "  inflating: input/seq40/frame0373.jpg  \n",
            "  inflating: input/seq40/frame0374.jpg  \n",
            "  inflating: input/seq40/frame0375.jpg  \n",
            "  inflating: input/seq40/frame0376.jpg  \n",
            "  inflating: input/seq40/frame0377.jpg  \n",
            "  inflating: input/seq40/frame0378.jpg  \n",
            "  inflating: input/seq40/frame0379.jpg  \n",
            "  inflating: input/seq40/frame0380.jpg  \n",
            "  inflating: input/seq40/frame0381.jpg  \n",
            "  inflating: input/seq40/frame0382.jpg  \n",
            "  inflating: input/seq40/frame0383.jpg  \n",
            "  inflating: input/seq40/frame0384.jpg  \n",
            "  inflating: input/seq40/frame0385.jpg  \n",
            "  inflating: input/seq40/frame0386.jpg  \n",
            "  inflating: input/seq40/frame0387.jpg  \n",
            "  inflating: input/seq40/frame0388.jpg  \n",
            "  inflating: input/seq40/frame0389.jpg  \n",
            "  inflating: input/seq40/frame0390.jpg  \n",
            "  inflating: input/seq40/frame0391.jpg  \n",
            "  inflating: input/seq40/frame0392.jpg  \n",
            "  inflating: input/seq40/frame0393.jpg  \n",
            "  inflating: input/seq40/frame0394.jpg  \n",
            "  inflating: input/seq40/frame0395.jpg  \n",
            "  inflating: input/seq40/frame0396.jpg  \n",
            "  inflating: input/seq40/frame0397.jpg  \n",
            "  inflating: input/seq40/frame0398.jpg  \n",
            "  inflating: input/seq40/frame0399.jpg  \n",
            "  inflating: input/seq40/frame0400.jpg  \n",
            "  inflating: input/seq40/frame0401.jpg  \n",
            "  inflating: input/seq41/annotations.txt  \n",
            "  inflating: input/seq41/frame0001.jpg  \n",
            "  inflating: input/seq41/frame0002.jpg  \n",
            "  inflating: input/seq41/frame0003.jpg  \n",
            "  inflating: input/seq41/frame0004.jpg  \n",
            "  inflating: input/seq41/frame0005.jpg  \n",
            "  inflating: input/seq41/frame0006.jpg  \n",
            "  inflating: input/seq41/frame0007.jpg  \n",
            "  inflating: input/seq41/frame0008.jpg  \n",
            "  inflating: input/seq41/frame0009.jpg  \n",
            "  inflating: input/seq41/frame0010.jpg  \n",
            "  inflating: input/seq41/frame0011.jpg  \n",
            "  inflating: input/seq41/frame0012.jpg  \n",
            "  inflating: input/seq41/frame0013.jpg  \n",
            "  inflating: input/seq41/frame0014.jpg  \n",
            "  inflating: input/seq41/frame0015.jpg  \n",
            "  inflating: input/seq41/frame0016.jpg  \n",
            "  inflating: input/seq41/frame0017.jpg  \n",
            "  inflating: input/seq41/frame0018.jpg  \n",
            "  inflating: input/seq41/frame0019.jpg  \n",
            "  inflating: input/seq41/frame0020.jpg  \n",
            "  inflating: input/seq41/frame0021.jpg  \n",
            "  inflating: input/seq41/frame0022.jpg  \n",
            "  inflating: input/seq41/frame0023.jpg  \n",
            "  inflating: input/seq41/frame0024.jpg  \n",
            "  inflating: input/seq41/frame0025.jpg  \n",
            "  inflating: input/seq41/frame0026.jpg  \n",
            "  inflating: input/seq41/frame0027.jpg  \n",
            "  inflating: input/seq41/frame0028.jpg  \n",
            "  inflating: input/seq41/frame0029.jpg  \n",
            "  inflating: input/seq41/frame0030.jpg  \n",
            "  inflating: input/seq41/frame0031.jpg  \n",
            "  inflating: input/seq41/frame0032.jpg  \n",
            "  inflating: input/seq41/frame0033.jpg  \n",
            "  inflating: input/seq41/frame0034.jpg  \n",
            "  inflating: input/seq41/frame0035.jpg  \n",
            "  inflating: input/seq41/frame0036.jpg  \n",
            "  inflating: input/seq41/frame0037.jpg  \n",
            "  inflating: input/seq41/frame0038.jpg  \n",
            "  inflating: input/seq41/frame0039.jpg  \n",
            "  inflating: input/seq41/frame0040.jpg  \n",
            "  inflating: input/seq41/frame0041.jpg  \n",
            "  inflating: input/seq41/frame0042.jpg  \n",
            "  inflating: input/seq41/frame0043.jpg  \n",
            "  inflating: input/seq41/frame0044.jpg  \n",
            "  inflating: input/seq41/frame0045.jpg  \n",
            "  inflating: input/seq41/frame0046.jpg  \n",
            "  inflating: input/seq41/frame0047.jpg  \n",
            "  inflating: input/seq41/frame0048.jpg  \n",
            "  inflating: input/seq41/frame0049.jpg  \n",
            "  inflating: input/seq41/frame0050.jpg  \n",
            "  inflating: input/seq41/frame0051.jpg  \n",
            "  inflating: input/seq41/frame0052.jpg  \n",
            "  inflating: input/seq41/frame0053.jpg  \n",
            "  inflating: input/seq41/frame0054.jpg  \n",
            "  inflating: input/seq41/frame0055.jpg  \n",
            "  inflating: input/seq41/frame0056.jpg  \n",
            "  inflating: input/seq41/frame0057.jpg  \n",
            "  inflating: input/seq41/frame0058.jpg  \n",
            "  inflating: input/seq41/frame0059.jpg  \n",
            "  inflating: input/seq41/frame0060.jpg  \n",
            "  inflating: input/seq41/frame0061.jpg  \n",
            "  inflating: input/seq41/frame0062.jpg  \n",
            "  inflating: input/seq41/frame0063.jpg  \n",
            "  inflating: input/seq41/frame0064.jpg  \n",
            "  inflating: input/seq41/frame0065.jpg  \n",
            "  inflating: input/seq41/frame0066.jpg  \n",
            "  inflating: input/seq41/frame0067.jpg  \n",
            "  inflating: input/seq41/frame0068.jpg  \n",
            "  inflating: input/seq41/frame0069.jpg  \n",
            "  inflating: input/seq41/frame0070.jpg  \n",
            "  inflating: input/seq41/frame0071.jpg  \n",
            "  inflating: input/seq41/frame0072.jpg  \n",
            "  inflating: input/seq41/frame0073.jpg  \n",
            "  inflating: input/seq41/frame0074.jpg  \n",
            "  inflating: input/seq41/frame0075.jpg  \n",
            "  inflating: input/seq41/frame0076.jpg  \n",
            "  inflating: input/seq41/frame0077.jpg  \n",
            "  inflating: input/seq41/frame0078.jpg  \n",
            "  inflating: input/seq41/frame0079.jpg  \n",
            "  inflating: input/seq41/frame0080.jpg  \n",
            "  inflating: input/seq41/frame0081.jpg  \n",
            "  inflating: input/seq41/frame0082.jpg  \n",
            "  inflating: input/seq41/frame0083.jpg  \n",
            "  inflating: input/seq41/frame0084.jpg  \n",
            "  inflating: input/seq41/frame0085.jpg  \n",
            "  inflating: input/seq41/frame0086.jpg  \n",
            "  inflating: input/seq41/frame0087.jpg  \n",
            "  inflating: input/seq41/frame0088.jpg  \n",
            "  inflating: input/seq41/frame0089.jpg  \n",
            "  inflating: input/seq41/frame0090.jpg  \n",
            "  inflating: input/seq41/frame0091.jpg  \n",
            "  inflating: input/seq41/frame0092.jpg  \n",
            "  inflating: input/seq41/frame0093.jpg  \n",
            "  inflating: input/seq41/frame0094.jpg  \n",
            "  inflating: input/seq41/frame0095.jpg  \n",
            "  inflating: input/seq41/frame0096.jpg  \n",
            "  inflating: input/seq41/frame0097.jpg  \n",
            "  inflating: input/seq41/frame0098.jpg  \n",
            "  inflating: input/seq41/frame0099.jpg  \n",
            "  inflating: input/seq41/frame0100.jpg  \n",
            "  inflating: input/seq41/frame0101.jpg  \n",
            "  inflating: input/seq41/frame0102.jpg  \n",
            "  inflating: input/seq41/frame0103.jpg  \n",
            "  inflating: input/seq41/frame0104.jpg  \n",
            "  inflating: input/seq41/frame0105.jpg  \n",
            "  inflating: input/seq41/frame0106.jpg  \n",
            "  inflating: input/seq41/frame0107.jpg  \n",
            "  inflating: input/seq41/frame0108.jpg  \n",
            "  inflating: input/seq41/frame0109.jpg  \n",
            "  inflating: input/seq41/frame0110.jpg  \n",
            "  inflating: input/seq41/frame0111.jpg  \n",
            "  inflating: input/seq41/frame0112.jpg  \n",
            "  inflating: input/seq41/frame0113.jpg  \n",
            "  inflating: input/seq41/frame0114.jpg  \n",
            "  inflating: input/seq41/frame0115.jpg  \n",
            "  inflating: input/seq41/frame0116.jpg  \n",
            "  inflating: input/seq41/frame0117.jpg  \n",
            "  inflating: input/seq41/frame0118.jpg  \n",
            "  inflating: input/seq41/frame0119.jpg  \n",
            "  inflating: input/seq41/frame0120.jpg  \n",
            "  inflating: input/seq41/frame0121.jpg  \n",
            "  inflating: input/seq41/frame0122.jpg  \n",
            "  inflating: input/seq41/frame0123.jpg  \n",
            "  inflating: input/seq41/frame0124.jpg  \n",
            "  inflating: input/seq41/frame0125.jpg  \n",
            "  inflating: input/seq41/frame0126.jpg  \n",
            "  inflating: input/seq41/frame0127.jpg  \n",
            "  inflating: input/seq41/frame0128.jpg  \n",
            "  inflating: input/seq41/frame0129.jpg  \n",
            "  inflating: input/seq41/frame0130.jpg  \n",
            "  inflating: input/seq41/frame0131.jpg  \n",
            "  inflating: input/seq41/frame0132.jpg  \n",
            "  inflating: input/seq41/frame0133.jpg  \n",
            "  inflating: input/seq41/frame0134.jpg  \n",
            "  inflating: input/seq41/frame0135.jpg  \n",
            "  inflating: input/seq41/frame0136.jpg  \n",
            "  inflating: input/seq41/frame0137.jpg  \n",
            "  inflating: input/seq41/frame0138.jpg  \n",
            "  inflating: input/seq41/frame0139.jpg  \n",
            "  inflating: input/seq41/frame0140.jpg  \n",
            "  inflating: input/seq41/frame0141.jpg  \n",
            "  inflating: input/seq41/frame0142.jpg  \n",
            "  inflating: input/seq41/frame0143.jpg  \n",
            "  inflating: input/seq41/frame0144.jpg  \n",
            "  inflating: input/seq41/frame0145.jpg  \n",
            "  inflating: input/seq41/frame0146.jpg  \n",
            "  inflating: input/seq41/frame0147.jpg  \n",
            "  inflating: input/seq41/frame0148.jpg  \n",
            "  inflating: input/seq41/frame0149.jpg  \n",
            "  inflating: input/seq41/frame0150.jpg  \n",
            "  inflating: input/seq41/frame0151.jpg  \n",
            "  inflating: input/seq41/frame0152.jpg  \n",
            "  inflating: input/seq41/frame0153.jpg  \n",
            "  inflating: input/seq41/frame0154.jpg  \n",
            "  inflating: input/seq41/frame0155.jpg  \n",
            "  inflating: input/seq41/frame0156.jpg  \n",
            "  inflating: input/seq41/frame0157.jpg  \n",
            "  inflating: input/seq41/frame0158.jpg  \n",
            "  inflating: input/seq41/frame0159.jpg  \n",
            "  inflating: input/seq41/frame0160.jpg  \n",
            "  inflating: input/seq41/frame0161.jpg  \n",
            "  inflating: input/seq41/frame0162.jpg  \n",
            "  inflating: input/seq41/frame0163.jpg  \n",
            "  inflating: input/seq41/frame0164.jpg  \n",
            "  inflating: input/seq41/frame0165.jpg  \n",
            "  inflating: input/seq41/frame0166.jpg  \n",
            "  inflating: input/seq41/frame0167.jpg  \n",
            "  inflating: input/seq41/frame0168.jpg  \n",
            "  inflating: input/seq41/frame0169.jpg  \n",
            "  inflating: input/seq41/frame0170.jpg  \n",
            "  inflating: input/seq41/frame0171.jpg  \n",
            "  inflating: input/seq41/frame0172.jpg  \n",
            "  inflating: input/seq41/frame0173.jpg  \n",
            "  inflating: input/seq41/frame0174.jpg  \n",
            "  inflating: input/seq41/frame0175.jpg  \n",
            "  inflating: input/seq41/frame0176.jpg  \n",
            "  inflating: input/seq41/frame0177.jpg  \n",
            "  inflating: input/seq41/frame0178.jpg  \n",
            "  inflating: input/seq41/frame0179.jpg  \n",
            "  inflating: input/seq41/frame0180.jpg  \n",
            "  inflating: input/seq41/frame0181.jpg  \n",
            "  inflating: input/seq41/frame0182.jpg  \n",
            "  inflating: input/seq41/frame0183.jpg  \n",
            "  inflating: input/seq41/frame0184.jpg  \n",
            "  inflating: input/seq41/frame0185.jpg  \n",
            "  inflating: input/seq41/frame0186.jpg  \n",
            "  inflating: input/seq41/frame0187.jpg  \n",
            "  inflating: input/seq41/frame0188.jpg  \n",
            "  inflating: input/seq41/frame0189.jpg  \n",
            "  inflating: input/seq41/frame0190.jpg  \n",
            "  inflating: input/seq41/frame0191.jpg  \n",
            "  inflating: input/seq41/frame0192.jpg  \n",
            "  inflating: input/seq41/frame0193.jpg  \n",
            "  inflating: input/seq41/frame0194.jpg  \n",
            "  inflating: input/seq41/frame0195.jpg  \n",
            "  inflating: input/seq41/frame0196.jpg  \n",
            "  inflating: input/seq41/frame0197.jpg  \n",
            "  inflating: input/seq41/frame0198.jpg  \n",
            "  inflating: input/seq41/frame0199.jpg  \n",
            "  inflating: input/seq41/frame0200.jpg  \n",
            "  inflating: input/seq41/frame0201.jpg  \n",
            "  inflating: input/seq41/frame0202.jpg  \n",
            "  inflating: input/seq41/frame0203.jpg  \n",
            "  inflating: input/seq41/frame0204.jpg  \n",
            "  inflating: input/seq41/frame0205.jpg  \n",
            "  inflating: input/seq41/frame0206.jpg  \n",
            "  inflating: input/seq41/frame0207.jpg  \n",
            "  inflating: input/seq41/frame0208.jpg  \n",
            "  inflating: input/seq41/frame0209.jpg  \n",
            "  inflating: input/seq41/frame0210.jpg  \n",
            "  inflating: input/seq41/frame0211.jpg  \n",
            "  inflating: input/seq41/frame0212.jpg  \n",
            "  inflating: input/seq41/frame0213.jpg  \n",
            "  inflating: input/seq41/frame0214.jpg  \n",
            "  inflating: input/seq41/frame0215.jpg  \n",
            "  inflating: input/seq41/frame0216.jpg  \n",
            "  inflating: input/seq41/frame0217.jpg  \n",
            "  inflating: input/seq41/frame0218.jpg  \n",
            "  inflating: input/seq41/frame0219.jpg  \n",
            "  inflating: input/seq41/frame0220.jpg  \n",
            "  inflating: input/seq41/frame0221.jpg  \n",
            "  inflating: input/seq41/frame0222.jpg  \n",
            "  inflating: input/seq41/frame0223.jpg  \n",
            "  inflating: input/seq41/frame0224.jpg  \n",
            "  inflating: input/seq41/frame0225.jpg  \n",
            "  inflating: input/seq41/frame0226.jpg  \n",
            "  inflating: input/seq41/frame0227.jpg  \n",
            "  inflating: input/seq41/frame0228.jpg  \n",
            "  inflating: input/seq41/frame0229.jpg  \n",
            "  inflating: input/seq41/frame0230.jpg  \n",
            "  inflating: input/seq41/frame0231.jpg  \n",
            "  inflating: input/seq41/frame0232.jpg  \n",
            "  inflating: input/seq41/frame0233.jpg  \n",
            "  inflating: input/seq41/frame0234.jpg  \n",
            "  inflating: input/seq41/frame0235.jpg  \n",
            "  inflating: input/seq41/frame0236.jpg  \n",
            "  inflating: input/seq41/frame0237.jpg  \n",
            "  inflating: input/seq41/frame0238.jpg  \n",
            "  inflating: input/seq41/frame0239.jpg  \n",
            "  inflating: input/seq41/frame0240.jpg  \n",
            "  inflating: input/seq41/frame0241.jpg  \n",
            "  inflating: input/seq41/frame0242.jpg  \n",
            "  inflating: input/seq41/frame0243.jpg  \n",
            "  inflating: input/seq41/frame0244.jpg  \n",
            "  inflating: input/seq41/frame0245.jpg  \n",
            "  inflating: input/seq41/frame0246.jpg  \n",
            "  inflating: input/seq41/frame0247.jpg  \n",
            "  inflating: input/seq41/frame0248.jpg  \n",
            "  inflating: input/seq41/frame0249.jpg  \n",
            "  inflating: input/seq41/frame0250.jpg  \n",
            "  inflating: input/seq41/frame0251.jpg  \n",
            "  inflating: input/seq41/frame0252.jpg  \n",
            "  inflating: input/seq41/frame0253.jpg  \n",
            "  inflating: input/seq41/frame0254.jpg  \n",
            "  inflating: input/seq41/frame0255.jpg  \n",
            "  inflating: input/seq41/frame0256.jpg  \n",
            "  inflating: input/seq41/frame0257.jpg  \n",
            "  inflating: input/seq41/frame0258.jpg  \n",
            "  inflating: input/seq41/frame0259.jpg  \n",
            "  inflating: input/seq41/frame0260.jpg  \n",
            "  inflating: input/seq41/frame0261.jpg  \n",
            "  inflating: input/seq41/frame0262.jpg  \n",
            "  inflating: input/seq41/frame0263.jpg  \n",
            "  inflating: input/seq41/frame0264.jpg  \n",
            "  inflating: input/seq41/frame0265.jpg  \n",
            "  inflating: input/seq41/frame0266.jpg  \n",
            "  inflating: input/seq41/frame0267.jpg  \n",
            "  inflating: input/seq41/frame0268.jpg  \n",
            "  inflating: input/seq41/frame0269.jpg  \n",
            "  inflating: input/seq41/frame0270.jpg  \n",
            "  inflating: input/seq41/frame0271.jpg  \n",
            "  inflating: input/seq41/frame0272.jpg  \n",
            "  inflating: input/seq41/frame0273.jpg  \n",
            "  inflating: input/seq41/frame0274.jpg  \n",
            "  inflating: input/seq41/frame0275.jpg  \n",
            "  inflating: input/seq41/frame0276.jpg  \n",
            "  inflating: input/seq41/frame0277.jpg  \n",
            "  inflating: input/seq41/frame0278.jpg  \n",
            "  inflating: input/seq41/frame0279.jpg  \n",
            "  inflating: input/seq41/frame0280.jpg  \n",
            "  inflating: input/seq41/frame0281.jpg  \n",
            "  inflating: input/seq41/frame0282.jpg  \n",
            "  inflating: input/seq41/frame0283.jpg  \n",
            "  inflating: input/seq41/frame0284.jpg  \n",
            "  inflating: input/seq41/frame0285.jpg  \n",
            "  inflating: input/seq41/frame0286.jpg  \n",
            "  inflating: input/seq41/frame0287.jpg  \n",
            "  inflating: input/seq41/frame0288.jpg  \n",
            "  inflating: input/seq41/frame0289.jpg  \n",
            "  inflating: input/seq41/frame0290.jpg  \n",
            "  inflating: input/seq41/frame0291.jpg  \n",
            "  inflating: input/seq41/frame0292.jpg  \n",
            "  inflating: input/seq41/frame0293.jpg  \n",
            "  inflating: input/seq41/frame0294.jpg  \n",
            "  inflating: input/seq41/frame0295.jpg  \n",
            "  inflating: input/seq41/frame0296.jpg  \n",
            "  inflating: input/seq41/frame0297.jpg  \n",
            "  inflating: input/seq41/frame0298.jpg  \n",
            "  inflating: input/seq41/frame0299.jpg  \n",
            "  inflating: input/seq41/frame0300.jpg  \n",
            "  inflating: input/seq41/frame0301.jpg  \n",
            "  inflating: input/seq41/frame0302.jpg  \n",
            "  inflating: input/seq41/frame0303.jpg  \n",
            "  inflating: input/seq41/frame0304.jpg  \n",
            "  inflating: input/seq41/frame0305.jpg  \n",
            "  inflating: input/seq41/frame0306.jpg  \n",
            "  inflating: input/seq41/frame0307.jpg  \n",
            "  inflating: input/seq41/frame0308.jpg  \n",
            "  inflating: input/seq41/frame0309.jpg  \n",
            "  inflating: input/seq41/frame0310.jpg  \n",
            "  inflating: input/seq41/frame0311.jpg  \n",
            "  inflating: input/seq41/frame0312.jpg  \n",
            "  inflating: input/seq41/frame0313.jpg  \n",
            "  inflating: input/seq41/frame0314.jpg  \n",
            "  inflating: input/seq41/frame0315.jpg  \n",
            "  inflating: input/seq41/frame0316.jpg  \n",
            "  inflating: input/seq41/frame0317.jpg  \n",
            "  inflating: input/seq41/frame0318.jpg  \n",
            "  inflating: input/seq41/frame0319.jpg  \n",
            "  inflating: input/seq41/frame0320.jpg  \n",
            "  inflating: input/seq41/frame0321.jpg  \n",
            "  inflating: input/seq41/frame0322.jpg  \n",
            "  inflating: input/seq41/frame0323.jpg  \n",
            "  inflating: input/seq41/frame0324.jpg  \n",
            "  inflating: input/seq41/frame0325.jpg  \n",
            "  inflating: input/seq41/frame0326.jpg  \n",
            "  inflating: input/seq41/frame0327.jpg  \n",
            "  inflating: input/seq41/frame0328.jpg  \n",
            "  inflating: input/seq41/frame0329.jpg  \n",
            "  inflating: input/seq41/frame0330.jpg  \n",
            "  inflating: input/seq41/frame0331.jpg  \n",
            "  inflating: input/seq41/frame0332.jpg  \n",
            "  inflating: input/seq41/frame0333.jpg  \n",
            "  inflating: input/seq41/frame0334.jpg  \n",
            "  inflating: input/seq41/frame0335.jpg  \n",
            "  inflating: input/seq41/frame0336.jpg  \n",
            "  inflating: input/seq41/frame0337.jpg  \n",
            "  inflating: input/seq41/frame0338.jpg  \n",
            "  inflating: input/seq41/frame0339.jpg  \n",
            "  inflating: input/seq41/frame0340.jpg  \n",
            "  inflating: input/seq41/frame0341.jpg  \n",
            "  inflating: input/seq41/frame0342.jpg  \n",
            "  inflating: input/seq41/frame0343.jpg  \n",
            "  inflating: input/seq41/frame0344.jpg  \n",
            "  inflating: input/seq41/frame0345.jpg  \n",
            "  inflating: input/seq41/frame0346.jpg  \n",
            "  inflating: input/seq41/frame0347.jpg  \n",
            "  inflating: input/seq41/frame0348.jpg  \n",
            "  inflating: input/seq41/frame0349.jpg  \n",
            "  inflating: input/seq41/frame0350.jpg  \n",
            "  inflating: input/seq41/frame0351.jpg  \n",
            "  inflating: input/seq41/frame0352.jpg  \n",
            "  inflating: input/seq41/frame0353.jpg  \n",
            "  inflating: input/seq41/frame0354.jpg  \n",
            "  inflating: input/seq41/frame0355.jpg  \n",
            "  inflating: input/seq41/frame0356.jpg  \n",
            "  inflating: input/seq41/frame0357.jpg  \n",
            "  inflating: input/seq41/frame0358.jpg  \n",
            "  inflating: input/seq41/frame0359.jpg  \n",
            "  inflating: input/seq41/frame0360.jpg  \n",
            "  inflating: input/seq41/frame0361.jpg  \n",
            "  inflating: input/seq41/frame0362.jpg  \n",
            "  inflating: input/seq41/frame0363.jpg  \n",
            "  inflating: input/seq41/frame0364.jpg  \n",
            "  inflating: input/seq41/frame0365.jpg  \n",
            "  inflating: input/seq41/frame0366.jpg  \n",
            "  inflating: input/seq41/frame0367.jpg  \n",
            "  inflating: input/seq41/frame0368.jpg  \n",
            "  inflating: input/seq41/frame0369.jpg  \n",
            "  inflating: input/seq41/frame0370.jpg  \n",
            "  inflating: input/seq41/frame0371.jpg  \n",
            "  inflating: input/seq41/frame0372.jpg  \n",
            "  inflating: input/seq41/frame0373.jpg  \n",
            "  inflating: input/seq41/frame0374.jpg  \n",
            "  inflating: input/seq41/frame0375.jpg  \n",
            "  inflating: input/seq41/frame0376.jpg  \n",
            "  inflating: input/seq41/frame0377.jpg  \n",
            "  inflating: input/seq41/frame0378.jpg  \n",
            "  inflating: input/seq41/frame0379.jpg  \n",
            "  inflating: input/seq41/frame0380.jpg  \n",
            "  inflating: input/seq41/frame0381.jpg  \n",
            "  inflating: input/seq41/frame0382.jpg  \n",
            "  inflating: input/seq41/frame0383.jpg  \n",
            "  inflating: input/seq41/frame0384.jpg  \n",
            "  inflating: input/seq41/frame0385.jpg  \n",
            "  inflating: input/seq41/frame0386.jpg  \n",
            "  inflating: input/seq41/frame0387.jpg  \n",
            "  inflating: input/seq41/frame0388.jpg  \n",
            "  inflating: input/seq41/frame0389.jpg  \n",
            "  inflating: input/seq41/frame0390.jpg  \n",
            "  inflating: input/seq41/frame0391.jpg  \n",
            "  inflating: input/seq41/frame0392.jpg  \n",
            "  inflating: input/seq41/frame0393.jpg  \n",
            "  inflating: input/seq41/frame0394.jpg  \n",
            "  inflating: input/seq41/frame0395.jpg  \n",
            "  inflating: input/seq41/frame0396.jpg  \n",
            "  inflating: input/seq41/frame0397.jpg  \n",
            "  inflating: input/seq41/frame0398.jpg  \n",
            "  inflating: input/seq41/frame0399.jpg  \n",
            "  inflating: input/seq41/frame0400.jpg  \n",
            "  inflating: input/seq41/frame0401.jpg  \n",
            "  inflating: input/seq41/frame0402.jpg  \n",
            "  inflating: input/seq41/frame0403.jpg  \n",
            "  inflating: input/seq41/frame0404.jpg  \n",
            "  inflating: input/seq41/frame0405.jpg  \n",
            "  inflating: input/seq41/frame0406.jpg  \n",
            "  inflating: input/seq41/frame0407.jpg  \n",
            "  inflating: input/seq41/frame0408.jpg  \n",
            "  inflating: input/seq41/frame0409.jpg  \n",
            "  inflating: input/seq41/frame0410.jpg  \n",
            "  inflating: input/seq41/frame0411.jpg  \n",
            "  inflating: input/seq41/frame0412.jpg  \n",
            "  inflating: input/seq41/frame0413.jpg  \n",
            "  inflating: input/seq41/frame0414.jpg  \n",
            "  inflating: input/seq41/frame0415.jpg  \n",
            "  inflating: input/seq41/frame0416.jpg  \n",
            "  inflating: input/seq41/frame0417.jpg  \n",
            "  inflating: input/seq41/frame0418.jpg  \n",
            "  inflating: input/seq41/frame0419.jpg  \n",
            "  inflating: input/seq41/frame0420.jpg  \n",
            "  inflating: input/seq41/frame0421.jpg  \n",
            "  inflating: input/seq41/frame0422.jpg  \n",
            "  inflating: input/seq41/frame0423.jpg  \n",
            "  inflating: input/seq41/frame0424.jpg  \n",
            "  inflating: input/seq41/frame0425.jpg  \n",
            "  inflating: input/seq41/frame0426.jpg  \n",
            "  inflating: input/seq41/frame0427.jpg  \n",
            "  inflating: input/seq41/frame0428.jpg  \n",
            "  inflating: input/seq41/frame0429.jpg  \n",
            "  inflating: input/seq41/frame0430.jpg  \n",
            "  inflating: input/seq41/frame0431.jpg  \n",
            "  inflating: input/seq41/frame0432.jpg  \n",
            "  inflating: input/seq41/frame0433.jpg  \n",
            "  inflating: input/seq41/frame0434.jpg  \n",
            "  inflating: input/seq41/frame0435.jpg  \n",
            "  inflating: input/seq41/frame0436.jpg  \n",
            "  inflating: input/seq41/frame0437.jpg  \n",
            "  inflating: input/seq41/frame0438.jpg  \n",
            "  inflating: input/seq41/frame0439.jpg  \n",
            "  inflating: input/seq41/frame0440.jpg  \n",
            "  inflating: input/seq41/frame0441.jpg  \n",
            "  inflating: input/seq41/frame0442.jpg  \n",
            "  inflating: input/seq41/frame0443.jpg  \n",
            "  inflating: input/seq41/frame0444.jpg  \n",
            "  inflating: input/seq41/frame0445.jpg  \n",
            "  inflating: input/seq41/frame0446.jpg  \n",
            "  inflating: input/seq41/frame0447.jpg  \n",
            "  inflating: input/seq41/frame0448.jpg  \n",
            "  inflating: input/seq41/frame0449.jpg  \n",
            "  inflating: input/seq41/frame0450.jpg  \n",
            "  inflating: input/seq41/frame0451.jpg  \n",
            "  inflating: input/seq41/frame0452.jpg  \n",
            "  inflating: input/seq41/frame0453.jpg  \n",
            "  inflating: input/seq41/frame0454.jpg  \n",
            "  inflating: input/seq41/frame0455.jpg  \n",
            "  inflating: input/seq41/frame0456.jpg  \n",
            "  inflating: input/seq41/frame0457.jpg  \n",
            "  inflating: input/seq41/frame0458.jpg  \n",
            "  inflating: input/seq41/frame0459.jpg  \n",
            "  inflating: input/seq41/frame0460.jpg  \n",
            "  inflating: input/seq41/frame0461.jpg  \n",
            "  inflating: input/seq41/frame0462.jpg  \n",
            "  inflating: input/seq41/frame0463.jpg  \n",
            "  inflating: input/seq41/frame0464.jpg  \n",
            "  inflating: input/seq41/frame0465.jpg  \n",
            "  inflating: input/seq41/frame0466.jpg  \n",
            "  inflating: input/seq41/frame0467.jpg  \n",
            "  inflating: input/seq41/frame0468.jpg  \n",
            "  inflating: input/seq41/frame0469.jpg  \n",
            "  inflating: input/seq41/frame0470.jpg  \n",
            "  inflating: input/seq41/frame0471.jpg  \n",
            "  inflating: input/seq41/frame0472.jpg  \n",
            "  inflating: input/seq41/frame0473.jpg  \n",
            "  inflating: input/seq41/frame0474.jpg  \n",
            "  inflating: input/seq41/frame0475.jpg  \n",
            "  inflating: input/seq41/frame0476.jpg  \n",
            "  inflating: input/seq41/frame0477.jpg  \n",
            "  inflating: input/seq41/frame0478.jpg  \n",
            "  inflating: input/seq41/frame0479.jpg  \n",
            "  inflating: input/seq41/frame0480.jpg  \n",
            "  inflating: input/seq41/frame0481.jpg  \n",
            "  inflating: input/seq41/frame0482.jpg  \n",
            "  inflating: input/seq41/frame0483.jpg  \n",
            "  inflating: input/seq41/frame0484.jpg  \n",
            "  inflating: input/seq41/frame0485.jpg  \n",
            "  inflating: input/seq41/frame0486.jpg  \n",
            "  inflating: input/seq41/frame0487.jpg  \n",
            "  inflating: input/seq41/frame0488.jpg  \n",
            "  inflating: input/seq41/frame0489.jpg  \n",
            "  inflating: input/seq41/frame0490.jpg  \n",
            "  inflating: input/seq41/frame0491.jpg  \n",
            "  inflating: input/seq41/frame0492.jpg  \n",
            "  inflating: input/seq41/frame0493.jpg  \n",
            "  inflating: input/seq41/frame0494.jpg  \n",
            "  inflating: input/seq41/frame0495.jpg  \n",
            "  inflating: input/seq41/frame0496.jpg  \n",
            "  inflating: input/seq41/frame0497.jpg  \n",
            "  inflating: input/seq41/frame0498.jpg  \n",
            "  inflating: input/seq41/frame0499.jpg  \n",
            "  inflating: input/seq41/frame0500.jpg  \n",
            "  inflating: input/seq41/frame0501.jpg  \n",
            "  inflating: input/seq41/frame0502.jpg  \n",
            "  inflating: input/seq41/frame0503.jpg  \n",
            "  inflating: input/seq41/frame0504.jpg  \n",
            "  inflating: input/seq41/frame0505.jpg  \n",
            "  inflating: input/seq41/frame0506.jpg  \n",
            "  inflating: input/seq41/frame0507.jpg  \n",
            "  inflating: input/seq41/frame0508.jpg  \n",
            "  inflating: input/seq41/frame0509.jpg  \n",
            "  inflating: input/seq41/frame0510.jpg  \n",
            "  inflating: input/seq41/frame0511.jpg  \n",
            "  inflating: input/seq41/frame0512.jpg  \n",
            "  inflating: input/seq41/frame0513.jpg  \n",
            "  inflating: input/seq41/frame0514.jpg  \n",
            "  inflating: input/seq41/frame0515.jpg  \n",
            "  inflating: input/seq41/frame0516.jpg  \n",
            "  inflating: input/seq41/frame0517.jpg  \n",
            "  inflating: input/seq41/frame0518.jpg  \n",
            "  inflating: input/seq41/frame0519.jpg  \n",
            "  inflating: input/seq41/frame0520.jpg  \n",
            "  inflating: input/seq41/frame0521.jpg  \n",
            "  inflating: input/seq41/frame0522.jpg  \n",
            "  inflating: input/seq41/frame0523.jpg  \n",
            "  inflating: input/seq41/frame0524.jpg  \n",
            "  inflating: input/seq41/frame0525.jpg  \n",
            "  inflating: input/seq41/frame0526.jpg  \n",
            "  inflating: input/seq41/frame0527.jpg  \n",
            "  inflating: input/seq41/frame0528.jpg  \n",
            "  inflating: input/seq41/frame0529.jpg  \n",
            "  inflating: input/seq41/frame0530.jpg  \n",
            "  inflating: input/seq41/frame0531.jpg  \n",
            "  inflating: input/seq41/frame0532.jpg  \n",
            "  inflating: input/seq41/frame0533.jpg  \n",
            "  inflating: input/seq41/frame0534.jpg  \n",
            "  inflating: input/seq41/frame0535.jpg  \n",
            "  inflating: input/seq41/frame0536.jpg  \n",
            "  inflating: input/seq41/frame0537.jpg  \n",
            "  inflating: input/seq41/frame0538.jpg  \n",
            "  inflating: input/seq41/frame0539.jpg  \n",
            "  inflating: input/seq41/frame0540.jpg  \n",
            "  inflating: input/seq41/frame0541.jpg  \n",
            "  inflating: input/seq41/frame0542.jpg  \n",
            "  inflating: input/seq41/frame0543.jpg  \n",
            "  inflating: input/seq41/frame0544.jpg  \n",
            "  inflating: input/seq41/frame0545.jpg  \n",
            "  inflating: input/seq41/frame0546.jpg  \n",
            "  inflating: input/seq41/frame0547.jpg  \n",
            "  inflating: input/seq41/frame0548.jpg  \n",
            "  inflating: input/seq41/frame0549.jpg  \n",
            "  inflating: input/seq41/frame0550.jpg  \n",
            "  inflating: input/seq41/frame0551.jpg  \n",
            "  inflating: input/seq41/frame0552.jpg  \n",
            "  inflating: input/seq41/frame0553.jpg  \n",
            "  inflating: input/seq41/frame0554.jpg  \n",
            "  inflating: input/seq41/frame0555.jpg  \n",
            "  inflating: input/seq41/frame0556.jpg  \n",
            "  inflating: input/seq41/frame0557.jpg  \n",
            "  inflating: input/seq41/frame0558.jpg  \n",
            "  inflating: input/seq41/frame0559.jpg  \n",
            "  inflating: input/seq41/frame0560.jpg  \n",
            "  inflating: input/seq41/frame0561.jpg  \n",
            "  inflating: input/seq41/frame0562.jpg  \n",
            "  inflating: input/seq41/frame0563.jpg  \n",
            "  inflating: input/seq41/frame0564.jpg  \n",
            "  inflating: input/seq41/frame0565.jpg  \n",
            "  inflating: input/seq41/frame0566.jpg  \n",
            "  inflating: input/seq41/frame0567.jpg  \n",
            "  inflating: input/seq41/frame0568.jpg  \n",
            "  inflating: input/seq41/frame0569.jpg  \n",
            "  inflating: input/seq41/frame0570.jpg  \n",
            "  inflating: input/seq41/frame0571.jpg  \n",
            "  inflating: input/seq41/frame0572.jpg  \n",
            "  inflating: input/seq41/frame0573.jpg  \n",
            "  inflating: input/seq41/frame0574.jpg  \n",
            "  inflating: input/seq41/frame0575.jpg  \n",
            "  inflating: input/seq41/frame0576.jpg  \n",
            "  inflating: input/seq41/frame0577.jpg  \n",
            "  inflating: input/seq41/frame0578.jpg  \n",
            "  inflating: input/seq41/frame0579.jpg  \n",
            "  inflating: input/seq41/frame0580.jpg  \n",
            "  inflating: input/seq41/frame0581.jpg  \n",
            "  inflating: input/seq41/frame0582.jpg  \n",
            "  inflating: input/seq41/frame0583.jpg  \n",
            "  inflating: input/seq41/frame0584.jpg  \n",
            "  inflating: input/seq41/frame0585.jpg  \n",
            "  inflating: input/seq41/frame0586.jpg  \n",
            "  inflating: input/seq41/frame0587.jpg  \n",
            "  inflating: input/seq41/frame0588.jpg  \n",
            "  inflating: input/seq41/frame0589.jpg  \n",
            "  inflating: input/seq41/frame0590.jpg  \n",
            "  inflating: input/seq41/frame0591.jpg  \n",
            "  inflating: input/seq41/frame0592.jpg  \n",
            "  inflating: input/seq41/frame0593.jpg  \n",
            "  inflating: input/seq41/frame0594.jpg  \n",
            "  inflating: input/seq41/frame0595.jpg  \n",
            "  inflating: input/seq41/frame0596.jpg  \n",
            "  inflating: input/seq41/frame0597.jpg  \n",
            "  inflating: input/seq41/frame0598.jpg  \n",
            "  inflating: input/seq41/frame0599.jpg  \n",
            "  inflating: input/seq41/frame0600.jpg  \n",
            "  inflating: input/seq41/frame0601.jpg  \n",
            "  inflating: input/seq41/frame0602.jpg  \n",
            "  inflating: input/seq41/frame0603.jpg  \n",
            "  inflating: input/seq41/frame0604.jpg  \n",
            "  inflating: input/seq41/frame0605.jpg  \n",
            "  inflating: input/seq41/frame0606.jpg  \n",
            "  inflating: input/seq41/frame0607.jpg  \n",
            "  inflating: input/seq41/frame0608.jpg  \n",
            "  inflating: input/seq41/frame0609.jpg  \n",
            "  inflating: input/seq41/frame0610.jpg  \n",
            "  inflating: input/seq41/frame0611.jpg  \n",
            "  inflating: input/seq41/frame0612.jpg  \n",
            "  inflating: input/seq41/frame0613.jpg  \n",
            "  inflating: input/seq41/frame0614.jpg  \n",
            "  inflating: input/seq41/frame0615.jpg  \n",
            "  inflating: input/seq41/frame0616.jpg  \n",
            "  inflating: input/seq41/frame0617.jpg  \n",
            "  inflating: input/seq41/frame0618.jpg  \n",
            "  inflating: input/seq41/frame0619.jpg  \n",
            "  inflating: input/seq41/frame0620.jpg  \n",
            "  inflating: input/seq41/frame0621.jpg  \n",
            "  inflating: input/seq41/frame0622.jpg  \n",
            "  inflating: input/seq41/frame0623.jpg  \n",
            "  inflating: input/seq41/frame0624.jpg  \n",
            "  inflating: input/seq41/frame0625.jpg  \n",
            "  inflating: input/seq41/frame0626.jpg  \n",
            "  inflating: input/seq41/frame0627.jpg  \n",
            "  inflating: input/seq41/frame0628.jpg  \n",
            "  inflating: input/seq41/frame0629.jpg  \n",
            "  inflating: input/seq41/frame0630.jpg  \n",
            "  inflating: input/seq41/frame0631.jpg  \n",
            "  inflating: input/seq41/frame0632.jpg  \n",
            "  inflating: input/seq41/frame0633.jpg  \n",
            "  inflating: input/seq41/frame0634.jpg  \n",
            "  inflating: input/seq41/frame0635.jpg  \n",
            "  inflating: input/seq41/frame0636.jpg  \n",
            "  inflating: input/seq41/frame0637.jpg  \n",
            "  inflating: input/seq41/frame0638.jpg  \n",
            "  inflating: input/seq41/frame0639.jpg  \n",
            "  inflating: input/seq41/frame0640.jpg  \n",
            "  inflating: input/seq41/frame0641.jpg  \n",
            "  inflating: input/seq41/frame0642.jpg  \n",
            "  inflating: input/seq41/frame0643.jpg  \n",
            "  inflating: input/seq41/frame0644.jpg  \n",
            "  inflating: input/seq41/frame0645.jpg  \n",
            "  inflating: input/seq41/frame0646.jpg  \n",
            "  inflating: input/seq41/frame0647.jpg  \n",
            "  inflating: input/seq41/frame0648.jpg  \n",
            "  inflating: input/seq41/frame0649.jpg  \n",
            "  inflating: input/seq41/frame0650.jpg  \n",
            "  inflating: input/seq41/frame0651.jpg  \n",
            "  inflating: input/seq41/frame0652.jpg  \n",
            "  inflating: input/seq41/frame0653.jpg  \n",
            "  inflating: input/seq41/frame0654.jpg  \n",
            "  inflating: input/seq41/frame0655.jpg  \n",
            "  inflating: input/seq41/frame0656.jpg  \n",
            "  inflating: input/seq41/frame0657.jpg  \n",
            "  inflating: input/seq41/frame0658.jpg  \n",
            "  inflating: input/seq41/frame0659.jpg  \n",
            "  inflating: input/seq41/frame0660.jpg  \n",
            "  inflating: input/seq41/frame0661.jpg  \n",
            "  inflating: input/seq41/frame0662.jpg  \n",
            "  inflating: input/seq41/frame0663.jpg  \n",
            "  inflating: input/seq41/frame0664.jpg  \n",
            "  inflating: input/seq41/frame0665.jpg  \n",
            "  inflating: input/seq41/frame0666.jpg  \n",
            "  inflating: input/seq41/frame0667.jpg  \n",
            "  inflating: input/seq41/frame0668.jpg  \n",
            "  inflating: input/seq41/frame0669.jpg  \n",
            "  inflating: input/seq41/frame0670.jpg  \n",
            "  inflating: input/seq41/frame0671.jpg  \n",
            "  inflating: input/seq41/frame0672.jpg  \n",
            "  inflating: input/seq41/frame0673.jpg  \n",
            "  inflating: input/seq41/frame0674.jpg  \n",
            "  inflating: input/seq41/frame0675.jpg  \n",
            "  inflating: input/seq41/frame0676.jpg  \n",
            "  inflating: input/seq41/frame0677.jpg  \n",
            "  inflating: input/seq41/frame0678.jpg  \n",
            "  inflating: input/seq41/frame0679.jpg  \n",
            "  inflating: input/seq41/frame0680.jpg  \n",
            "  inflating: input/seq41/frame0681.jpg  \n",
            "  inflating: input/seq41/frame0682.jpg  \n",
            "  inflating: input/seq41/frame0683.jpg  \n",
            "  inflating: input/seq41/frame0684.jpg  \n",
            "  inflating: input/seq41/frame0685.jpg  \n",
            "  inflating: input/seq41/frame0686.jpg  \n",
            "  inflating: input/seq41/frame0687.jpg  \n",
            "  inflating: input/seq41/frame0688.jpg  \n",
            "  inflating: input/seq41/frame0689.jpg  \n",
            "  inflating: input/seq41/frame0690.jpg  \n",
            "  inflating: input/seq41/frame0691.jpg  \n",
            "  inflating: input/seq41/frame0692.jpg  \n",
            "  inflating: input/seq41/frame0693.jpg  \n",
            "  inflating: input/seq41/frame0694.jpg  \n",
            "  inflating: input/seq41/frame0695.jpg  \n",
            "  inflating: input/seq41/frame0696.jpg  \n",
            "  inflating: input/seq41/frame0697.jpg  \n",
            "  inflating: input/seq41/frame0698.jpg  \n",
            "  inflating: input/seq41/frame0699.jpg  \n",
            "  inflating: input/seq41/frame0700.jpg  \n",
            "  inflating: input/seq41/frame0701.jpg  \n",
            "  inflating: input/seq41/frame0702.jpg  \n",
            "  inflating: input/seq41/frame0703.jpg  \n",
            "  inflating: input/seq41/frame0704.jpg  \n",
            "  inflating: input/seq41/frame0705.jpg  \n",
            "  inflating: input/seq41/frame0706.jpg  \n",
            "  inflating: input/seq41/frame0707.jpg  \n",
            "  inflating: input/seq42/annotations.txt  \n",
            "  inflating: input/seq42/frame0001.jpg  \n",
            "  inflating: input/seq42/frame0002.jpg  \n",
            "  inflating: input/seq42/frame0003.jpg  \n",
            "  inflating: input/seq42/frame0004.jpg  \n",
            "  inflating: input/seq42/frame0005.jpg  \n",
            "  inflating: input/seq42/frame0006.jpg  \n",
            "  inflating: input/seq42/frame0007.jpg  \n",
            "  inflating: input/seq42/frame0008.jpg  \n",
            "  inflating: input/seq42/frame0009.jpg  \n",
            "  inflating: input/seq42/frame0010.jpg  \n",
            "  inflating: input/seq42/frame0011.jpg  \n",
            "  inflating: input/seq42/frame0012.jpg  \n",
            "  inflating: input/seq42/frame0013.jpg  \n",
            "  inflating: input/seq42/frame0014.jpg  \n",
            "  inflating: input/seq42/frame0015.jpg  \n",
            "  inflating: input/seq42/frame0016.jpg  \n",
            "  inflating: input/seq42/frame0017.jpg  \n",
            "  inflating: input/seq42/frame0018.jpg  \n",
            "  inflating: input/seq42/frame0019.jpg  \n",
            "  inflating: input/seq42/frame0020.jpg  \n",
            "  inflating: input/seq42/frame0021.jpg  \n",
            "  inflating: input/seq42/frame0022.jpg  \n",
            "  inflating: input/seq42/frame0023.jpg  \n",
            "  inflating: input/seq42/frame0024.jpg  \n",
            "  inflating: input/seq42/frame0025.jpg  \n",
            "  inflating: input/seq42/frame0026.jpg  \n",
            "  inflating: input/seq42/frame0027.jpg  \n",
            "  inflating: input/seq42/frame0028.jpg  \n",
            "  inflating: input/seq42/frame0029.jpg  \n",
            "  inflating: input/seq42/frame0030.jpg  \n",
            "  inflating: input/seq42/frame0031.jpg  \n",
            "  inflating: input/seq42/frame0032.jpg  \n",
            "  inflating: input/seq42/frame0033.jpg  \n",
            "  inflating: input/seq42/frame0034.jpg  \n",
            "  inflating: input/seq42/frame0035.jpg  \n",
            "  inflating: input/seq42/frame0036.jpg  \n",
            "  inflating: input/seq42/frame0037.jpg  \n",
            "  inflating: input/seq42/frame0038.jpg  \n",
            "  inflating: input/seq42/frame0039.jpg  \n",
            "  inflating: input/seq42/frame0040.jpg  \n",
            "  inflating: input/seq42/frame0041.jpg  \n",
            "  inflating: input/seq42/frame0042.jpg  \n",
            "  inflating: input/seq42/frame0043.jpg  \n",
            "  inflating: input/seq42/frame0044.jpg  \n",
            "  inflating: input/seq42/frame0045.jpg  \n",
            "  inflating: input/seq42/frame0046.jpg  \n",
            "  inflating: input/seq42/frame0047.jpg  \n",
            "  inflating: input/seq42/frame0048.jpg  \n",
            "  inflating: input/seq42/frame0049.jpg  \n",
            "  inflating: input/seq42/frame0050.jpg  \n",
            "  inflating: input/seq42/frame0051.jpg  \n",
            "  inflating: input/seq42/frame0052.jpg  \n",
            "  inflating: input/seq42/frame0053.jpg  \n",
            "  inflating: input/seq42/frame0054.jpg  \n",
            "  inflating: input/seq42/frame0055.jpg  \n",
            "  inflating: input/seq42/frame0056.jpg  \n",
            "  inflating: input/seq42/frame0057.jpg  \n",
            "  inflating: input/seq42/frame0058.jpg  \n",
            "  inflating: input/seq42/frame0059.jpg  \n",
            "  inflating: input/seq42/frame0060.jpg  \n",
            "  inflating: input/seq42/frame0061.jpg  \n",
            "  inflating: input/seq42/frame0062.jpg  \n",
            "  inflating: input/seq42/frame0063.jpg  \n",
            "  inflating: input/seq42/frame0064.jpg  \n",
            "  inflating: input/seq42/frame0065.jpg  \n",
            "  inflating: input/seq42/frame0066.jpg  \n",
            "  inflating: input/seq42/frame0067.jpg  \n",
            "  inflating: input/seq42/frame0068.jpg  \n",
            "  inflating: input/seq42/frame0069.jpg  \n",
            "  inflating: input/seq42/frame0070.jpg  \n",
            "  inflating: input/seq42/frame0071.jpg  \n",
            "  inflating: input/seq42/frame0072.jpg  \n",
            "  inflating: input/seq42/frame0073.jpg  \n",
            "  inflating: input/seq42/frame0074.jpg  \n",
            "  inflating: input/seq42/frame0075.jpg  \n",
            "  inflating: input/seq42/frame0076.jpg  \n",
            "  inflating: input/seq42/frame0077.jpg  \n",
            "  inflating: input/seq42/frame0078.jpg  \n",
            "  inflating: input/seq42/frame0079.jpg  \n",
            "  inflating: input/seq42/frame0080.jpg  \n",
            "  inflating: input/seq42/frame0081.jpg  \n",
            "  inflating: input/seq42/frame0082.jpg  \n",
            "  inflating: input/seq42/frame0083.jpg  \n",
            "  inflating: input/seq42/frame0084.jpg  \n",
            "  inflating: input/seq42/frame0085.jpg  \n",
            "  inflating: input/seq42/frame0086.jpg  \n",
            "  inflating: input/seq42/frame0087.jpg  \n",
            "  inflating: input/seq42/frame0088.jpg  \n",
            "  inflating: input/seq42/frame0089.jpg  \n",
            "  inflating: input/seq42/frame0090.jpg  \n",
            "  inflating: input/seq42/frame0091.jpg  \n",
            "  inflating: input/seq42/frame0092.jpg  \n",
            "  inflating: input/seq42/frame0093.jpg  \n",
            "  inflating: input/seq42/frame0094.jpg  \n",
            "  inflating: input/seq42/frame0095.jpg  \n",
            "  inflating: input/seq42/frame0096.jpg  \n",
            "  inflating: input/seq42/frame0097.jpg  \n",
            "  inflating: input/seq42/frame0098.jpg  \n",
            "  inflating: input/seq42/frame0099.jpg  \n",
            "  inflating: input/seq42/frame0100.jpg  \n",
            "  inflating: input/seq42/frame0101.jpg  \n",
            "  inflating: input/seq42/frame0102.jpg  \n",
            "  inflating: input/seq42/frame0103.jpg  \n",
            "  inflating: input/seq42/frame0104.jpg  \n",
            "  inflating: input/seq42/frame0105.jpg  \n",
            "  inflating: input/seq42/frame0106.jpg  \n",
            "  inflating: input/seq42/frame0107.jpg  \n",
            "  inflating: input/seq42/frame0108.jpg  \n",
            "  inflating: input/seq42/frame0109.jpg  \n",
            "  inflating: input/seq42/frame0110.jpg  \n",
            "  inflating: input/seq42/frame0111.jpg  \n",
            "  inflating: input/seq42/frame0112.jpg  \n",
            "  inflating: input/seq42/frame0113.jpg  \n",
            "  inflating: input/seq42/frame0114.jpg  \n",
            "  inflating: input/seq42/frame0115.jpg  \n",
            "  inflating: input/seq42/frame0116.jpg  \n",
            "  inflating: input/seq42/frame0117.jpg  \n",
            "  inflating: input/seq42/frame0118.jpg  \n",
            "  inflating: input/seq42/frame0119.jpg  \n",
            "  inflating: input/seq42/frame0120.jpg  \n",
            "  inflating: input/seq42/frame0121.jpg  \n",
            "  inflating: input/seq42/frame0122.jpg  \n",
            "  inflating: input/seq42/frame0123.jpg  \n",
            "  inflating: input/seq42/frame0124.jpg  \n",
            "  inflating: input/seq42/frame0125.jpg  \n",
            "  inflating: input/seq42/frame0126.jpg  \n",
            "  inflating: input/seq42/frame0127.jpg  \n",
            "  inflating: input/seq42/frame0128.jpg  \n",
            "  inflating: input/seq42/frame0129.jpg  \n",
            "  inflating: input/seq42/frame0130.jpg  \n",
            "  inflating: input/seq42/frame0131.jpg  \n",
            "  inflating: input/seq42/frame0132.jpg  \n",
            "  inflating: input/seq42/frame0133.jpg  \n",
            "  inflating: input/seq42/frame0134.jpg  \n",
            "  inflating: input/seq42/frame0135.jpg  \n",
            "  inflating: input/seq42/frame0136.jpg  \n",
            "  inflating: input/seq42/frame0137.jpg  \n",
            "  inflating: input/seq42/frame0138.jpg  \n",
            "  inflating: input/seq42/frame0139.jpg  \n",
            "  inflating: input/seq42/frame0140.jpg  \n",
            "  inflating: input/seq42/frame0141.jpg  \n",
            "  inflating: input/seq42/frame0142.jpg  \n",
            "  inflating: input/seq42/frame0143.jpg  \n",
            "  inflating: input/seq42/frame0144.jpg  \n",
            "  inflating: input/seq42/frame0145.jpg  \n",
            "  inflating: input/seq42/frame0146.jpg  \n",
            "  inflating: input/seq42/frame0147.jpg  \n",
            "  inflating: input/seq42/frame0148.jpg  \n",
            "  inflating: input/seq42/frame0149.jpg  \n",
            "  inflating: input/seq42/frame0150.jpg  \n",
            "  inflating: input/seq42/frame0151.jpg  \n",
            "  inflating: input/seq42/frame0152.jpg  \n",
            "  inflating: input/seq42/frame0153.jpg  \n",
            "  inflating: input/seq42/frame0154.jpg  \n",
            "  inflating: input/seq42/frame0155.jpg  \n",
            "  inflating: input/seq42/frame0156.jpg  \n",
            "  inflating: input/seq42/frame0157.jpg  \n",
            "  inflating: input/seq42/frame0158.jpg  \n",
            "  inflating: input/seq42/frame0159.jpg  \n",
            "  inflating: input/seq42/frame0160.jpg  \n",
            "  inflating: input/seq42/frame0161.jpg  \n",
            "  inflating: input/seq42/frame0162.jpg  \n",
            "  inflating: input/seq42/frame0163.jpg  \n",
            "  inflating: input/seq42/frame0164.jpg  \n",
            "  inflating: input/seq42/frame0165.jpg  \n",
            "  inflating: input/seq42/frame0166.jpg  \n",
            "  inflating: input/seq42/frame0167.jpg  \n",
            "  inflating: input/seq42/frame0168.jpg  \n",
            "  inflating: input/seq42/frame0169.jpg  \n",
            "  inflating: input/seq42/frame0170.jpg  \n",
            "  inflating: input/seq42/frame0171.jpg  \n",
            "  inflating: input/seq42/frame0172.jpg  \n",
            "  inflating: input/seq42/frame0173.jpg  \n",
            "  inflating: input/seq42/frame0174.jpg  \n",
            "  inflating: input/seq42/frame0175.jpg  \n",
            "  inflating: input/seq42/frame0176.jpg  \n",
            "  inflating: input/seq42/frame0177.jpg  \n",
            "  inflating: input/seq42/frame0178.jpg  \n",
            "  inflating: input/seq42/frame0179.jpg  \n",
            "  inflating: input/seq42/frame0180.jpg  \n",
            "  inflating: input/seq42/frame0181.jpg  \n",
            "  inflating: input/seq42/frame0182.jpg  \n",
            "  inflating: input/seq42/frame0183.jpg  \n",
            "  inflating: input/seq42/frame0184.jpg  \n",
            "  inflating: input/seq42/frame0185.jpg  \n",
            "  inflating: input/seq42/frame0186.jpg  \n",
            "  inflating: input/seq42/frame0187.jpg  \n",
            "  inflating: input/seq42/frame0188.jpg  \n",
            "  inflating: input/seq42/frame0189.jpg  \n",
            "  inflating: input/seq42/frame0190.jpg  \n",
            "  inflating: input/seq42/frame0191.jpg  \n",
            "  inflating: input/seq42/frame0192.jpg  \n",
            "  inflating: input/seq42/frame0193.jpg  \n",
            "  inflating: input/seq42/frame0194.jpg  \n",
            "  inflating: input/seq42/frame0195.jpg  \n",
            "  inflating: input/seq42/frame0196.jpg  \n",
            "  inflating: input/seq42/frame0197.jpg  \n",
            "  inflating: input/seq42/frame0198.jpg  \n",
            "  inflating: input/seq42/frame0199.jpg  \n",
            "  inflating: input/seq42/frame0200.jpg  \n",
            "  inflating: input/seq42/frame0201.jpg  \n",
            "  inflating: input/seq42/frame0202.jpg  \n",
            "  inflating: input/seq42/frame0203.jpg  \n",
            "  inflating: input/seq42/frame0204.jpg  \n",
            "  inflating: input/seq42/frame0205.jpg  \n",
            "  inflating: input/seq42/frame0206.jpg  \n",
            "  inflating: input/seq42/frame0207.jpg  \n",
            "  inflating: input/seq42/frame0208.jpg  \n",
            "  inflating: input/seq42/frame0209.jpg  \n",
            "  inflating: input/seq42/frame0210.jpg  \n",
            "  inflating: input/seq42/frame0211.jpg  \n",
            "  inflating: input/seq42/frame0212.jpg  \n",
            "  inflating: input/seq42/frame0213.jpg  \n",
            "  inflating: input/seq42/frame0214.jpg  \n",
            "  inflating: input/seq42/frame0215.jpg  \n",
            "  inflating: input/seq42/frame0216.jpg  \n",
            "  inflating: input/seq42/frame0217.jpg  \n",
            "  inflating: input/seq42/frame0218.jpg  \n",
            "  inflating: input/seq42/frame0219.jpg  \n",
            "  inflating: input/seq42/frame0220.jpg  \n",
            "  inflating: input/seq42/frame0221.jpg  \n",
            "  inflating: input/seq42/frame0222.jpg  \n",
            "  inflating: input/seq42/frame0223.jpg  \n",
            "  inflating: input/seq42/frame0224.jpg  \n",
            "  inflating: input/seq42/frame0225.jpg  \n",
            "  inflating: input/seq42/frame0226.jpg  \n",
            "  inflating: input/seq42/frame0227.jpg  \n",
            "  inflating: input/seq42/frame0228.jpg  \n",
            "  inflating: input/seq42/frame0229.jpg  \n",
            "  inflating: input/seq42/frame0230.jpg  \n",
            "  inflating: input/seq42/frame0231.jpg  \n",
            "  inflating: input/seq42/frame0232.jpg  \n",
            "  inflating: input/seq42/frame0233.jpg  \n",
            "  inflating: input/seq42/frame0234.jpg  \n",
            "  inflating: input/seq42/frame0235.jpg  \n",
            "  inflating: input/seq42/frame0236.jpg  \n",
            "  inflating: input/seq42/frame0237.jpg  \n",
            "  inflating: input/seq42/frame0238.jpg  \n",
            "  inflating: input/seq42/frame0239.jpg  \n",
            "  inflating: input/seq42/frame0240.jpg  \n",
            "  inflating: input/seq42/frame0241.jpg  \n",
            "  inflating: input/seq42/frame0242.jpg  \n",
            "  inflating: input/seq42/frame0243.jpg  \n",
            "  inflating: input/seq42/frame0244.jpg  \n",
            "  inflating: input/seq42/frame0245.jpg  \n",
            "  inflating: input/seq42/frame0246.jpg  \n",
            "  inflating: input/seq42/frame0247.jpg  \n",
            "  inflating: input/seq42/frame0248.jpg  \n",
            "  inflating: input/seq42/frame0249.jpg  \n",
            "  inflating: input/seq42/frame0250.jpg  \n",
            "  inflating: input/seq42/frame0251.jpg  \n",
            "  inflating: input/seq42/frame0252.jpg  \n",
            "  inflating: input/seq42/frame0253.jpg  \n",
            "  inflating: input/seq42/frame0254.jpg  \n",
            "  inflating: input/seq42/frame0255.jpg  \n",
            "  inflating: input/seq42/frame0256.jpg  \n",
            "  inflating: input/seq42/frame0257.jpg  \n",
            "  inflating: input/seq42/frame0258.jpg  \n",
            "  inflating: input/seq42/frame0259.jpg  \n",
            "  inflating: input/seq42/frame0260.jpg  \n",
            "  inflating: input/seq42/frame0261.jpg  \n",
            "  inflating: input/seq42/frame0262.jpg  \n",
            "  inflating: input/seq42/frame0263.jpg  \n",
            "  inflating: input/seq42/frame0264.jpg  \n",
            "  inflating: input/seq42/frame0265.jpg  \n",
            "  inflating: input/seq42/frame0266.jpg  \n",
            "  inflating: input/seq42/frame0267.jpg  \n",
            "  inflating: input/seq42/frame0268.jpg  \n",
            "  inflating: input/seq42/frame0269.jpg  \n",
            "  inflating: input/seq42/frame0270.jpg  \n",
            "  inflating: input/seq42/frame0271.jpg  \n",
            "  inflating: input/seq42/frame0272.jpg  \n",
            "  inflating: input/seq42/frame0273.jpg  \n",
            "  inflating: input/seq42/frame0274.jpg  \n",
            "  inflating: input/seq42/frame0275.jpg  \n",
            "  inflating: input/seq42/frame0276.jpg  \n",
            "  inflating: input/seq42/frame0277.jpg  \n",
            "  inflating: input/seq42/frame0278.jpg  \n",
            "  inflating: input/seq42/frame0279.jpg  \n",
            "  inflating: input/seq42/frame0280.jpg  \n",
            "  inflating: input/seq42/frame0281.jpg  \n",
            "  inflating: input/seq42/frame0282.jpg  \n",
            "  inflating: input/seq42/frame0283.jpg  \n",
            "  inflating: input/seq42/frame0284.jpg  \n",
            "  inflating: input/seq42/frame0285.jpg  \n",
            "  inflating: input/seq42/frame0286.jpg  \n",
            "  inflating: input/seq42/frame0287.jpg  \n",
            "  inflating: input/seq42/frame0288.jpg  \n",
            "  inflating: input/seq42/frame0289.jpg  \n",
            "  inflating: input/seq42/frame0290.jpg  \n",
            "  inflating: input/seq42/frame0291.jpg  \n",
            "  inflating: input/seq42/frame0292.jpg  \n",
            "  inflating: input/seq42/frame0293.jpg  \n",
            "  inflating: input/seq42/frame0294.jpg  \n",
            "  inflating: input/seq42/frame0295.jpg  \n",
            "  inflating: input/seq42/frame0296.jpg  \n",
            "  inflating: input/seq42/frame0297.jpg  \n",
            "  inflating: input/seq42/frame0298.jpg  \n",
            "  inflating: input/seq42/frame0299.jpg  \n",
            "  inflating: input/seq42/frame0300.jpg  \n",
            "  inflating: input/seq42/frame0301.jpg  \n",
            "  inflating: input/seq42/frame0302.jpg  \n",
            "  inflating: input/seq42/frame0303.jpg  \n",
            "  inflating: input/seq42/frame0304.jpg  \n",
            "  inflating: input/seq42/frame0305.jpg  \n",
            "  inflating: input/seq42/frame0306.jpg  \n",
            "  inflating: input/seq42/frame0307.jpg  \n",
            "  inflating: input/seq42/frame0308.jpg  \n",
            "  inflating: input/seq42/frame0309.jpg  \n",
            "  inflating: input/seq42/frame0310.jpg  \n",
            "  inflating: input/seq42/frame0311.jpg  \n",
            "  inflating: input/seq42/frame0312.jpg  \n",
            "  inflating: input/seq42/frame0313.jpg  \n",
            "  inflating: input/seq42/frame0314.jpg  \n",
            "  inflating: input/seq42/frame0315.jpg  \n",
            "  inflating: input/seq42/frame0316.jpg  \n",
            "  inflating: input/seq42/frame0317.jpg  \n",
            "  inflating: input/seq42/frame0318.jpg  \n",
            "  inflating: input/seq42/frame0319.jpg  \n",
            "  inflating: input/seq42/frame0320.jpg  \n",
            "  inflating: input/seq42/frame0321.jpg  \n",
            "  inflating: input/seq42/frame0322.jpg  \n",
            "  inflating: input/seq42/frame0323.jpg  \n",
            "  inflating: input/seq42/frame0324.jpg  \n",
            "  inflating: input/seq42/frame0325.jpg  \n",
            "  inflating: input/seq42/frame0326.jpg  \n",
            "  inflating: input/seq42/frame0327.jpg  \n",
            "  inflating: input/seq42/frame0328.jpg  \n",
            "  inflating: input/seq42/frame0329.jpg  \n",
            "  inflating: input/seq42/frame0330.jpg  \n",
            "  inflating: input/seq42/frame0331.jpg  \n",
            "  inflating: input/seq42/frame0332.jpg  \n",
            "  inflating: input/seq42/frame0333.jpg  \n",
            "  inflating: input/seq42/frame0334.jpg  \n",
            "  inflating: input/seq42/frame0335.jpg  \n",
            "  inflating: input/seq42/frame0336.jpg  \n",
            "  inflating: input/seq42/frame0337.jpg  \n",
            "  inflating: input/seq42/frame0338.jpg  \n",
            "  inflating: input/seq42/frame0339.jpg  \n",
            "  inflating: input/seq42/frame0340.jpg  \n",
            "  inflating: input/seq42/frame0341.jpg  \n",
            "  inflating: input/seq42/frame0342.jpg  \n",
            "  inflating: input/seq42/frame0343.jpg  \n",
            "  inflating: input/seq42/frame0344.jpg  \n",
            "  inflating: input/seq42/frame0345.jpg  \n",
            "  inflating: input/seq42/frame0346.jpg  \n",
            "  inflating: input/seq42/frame0347.jpg  \n",
            "  inflating: input/seq42/frame0348.jpg  \n",
            "  inflating: input/seq42/frame0349.jpg  \n",
            "  inflating: input/seq42/frame0350.jpg  \n",
            "  inflating: input/seq42/frame0351.jpg  \n",
            "  inflating: input/seq42/frame0352.jpg  \n",
            "  inflating: input/seq42/frame0353.jpg  \n",
            "  inflating: input/seq42/frame0354.jpg  \n",
            "  inflating: input/seq42/frame0355.jpg  \n",
            "  inflating: input/seq42/frame0356.jpg  \n",
            "  inflating: input/seq42/frame0357.jpg  \n",
            "  inflating: input/seq42/frame0358.jpg  \n",
            "  inflating: input/seq42/frame0359.jpg  \n",
            "  inflating: input/seq42/frame0360.jpg  \n",
            "  inflating: input/seq42/frame0361.jpg  \n",
            "  inflating: input/seq42/frame0362.jpg  \n",
            "  inflating: input/seq42/frame0363.jpg  \n",
            "  inflating: input/seq42/frame0364.jpg  \n",
            "  inflating: input/seq42/frame0365.jpg  \n",
            "  inflating: input/seq42/frame0366.jpg  \n",
            "  inflating: input/seq42/frame0367.jpg  \n",
            "  inflating: input/seq42/frame0368.jpg  \n",
            "  inflating: input/seq42/frame0369.jpg  \n",
            "  inflating: input/seq42/frame0370.jpg  \n",
            "  inflating: input/seq42/frame0371.jpg  \n",
            "  inflating: input/seq42/frame0372.jpg  \n",
            "  inflating: input/seq42/frame0373.jpg  \n",
            "  inflating: input/seq42/frame0374.jpg  \n",
            "  inflating: input/seq42/frame0375.jpg  \n",
            "  inflating: input/seq42/frame0376.jpg  \n",
            "  inflating: input/seq42/frame0377.jpg  \n",
            "  inflating: input/seq42/frame0378.jpg  \n",
            "  inflating: input/seq42/frame0379.jpg  \n",
            "  inflating: input/seq42/frame0380.jpg  \n",
            "  inflating: input/seq42/frame0381.jpg  \n",
            "  inflating: input/seq42/frame0382.jpg  \n",
            "  inflating: input/seq42/frame0383.jpg  \n",
            "  inflating: input/seq42/frame0384.jpg  \n",
            "  inflating: input/seq42/frame0385.jpg  \n",
            "  inflating: input/seq42/frame0386.jpg  \n",
            "  inflating: input/seq42/frame0387.jpg  \n",
            "  inflating: input/seq42/frame0388.jpg  \n",
            "  inflating: input/seq42/frame0389.jpg  \n",
            "  inflating: input/seq42/frame0390.jpg  \n",
            "  inflating: input/seq42/frame0391.jpg  \n",
            "  inflating: input/seq42/frame0392.jpg  \n",
            "  inflating: input/seq42/frame0393.jpg  \n",
            "  inflating: input/seq42/frame0394.jpg  \n",
            "  inflating: input/seq42/frame0395.jpg  \n",
            "  inflating: input/seq42/frame0396.jpg  \n",
            "  inflating: input/seq42/frame0397.jpg  \n",
            "  inflating: input/seq42/frame0398.jpg  \n",
            "  inflating: input/seq42/frame0399.jpg  \n",
            "  inflating: input/seq42/frame0400.jpg  \n",
            "  inflating: input/seq42/frame0401.jpg  \n",
            "  inflating: input/seq42/frame0402.jpg  \n",
            "  inflating: input/seq42/frame0403.jpg  \n",
            "  inflating: input/seq42/frame0404.jpg  \n",
            "  inflating: input/seq42/frame0405.jpg  \n",
            "  inflating: input/seq42/frame0406.jpg  \n",
            "  inflating: input/seq42/frame0407.jpg  \n",
            "  inflating: input/seq42/frame0408.jpg  \n",
            "  inflating: input/seq42/frame0409.jpg  \n",
            "  inflating: input/seq42/frame0410.jpg  \n",
            "  inflating: input/seq42/frame0411.jpg  \n",
            "  inflating: input/seq42/frame0412.jpg  \n",
            "  inflating: input/seq42/frame0413.jpg  \n",
            "  inflating: input/seq42/frame0414.jpg  \n",
            "  inflating: input/seq42/frame0415.jpg  \n",
            "  inflating: input/seq42/frame0416.jpg  \n",
            "  inflating: input/seq42/frame0417.jpg  \n",
            "  inflating: input/seq42/frame0418.jpg  \n",
            "  inflating: input/seq42/frame0419.jpg  \n",
            "  inflating: input/seq42/frame0420.jpg  \n",
            "  inflating: input/seq43/annotations.txt  \n",
            "  inflating: input/seq43/frame0001.jpg  \n",
            "  inflating: input/seq43/frame0002.jpg  \n",
            "  inflating: input/seq43/frame0003.jpg  \n",
            "  inflating: input/seq43/frame0004.jpg  \n",
            "  inflating: input/seq43/frame0005.jpg  \n",
            "  inflating: input/seq43/frame0006.jpg  \n",
            "  inflating: input/seq43/frame0007.jpg  \n",
            "  inflating: input/seq43/frame0008.jpg  \n",
            "  inflating: input/seq43/frame0009.jpg  \n",
            "  inflating: input/seq43/frame0010.jpg  \n",
            "  inflating: input/seq43/frame0011.jpg  \n",
            "  inflating: input/seq43/frame0012.jpg  \n",
            "  inflating: input/seq43/frame0013.jpg  \n",
            "  inflating: input/seq43/frame0014.jpg  \n",
            "  inflating: input/seq43/frame0015.jpg  \n",
            "  inflating: input/seq43/frame0016.jpg  \n",
            "  inflating: input/seq43/frame0017.jpg  \n",
            "  inflating: input/seq43/frame0018.jpg  \n",
            "  inflating: input/seq43/frame0019.jpg  \n",
            "  inflating: input/seq43/frame0020.jpg  \n",
            "  inflating: input/seq43/frame0021.jpg  \n",
            "  inflating: input/seq43/frame0022.jpg  \n",
            "  inflating: input/seq43/frame0023.jpg  \n",
            "  inflating: input/seq43/frame0024.jpg  \n",
            "  inflating: input/seq43/frame0025.jpg  \n",
            "  inflating: input/seq43/frame0026.jpg  \n",
            "  inflating: input/seq43/frame0027.jpg  \n",
            "  inflating: input/seq43/frame0028.jpg  \n",
            "  inflating: input/seq43/frame0029.jpg  \n",
            "  inflating: input/seq43/frame0030.jpg  \n",
            "  inflating: input/seq43/frame0031.jpg  \n",
            "  inflating: input/seq43/frame0032.jpg  \n",
            "  inflating: input/seq43/frame0033.jpg  \n",
            "  inflating: input/seq43/frame0034.jpg  \n",
            "  inflating: input/seq43/frame0035.jpg  \n",
            "  inflating: input/seq43/frame0036.jpg  \n",
            "  inflating: input/seq43/frame0037.jpg  \n",
            "  inflating: input/seq43/frame0038.jpg  \n",
            "  inflating: input/seq43/frame0039.jpg  \n",
            "  inflating: input/seq43/frame0040.jpg  \n",
            "  inflating: input/seq43/frame0041.jpg  \n",
            "  inflating: input/seq43/frame0042.jpg  \n",
            "  inflating: input/seq43/frame0043.jpg  \n",
            "  inflating: input/seq43/frame0044.jpg  \n",
            "  inflating: input/seq43/frame0045.jpg  \n",
            "  inflating: input/seq43/frame0046.jpg  \n",
            "  inflating: input/seq43/frame0047.jpg  \n",
            "  inflating: input/seq43/frame0048.jpg  \n",
            "  inflating: input/seq43/frame0049.jpg  \n",
            "  inflating: input/seq43/frame0050.jpg  \n",
            "  inflating: input/seq43/frame0051.jpg  \n",
            "  inflating: input/seq43/frame0052.jpg  \n",
            "  inflating: input/seq43/frame0053.jpg  \n",
            "  inflating: input/seq43/frame0054.jpg  \n",
            "  inflating: input/seq43/frame0055.jpg  \n",
            "  inflating: input/seq43/frame0056.jpg  \n",
            "  inflating: input/seq43/frame0057.jpg  \n",
            "  inflating: input/seq43/frame0058.jpg  \n",
            "  inflating: input/seq43/frame0059.jpg  \n",
            "  inflating: input/seq43/frame0060.jpg  \n",
            "  inflating: input/seq43/frame0061.jpg  \n",
            "  inflating: input/seq43/frame0062.jpg  \n",
            "  inflating: input/seq43/frame0063.jpg  \n",
            "  inflating: input/seq43/frame0064.jpg  \n",
            "  inflating: input/seq43/frame0065.jpg  \n",
            "  inflating: input/seq43/frame0066.jpg  \n",
            "  inflating: input/seq43/frame0067.jpg  \n",
            "  inflating: input/seq43/frame0068.jpg  \n",
            "  inflating: input/seq43/frame0069.jpg  \n",
            "  inflating: input/seq43/frame0070.jpg  \n",
            "  inflating: input/seq43/frame0071.jpg  \n",
            "  inflating: input/seq43/frame0072.jpg  \n",
            "  inflating: input/seq43/frame0073.jpg  \n",
            "  inflating: input/seq43/frame0074.jpg  \n",
            "  inflating: input/seq43/frame0075.jpg  \n",
            "  inflating: input/seq43/frame0076.jpg  \n",
            "  inflating: input/seq43/frame0077.jpg  \n",
            "  inflating: input/seq43/frame0078.jpg  \n",
            "  inflating: input/seq43/frame0079.jpg  \n",
            "  inflating: input/seq43/frame0080.jpg  \n",
            "  inflating: input/seq43/frame0081.jpg  \n",
            "  inflating: input/seq43/frame0082.jpg  \n",
            "  inflating: input/seq43/frame0083.jpg  \n",
            "  inflating: input/seq43/frame0084.jpg  \n",
            "  inflating: input/seq43/frame0085.jpg  \n",
            "  inflating: input/seq43/frame0086.jpg  \n",
            "  inflating: input/seq43/frame0087.jpg  \n",
            "  inflating: input/seq43/frame0088.jpg  \n",
            "  inflating: input/seq43/frame0089.jpg  \n",
            "  inflating: input/seq43/frame0090.jpg  \n",
            "  inflating: input/seq43/frame0091.jpg  \n",
            "  inflating: input/seq43/frame0092.jpg  \n",
            "  inflating: input/seq43/frame0093.jpg  \n",
            "  inflating: input/seq43/frame0094.jpg  \n",
            "  inflating: input/seq43/frame0095.jpg  \n",
            "  inflating: input/seq43/frame0096.jpg  \n",
            "  inflating: input/seq43/frame0097.jpg  \n",
            "  inflating: input/seq43/frame0098.jpg  \n",
            "  inflating: input/seq43/frame0099.jpg  \n",
            "  inflating: input/seq43/frame0100.jpg  \n",
            "  inflating: input/seq43/frame0101.jpg  \n",
            "  inflating: input/seq43/frame0102.jpg  \n",
            "  inflating: input/seq43/frame0103.jpg  \n",
            "  inflating: input/seq43/frame0104.jpg  \n",
            "  inflating: input/seq43/frame0105.jpg  \n",
            "  inflating: input/seq43/frame0106.jpg  \n",
            "  inflating: input/seq43/frame0107.jpg  \n",
            "  inflating: input/seq43/frame0108.jpg  \n",
            "  inflating: input/seq43/frame0109.jpg  \n",
            "  inflating: input/seq43/frame0110.jpg  \n",
            "  inflating: input/seq43/frame0111.jpg  \n",
            "  inflating: input/seq43/frame0112.jpg  \n",
            "  inflating: input/seq43/frame0113.jpg  \n",
            "  inflating: input/seq43/frame0114.jpg  \n",
            "  inflating: input/seq43/frame0115.jpg  \n",
            "  inflating: input/seq43/frame0116.jpg  \n",
            "  inflating: input/seq43/frame0117.jpg  \n",
            "  inflating: input/seq43/frame0118.jpg  \n",
            "  inflating: input/seq43/frame0119.jpg  \n",
            "  inflating: input/seq43/frame0120.jpg  \n",
            "  inflating: input/seq43/frame0121.jpg  \n",
            "  inflating: input/seq43/frame0122.jpg  \n",
            "  inflating: input/seq43/frame0123.jpg  \n",
            "  inflating: input/seq43/frame0124.jpg  \n",
            "  inflating: input/seq43/frame0125.jpg  \n",
            "  inflating: input/seq43/frame0126.jpg  \n",
            "  inflating: input/seq43/frame0127.jpg  \n",
            "  inflating: input/seq43/frame0128.jpg  \n",
            "  inflating: input/seq43/frame0129.jpg  \n",
            "  inflating: input/seq43/frame0130.jpg  \n",
            "  inflating: input/seq43/frame0131.jpg  \n",
            "  inflating: input/seq43/frame0132.jpg  \n",
            "  inflating: input/seq43/frame0133.jpg  \n",
            "  inflating: input/seq43/frame0134.jpg  \n",
            "  inflating: input/seq43/frame0135.jpg  \n",
            "  inflating: input/seq43/frame0136.jpg  \n",
            "  inflating: input/seq43/frame0137.jpg  \n",
            "  inflating: input/seq43/frame0138.jpg  \n",
            "  inflating: input/seq43/frame0139.jpg  \n",
            "  inflating: input/seq43/frame0140.jpg  \n",
            "  inflating: input/seq43/frame0141.jpg  \n",
            "  inflating: input/seq43/frame0142.jpg  \n",
            "  inflating: input/seq43/frame0143.jpg  \n",
            "  inflating: input/seq43/frame0144.jpg  \n",
            "  inflating: input/seq43/frame0145.jpg  \n",
            "  inflating: input/seq43/frame0146.jpg  \n",
            "  inflating: input/seq43/frame0147.jpg  \n",
            "  inflating: input/seq43/frame0148.jpg  \n",
            "  inflating: input/seq43/frame0149.jpg  \n",
            "  inflating: input/seq43/frame0150.jpg  \n",
            "  inflating: input/seq43/frame0151.jpg  \n",
            "  inflating: input/seq43/frame0152.jpg  \n",
            "  inflating: input/seq43/frame0153.jpg  \n",
            "  inflating: input/seq43/frame0154.jpg  \n",
            "  inflating: input/seq43/frame0155.jpg  \n",
            "  inflating: input/seq43/frame0156.jpg  \n",
            "  inflating: input/seq43/frame0157.jpg  \n",
            "  inflating: input/seq43/frame0158.jpg  \n",
            "  inflating: input/seq43/frame0159.jpg  \n",
            "  inflating: input/seq43/frame0160.jpg  \n",
            "  inflating: input/seq43/frame0161.jpg  \n",
            "  inflating: input/seq43/frame0162.jpg  \n",
            "  inflating: input/seq43/frame0163.jpg  \n",
            "  inflating: input/seq43/frame0164.jpg  \n",
            "  inflating: input/seq43/frame0165.jpg  \n",
            "  inflating: input/seq43/frame0166.jpg  \n",
            "  inflating: input/seq43/frame0167.jpg  \n",
            "  inflating: input/seq43/frame0168.jpg  \n",
            "  inflating: input/seq43/frame0169.jpg  \n",
            "  inflating: input/seq43/frame0170.jpg  \n",
            "  inflating: input/seq43/frame0171.jpg  \n",
            "  inflating: input/seq43/frame0172.jpg  \n",
            "  inflating: input/seq43/frame0173.jpg  \n",
            "  inflating: input/seq43/frame0174.jpg  \n",
            "  inflating: input/seq43/frame0175.jpg  \n",
            "  inflating: input/seq43/frame0176.jpg  \n",
            "  inflating: input/seq43/frame0177.jpg  \n",
            "  inflating: input/seq43/frame0178.jpg  \n",
            "  inflating: input/seq43/frame0179.jpg  \n",
            "  inflating: input/seq43/frame0180.jpg  \n",
            "  inflating: input/seq43/frame0181.jpg  \n",
            "  inflating: input/seq43/frame0182.jpg  \n",
            "  inflating: input/seq43/frame0183.jpg  \n",
            "  inflating: input/seq43/frame0184.jpg  \n",
            "  inflating: input/seq43/frame0185.jpg  \n",
            "  inflating: input/seq43/frame0186.jpg  \n",
            "  inflating: input/seq43/frame0187.jpg  \n",
            "  inflating: input/seq43/frame0188.jpg  \n",
            "  inflating: input/seq43/frame0189.jpg  \n",
            "  inflating: input/seq43/frame0190.jpg  \n",
            "  inflating: input/seq43/frame0191.jpg  \n",
            "  inflating: input/seq43/frame0192.jpg  \n",
            "  inflating: input/seq43/frame0193.jpg  \n",
            "  inflating: input/seq43/frame0194.jpg  \n",
            "  inflating: input/seq43/frame0195.jpg  \n",
            "  inflating: input/seq43/frame0196.jpg  \n",
            "  inflating: input/seq43/frame0197.jpg  \n",
            "  inflating: input/seq43/frame0198.jpg  \n",
            "  inflating: input/seq43/frame0199.jpg  \n",
            "  inflating: input/seq43/frame0200.jpg  \n",
            "  inflating: input/seq43/frame0201.jpg  \n",
            "  inflating: input/seq43/frame0202.jpg  \n",
            "  inflating: input/seq43/frame0203.jpg  \n",
            "  inflating: input/seq43/frame0204.jpg  \n",
            "  inflating: input/seq43/frame0205.jpg  \n",
            "  inflating: input/seq43/frame0206.jpg  \n",
            "  inflating: input/seq43/frame0207.jpg  \n",
            "  inflating: input/seq43/frame0208.jpg  \n",
            "  inflating: input/seq43/frame0209.jpg  \n",
            "  inflating: input/seq43/frame0210.jpg  \n",
            "  inflating: input/seq43/frame0211.jpg  \n",
            "  inflating: input/seq43/frame0212.jpg  \n",
            "  inflating: input/seq43/frame0213.jpg  \n",
            "  inflating: input/seq43/frame0214.jpg  \n",
            "  inflating: input/seq43/frame0215.jpg  \n",
            "  inflating: input/seq43/frame0216.jpg  \n",
            "  inflating: input/seq43/frame0217.jpg  \n",
            "  inflating: input/seq43/frame0218.jpg  \n",
            "  inflating: input/seq43/frame0219.jpg  \n",
            "  inflating: input/seq43/frame0220.jpg  \n",
            "  inflating: input/seq43/frame0221.jpg  \n",
            "  inflating: input/seq43/frame0222.jpg  \n",
            "  inflating: input/seq43/frame0223.jpg  \n",
            "  inflating: input/seq43/frame0224.jpg  \n",
            "  inflating: input/seq43/frame0225.jpg  \n",
            "  inflating: input/seq43/frame0226.jpg  \n",
            "  inflating: input/seq43/frame0227.jpg  \n",
            "  inflating: input/seq43/frame0228.jpg  \n",
            "  inflating: input/seq43/frame0229.jpg  \n",
            "  inflating: input/seq43/frame0230.jpg  \n",
            "  inflating: input/seq43/frame0231.jpg  \n",
            "  inflating: input/seq43/frame0232.jpg  \n",
            "  inflating: input/seq43/frame0233.jpg  \n",
            "  inflating: input/seq43/frame0234.jpg  \n",
            "  inflating: input/seq43/frame0235.jpg  \n",
            "  inflating: input/seq43/frame0236.jpg  \n",
            "  inflating: input/seq43/frame0237.jpg  \n",
            "  inflating: input/seq43/frame0238.jpg  \n",
            "  inflating: input/seq43/frame0239.jpg  \n",
            "  inflating: input/seq43/frame0240.jpg  \n",
            "  inflating: input/seq43/frame0241.jpg  \n",
            "  inflating: input/seq43/frame0242.jpg  \n",
            "  inflating: input/seq43/frame0243.jpg  \n",
            "  inflating: input/seq43/frame0244.jpg  \n",
            "  inflating: input/seq43/frame0245.jpg  \n",
            "  inflating: input/seq43/frame0246.jpg  \n",
            "  inflating: input/seq43/frame0247.jpg  \n",
            "  inflating: input/seq43/frame0248.jpg  \n",
            "  inflating: input/seq43/frame0249.jpg  \n",
            "  inflating: input/seq43/frame0250.jpg  \n",
            "  inflating: input/seq43/frame0251.jpg  \n",
            "  inflating: input/seq43/frame0252.jpg  \n",
            "  inflating: input/seq43/frame0253.jpg  \n",
            "  inflating: input/seq43/frame0254.jpg  \n",
            "  inflating: input/seq43/frame0255.jpg  \n",
            "  inflating: input/seq43/frame0256.jpg  \n",
            "  inflating: input/seq43/frame0257.jpg  \n",
            "  inflating: input/seq43/frame0258.jpg  \n",
            "  inflating: input/seq43/frame0259.jpg  \n",
            "  inflating: input/seq43/frame0260.jpg  \n",
            "  inflating: input/seq43/frame0261.jpg  \n",
            "  inflating: input/seq43/frame0262.jpg  \n",
            "  inflating: input/seq43/frame0263.jpg  \n",
            "  inflating: input/seq43/frame0264.jpg  \n",
            "  inflating: input/seq43/frame0265.jpg  \n",
            "  inflating: input/seq43/frame0266.jpg  \n",
            "  inflating: input/seq43/frame0267.jpg  \n",
            "  inflating: input/seq43/frame0268.jpg  \n",
            "  inflating: input/seq43/frame0269.jpg  \n",
            "  inflating: input/seq43/frame0270.jpg  \n",
            "  inflating: input/seq43/frame0271.jpg  \n",
            "  inflating: input/seq43/frame0272.jpg  \n",
            "  inflating: input/seq43/frame0273.jpg  \n",
            "  inflating: input/seq43/frame0274.jpg  \n",
            "  inflating: input/seq43/frame0275.jpg  \n",
            "  inflating: input/seq43/frame0276.jpg  \n",
            "  inflating: input/seq43/frame0277.jpg  \n",
            "  inflating: input/seq43/frame0278.jpg  \n",
            "  inflating: input/seq43/frame0279.jpg  \n",
            "  inflating: input/seq43/frame0280.jpg  \n",
            "  inflating: input/seq43/frame0281.jpg  \n",
            "  inflating: input/seq43/frame0282.jpg  \n",
            "  inflating: input/seq43/frame0283.jpg  \n",
            "  inflating: input/seq43/frame0284.jpg  \n",
            "  inflating: input/seq43/frame0285.jpg  \n",
            "  inflating: input/seq43/frame0286.jpg  \n",
            "  inflating: input/seq43/frame0287.jpg  \n",
            "  inflating: input/seq43/frame0288.jpg  \n",
            "  inflating: input/seq43/frame0289.jpg  \n",
            "  inflating: input/seq43/frame0290.jpg  \n",
            "  inflating: input/seq43/frame0291.jpg  \n",
            "  inflating: input/seq43/frame0292.jpg  \n",
            "  inflating: input/seq43/frame0293.jpg  \n",
            "  inflating: input/seq43/frame0294.jpg  \n",
            "  inflating: input/seq43/frame0295.jpg  \n",
            "  inflating: input/seq43/frame0296.jpg  \n",
            "  inflating: input/seq43/frame0297.jpg  \n",
            "  inflating: input/seq43/frame0298.jpg  \n",
            "  inflating: input/seq43/frame0299.jpg  \n",
            "  inflating: input/seq43/frame0300.jpg  \n",
            "  inflating: input/seq43/frame0301.jpg  \n",
            "  inflating: input/seq43/frame0302.jpg  \n",
            "  inflating: input/seq43/frame0303.jpg  \n",
            "  inflating: input/seq43/frame0304.jpg  \n",
            "  inflating: input/seq43/frame0305.jpg  \n",
            "  inflating: input/seq43/frame0306.jpg  \n",
            "  inflating: input/seq43/frame0307.jpg  \n",
            "  inflating: input/seq43/frame0308.jpg  \n",
            "  inflating: input/seq43/frame0309.jpg  \n",
            "  inflating: input/seq43/frame0310.jpg  \n",
            "  inflating: input/seq43/frame0311.jpg  \n",
            "  inflating: input/seq43/frame0312.jpg  \n",
            "  inflating: input/seq43/frame0313.jpg  \n",
            "  inflating: input/seq43/frame0314.jpg  \n",
            "  inflating: input/seq43/frame0315.jpg  \n",
            "  inflating: input/seq43/frame0316.jpg  \n",
            "  inflating: input/seq43/frame0317.jpg  \n",
            "  inflating: input/seq43/frame0318.jpg  \n",
            "  inflating: input/seq43/frame0319.jpg  \n",
            "  inflating: input/seq43/frame0320.jpg  \n",
            "  inflating: input/seq43/frame0321.jpg  \n",
            "  inflating: input/seq43/frame0322.jpg  \n",
            "  inflating: input/seq43/frame0323.jpg  \n",
            "  inflating: input/seq43/frame0324.jpg  \n",
            "  inflating: input/seq43/frame0325.jpg  \n",
            "  inflating: input/seq43/frame0326.jpg  \n",
            "  inflating: input/seq43/frame0327.jpg  \n",
            "  inflating: input/seq43/frame0328.jpg  \n",
            "  inflating: input/seq43/frame0329.jpg  \n",
            "  inflating: input/seq43/frame0330.jpg  \n",
            "  inflating: input/seq43/frame0331.jpg  \n",
            "  inflating: input/seq43/frame0332.jpg  \n",
            "  inflating: input/seq43/frame0333.jpg  \n",
            "  inflating: input/seq43/frame0334.jpg  \n",
            "  inflating: input/seq43/frame0335.jpg  \n",
            "  inflating: input/seq43/frame0336.jpg  \n",
            "  inflating: input/seq43/frame0337.jpg  \n",
            "  inflating: input/seq43/frame0338.jpg  \n",
            "  inflating: input/seq43/frame0339.jpg  \n",
            "  inflating: input/seq43/frame0340.jpg  \n",
            "  inflating: input/seq43/frame0341.jpg  \n",
            "  inflating: input/seq43/frame0342.jpg  \n",
            "  inflating: input/seq43/frame0343.jpg  \n",
            "  inflating: input/seq43/frame0344.jpg  \n",
            "  inflating: input/seq43/frame0345.jpg  \n",
            "  inflating: input/seq43/frame0346.jpg  \n",
            "  inflating: input/seq43/frame0347.jpg  \n",
            "  inflating: input/seq43/frame0348.jpg  \n",
            "  inflating: input/seq43/frame0349.jpg  \n",
            "  inflating: input/seq43/frame0350.jpg  \n",
            "  inflating: input/seq43/frame0351.jpg  \n",
            "  inflating: input/seq43/frame0352.jpg  \n",
            "  inflating: input/seq43/frame0353.jpg  \n",
            "  inflating: input/seq43/frame0354.jpg  \n",
            "  inflating: input/seq43/frame0355.jpg  \n",
            "  inflating: input/seq43/frame0356.jpg  \n",
            "  inflating: input/seq43/frame0357.jpg  \n",
            "  inflating: input/seq43/frame0358.jpg  \n",
            "  inflating: input/seq43/frame0359.jpg  \n",
            "  inflating: input/seq43/frame0360.jpg  \n",
            "  inflating: input/seq43/frame0361.jpg  \n",
            "  inflating: input/seq43/frame0362.jpg  \n",
            "  inflating: input/seq43/frame0363.jpg  \n",
            "  inflating: input/seq43/frame0364.jpg  \n",
            "  inflating: input/seq43/frame0365.jpg  \n",
            "  inflating: input/seq43/frame0366.jpg  \n",
            "  inflating: input/seq43/frame0367.jpg  \n",
            "  inflating: input/seq43/frame0368.jpg  \n",
            "  inflating: input/seq43/frame0369.jpg  \n",
            "  inflating: input/seq43/frame0370.jpg  \n",
            "  inflating: input/seq43/frame0371.jpg  \n",
            "  inflating: input/seq43/frame0372.jpg  \n",
            "  inflating: input/seq43/frame0373.jpg  \n",
            "  inflating: input/seq43/frame0374.jpg  \n",
            "  inflating: input/seq43/frame0375.jpg  \n",
            "  inflating: input/seq43/frame0376.jpg  \n",
            "  inflating: input/seq43/frame0377.jpg  \n",
            "  inflating: input/seq43/frame0378.jpg  \n",
            "  inflating: input/seq43/frame0379.jpg  \n",
            "  inflating: input/seq43/frame0380.jpg  \n",
            "  inflating: input/seq43/frame0381.jpg  \n",
            "  inflating: input/seq43/frame0382.jpg  \n",
            "  inflating: input/seq43/frame0383.jpg  \n",
            "  inflating: input/seq43/frame0384.jpg  \n",
            "  inflating: input/seq43/frame0385.jpg  \n",
            "  inflating: input/seq43/frame0386.jpg  \n",
            "  inflating: input/seq43/frame0387.jpg  \n",
            "  inflating: input/seq43/frame0388.jpg  \n",
            "  inflating: input/seq43/frame0389.jpg  \n",
            "  inflating: input/seq43/frame0390.jpg  \n",
            "  inflating: input/seq43/frame0391.jpg  \n",
            "  inflating: input/seq43/frame0392.jpg  \n",
            "  inflating: input/seq43/frame0393.jpg  \n",
            "  inflating: input/seq43/frame0394.jpg  \n",
            "  inflating: input/seq43/frame0395.jpg  \n",
            "  inflating: input/seq43/frame0396.jpg  \n",
            "  inflating: input/seq43/frame0397.jpg  \n",
            "  inflating: input/seq43/frame0398.jpg  \n",
            "  inflating: input/seq43/frame0399.jpg  \n",
            "  inflating: input/seq43/frame0400.jpg  \n",
            "  inflating: input/seq43/frame0401.jpg  \n",
            "  inflating: input/seq43/frame0402.jpg  \n",
            "  inflating: input/seq43/frame0403.jpg  \n",
            "  inflating: input/seq43/frame0404.jpg  \n",
            "  inflating: input/seq43/frame0405.jpg  \n",
            "  inflating: input/seq43/frame0406.jpg  \n",
            "  inflating: input/seq43/frame0407.jpg  \n",
            "  inflating: input/seq43/frame0408.jpg  \n",
            "  inflating: input/seq43/frame0409.jpg  \n",
            "  inflating: input/seq43/frame0410.jpg  \n",
            "  inflating: input/seq44/annotations.txt  \n",
            "  inflating: input/seq44/frame0001.jpg  \n",
            "  inflating: input/seq44/frame0002.jpg  \n",
            "  inflating: input/seq44/frame0003.jpg  \n",
            "  inflating: input/seq44/frame0004.jpg  \n",
            "  inflating: input/seq44/frame0005.jpg  \n",
            "  inflating: input/seq44/frame0006.jpg  \n",
            "  inflating: input/seq44/frame0007.jpg  \n",
            "  inflating: input/seq44/frame0008.jpg  \n",
            "  inflating: input/seq44/frame0009.jpg  \n",
            "  inflating: input/seq44/frame0010.jpg  \n",
            "  inflating: input/seq44/frame0011.jpg  \n",
            "  inflating: input/seq44/frame0012.jpg  \n",
            "  inflating: input/seq44/frame0013.jpg  \n",
            "  inflating: input/seq44/frame0014.jpg  \n",
            "  inflating: input/seq44/frame0015.jpg  \n",
            "  inflating: input/seq44/frame0016.jpg  \n",
            "  inflating: input/seq44/frame0017.jpg  \n",
            "  inflating: input/seq44/frame0018.jpg  \n",
            "  inflating: input/seq44/frame0019.jpg  \n",
            "  inflating: input/seq44/frame0020.jpg  \n",
            "  inflating: input/seq44/frame0021.jpg  \n",
            "  inflating: input/seq44/frame0022.jpg  \n",
            "  inflating: input/seq44/frame0023.jpg  \n",
            "  inflating: input/seq44/frame0024.jpg  \n",
            "  inflating: input/seq44/frame0025.jpg  \n",
            "  inflating: input/seq44/frame0026.jpg  \n",
            "  inflating: input/seq44/frame0027.jpg  \n",
            "  inflating: input/seq44/frame0028.jpg  \n",
            "  inflating: input/seq44/frame0029.jpg  \n",
            "  inflating: input/seq44/frame0030.jpg  \n",
            "  inflating: input/seq44/frame0031.jpg  \n",
            "  inflating: input/seq44/frame0032.jpg  \n",
            "  inflating: input/seq44/frame0033.jpg  \n",
            "  inflating: input/seq44/frame0034.jpg  \n",
            "  inflating: input/seq44/frame0035.jpg  \n",
            "  inflating: input/seq44/frame0036.jpg  \n",
            "  inflating: input/seq44/frame0037.jpg  \n",
            "  inflating: input/seq44/frame0038.jpg  \n",
            "  inflating: input/seq44/frame0039.jpg  \n",
            "  inflating: input/seq44/frame0040.jpg  \n",
            "  inflating: input/seq44/frame0041.jpg  \n",
            "  inflating: input/seq44/frame0042.jpg  \n",
            "  inflating: input/seq44/frame0043.jpg  \n",
            "  inflating: input/seq44/frame0044.jpg  \n",
            "  inflating: input/seq44/frame0045.jpg  \n",
            "  inflating: input/seq44/frame0046.jpg  \n",
            "  inflating: input/seq44/frame0047.jpg  \n",
            "  inflating: input/seq44/frame0048.jpg  \n",
            "  inflating: input/seq44/frame0049.jpg  \n",
            "  inflating: input/seq44/frame0050.jpg  \n",
            "  inflating: input/seq44/frame0051.jpg  \n",
            "  inflating: input/seq44/frame0052.jpg  \n",
            "  inflating: input/seq44/frame0053.jpg  \n",
            "  inflating: input/seq44/frame0054.jpg  \n",
            "  inflating: input/seq44/frame0055.jpg  \n",
            "  inflating: input/seq44/frame0056.jpg  \n",
            "  inflating: input/seq44/frame0057.jpg  \n",
            "  inflating: input/seq44/frame0058.jpg  \n",
            "  inflating: input/seq44/frame0059.jpg  \n",
            "  inflating: input/seq44/frame0060.jpg  \n",
            "  inflating: input/seq44/frame0061.jpg  \n",
            "  inflating: input/seq44/frame0062.jpg  \n",
            "  inflating: input/seq44/frame0063.jpg  \n",
            "  inflating: input/seq44/frame0064.jpg  \n",
            "  inflating: input/seq44/frame0065.jpg  \n",
            "  inflating: input/seq44/frame0066.jpg  \n",
            "  inflating: input/seq44/frame0067.jpg  \n",
            "  inflating: input/seq44/frame0068.jpg  \n",
            "  inflating: input/seq44/frame0069.jpg  \n",
            "  inflating: input/seq44/frame0070.jpg  \n",
            "  inflating: input/seq44/frame0071.jpg  \n",
            "  inflating: input/seq44/frame0072.jpg  \n",
            "  inflating: input/seq44/frame0073.jpg  \n",
            "  inflating: input/seq44/frame0074.jpg  \n",
            "  inflating: input/seq44/frame0075.jpg  \n",
            "  inflating: input/seq44/frame0076.jpg  \n",
            "  inflating: input/seq44/frame0077.jpg  \n",
            "  inflating: input/seq44/frame0078.jpg  \n",
            "  inflating: input/seq44/frame0079.jpg  \n",
            "  inflating: input/seq44/frame0080.jpg  \n",
            "  inflating: input/seq44/frame0081.jpg  \n",
            "  inflating: input/seq44/frame0082.jpg  \n",
            "  inflating: input/seq44/frame0083.jpg  \n",
            "  inflating: input/seq44/frame0084.jpg  \n",
            "  inflating: input/seq44/frame0085.jpg  \n",
            "  inflating: input/seq44/frame0086.jpg  \n",
            "  inflating: input/seq44/frame0087.jpg  \n",
            "  inflating: input/seq44/frame0088.jpg  \n",
            "  inflating: input/seq44/frame0089.jpg  \n",
            "  inflating: input/seq44/frame0090.jpg  \n",
            "  inflating: input/seq44/frame0091.jpg  \n",
            "  inflating: input/seq44/frame0092.jpg  \n",
            "  inflating: input/seq44/frame0093.jpg  \n",
            "  inflating: input/seq44/frame0094.jpg  \n",
            "  inflating: input/seq44/frame0095.jpg  \n",
            "  inflating: input/seq44/frame0096.jpg  \n",
            "  inflating: input/seq44/frame0097.jpg  \n",
            "  inflating: input/seq44/frame0098.jpg  \n",
            "  inflating: input/seq44/frame0099.jpg  \n",
            "  inflating: input/seq44/frame0100.jpg  \n",
            "  inflating: input/seq44/frame0101.jpg  \n",
            "  inflating: input/seq44/frame0102.jpg  \n",
            "  inflating: input/seq44/frame0103.jpg  \n",
            "  inflating: input/seq44/frame0104.jpg  \n",
            "  inflating: input/seq44/frame0105.jpg  \n",
            "  inflating: input/seq44/frame0106.jpg  \n",
            "  inflating: input/seq44/frame0107.jpg  \n",
            "  inflating: input/seq44/frame0108.jpg  \n",
            "  inflating: input/seq44/frame0109.jpg  \n",
            "  inflating: input/seq44/frame0110.jpg  \n",
            "  inflating: input/seq44/frame0111.jpg  \n",
            "  inflating: input/seq44/frame0112.jpg  \n",
            "  inflating: input/seq44/frame0113.jpg  \n",
            "  inflating: input/seq44/frame0114.jpg  \n",
            "  inflating: input/seq44/frame0115.jpg  \n",
            "  inflating: input/seq44/frame0116.jpg  \n",
            "  inflating: input/seq44/frame0117.jpg  \n",
            "  inflating: input/seq44/frame0118.jpg  \n",
            "  inflating: input/seq44/frame0119.jpg  \n",
            "  inflating: input/seq44/frame0120.jpg  \n",
            "  inflating: input/seq44/frame0121.jpg  \n",
            "  inflating: input/seq44/frame0122.jpg  \n",
            "  inflating: input/seq44/frame0123.jpg  \n",
            "  inflating: input/seq44/frame0124.jpg  \n",
            "  inflating: input/seq44/frame0125.jpg  \n",
            "  inflating: input/seq44/frame0126.jpg  \n",
            "  inflating: input/seq44/frame0127.jpg  \n",
            "  inflating: input/seq44/frame0128.jpg  \n",
            "  inflating: input/seq44/frame0129.jpg  \n",
            "  inflating: input/seq44/frame0130.jpg  \n",
            "  inflating: input/seq44/frame0131.jpg  \n",
            "  inflating: input/seq44/frame0132.jpg  \n",
            "  inflating: input/seq44/frame0133.jpg  \n",
            "  inflating: input/seq44/frame0134.jpg  \n",
            "  inflating: input/seq44/frame0135.jpg  \n",
            "  inflating: input/seq44/frame0136.jpg  \n",
            "  inflating: input/seq44/frame0137.jpg  \n",
            "  inflating: input/seq44/frame0138.jpg  \n",
            "  inflating: input/seq44/frame0139.jpg  \n",
            "  inflating: input/seq44/frame0140.jpg  \n",
            "  inflating: input/seq44/frame0141.jpg  \n",
            "  inflating: input/seq44/frame0142.jpg  \n",
            "  inflating: input/seq44/frame0143.jpg  \n",
            "  inflating: input/seq44/frame0144.jpg  \n",
            "  inflating: input/seq44/frame0145.jpg  \n",
            "  inflating: input/seq44/frame0146.jpg  \n",
            "  inflating: input/seq44/frame0147.jpg  \n",
            "  inflating: input/seq44/frame0148.jpg  \n",
            "  inflating: input/seq44/frame0149.jpg  \n",
            "  inflating: input/seq44/frame0150.jpg  \n",
            "  inflating: input/seq44/frame0151.jpg  \n",
            "  inflating: input/seq44/frame0152.jpg  \n",
            "  inflating: input/seq44/frame0153.jpg  \n",
            "  inflating: input/seq44/frame0154.jpg  \n",
            "  inflating: input/seq44/frame0155.jpg  \n",
            "  inflating: input/seq44/frame0156.jpg  \n",
            "  inflating: input/seq44/frame0157.jpg  \n",
            "  inflating: input/seq44/frame0158.jpg  \n",
            "  inflating: input/seq44/frame0159.jpg  \n",
            "  inflating: input/seq44/frame0160.jpg  \n",
            "  inflating: input/seq44/frame0161.jpg  \n",
            "  inflating: input/seq44/frame0162.jpg  \n",
            "  inflating: input/seq44/frame0163.jpg  \n",
            "  inflating: input/seq44/frame0164.jpg  \n",
            "  inflating: input/seq44/frame0165.jpg  \n",
            "  inflating: input/seq44/frame0166.jpg  \n",
            "  inflating: input/seq44/frame0167.jpg  \n",
            "  inflating: input/seq44/frame0168.jpg  \n",
            "  inflating: input/seq44/frame0169.jpg  \n",
            "  inflating: input/seq44/frame0170.jpg  \n",
            "  inflating: input/seq44/frame0171.jpg  \n",
            "  inflating: input/seq44/frame0172.jpg  \n",
            "  inflating: input/seq44/frame0173.jpg  \n",
            "  inflating: input/seq44/frame0174.jpg  \n",
            "  inflating: input/seq44/frame0175.jpg  \n",
            "  inflating: input/seq44/frame0176.jpg  \n",
            "  inflating: input/seq44/frame0177.jpg  \n",
            "  inflating: input/seq44/frame0178.jpg  \n",
            "  inflating: input/seq44/frame0179.jpg  \n",
            "  inflating: input/seq44/frame0180.jpg  \n",
            "  inflating: input/seq44/frame0181.jpg  \n",
            "  inflating: input/seq44/frame0182.jpg  \n",
            "  inflating: input/seq44/frame0183.jpg  \n",
            "  inflating: input/seq44/frame0184.jpg  \n",
            "  inflating: input/seq44/frame0185.jpg  \n",
            "  inflating: input/seq44/frame0186.jpg  \n",
            "  inflating: input/seq44/frame0187.jpg  \n",
            "  inflating: input/seq44/frame0188.jpg  \n",
            "  inflating: input/seq44/frame0189.jpg  \n",
            "  inflating: input/seq44/frame0190.jpg  \n",
            "  inflating: input/seq44/frame0191.jpg  \n",
            "  inflating: input/seq44/frame0192.jpg  \n",
            "  inflating: input/seq44/frame0193.jpg  \n",
            "  inflating: input/seq44/frame0194.jpg  \n",
            "  inflating: input/seq44/frame0195.jpg  \n",
            "  inflating: input/seq44/frame0196.jpg  \n",
            "  inflating: input/seq44/frame0197.jpg  \n",
            "  inflating: input/seq44/frame0198.jpg  \n",
            "  inflating: input/seq44/frame0199.jpg  \n",
            "  inflating: input/seq44/frame0200.jpg  \n",
            "  inflating: input/seq44/frame0201.jpg  \n",
            "  inflating: input/seq44/frame0202.jpg  \n",
            "  inflating: input/seq44/frame0203.jpg  \n",
            "  inflating: input/seq44/frame0204.jpg  \n",
            "  inflating: input/seq44/frame0205.jpg  \n",
            "  inflating: input/seq44/frame0206.jpg  \n",
            "  inflating: input/seq44/frame0207.jpg  \n",
            "  inflating: input/seq44/frame0208.jpg  \n",
            "  inflating: input/seq44/frame0209.jpg  \n",
            "  inflating: input/seq44/frame0210.jpg  \n",
            "  inflating: input/seq44/frame0211.jpg  \n",
            "  inflating: input/seq44/frame0212.jpg  \n",
            "  inflating: input/seq44/frame0213.jpg  \n",
            "  inflating: input/seq44/frame0214.jpg  \n",
            "  inflating: input/seq44/frame0215.jpg  \n",
            "  inflating: input/seq44/frame0216.jpg  \n",
            "  inflating: input/seq44/frame0217.jpg  \n",
            "  inflating: input/seq44/frame0218.jpg  \n",
            "  inflating: input/seq44/frame0219.jpg  \n",
            "  inflating: input/seq44/frame0220.jpg  \n",
            "  inflating: input/seq44/frame0221.jpg  \n",
            "  inflating: input/seq44/frame0222.jpg  \n",
            "  inflating: input/seq44/frame0223.jpg  \n",
            "  inflating: input/seq44/frame0224.jpg  \n",
            "  inflating: input/seq44/frame0225.jpg  \n",
            "  inflating: input/seq44/frame0226.jpg  \n",
            "  inflating: input/seq44/frame0227.jpg  \n",
            "  inflating: input/seq44/frame0228.jpg  \n",
            "  inflating: input/seq44/frame0229.jpg  \n",
            "  inflating: input/seq44/frame0230.jpg  \n",
            "  inflating: input/seq44/frame0231.jpg  \n",
            "  inflating: input/seq44/frame0232.jpg  \n",
            "  inflating: input/seq44/frame0233.jpg  \n",
            "  inflating: input/seq44/frame0234.jpg  \n",
            "  inflating: input/seq44/frame0235.jpg  \n",
            "  inflating: input/seq44/frame0236.jpg  \n",
            "  inflating: input/seq44/frame0237.jpg  \n",
            "  inflating: input/seq44/frame0238.jpg  \n",
            "  inflating: input/seq44/frame0239.jpg  \n",
            "  inflating: input/seq44/frame0240.jpg  \n",
            "  inflating: input/seq44/frame0241.jpg  \n",
            "  inflating: input/seq44/frame0242.jpg  \n",
            "  inflating: input/seq44/frame0243.jpg  \n",
            "  inflating: input/seq44/frame0244.jpg  \n",
            "  inflating: input/seq44/frame0245.jpg  \n",
            "  inflating: input/seq44/frame0246.jpg  \n",
            "  inflating: input/seq44/frame0247.jpg  \n",
            "  inflating: input/seq44/frame0248.jpg  \n",
            "  inflating: input/seq44/frame0249.jpg  \n",
            "  inflating: input/seq44/frame0250.jpg  \n",
            "  inflating: input/seq44/frame0251.jpg  \n",
            "  inflating: input/seq44/frame0252.jpg  \n",
            "  inflating: input/seq44/frame0253.jpg  \n",
            "  inflating: input/seq44/frame0254.jpg  \n",
            "  inflating: input/seq44/frame0255.jpg  \n",
            "  inflating: input/seq44/frame0256.jpg  \n",
            "  inflating: input/seq44/frame0257.jpg  \n",
            "  inflating: input/seq44/frame0258.jpg  \n",
            "  inflating: input/seq44/frame0259.jpg  \n",
            "  inflating: input/seq44/frame0260.jpg  \n",
            "  inflating: input/seq44/frame0261.jpg  \n",
            "  inflating: input/seq44/frame0262.jpg  \n",
            "  inflating: input/seq44/frame0263.jpg  \n",
            "  inflating: input/seq44/frame0264.jpg  \n",
            "  inflating: input/seq44/frame0265.jpg  \n",
            "  inflating: input/seq44/frame0266.jpg  \n",
            "  inflating: input/seq44/frame0267.jpg  \n",
            "  inflating: input/seq44/frame0268.jpg  \n",
            "  inflating: input/seq44/frame0269.jpg  \n",
            "  inflating: input/seq44/frame0270.jpg  \n",
            "  inflating: input/seq44/frame0271.jpg  \n",
            "  inflating: input/seq44/frame0272.jpg  \n",
            "  inflating: input/seq44/frame0273.jpg  \n",
            "  inflating: input/seq44/frame0274.jpg  \n",
            "  inflating: input/seq44/frame0275.jpg  \n",
            "  inflating: input/seq44/frame0276.jpg  \n",
            "  inflating: input/seq44/frame0277.jpg  \n",
            "  inflating: input/seq44/frame0278.jpg  \n",
            "  inflating: input/seq44/frame0279.jpg  \n",
            "  inflating: input/seq44/frame0280.jpg  \n",
            "  inflating: input/seq44/frame0281.jpg  \n",
            "  inflating: input/seq44/frame0282.jpg  \n",
            "  inflating: input/seq44/frame0283.jpg  \n",
            "  inflating: input/seq44/frame0284.jpg  \n",
            "  inflating: input/seq44/frame0285.jpg  \n",
            "  inflating: input/seq44/frame0286.jpg  \n",
            "  inflating: input/seq44/frame0287.jpg  \n",
            "  inflating: input/seq44/frame0288.jpg  \n",
            "  inflating: input/seq44/frame0289.jpg  \n",
            "  inflating: input/seq44/frame0290.jpg  \n",
            "  inflating: input/seq44/frame0291.jpg  \n",
            "  inflating: input/seq44/frame0292.jpg  \n",
            "  inflating: input/seq44/frame0293.jpg  \n",
            "  inflating: input/seq44/frame0294.jpg  \n",
            "  inflating: input/seq44/frame0295.jpg  \n",
            "  inflating: input/seq44/frame0296.jpg  \n",
            "  inflating: input/seq44/frame0297.jpg  \n",
            "  inflating: input/seq44/frame0298.jpg  \n",
            "  inflating: input/seq44/frame0299.jpg  \n",
            "  inflating: input/seq44/frame0300.jpg  \n",
            "  inflating: input/seq44/frame0301.jpg  \n",
            "  inflating: input/seq44/frame0302.jpg  \n",
            "  inflating: input/seq44/frame0303.jpg  \n",
            "  inflating: input/seq44/frame0304.jpg  \n",
            "  inflating: input/seq44/frame0305.jpg  \n",
            "  inflating: input/seq44/frame0306.jpg  \n",
            "  inflating: input/seq44/frame0307.jpg  \n",
            "  inflating: input/seq44/frame0308.jpg  \n",
            "  inflating: input/seq44/frame0309.jpg  \n",
            "  inflating: input/seq44/frame0310.jpg  \n",
            "  inflating: input/seq44/frame0311.jpg  \n",
            "  inflating: input/seq44/frame0312.jpg  \n",
            "  inflating: input/seq44/frame0313.jpg  \n",
            "  inflating: input/seq44/frame0314.jpg  \n",
            "  inflating: input/seq44/frame0315.jpg  \n",
            "  inflating: input/seq44/frame0316.jpg  \n",
            "  inflating: input/seq44/frame0317.jpg  \n",
            "  inflating: input/seq44/frame0318.jpg  \n",
            "  inflating: input/seq44/frame0319.jpg  \n",
            "  inflating: input/seq44/frame0320.jpg  \n",
            "  inflating: input/seq44/frame0321.jpg  \n",
            "  inflating: input/seq44/frame0322.jpg  \n",
            "  inflating: input/seq44/frame0323.jpg  \n",
            "  inflating: input/seq44/frame0324.jpg  \n",
            "  inflating: input/seq44/frame0325.jpg  \n",
            "  inflating: input/seq44/frame0326.jpg  \n",
            "  inflating: input/seq44/frame0327.jpg  \n",
            "  inflating: input/seq44/frame0328.jpg  \n",
            "  inflating: input/seq44/frame0329.jpg  \n",
            "  inflating: input/seq44/frame0330.jpg  \n",
            "  inflating: input/seq44/frame0331.jpg  \n",
            "  inflating: input/seq44/frame0332.jpg  \n",
            "  inflating: input/seq44/frame0333.jpg  \n",
            "  inflating: input/seq44/frame0334.jpg  \n",
            "  inflating: input/seq44/frame0335.jpg  \n",
            "  inflating: input/seq44/frame0336.jpg  \n",
            "  inflating: input/seq44/frame0337.jpg  \n",
            "  inflating: input/seq44/frame0338.jpg  \n",
            "  inflating: input/seq44/frame0339.jpg  \n",
            "  inflating: input/seq44/frame0340.jpg  \n",
            "  inflating: input/seq44/frame0341.jpg  \n",
            "  inflating: input/seq44/frame0342.jpg  \n",
            "  inflating: input/seq44/frame0343.jpg  \n",
            "  inflating: input/seq44/frame0344.jpg  \n",
            "  inflating: input/seq44/frame0345.jpg  \n",
            "  inflating: input/seq44/frame0346.jpg  \n",
            "  inflating: input/seq44/frame0347.jpg  \n",
            "  inflating: input/seq44/frame0348.jpg  \n",
            "  inflating: input/seq44/frame0349.jpg  \n",
            "  inflating: input/seq44/frame0350.jpg  \n",
            "  inflating: input/seq44/frame0351.jpg  \n",
            "  inflating: input/seq44/frame0352.jpg  \n",
            "  inflating: input/seq44/frame0353.jpg  \n",
            "  inflating: input/seq44/frame0354.jpg  \n",
            "  inflating: input/seq44/frame0355.jpg  \n",
            "  inflating: input/seq44/frame0356.jpg  \n",
            "  inflating: input/seq01/annotations.txt  \n",
            "  inflating: input/seq01/frame0001.jpg  \n",
            "  inflating: input/seq01/frame0002.jpg  \n",
            "  inflating: input/seq01/frame0003.jpg  \n",
            "  inflating: input/seq01/frame0004.jpg  \n",
            "  inflating: input/seq01/frame0005.jpg  \n",
            "  inflating: input/seq01/frame0006.jpg  \n",
            "  inflating: input/seq01/frame0007.jpg  \n",
            "  inflating: input/seq01/frame0008.jpg  \n",
            "  inflating: input/seq01/frame0009.jpg  \n",
            "  inflating: input/seq01/frame0010.jpg  \n",
            "  inflating: input/seq01/frame0011.jpg  \n",
            "  inflating: input/seq01/frame0012.jpg  \n",
            "  inflating: input/seq01/frame0013.jpg  \n",
            "  inflating: input/seq01/frame0014.jpg  \n",
            "  inflating: input/seq01/frame0015.jpg  \n",
            "  inflating: input/seq01/frame0016.jpg  \n",
            "  inflating: input/seq01/frame0017.jpg  \n",
            "  inflating: input/seq01/frame0018.jpg  \n",
            "  inflating: input/seq01/frame0019.jpg  \n",
            "  inflating: input/seq01/frame0020.jpg  \n",
            "  inflating: input/seq01/frame0021.jpg  \n",
            "  inflating: input/seq01/frame0022.jpg  \n",
            "  inflating: input/seq01/frame0023.jpg  \n",
            "  inflating: input/seq01/frame0024.jpg  \n",
            "  inflating: input/seq01/frame0025.jpg  \n",
            "  inflating: input/seq01/frame0026.jpg  \n",
            "  inflating: input/seq01/frame0027.jpg  \n",
            "  inflating: input/seq01/frame0028.jpg  \n",
            "  inflating: input/seq01/frame0029.jpg  \n",
            "  inflating: input/seq01/frame0030.jpg  \n",
            "  inflating: input/seq01/frame0031.jpg  \n",
            "  inflating: input/seq01/frame0032.jpg  \n",
            "  inflating: input/seq01/frame0033.jpg  \n",
            "  inflating: input/seq01/frame0034.jpg  \n",
            "  inflating: input/seq01/frame0035.jpg  \n",
            "  inflating: input/seq01/frame0036.jpg  \n",
            "  inflating: input/seq01/frame0037.jpg  \n",
            "  inflating: input/seq01/frame0038.jpg  \n",
            "  inflating: input/seq01/frame0039.jpg  \n",
            "  inflating: input/seq01/frame0040.jpg  \n",
            "  inflating: input/seq01/frame0041.jpg  \n",
            "  inflating: input/seq01/frame0042.jpg  \n",
            "  inflating: input/seq01/frame0043.jpg  \n",
            "  inflating: input/seq01/frame0044.jpg  \n",
            "  inflating: input/seq01/frame0045.jpg  \n",
            "  inflating: input/seq01/frame0046.jpg  \n",
            "  inflating: input/seq01/frame0047.jpg  \n",
            "  inflating: input/seq01/frame0048.jpg  \n",
            "  inflating: input/seq01/frame0049.jpg  \n",
            "  inflating: input/seq01/frame0050.jpg  \n",
            "  inflating: input/seq01/frame0051.jpg  \n",
            "  inflating: input/seq01/frame0052.jpg  \n",
            "  inflating: input/seq01/frame0053.jpg  \n",
            "  inflating: input/seq01/frame0054.jpg  \n",
            "  inflating: input/seq01/frame0055.jpg  \n",
            "  inflating: input/seq01/frame0056.jpg  \n",
            "  inflating: input/seq01/frame0057.jpg  \n",
            "  inflating: input/seq01/frame0058.jpg  \n",
            "  inflating: input/seq01/frame0059.jpg  \n",
            "  inflating: input/seq01/frame0060.jpg  \n",
            "  inflating: input/seq01/frame0061.jpg  \n",
            "  inflating: input/seq01/frame0062.jpg  \n",
            "  inflating: input/seq01/frame0063.jpg  \n",
            "  inflating: input/seq01/frame0064.jpg  \n",
            "  inflating: input/seq01/frame0065.jpg  \n",
            "  inflating: input/seq01/frame0066.jpg  \n",
            "  inflating: input/seq01/frame0067.jpg  \n",
            "  inflating: input/seq01/frame0068.jpg  \n",
            "  inflating: input/seq01/frame0069.jpg  \n",
            "  inflating: input/seq01/frame0070.jpg  \n",
            "  inflating: input/seq01/frame0071.jpg  \n",
            "  inflating: input/seq01/frame0072.jpg  \n",
            "  inflating: input/seq01/frame0073.jpg  \n",
            "  inflating: input/seq01/frame0074.jpg  \n",
            "  inflating: input/seq01/frame0075.jpg  \n",
            "  inflating: input/seq01/frame0076.jpg  \n",
            "  inflating: input/seq01/frame0077.jpg  \n",
            "  inflating: input/seq01/frame0078.jpg  \n",
            "  inflating: input/seq01/frame0079.jpg  \n",
            "  inflating: input/seq01/frame0080.jpg  \n",
            "  inflating: input/seq01/frame0081.jpg  \n",
            "  inflating: input/seq01/frame0082.jpg  \n",
            "  inflating: input/seq01/frame0083.jpg  \n",
            "  inflating: input/seq01/frame0084.jpg  \n",
            "  inflating: input/seq01/frame0085.jpg  \n",
            "  inflating: input/seq01/frame0086.jpg  \n",
            "  inflating: input/seq01/frame0087.jpg  \n",
            "  inflating: input/seq01/frame0088.jpg  \n",
            "  inflating: input/seq01/frame0089.jpg  \n",
            "  inflating: input/seq01/frame0090.jpg  \n",
            "  inflating: input/seq01/frame0091.jpg  \n",
            "  inflating: input/seq01/frame0092.jpg  \n",
            "  inflating: input/seq01/frame0093.jpg  \n",
            "  inflating: input/seq01/frame0094.jpg  \n",
            "  inflating: input/seq01/frame0095.jpg  \n",
            "  inflating: input/seq01/frame0096.jpg  \n",
            "  inflating: input/seq01/frame0097.jpg  \n",
            "  inflating: input/seq01/frame0098.jpg  \n",
            "  inflating: input/seq01/frame0099.jpg  \n",
            "  inflating: input/seq01/frame0100.jpg  \n",
            "  inflating: input/seq01/frame0101.jpg  \n",
            "  inflating: input/seq01/frame0102.jpg  \n",
            "  inflating: input/seq01/frame0103.jpg  \n",
            "  inflating: input/seq01/frame0104.jpg  \n",
            "  inflating: input/seq01/frame0105.jpg  \n",
            "  inflating: input/seq01/frame0106.jpg  \n",
            "  inflating: input/seq01/frame0107.jpg  \n",
            "  inflating: input/seq01/frame0108.jpg  \n",
            "  inflating: input/seq01/frame0109.jpg  \n",
            "  inflating: input/seq01/frame0110.jpg  \n",
            "  inflating: input/seq01/frame0111.jpg  \n",
            "  inflating: input/seq01/frame0112.jpg  \n",
            "  inflating: input/seq01/frame0113.jpg  \n",
            "  inflating: input/seq01/frame0114.jpg  \n",
            "  inflating: input/seq01/frame0115.jpg  \n",
            "  inflating: input/seq01/frame0116.jpg  \n",
            "  inflating: input/seq01/frame0117.jpg  \n",
            "  inflating: input/seq01/frame0118.jpg  \n",
            "  inflating: input/seq01/frame0119.jpg  \n",
            "  inflating: input/seq01/frame0120.jpg  \n",
            "  inflating: input/seq01/frame0121.jpg  \n",
            "  inflating: input/seq01/frame0122.jpg  \n",
            "  inflating: input/seq01/frame0123.jpg  \n",
            "  inflating: input/seq01/frame0124.jpg  \n",
            "  inflating: input/seq01/frame0125.jpg  \n",
            "  inflating: input/seq01/frame0126.jpg  \n",
            "  inflating: input/seq01/frame0127.jpg  \n",
            "  inflating: input/seq01/frame0128.jpg  \n",
            "  inflating: input/seq01/frame0129.jpg  \n",
            "  inflating: input/seq01/frame0130.jpg  \n",
            "  inflating: input/seq01/frame0131.jpg  \n",
            "  inflating: input/seq01/frame0132.jpg  \n",
            "  inflating: input/seq01/frame0133.jpg  \n",
            "  inflating: input/seq01/frame0134.jpg  \n",
            "  inflating: input/seq01/frame0135.jpg  \n",
            "  inflating: input/seq01/frame0136.jpg  \n",
            "  inflating: input/seq01/frame0137.jpg  \n",
            "  inflating: input/seq01/frame0138.jpg  \n",
            "  inflating: input/seq01/frame0139.jpg  \n",
            "  inflating: input/seq01/frame0140.jpg  \n",
            "  inflating: input/seq01/frame0141.jpg  \n",
            "  inflating: input/seq01/frame0142.jpg  \n",
            "  inflating: input/seq01/frame0143.jpg  \n",
            "  inflating: input/seq01/frame0144.jpg  \n",
            "  inflating: input/seq01/frame0145.jpg  \n",
            "  inflating: input/seq01/frame0146.jpg  \n",
            "  inflating: input/seq01/frame0147.jpg  \n",
            "  inflating: input/seq01/frame0148.jpg  \n",
            "  inflating: input/seq01/frame0149.jpg  \n",
            "  inflating: input/seq01/frame0150.jpg  \n",
            "  inflating: input/seq01/frame0151.jpg  \n",
            "  inflating: input/seq01/frame0152.jpg  \n",
            "  inflating: input/seq01/frame0153.jpg  \n",
            "  inflating: input/seq01/frame0154.jpg  \n",
            "  inflating: input/seq01/frame0155.jpg  \n",
            "  inflating: input/seq01/frame0156.jpg  \n",
            "  inflating: input/seq01/frame0157.jpg  \n",
            "  inflating: input/seq01/frame0158.jpg  \n",
            "  inflating: input/seq01/frame0159.jpg  \n",
            "  inflating: input/seq01/frame0160.jpg  \n",
            "  inflating: input/seq01/frame0161.jpg  \n",
            "  inflating: input/seq01/frame0162.jpg  \n",
            "  inflating: input/seq01/frame0163.jpg  \n",
            "  inflating: input/seq01/frame0164.jpg  \n",
            "  inflating: input/seq01/frame0165.jpg  \n",
            "  inflating: input/seq01/frame0166.jpg  \n",
            "  inflating: input/seq01/frame0167.jpg  \n",
            "  inflating: input/seq01/frame0168.jpg  \n",
            "  inflating: input/seq01/frame0169.jpg  \n",
            "  inflating: input/seq01/frame0170.jpg  \n",
            "  inflating: input/seq01/frame0171.jpg  \n",
            "  inflating: input/seq01/frame0172.jpg  \n",
            "  inflating: input/seq01/frame0173.jpg  \n",
            "  inflating: input/seq01/frame0174.jpg  \n",
            "  inflating: input/seq01/frame0175.jpg  \n",
            "  inflating: input/seq01/frame0176.jpg  \n",
            "  inflating: input/seq01/frame0177.jpg  \n",
            "  inflating: input/seq01/frame0178.jpg  \n",
            "  inflating: input/seq01/frame0179.jpg  \n",
            "  inflating: input/seq01/frame0180.jpg  \n",
            "  inflating: input/seq01/frame0181.jpg  \n",
            "  inflating: input/seq01/frame0182.jpg  \n",
            "  inflating: input/seq01/frame0183.jpg  \n",
            "  inflating: input/seq01/frame0184.jpg  \n",
            "  inflating: input/seq01/frame0185.jpg  \n",
            "  inflating: input/seq01/frame0186.jpg  \n",
            "  inflating: input/seq01/frame0187.jpg  \n",
            "  inflating: input/seq01/frame0188.jpg  \n",
            "  inflating: input/seq01/frame0189.jpg  \n",
            "  inflating: input/seq01/frame0190.jpg  \n",
            "  inflating: input/seq01/frame0191.jpg  \n",
            "  inflating: input/seq01/frame0192.jpg  \n",
            "  inflating: input/seq01/frame0193.jpg  \n",
            "  inflating: input/seq01/frame0194.jpg  \n",
            "  inflating: input/seq01/frame0195.jpg  \n",
            "  inflating: input/seq01/frame0196.jpg  \n",
            "  inflating: input/seq01/frame0197.jpg  \n",
            "  inflating: input/seq01/frame0198.jpg  \n",
            "  inflating: input/seq01/frame0199.jpg  \n",
            "  inflating: input/seq01/frame0200.jpg  \n",
            "  inflating: input/seq01/frame0201.jpg  \n",
            "  inflating: input/seq01/frame0202.jpg  \n",
            "  inflating: input/seq01/frame0203.jpg  \n",
            "  inflating: input/seq01/frame0204.jpg  \n",
            "  inflating: input/seq01/frame0205.jpg  \n",
            "  inflating: input/seq01/frame0206.jpg  \n",
            "  inflating: input/seq01/frame0207.jpg  \n",
            "  inflating: input/seq01/frame0208.jpg  \n",
            "  inflating: input/seq01/frame0209.jpg  \n",
            "  inflating: input/seq01/frame0210.jpg  \n",
            "  inflating: input/seq01/frame0211.jpg  \n",
            "  inflating: input/seq01/frame0212.jpg  \n",
            "  inflating: input/seq01/frame0213.jpg  \n",
            "  inflating: input/seq01/frame0214.jpg  \n",
            "  inflating: input/seq01/frame0215.jpg  \n",
            "  inflating: input/seq01/frame0216.jpg  \n",
            "  inflating: input/seq01/frame0217.jpg  \n",
            "  inflating: input/seq01/frame0218.jpg  \n",
            "  inflating: input/seq01/frame0219.jpg  \n",
            "  inflating: input/seq01/frame0220.jpg  \n",
            "  inflating: input/seq01/frame0221.jpg  \n",
            "  inflating: input/seq01/frame0222.jpg  \n",
            "  inflating: input/seq01/frame0223.jpg  \n",
            "  inflating: input/seq01/frame0224.jpg  \n",
            "  inflating: input/seq01/frame0225.jpg  \n",
            "  inflating: input/seq01/frame0226.jpg  \n",
            "  inflating: input/seq01/frame0227.jpg  \n",
            "  inflating: input/seq01/frame0228.jpg  \n",
            "  inflating: input/seq01/frame0229.jpg  \n",
            "  inflating: input/seq01/frame0230.jpg  \n",
            "  inflating: input/seq01/frame0231.jpg  \n",
            "  inflating: input/seq01/frame0232.jpg  \n",
            "  inflating: input/seq01/frame0233.jpg  \n",
            "  inflating: input/seq01/frame0234.jpg  \n",
            "  inflating: input/seq01/frame0235.jpg  \n",
            "  inflating: input/seq01/frame0236.jpg  \n",
            "  inflating: input/seq01/frame0237.jpg  \n",
            "  inflating: input/seq01/frame0238.jpg  \n",
            "  inflating: input/seq01/frame0239.jpg  \n",
            "  inflating: input/seq01/frame0240.jpg  \n",
            "  inflating: input/seq01/frame0241.jpg  \n",
            "  inflating: input/seq01/frame0242.jpg  \n",
            "  inflating: input/seq01/frame0243.jpg  \n",
            "  inflating: input/seq01/frame0244.jpg  \n",
            "  inflating: input/seq01/frame0245.jpg  \n",
            "  inflating: input/seq01/frame0246.jpg  \n",
            "  inflating: input/seq01/frame0247.jpg  \n",
            "  inflating: input/seq01/frame0248.jpg  \n",
            "  inflating: input/seq01/frame0249.jpg  \n",
            "  inflating: input/seq01/frame0250.jpg  \n",
            "  inflating: input/seq01/frame0251.jpg  \n",
            "  inflating: input/seq01/frame0252.jpg  \n",
            "  inflating: input/seq01/frame0253.jpg  \n",
            "  inflating: input/seq01/frame0254.jpg  \n",
            "  inflating: input/seq01/frame0255.jpg  \n",
            "  inflating: input/seq01/frame0256.jpg  \n",
            "  inflating: input/seq01/frame0257.jpg  \n",
            "  inflating: input/seq01/frame0258.jpg  \n",
            "  inflating: input/seq01/frame0259.jpg  \n",
            "  inflating: input/seq01/frame0260.jpg  \n",
            "  inflating: input/seq01/frame0261.jpg  \n",
            "  inflating: input/seq01/frame0262.jpg  \n",
            "  inflating: input/seq01/frame0263.jpg  \n",
            "  inflating: input/seq01/frame0264.jpg  \n",
            "  inflating: input/seq01/frame0265.jpg  \n",
            "  inflating: input/seq01/frame0266.jpg  \n",
            "  inflating: input/seq01/frame0267.jpg  \n",
            "  inflating: input/seq01/frame0268.jpg  \n",
            "  inflating: input/seq01/frame0269.jpg  \n",
            "  inflating: input/seq01/frame0270.jpg  \n",
            "  inflating: input/seq01/frame0271.jpg  \n",
            "  inflating: input/seq01/frame0272.jpg  \n",
            "  inflating: input/seq01/frame0273.jpg  \n",
            "  inflating: input/seq01/frame0274.jpg  \n",
            "  inflating: input/seq01/frame0275.jpg  \n",
            "  inflating: input/seq01/frame0276.jpg  \n",
            "  inflating: input/seq01/frame0277.jpg  \n",
            "  inflating: input/seq01/frame0278.jpg  \n",
            "  inflating: input/seq01/frame0279.jpg  \n",
            "  inflating: input/seq01/frame0280.jpg  \n",
            "  inflating: input/seq01/frame0281.jpg  \n",
            "  inflating: input/seq01/frame0282.jpg  \n",
            "  inflating: input/seq01/frame0283.jpg  \n",
            "  inflating: input/seq01/frame0284.jpg  \n",
            "  inflating: input/seq01/frame0285.jpg  \n",
            "  inflating: input/seq01/frame0286.jpg  \n",
            "  inflating: input/seq01/frame0287.jpg  \n",
            "  inflating: input/seq01/frame0288.jpg  \n",
            "  inflating: input/seq01/frame0289.jpg  \n",
            "  inflating: input/seq01/frame0290.jpg  \n",
            "  inflating: input/seq01/frame0291.jpg  \n",
            "  inflating: input/seq01/frame0292.jpg  \n",
            "  inflating: input/seq01/frame0293.jpg  \n",
            "  inflating: input/seq01/frame0294.jpg  \n",
            "  inflating: input/seq01/frame0295.jpg  \n",
            "  inflating: input/seq01/frame0296.jpg  \n",
            "  inflating: input/seq01/frame0297.jpg  \n",
            "  inflating: input/seq01/frame0298.jpg  \n",
            "  inflating: input/seq01/frame0299.jpg  \n",
            "  inflating: input/seq01/frame0300.jpg  \n",
            "  inflating: input/seq01/frame0301.jpg  \n",
            "  inflating: input/seq01/frame0302.jpg  \n",
            "  inflating: input/seq02/annotations.txt  \n",
            "  inflating: input/seq02/frame0001.jpg  \n",
            "  inflating: input/seq02/frame0002.jpg  \n",
            "  inflating: input/seq02/frame0003.jpg  \n",
            "  inflating: input/seq02/frame0004.jpg  \n",
            "  inflating: input/seq02/frame0005.jpg  \n",
            "  inflating: input/seq02/frame0006.jpg  \n",
            "  inflating: input/seq02/frame0007.jpg  \n",
            "  inflating: input/seq02/frame0008.jpg  \n",
            "  inflating: input/seq02/frame0009.jpg  \n",
            "  inflating: input/seq02/frame0010.jpg  \n",
            "  inflating: input/seq02/frame0011.jpg  \n",
            "  inflating: input/seq02/frame0012.jpg  \n",
            "  inflating: input/seq02/frame0013.jpg  \n",
            "  inflating: input/seq02/frame0014.jpg  \n",
            "  inflating: input/seq02/frame0015.jpg  \n",
            "  inflating: input/seq02/frame0016.jpg  \n",
            "  inflating: input/seq02/frame0017.jpg  \n",
            "  inflating: input/seq02/frame0018.jpg  \n",
            "  inflating: input/seq02/frame0019.jpg  \n",
            "  inflating: input/seq02/frame0020.jpg  \n",
            "  inflating: input/seq02/frame0021.jpg  \n",
            "  inflating: input/seq02/frame0022.jpg  \n",
            "  inflating: input/seq02/frame0023.jpg  \n",
            "  inflating: input/seq02/frame0024.jpg  \n",
            "  inflating: input/seq02/frame0025.jpg  \n",
            "  inflating: input/seq02/frame0026.jpg  \n",
            "  inflating: input/seq02/frame0027.jpg  \n",
            "  inflating: input/seq02/frame0028.jpg  \n",
            "  inflating: input/seq02/frame0029.jpg  \n",
            "  inflating: input/seq02/frame0030.jpg  \n",
            "  inflating: input/seq02/frame0031.jpg  \n",
            "  inflating: input/seq02/frame0032.jpg  \n",
            "  inflating: input/seq02/frame0033.jpg  \n",
            "  inflating: input/seq02/frame0034.jpg  \n",
            "  inflating: input/seq02/frame0035.jpg  \n",
            "  inflating: input/seq02/frame0036.jpg  \n",
            "  inflating: input/seq02/frame0037.jpg  \n",
            "  inflating: input/seq02/frame0038.jpg  \n",
            "  inflating: input/seq02/frame0039.jpg  \n",
            "  inflating: input/seq02/frame0040.jpg  \n",
            "  inflating: input/seq02/frame0041.jpg  \n",
            "  inflating: input/seq02/frame0042.jpg  \n",
            "  inflating: input/seq02/frame0043.jpg  \n",
            "  inflating: input/seq02/frame0044.jpg  \n",
            "  inflating: input/seq02/frame0045.jpg  \n",
            "  inflating: input/seq02/frame0046.jpg  \n",
            "  inflating: input/seq02/frame0047.jpg  \n",
            "  inflating: input/seq02/frame0048.jpg  \n",
            "  inflating: input/seq02/frame0049.jpg  \n",
            "  inflating: input/seq02/frame0050.jpg  \n",
            "  inflating: input/seq02/frame0051.jpg  \n",
            "  inflating: input/seq02/frame0052.jpg  \n",
            "  inflating: input/seq02/frame0053.jpg  \n",
            "  inflating: input/seq02/frame0054.jpg  \n",
            "  inflating: input/seq02/frame0055.jpg  \n",
            "  inflating: input/seq02/frame0056.jpg  \n",
            "  inflating: input/seq02/frame0057.jpg  \n",
            "  inflating: input/seq02/frame0058.jpg  \n",
            "  inflating: input/seq02/frame0059.jpg  \n",
            "  inflating: input/seq02/frame0060.jpg  \n",
            "  inflating: input/seq02/frame0061.jpg  \n",
            "  inflating: input/seq02/frame0062.jpg  \n",
            "  inflating: input/seq02/frame0063.jpg  \n",
            "  inflating: input/seq02/frame0064.jpg  \n",
            "  inflating: input/seq02/frame0065.jpg  \n",
            "  inflating: input/seq02/frame0066.jpg  \n",
            "  inflating: input/seq02/frame0067.jpg  \n",
            "  inflating: input/seq02/frame0068.jpg  \n",
            "  inflating: input/seq02/frame0069.jpg  \n",
            "  inflating: input/seq02/frame0070.jpg  \n",
            "  inflating: input/seq02/frame0071.jpg  \n",
            "  inflating: input/seq02/frame0072.jpg  \n",
            "  inflating: input/seq02/frame0073.jpg  \n",
            "  inflating: input/seq02/frame0074.jpg  \n",
            "  inflating: input/seq02/frame0075.jpg  \n",
            "  inflating: input/seq02/frame0076.jpg  \n",
            "  inflating: input/seq02/frame0077.jpg  \n",
            "  inflating: input/seq02/frame0078.jpg  \n",
            "  inflating: input/seq02/frame0079.jpg  \n",
            "  inflating: input/seq02/frame0080.jpg  \n",
            "  inflating: input/seq02/frame0081.jpg  \n",
            "  inflating: input/seq02/frame0082.jpg  \n",
            "  inflating: input/seq02/frame0083.jpg  \n",
            "  inflating: input/seq02/frame0084.jpg  \n",
            "  inflating: input/seq02/frame0085.jpg  \n",
            "  inflating: input/seq02/frame0086.jpg  \n",
            "  inflating: input/seq02/frame0087.jpg  \n",
            "  inflating: input/seq02/frame0088.jpg  \n",
            "  inflating: input/seq02/frame0089.jpg  \n",
            "  inflating: input/seq02/frame0090.jpg  \n",
            "  inflating: input/seq02/frame0091.jpg  \n",
            "  inflating: input/seq02/frame0092.jpg  \n",
            "  inflating: input/seq02/frame0093.jpg  \n",
            "  inflating: input/seq02/frame0094.jpg  \n",
            "  inflating: input/seq02/frame0095.jpg  \n",
            "  inflating: input/seq02/frame0096.jpg  \n",
            "  inflating: input/seq02/frame0097.jpg  \n",
            "  inflating: input/seq02/frame0098.jpg  \n",
            "  inflating: input/seq02/frame0099.jpg  \n",
            "  inflating: input/seq02/frame0100.jpg  \n",
            "  inflating: input/seq02/frame0101.jpg  \n",
            "  inflating: input/seq02/frame0102.jpg  \n",
            "  inflating: input/seq02/frame0103.jpg  \n",
            "  inflating: input/seq02/frame0104.jpg  \n",
            "  inflating: input/seq02/frame0105.jpg  \n",
            "  inflating: input/seq02/frame0106.jpg  \n",
            "  inflating: input/seq02/frame0107.jpg  \n",
            "  inflating: input/seq02/frame0108.jpg  \n",
            "  inflating: input/seq02/frame0109.jpg  \n",
            "  inflating: input/seq02/frame0110.jpg  \n",
            "  inflating: input/seq02/frame0111.jpg  \n",
            "  inflating: input/seq02/frame0112.jpg  \n",
            "  inflating: input/seq02/frame0113.jpg  \n",
            "  inflating: input/seq02/frame0114.jpg  \n",
            "  inflating: input/seq02/frame0115.jpg  \n",
            "  inflating: input/seq02/frame0116.jpg  \n",
            "  inflating: input/seq02/frame0117.jpg  \n",
            "  inflating: input/seq02/frame0118.jpg  \n",
            "  inflating: input/seq02/frame0119.jpg  \n",
            "  inflating: input/seq02/frame0120.jpg  \n",
            "  inflating: input/seq02/frame0121.jpg  \n",
            "  inflating: input/seq02/frame0122.jpg  \n",
            "  inflating: input/seq02/frame0123.jpg  \n",
            "  inflating: input/seq02/frame0124.jpg  \n",
            "  inflating: input/seq02/frame0125.jpg  \n",
            "  inflating: input/seq02/frame0126.jpg  \n",
            "  inflating: input/seq02/frame0127.jpg  \n",
            "  inflating: input/seq02/frame0128.jpg  \n",
            "  inflating: input/seq02/frame0129.jpg  \n",
            "  inflating: input/seq02/frame0130.jpg  \n",
            "  inflating: input/seq02/frame0131.jpg  \n",
            "  inflating: input/seq02/frame0132.jpg  \n",
            "  inflating: input/seq02/frame0133.jpg  \n",
            "  inflating: input/seq02/frame0134.jpg  \n",
            "  inflating: input/seq02/frame0135.jpg  \n",
            "  inflating: input/seq02/frame0136.jpg  \n",
            "  inflating: input/seq02/frame0137.jpg  \n",
            "  inflating: input/seq02/frame0138.jpg  \n",
            "  inflating: input/seq02/frame0139.jpg  \n",
            "  inflating: input/seq02/frame0140.jpg  \n",
            "  inflating: input/seq02/frame0141.jpg  \n",
            "  inflating: input/seq02/frame0142.jpg  \n",
            "  inflating: input/seq02/frame0143.jpg  \n",
            "  inflating: input/seq02/frame0144.jpg  \n",
            "  inflating: input/seq02/frame0145.jpg  \n",
            "  inflating: input/seq02/frame0146.jpg  \n",
            "  inflating: input/seq02/frame0147.jpg  \n",
            "  inflating: input/seq02/frame0148.jpg  \n",
            "  inflating: input/seq02/frame0149.jpg  \n",
            "  inflating: input/seq02/frame0150.jpg  \n",
            "  inflating: input/seq02/frame0151.jpg  \n",
            "  inflating: input/seq02/frame0152.jpg  \n",
            "  inflating: input/seq02/frame0153.jpg  \n",
            "  inflating: input/seq02/frame0154.jpg  \n",
            "  inflating: input/seq02/frame0155.jpg  \n",
            "  inflating: input/seq02/frame0156.jpg  \n",
            "  inflating: input/seq02/frame0157.jpg  \n",
            "  inflating: input/seq02/frame0158.jpg  \n",
            "  inflating: input/seq02/frame0159.jpg  \n",
            "  inflating: input/seq02/frame0160.jpg  \n",
            "  inflating: input/seq02/frame0161.jpg  \n",
            "  inflating: input/seq02/frame0162.jpg  \n",
            "  inflating: input/seq02/frame0163.jpg  \n",
            "  inflating: input/seq02/frame0164.jpg  \n",
            "  inflating: input/seq02/frame0165.jpg  \n",
            "  inflating: input/seq02/frame0166.jpg  \n",
            "  inflating: input/seq02/frame0167.jpg  \n",
            "  inflating: input/seq02/frame0168.jpg  \n",
            "  inflating: input/seq02/frame0169.jpg  \n",
            "  inflating: input/seq02/frame0170.jpg  \n",
            "  inflating: input/seq02/frame0171.jpg  \n",
            "  inflating: input/seq02/frame0172.jpg  \n",
            "  inflating: input/seq02/frame0173.jpg  \n",
            "  inflating: input/seq02/frame0174.jpg  \n",
            "  inflating: input/seq02/frame0175.jpg  \n",
            "  inflating: input/seq02/frame0176.jpg  \n",
            "  inflating: input/seq02/frame0177.jpg  \n",
            "  inflating: input/seq02/frame0178.jpg  \n",
            "  inflating: input/seq02/frame0179.jpg  \n",
            "  inflating: input/seq02/frame0180.jpg  \n",
            "  inflating: input/seq02/frame0181.jpg  \n",
            "  inflating: input/seq02/frame0182.jpg  \n",
            "  inflating: input/seq02/frame0183.jpg  \n",
            "  inflating: input/seq02/frame0184.jpg  \n",
            "  inflating: input/seq02/frame0185.jpg  \n",
            "  inflating: input/seq02/frame0186.jpg  \n",
            "  inflating: input/seq02/frame0187.jpg  \n",
            "  inflating: input/seq02/frame0188.jpg  \n",
            "  inflating: input/seq02/frame0189.jpg  \n",
            "  inflating: input/seq02/frame0190.jpg  \n",
            "  inflating: input/seq02/frame0191.jpg  \n",
            "  inflating: input/seq02/frame0192.jpg  \n",
            "  inflating: input/seq02/frame0193.jpg  \n",
            "  inflating: input/seq02/frame0194.jpg  \n",
            "  inflating: input/seq02/frame0195.jpg  \n",
            "  inflating: input/seq02/frame0196.jpg  \n",
            "  inflating: input/seq02/frame0197.jpg  \n",
            "  inflating: input/seq02/frame0198.jpg  \n",
            "  inflating: input/seq02/frame0199.jpg  \n",
            "  inflating: input/seq02/frame0200.jpg  \n",
            "  inflating: input/seq02/frame0201.jpg  \n",
            "  inflating: input/seq02/frame0202.jpg  \n",
            "  inflating: input/seq02/frame0203.jpg  \n",
            "  inflating: input/seq02/frame0204.jpg  \n",
            "  inflating: input/seq02/frame0205.jpg  \n",
            "  inflating: input/seq02/frame0206.jpg  \n",
            "  inflating: input/seq02/frame0207.jpg  \n",
            "  inflating: input/seq02/frame0208.jpg  \n",
            "  inflating: input/seq02/frame0209.jpg  \n",
            "  inflating: input/seq02/frame0210.jpg  \n",
            "  inflating: input/seq02/frame0211.jpg  \n",
            "  inflating: input/seq02/frame0212.jpg  \n",
            "  inflating: input/seq02/frame0213.jpg  \n",
            "  inflating: input/seq02/frame0214.jpg  \n",
            "  inflating: input/seq02/frame0215.jpg  \n",
            "  inflating: input/seq02/frame0216.jpg  \n",
            "  inflating: input/seq02/frame0217.jpg  \n",
            "  inflating: input/seq02/frame0218.jpg  \n",
            "  inflating: input/seq02/frame0219.jpg  \n",
            "  inflating: input/seq02/frame0220.jpg  \n",
            "  inflating: input/seq02/frame0221.jpg  \n",
            "  inflating: input/seq02/frame0222.jpg  \n",
            "  inflating: input/seq02/frame0223.jpg  \n",
            "  inflating: input/seq02/frame0224.jpg  \n",
            "  inflating: input/seq02/frame0225.jpg  \n",
            "  inflating: input/seq02/frame0226.jpg  \n",
            "  inflating: input/seq02/frame0227.jpg  \n",
            "  inflating: input/seq02/frame0228.jpg  \n",
            "  inflating: input/seq02/frame0229.jpg  \n",
            "  inflating: input/seq02/frame0230.jpg  \n",
            "  inflating: input/seq02/frame0231.jpg  \n",
            "  inflating: input/seq02/frame0232.jpg  \n",
            "  inflating: input/seq02/frame0233.jpg  \n",
            "  inflating: input/seq02/frame0234.jpg  \n",
            "  inflating: input/seq02/frame0235.jpg  \n",
            "  inflating: input/seq02/frame0236.jpg  \n",
            "  inflating: input/seq02/frame0237.jpg  \n",
            "  inflating: input/seq02/frame0238.jpg  \n",
            "  inflating: input/seq02/frame0239.jpg  \n",
            "  inflating: input/seq02/frame0240.jpg  \n",
            "  inflating: input/seq02/frame0241.jpg  \n",
            "  inflating: input/seq02/frame0242.jpg  \n",
            "  inflating: input/seq02/frame0243.jpg  \n",
            "  inflating: input/seq02/frame0244.jpg  \n",
            "  inflating: input/seq02/frame0245.jpg  \n",
            "  inflating: input/seq02/frame0246.jpg  \n",
            "  inflating: input/seq02/frame0247.jpg  \n",
            "  inflating: input/seq02/frame0248.jpg  \n",
            "  inflating: input/seq02/frame0249.jpg  \n",
            "  inflating: input/seq02/frame0250.jpg  \n",
            "  inflating: input/seq02/frame0251.jpg  \n",
            "  inflating: input/seq02/frame0252.jpg  \n",
            "  inflating: input/seq02/frame0253.jpg  \n",
            "  inflating: input/seq02/frame0254.jpg  \n",
            "  inflating: input/seq02/frame0255.jpg  \n",
            "  inflating: input/seq02/frame0256.jpg  \n",
            "  inflating: input/seq02/frame0257.jpg  \n",
            "  inflating: input/seq02/frame0258.jpg  \n",
            "  inflating: input/seq02/frame0259.jpg  \n",
            "  inflating: input/seq02/frame0260.jpg  \n",
            "  inflating: input/seq02/frame0261.jpg  \n",
            "  inflating: input/seq02/frame0262.jpg  \n",
            "  inflating: input/seq02/frame0263.jpg  \n",
            "  inflating: input/seq02/frame0264.jpg  \n",
            "  inflating: input/seq02/frame0265.jpg  \n",
            "  inflating: input/seq02/frame0266.jpg  \n",
            "  inflating: input/seq02/frame0267.jpg  \n",
            "  inflating: input/seq02/frame0268.jpg  \n",
            "  inflating: input/seq02/frame0269.jpg  \n",
            "  inflating: input/seq02/frame0270.jpg  \n",
            "  inflating: input/seq02/frame0271.jpg  \n",
            "  inflating: input/seq02/frame0272.jpg  \n",
            "  inflating: input/seq02/frame0273.jpg  \n",
            "  inflating: input/seq02/frame0274.jpg  \n",
            "  inflating: input/seq02/frame0275.jpg  \n",
            "  inflating: input/seq02/frame0276.jpg  \n",
            "  inflating: input/seq02/frame0277.jpg  \n",
            "  inflating: input/seq02/frame0278.jpg  \n",
            "  inflating: input/seq02/frame0279.jpg  \n",
            "  inflating: input/seq02/frame0280.jpg  \n",
            "  inflating: input/seq02/frame0281.jpg  \n",
            "  inflating: input/seq02/frame0282.jpg  \n",
            "  inflating: input/seq02/frame0283.jpg  \n",
            "  inflating: input/seq02/frame0284.jpg  \n",
            "  inflating: input/seq02/frame0285.jpg  \n",
            "  inflating: input/seq02/frame0286.jpg  \n",
            "  inflating: input/seq02/frame0287.jpg  \n",
            "  inflating: input/seq02/frame0288.jpg  \n",
            "  inflating: input/seq02/frame0289.jpg  \n",
            "  inflating: input/seq02/frame0290.jpg  \n",
            "  inflating: input/seq02/frame0291.jpg  \n",
            "  inflating: input/seq02/frame0292.jpg  \n",
            "  inflating: input/seq02/frame0293.jpg  \n",
            "  inflating: input/seq02/frame0294.jpg  \n",
            "  inflating: input/seq02/frame0295.jpg  \n",
            "  inflating: input/seq02/frame0296.jpg  \n",
            "  inflating: input/seq02/frame0297.jpg  \n",
            "  inflating: input/seq02/frame0298.jpg  \n",
            "  inflating: input/seq02/frame0299.jpg  \n",
            "  inflating: input/seq02/frame0300.jpg  \n",
            "  inflating: input/seq02/frame0301.jpg  \n",
            "  inflating: input/seq02/frame0302.jpg  \n",
            "  inflating: input/seq02/frame0303.jpg  \n",
            "  inflating: input/seq02/frame0304.jpg  \n",
            "  inflating: input/seq02/frame0305.jpg  \n",
            "  inflating: input/seq02/frame0306.jpg  \n",
            "  inflating: input/seq02/frame0307.jpg  \n",
            "  inflating: input/seq02/frame0308.jpg  \n",
            "  inflating: input/seq02/frame0309.jpg  \n",
            "  inflating: input/seq02/frame0310.jpg  \n",
            "  inflating: input/seq02/frame0311.jpg  \n",
            "  inflating: input/seq02/frame0312.jpg  \n",
            "  inflating: input/seq02/frame0313.jpg  \n",
            "  inflating: input/seq02/frame0314.jpg  \n",
            "  inflating: input/seq02/frame0315.jpg  \n",
            "  inflating: input/seq02/frame0316.jpg  \n",
            "  inflating: input/seq02/frame0317.jpg  \n",
            "  inflating: input/seq02/frame0318.jpg  \n",
            "  inflating: input/seq02/frame0319.jpg  \n",
            "  inflating: input/seq02/frame0320.jpg  \n",
            "  inflating: input/seq02/frame0321.jpg  \n",
            "  inflating: input/seq02/frame0322.jpg  \n",
            "  inflating: input/seq02/frame0323.jpg  \n",
            "  inflating: input/seq02/frame0324.jpg  \n",
            "  inflating: input/seq02/frame0325.jpg  \n",
            "  inflating: input/seq02/frame0326.jpg  \n",
            "  inflating: input/seq02/frame0327.jpg  \n",
            "  inflating: input/seq02/frame0328.jpg  \n",
            "  inflating: input/seq02/frame0329.jpg  \n",
            "  inflating: input/seq02/frame0330.jpg  \n",
            "  inflating: input/seq02/frame0331.jpg  \n",
            "  inflating: input/seq02/frame0332.jpg  \n",
            "  inflating: input/seq02/frame0333.jpg  \n",
            "  inflating: input/seq02/frame0334.jpg  \n",
            "  inflating: input/seq02/frame0335.jpg  \n",
            "  inflating: input/seq02/frame0336.jpg  \n",
            "  inflating: input/seq02/frame0337.jpg  \n",
            "  inflating: input/seq02/frame0338.jpg  \n",
            "  inflating: input/seq02/frame0339.jpg  \n",
            "  inflating: input/seq02/frame0340.jpg  \n",
            "  inflating: input/seq02/frame0341.jpg  \n",
            "  inflating: input/seq02/frame0342.jpg  \n",
            "  inflating: input/seq02/frame0343.jpg  \n",
            "  inflating: input/seq02/frame0344.jpg  \n",
            "  inflating: input/seq02/frame0345.jpg  \n",
            "  inflating: input/seq02/frame0346.jpg  \n",
            "  inflating: input/seq02/frame0347.jpg  \n",
            "  inflating: input/seq03/annotations.txt  \n",
            "  inflating: input/seq03/frame0001.jpg  \n",
            "  inflating: input/seq03/frame0002.jpg  \n",
            "  inflating: input/seq03/frame0003.jpg  \n",
            "  inflating: input/seq03/frame0004.jpg  \n",
            "  inflating: input/seq03/frame0005.jpg  \n",
            "  inflating: input/seq03/frame0006.jpg  \n",
            "  inflating: input/seq03/frame0007.jpg  \n",
            "  inflating: input/seq03/frame0008.jpg  \n",
            "  inflating: input/seq03/frame0009.jpg  \n",
            "  inflating: input/seq03/frame0010.jpg  \n",
            "  inflating: input/seq03/frame0011.jpg  \n",
            "  inflating: input/seq03/frame0012.jpg  \n",
            "  inflating: input/seq03/frame0013.jpg  \n",
            "  inflating: input/seq03/frame0014.jpg  \n",
            "  inflating: input/seq03/frame0015.jpg  \n",
            "  inflating: input/seq03/frame0016.jpg  \n",
            "  inflating: input/seq03/frame0017.jpg  \n",
            "  inflating: input/seq03/frame0018.jpg  \n",
            "  inflating: input/seq03/frame0019.jpg  \n",
            "  inflating: input/seq03/frame0020.jpg  \n",
            "  inflating: input/seq03/frame0021.jpg  \n",
            "  inflating: input/seq03/frame0022.jpg  \n",
            "  inflating: input/seq03/frame0023.jpg  \n",
            "  inflating: input/seq03/frame0024.jpg  \n",
            "  inflating: input/seq03/frame0025.jpg  \n",
            "  inflating: input/seq03/frame0026.jpg  \n",
            "  inflating: input/seq03/frame0027.jpg  \n",
            "  inflating: input/seq03/frame0028.jpg  \n",
            "  inflating: input/seq03/frame0029.jpg  \n",
            "  inflating: input/seq03/frame0030.jpg  \n",
            "  inflating: input/seq03/frame0031.jpg  \n",
            "  inflating: input/seq03/frame0032.jpg  \n",
            "  inflating: input/seq03/frame0033.jpg  \n",
            "  inflating: input/seq03/frame0034.jpg  \n",
            "  inflating: input/seq03/frame0035.jpg  \n",
            "  inflating: input/seq03/frame0036.jpg  \n",
            "  inflating: input/seq03/frame0037.jpg  \n",
            "  inflating: input/seq03/frame0038.jpg  \n",
            "  inflating: input/seq03/frame0039.jpg  \n",
            "  inflating: input/seq03/frame0040.jpg  \n",
            "  inflating: input/seq03/frame0041.jpg  \n",
            "  inflating: input/seq03/frame0042.jpg  \n",
            "  inflating: input/seq03/frame0043.jpg  \n",
            "  inflating: input/seq03/frame0044.jpg  \n",
            "  inflating: input/seq03/frame0045.jpg  \n",
            "  inflating: input/seq03/frame0046.jpg  \n",
            "  inflating: input/seq03/frame0047.jpg  \n",
            "  inflating: input/seq03/frame0048.jpg  \n",
            "  inflating: input/seq03/frame0049.jpg  \n",
            "  inflating: input/seq03/frame0050.jpg  \n",
            "  inflating: input/seq03/frame0051.jpg  \n",
            "  inflating: input/seq03/frame0052.jpg  \n",
            "  inflating: input/seq03/frame0053.jpg  \n",
            "  inflating: input/seq03/frame0054.jpg  \n",
            "  inflating: input/seq03/frame0055.jpg  \n",
            "  inflating: input/seq03/frame0056.jpg  \n",
            "  inflating: input/seq03/frame0057.jpg  \n",
            "  inflating: input/seq03/frame0058.jpg  \n",
            "  inflating: input/seq03/frame0059.jpg  \n",
            "  inflating: input/seq03/frame0060.jpg  \n",
            "  inflating: input/seq03/frame0061.jpg  \n",
            "  inflating: input/seq03/frame0062.jpg  \n",
            "  inflating: input/seq03/frame0063.jpg  \n",
            "  inflating: input/seq03/frame0064.jpg  \n",
            "  inflating: input/seq03/frame0065.jpg  \n",
            "  inflating: input/seq03/frame0066.jpg  \n",
            "  inflating: input/seq03/frame0067.jpg  \n",
            "  inflating: input/seq03/frame0068.jpg  \n",
            "  inflating: input/seq03/frame0069.jpg  \n",
            "  inflating: input/seq03/frame0070.jpg  \n",
            "  inflating: input/seq03/frame0071.jpg  \n",
            "  inflating: input/seq03/frame0072.jpg  \n",
            "  inflating: input/seq03/frame0073.jpg  \n",
            "  inflating: input/seq03/frame0074.jpg  \n",
            "  inflating: input/seq03/frame0075.jpg  \n",
            "  inflating: input/seq03/frame0076.jpg  \n",
            "  inflating: input/seq03/frame0077.jpg  \n",
            "  inflating: input/seq03/frame0078.jpg  \n",
            "  inflating: input/seq03/frame0079.jpg  \n",
            "  inflating: input/seq03/frame0080.jpg  \n",
            "  inflating: input/seq03/frame0081.jpg  \n",
            "  inflating: input/seq03/frame0082.jpg  \n",
            "  inflating: input/seq03/frame0083.jpg  \n",
            "  inflating: input/seq03/frame0084.jpg  \n",
            "  inflating: input/seq03/frame0085.jpg  \n",
            "  inflating: input/seq03/frame0086.jpg  \n",
            "  inflating: input/seq03/frame0087.jpg  \n",
            "  inflating: input/seq03/frame0088.jpg  \n",
            "  inflating: input/seq03/frame0089.jpg  \n",
            "  inflating: input/seq03/frame0090.jpg  \n",
            "  inflating: input/seq03/frame0091.jpg  \n",
            "  inflating: input/seq03/frame0092.jpg  \n",
            "  inflating: input/seq03/frame0093.jpg  \n",
            "  inflating: input/seq03/frame0094.jpg  \n",
            "  inflating: input/seq03/frame0095.jpg  \n",
            "  inflating: input/seq03/frame0096.jpg  \n",
            "  inflating: input/seq03/frame0097.jpg  \n",
            "  inflating: input/seq03/frame0098.jpg  \n",
            "  inflating: input/seq03/frame0099.jpg  \n",
            "  inflating: input/seq03/frame0100.jpg  \n",
            "  inflating: input/seq03/frame0101.jpg  \n",
            "  inflating: input/seq03/frame0102.jpg  \n",
            "  inflating: input/seq03/frame0103.jpg  \n",
            "  inflating: input/seq03/frame0104.jpg  \n",
            "  inflating: input/seq03/frame0105.jpg  \n",
            "  inflating: input/seq03/frame0106.jpg  \n",
            "  inflating: input/seq03/frame0107.jpg  \n",
            "  inflating: input/seq03/frame0108.jpg  \n",
            "  inflating: input/seq03/frame0109.jpg  \n",
            "  inflating: input/seq03/frame0110.jpg  \n",
            "  inflating: input/seq03/frame0111.jpg  \n",
            "  inflating: input/seq03/frame0112.jpg  \n",
            "  inflating: input/seq03/frame0113.jpg  \n",
            "  inflating: input/seq03/frame0114.jpg  \n",
            "  inflating: input/seq03/frame0115.jpg  \n",
            "  inflating: input/seq03/frame0116.jpg  \n",
            "  inflating: input/seq03/frame0117.jpg  \n",
            "  inflating: input/seq03/frame0118.jpg  \n",
            "  inflating: input/seq03/frame0119.jpg  \n",
            "  inflating: input/seq03/frame0120.jpg  \n",
            "  inflating: input/seq03/frame0121.jpg  \n",
            "  inflating: input/seq03/frame0122.jpg  \n",
            "  inflating: input/seq03/frame0123.jpg  \n",
            "  inflating: input/seq03/frame0124.jpg  \n",
            "  inflating: input/seq03/frame0125.jpg  \n",
            "  inflating: input/seq03/frame0126.jpg  \n",
            "  inflating: input/seq03/frame0127.jpg  \n",
            "  inflating: input/seq03/frame0128.jpg  \n",
            "  inflating: input/seq03/frame0129.jpg  \n",
            "  inflating: input/seq03/frame0130.jpg  \n",
            "  inflating: input/seq03/frame0131.jpg  \n",
            "  inflating: input/seq03/frame0132.jpg  \n",
            "  inflating: input/seq03/frame0133.jpg  \n",
            "  inflating: input/seq03/frame0134.jpg  \n",
            "  inflating: input/seq03/frame0135.jpg  \n",
            "  inflating: input/seq03/frame0136.jpg  \n",
            "  inflating: input/seq03/frame0137.jpg  \n",
            "  inflating: input/seq03/frame0138.jpg  \n",
            "  inflating: input/seq03/frame0139.jpg  \n",
            "  inflating: input/seq03/frame0140.jpg  \n",
            "  inflating: input/seq03/frame0141.jpg  \n",
            "  inflating: input/seq03/frame0142.jpg  \n",
            "  inflating: input/seq03/frame0143.jpg  \n",
            "  inflating: input/seq03/frame0144.jpg  \n",
            "  inflating: input/seq03/frame0145.jpg  \n",
            "  inflating: input/seq03/frame0146.jpg  \n",
            "  inflating: input/seq03/frame0147.jpg  \n",
            "  inflating: input/seq03/frame0148.jpg  \n",
            "  inflating: input/seq03/frame0149.jpg  \n",
            "  inflating: input/seq03/frame0150.jpg  \n",
            "  inflating: input/seq03/frame0151.jpg  \n",
            "  inflating: input/seq03/frame0152.jpg  \n",
            "  inflating: input/seq03/frame0153.jpg  \n",
            "  inflating: input/seq03/frame0154.jpg  \n",
            "  inflating: input/seq03/frame0155.jpg  \n",
            "  inflating: input/seq03/frame0156.jpg  \n",
            "  inflating: input/seq03/frame0157.jpg  \n",
            "  inflating: input/seq03/frame0158.jpg  \n",
            "  inflating: input/seq03/frame0159.jpg  \n",
            "  inflating: input/seq03/frame0160.jpg  \n",
            "  inflating: input/seq03/frame0161.jpg  \n",
            "  inflating: input/seq03/frame0162.jpg  \n",
            "  inflating: input/seq03/frame0163.jpg  \n",
            "  inflating: input/seq03/frame0164.jpg  \n",
            "  inflating: input/seq03/frame0165.jpg  \n",
            "  inflating: input/seq03/frame0166.jpg  \n",
            "  inflating: input/seq03/frame0167.jpg  \n",
            "  inflating: input/seq03/frame0168.jpg  \n",
            "  inflating: input/seq03/frame0169.jpg  \n",
            "  inflating: input/seq03/frame0170.jpg  \n",
            "  inflating: input/seq03/frame0171.jpg  \n",
            "  inflating: input/seq03/frame0172.jpg  \n",
            "  inflating: input/seq03/frame0173.jpg  \n",
            "  inflating: input/seq03/frame0174.jpg  \n",
            "  inflating: input/seq03/frame0175.jpg  \n",
            "  inflating: input/seq03/frame0176.jpg  \n",
            "  inflating: input/seq03/frame0177.jpg  \n",
            "  inflating: input/seq03/frame0178.jpg  \n",
            "  inflating: input/seq03/frame0179.jpg  \n",
            "  inflating: input/seq03/frame0180.jpg  \n",
            "  inflating: input/seq03/frame0181.jpg  \n",
            "  inflating: input/seq03/frame0182.jpg  \n",
            "  inflating: input/seq03/frame0183.jpg  \n",
            "  inflating: input/seq03/frame0184.jpg  \n",
            "  inflating: input/seq03/frame0185.jpg  \n",
            "  inflating: input/seq03/frame0186.jpg  \n",
            "  inflating: input/seq03/frame0187.jpg  \n",
            "  inflating: input/seq03/frame0188.jpg  \n",
            "  inflating: input/seq03/frame0189.jpg  \n",
            "  inflating: input/seq03/frame0190.jpg  \n",
            "  inflating: input/seq03/frame0191.jpg  \n",
            "  inflating: input/seq03/frame0192.jpg  \n",
            "  inflating: input/seq03/frame0193.jpg  \n",
            "  inflating: input/seq03/frame0194.jpg  \n",
            "  inflating: input/seq04/annotations.txt  \n",
            "  inflating: input/seq04/frame0001.jpg  \n",
            "  inflating: input/seq04/frame0002.jpg  \n",
            "  inflating: input/seq04/frame0003.jpg  \n",
            "  inflating: input/seq04/frame0004.jpg  \n",
            "  inflating: input/seq04/frame0005.jpg  \n",
            "  inflating: input/seq04/frame0006.jpg  \n",
            "  inflating: input/seq04/frame0007.jpg  \n",
            "  inflating: input/seq04/frame0008.jpg  \n",
            "  inflating: input/seq04/frame0009.jpg  \n",
            "  inflating: input/seq04/frame0010.jpg  \n",
            "  inflating: input/seq04/frame0011.jpg  \n",
            "  inflating: input/seq04/frame0012.jpg  \n",
            "  inflating: input/seq04/frame0013.jpg  \n",
            "  inflating: input/seq04/frame0014.jpg  \n",
            "  inflating: input/seq04/frame0015.jpg  \n",
            "  inflating: input/seq04/frame0016.jpg  \n",
            "  inflating: input/seq04/frame0017.jpg  \n",
            "  inflating: input/seq04/frame0018.jpg  \n",
            "  inflating: input/seq04/frame0019.jpg  \n",
            "  inflating: input/seq04/frame0020.jpg  \n",
            "  inflating: input/seq04/frame0021.jpg  \n",
            "  inflating: input/seq04/frame0022.jpg  \n",
            "  inflating: input/seq04/frame0023.jpg  \n",
            "  inflating: input/seq04/frame0024.jpg  \n",
            "  inflating: input/seq04/frame0025.jpg  \n",
            "  inflating: input/seq04/frame0026.jpg  \n",
            "  inflating: input/seq04/frame0027.jpg  \n",
            "  inflating: input/seq04/frame0028.jpg  \n",
            "  inflating: input/seq04/frame0029.jpg  \n",
            "  inflating: input/seq04/frame0030.jpg  \n",
            "  inflating: input/seq04/frame0031.jpg  \n",
            "  inflating: input/seq04/frame0032.jpg  \n",
            "  inflating: input/seq04/frame0033.jpg  \n",
            "  inflating: input/seq04/frame0034.jpg  \n",
            "  inflating: input/seq04/frame0035.jpg  \n",
            "  inflating: input/seq04/frame0036.jpg  \n",
            "  inflating: input/seq04/frame0037.jpg  \n",
            "  inflating: input/seq04/frame0038.jpg  \n",
            "  inflating: input/seq04/frame0039.jpg  \n",
            "  inflating: input/seq04/frame0040.jpg  \n",
            "  inflating: input/seq04/frame0041.jpg  \n",
            "  inflating: input/seq04/frame0042.jpg  \n",
            "  inflating: input/seq04/frame0043.jpg  \n",
            "  inflating: input/seq04/frame0044.jpg  \n",
            "  inflating: input/seq04/frame0045.jpg  \n",
            "  inflating: input/seq04/frame0046.jpg  \n",
            "  inflating: input/seq04/frame0047.jpg  \n",
            "  inflating: input/seq04/frame0048.jpg  \n",
            "  inflating: input/seq04/frame0049.jpg  \n",
            "  inflating: input/seq04/frame0050.jpg  \n",
            "  inflating: input/seq04/frame0051.jpg  \n",
            "  inflating: input/seq04/frame0052.jpg  \n",
            "  inflating: input/seq04/frame0053.jpg  \n",
            "  inflating: input/seq04/frame0054.jpg  \n",
            "  inflating: input/seq04/frame0055.jpg  \n",
            "  inflating: input/seq04/frame0056.jpg  \n",
            "  inflating: input/seq04/frame0057.jpg  \n",
            "  inflating: input/seq04/frame0058.jpg  \n",
            "  inflating: input/seq04/frame0059.jpg  \n",
            "  inflating: input/seq04/frame0060.jpg  \n",
            "  inflating: input/seq04/frame0061.jpg  \n",
            "  inflating: input/seq04/frame0062.jpg  \n",
            "  inflating: input/seq04/frame0063.jpg  \n",
            "  inflating: input/seq04/frame0064.jpg  \n",
            "  inflating: input/seq04/frame0065.jpg  \n",
            "  inflating: input/seq04/frame0066.jpg  \n",
            "  inflating: input/seq04/frame0067.jpg  \n",
            "  inflating: input/seq04/frame0068.jpg  \n",
            "  inflating: input/seq04/frame0069.jpg  \n",
            "  inflating: input/seq04/frame0070.jpg  \n",
            "  inflating: input/seq04/frame0071.jpg  \n",
            "  inflating: input/seq04/frame0072.jpg  \n",
            "  inflating: input/seq04/frame0073.jpg  \n",
            "  inflating: input/seq04/frame0074.jpg  \n",
            "  inflating: input/seq04/frame0075.jpg  \n",
            "  inflating: input/seq04/frame0076.jpg  \n",
            "  inflating: input/seq04/frame0077.jpg  \n",
            "  inflating: input/seq04/frame0078.jpg  \n",
            "  inflating: input/seq04/frame0079.jpg  \n",
            "  inflating: input/seq04/frame0080.jpg  \n",
            "  inflating: input/seq04/frame0081.jpg  \n",
            "  inflating: input/seq04/frame0082.jpg  \n",
            "  inflating: input/seq04/frame0083.jpg  \n",
            "  inflating: input/seq04/frame0084.jpg  \n",
            "  inflating: input/seq04/frame0085.jpg  \n",
            "  inflating: input/seq04/frame0086.jpg  \n",
            "  inflating: input/seq04/frame0087.jpg  \n",
            "  inflating: input/seq04/frame0088.jpg  \n",
            "  inflating: input/seq04/frame0089.jpg  \n",
            "  inflating: input/seq04/frame0090.jpg  \n",
            "  inflating: input/seq04/frame0091.jpg  \n",
            "  inflating: input/seq04/frame0092.jpg  \n",
            "  inflating: input/seq04/frame0093.jpg  \n",
            "  inflating: input/seq04/frame0094.jpg  \n",
            "  inflating: input/seq04/frame0095.jpg  \n",
            "  inflating: input/seq04/frame0096.jpg  \n",
            "  inflating: input/seq04/frame0097.jpg  \n",
            "  inflating: input/seq04/frame0098.jpg  \n",
            "  inflating: input/seq04/frame0099.jpg  \n",
            "  inflating: input/seq04/frame0100.jpg  \n",
            "  inflating: input/seq04/frame0101.jpg  \n",
            "  inflating: input/seq04/frame0102.jpg  \n",
            "  inflating: input/seq04/frame0103.jpg  \n",
            "  inflating: input/seq04/frame0104.jpg  \n",
            "  inflating: input/seq04/frame0105.jpg  \n",
            "  inflating: input/seq04/frame0106.jpg  \n",
            "  inflating: input/seq04/frame0107.jpg  \n",
            "  inflating: input/seq04/frame0108.jpg  \n",
            "  inflating: input/seq04/frame0109.jpg  \n",
            "  inflating: input/seq04/frame0110.jpg  \n",
            "  inflating: input/seq04/frame0111.jpg  \n",
            "  inflating: input/seq04/frame0112.jpg  \n",
            "  inflating: input/seq04/frame0113.jpg  \n",
            "  inflating: input/seq04/frame0114.jpg  \n",
            "  inflating: input/seq04/frame0115.jpg  \n",
            "  inflating: input/seq04/frame0116.jpg  \n",
            "  inflating: input/seq04/frame0117.jpg  \n",
            "  inflating: input/seq04/frame0118.jpg  \n",
            "  inflating: input/seq04/frame0119.jpg  \n",
            "  inflating: input/seq04/frame0120.jpg  \n",
            "  inflating: input/seq04/frame0121.jpg  \n",
            "  inflating: input/seq04/frame0122.jpg  \n",
            "  inflating: input/seq04/frame0123.jpg  \n",
            "  inflating: input/seq04/frame0124.jpg  \n",
            "  inflating: input/seq04/frame0125.jpg  \n",
            "  inflating: input/seq04/frame0126.jpg  \n",
            "  inflating: input/seq04/frame0127.jpg  \n",
            "  inflating: input/seq04/frame0128.jpg  \n",
            "  inflating: input/seq04/frame0129.jpg  \n",
            "  inflating: input/seq04/frame0130.jpg  \n",
            "  inflating: input/seq04/frame0131.jpg  \n",
            "  inflating: input/seq04/frame0132.jpg  \n",
            "  inflating: input/seq04/frame0133.jpg  \n",
            "  inflating: input/seq04/frame0134.jpg  \n",
            "  inflating: input/seq04/frame0135.jpg  \n",
            "  inflating: input/seq04/frame0136.jpg  \n",
            "  inflating: input/seq04/frame0137.jpg  \n",
            "  inflating: input/seq04/frame0138.jpg  \n",
            "  inflating: input/seq04/frame0139.jpg  \n",
            "  inflating: input/seq04/frame0140.jpg  \n",
            "  inflating: input/seq04/frame0141.jpg  \n",
            "  inflating: input/seq04/frame0142.jpg  \n",
            "  inflating: input/seq04/frame0143.jpg  \n",
            "  inflating: input/seq04/frame0144.jpg  \n",
            "  inflating: input/seq04/frame0145.jpg  \n",
            "  inflating: input/seq04/frame0146.jpg  \n",
            "  inflating: input/seq04/frame0147.jpg  \n",
            "  inflating: input/seq04/frame0148.jpg  \n",
            "  inflating: input/seq04/frame0149.jpg  \n",
            "  inflating: input/seq04/frame0150.jpg  \n",
            "  inflating: input/seq04/frame0151.jpg  \n",
            "  inflating: input/seq04/frame0152.jpg  \n",
            "  inflating: input/seq04/frame0153.jpg  \n",
            "  inflating: input/seq04/frame0154.jpg  \n",
            "  inflating: input/seq04/frame0155.jpg  \n",
            "  inflating: input/seq04/frame0156.jpg  \n",
            "  inflating: input/seq04/frame0157.jpg  \n",
            "  inflating: input/seq04/frame0158.jpg  \n",
            "  inflating: input/seq04/frame0159.jpg  \n",
            "  inflating: input/seq04/frame0160.jpg  \n",
            "  inflating: input/seq04/frame0161.jpg  \n",
            "  inflating: input/seq04/frame0162.jpg  \n",
            "  inflating: input/seq04/frame0163.jpg  \n",
            "  inflating: input/seq04/frame0164.jpg  \n",
            "  inflating: input/seq04/frame0165.jpg  \n",
            "  inflating: input/seq04/frame0166.jpg  \n",
            "  inflating: input/seq04/frame0167.jpg  \n",
            "  inflating: input/seq04/frame0168.jpg  \n",
            "  inflating: input/seq04/frame0169.jpg  \n",
            "  inflating: input/seq04/frame0170.jpg  \n",
            "  inflating: input/seq04/frame0171.jpg  \n",
            "  inflating: input/seq04/frame0172.jpg  \n",
            "  inflating: input/seq04/frame0173.jpg  \n",
            "  inflating: input/seq04/frame0174.jpg  \n",
            "  inflating: input/seq04/frame0175.jpg  \n",
            "  inflating: input/seq04/frame0176.jpg  \n",
            "  inflating: input/seq04/frame0177.jpg  \n",
            "  inflating: input/seq04/frame0178.jpg  \n",
            "  inflating: input/seq04/frame0179.jpg  \n",
            "  inflating: input/seq04/frame0180.jpg  \n",
            "  inflating: input/seq04/frame0181.jpg  \n",
            "  inflating: input/seq04/frame0182.jpg  \n",
            "  inflating: input/seq04/frame0183.jpg  \n",
            "  inflating: input/seq04/frame0184.jpg  \n",
            "  inflating: input/seq04/frame0185.jpg  \n",
            "  inflating: input/seq04/frame0186.jpg  \n",
            "  inflating: input/seq04/frame0187.jpg  \n",
            "  inflating: input/seq04/frame0188.jpg  \n",
            "  inflating: input/seq04/frame0189.jpg  \n",
            "  inflating: input/seq04/frame0190.jpg  \n",
            "  inflating: input/seq04/frame0191.jpg  \n",
            "  inflating: input/seq04/frame0192.jpg  \n",
            "  inflating: input/seq04/frame0193.jpg  \n",
            "  inflating: input/seq04/frame0194.jpg  \n",
            "  inflating: input/seq04/frame0195.jpg  \n",
            "  inflating: input/seq04/frame0196.jpg  \n",
            "  inflating: input/seq04/frame0197.jpg  \n",
            "  inflating: input/seq04/frame0198.jpg  \n",
            "  inflating: input/seq04/frame0199.jpg  \n",
            "  inflating: input/seq04/frame0200.jpg  \n",
            "  inflating: input/seq04/frame0201.jpg  \n",
            "  inflating: input/seq04/frame0202.jpg  \n",
            "  inflating: input/seq04/frame0203.jpg  \n",
            "  inflating: input/seq04/frame0204.jpg  \n",
            "  inflating: input/seq04/frame0205.jpg  \n",
            "  inflating: input/seq04/frame0206.jpg  \n",
            "  inflating: input/seq04/frame0207.jpg  \n",
            "  inflating: input/seq04/frame0208.jpg  \n",
            "  inflating: input/seq04/frame0209.jpg  \n",
            "  inflating: input/seq04/frame0210.jpg  \n",
            "  inflating: input/seq04/frame0211.jpg  \n",
            "  inflating: input/seq04/frame0212.jpg  \n",
            "  inflating: input/seq04/frame0213.jpg  \n",
            "  inflating: input/seq04/frame0214.jpg  \n",
            "  inflating: input/seq04/frame0215.jpg  \n",
            "  inflating: input/seq04/frame0216.jpg  \n",
            "  inflating: input/seq04/frame0217.jpg  \n",
            "  inflating: input/seq04/frame0218.jpg  \n",
            "  inflating: input/seq04/frame0219.jpg  \n",
            "  inflating: input/seq04/frame0220.jpg  \n",
            "  inflating: input/seq04/frame0221.jpg  \n",
            "  inflating: input/seq04/frame0222.jpg  \n",
            "  inflating: input/seq04/frame0223.jpg  \n",
            "  inflating: input/seq04/frame0224.jpg  \n",
            "  inflating: input/seq04/frame0225.jpg  \n",
            "  inflating: input/seq04/frame0226.jpg  \n",
            "  inflating: input/seq04/frame0227.jpg  \n",
            "  inflating: input/seq04/frame0228.jpg  \n",
            "  inflating: input/seq04/frame0229.jpg  \n",
            "  inflating: input/seq04/frame0230.jpg  \n",
            "  inflating: input/seq04/frame0231.jpg  \n",
            "  inflating: input/seq04/frame0232.jpg  \n",
            "  inflating: input/seq04/frame0233.jpg  \n",
            "  inflating: input/seq04/frame0234.jpg  \n",
            "  inflating: input/seq04/frame0235.jpg  \n",
            "  inflating: input/seq04/frame0236.jpg  \n",
            "  inflating: input/seq04/frame0237.jpg  \n",
            "  inflating: input/seq04/frame0238.jpg  \n",
            "  inflating: input/seq04/frame0239.jpg  \n",
            "  inflating: input/seq04/frame0240.jpg  \n",
            "  inflating: input/seq04/frame0241.jpg  \n",
            "  inflating: input/seq04/frame0242.jpg  \n",
            "  inflating: input/seq04/frame0243.jpg  \n",
            "  inflating: input/seq04/frame0244.jpg  \n",
            "  inflating: input/seq04/frame0245.jpg  \n",
            "  inflating: input/seq04/frame0246.jpg  \n",
            "  inflating: input/seq04/frame0247.jpg  \n",
            "  inflating: input/seq04/frame0248.jpg  \n",
            "  inflating: input/seq04/frame0249.jpg  \n",
            "  inflating: input/seq04/frame0250.jpg  \n",
            "  inflating: input/seq04/frame0251.jpg  \n",
            "  inflating: input/seq04/frame0252.jpg  \n",
            "  inflating: input/seq04/frame0253.jpg  \n",
            "  inflating: input/seq04/frame0254.jpg  \n",
            "  inflating: input/seq04/frame0255.jpg  \n",
            "  inflating: input/seq04/frame0256.jpg  \n",
            "  inflating: input/seq04/frame0257.jpg  \n"
          ]
        }
      ]
    },
    {
      "cell_type": "code",
      "source": [
        "#####content of data.yaml\n",
        "train: /content/yolo_output/train/images\n",
        "val: /content/yolo_output/val/images\n",
        "\n",
        "nc: 6  # number of classes"
      ],
      "metadata": {
        "id": "uAEwm1dKrF54"
      },
      "execution_count": null,
      "outputs": []
    },
    {
      "cell_type": "code",
      "source": [
        "import os\n",
        "import shutil\n",
        "from PIL import Image\n",
        "\n",
        "# Function to convert annotation to YOLO format\n",
        "def convert_to_yolo(x, y, width, height, image_width, image_height):\n",
        "    x_center = (x + width / 2) / image_width\n",
        "    y_center = (y + height / 2) / image_height\n",
        "    width_normalized = width / image_width\n",
        "    height_normalized = height / image_height\n",
        "    return f\"{x_center} {y_center} {width_normalized} {height_normalized}\"\n",
        "\n",
        "# Input and output directories\n",
        "input_directory = '/content/input'\n",
        "output_directory = '/content/output'\n",
        "\n",
        "# Traverse each seqXX directory in the input directory\n",
        "for seq_dir in os.listdir(input_directory):\n",
        "    seq_path = os.path.join(input_directory, seq_dir)\n",
        "    if os.path.isdir(seq_path):\n",
        "        # Read annotation.txt\n",
        "        annotation_file = os.path.join(seq_path, 'annotations.txt')\n",
        "        with open(annotation_file, 'r') as f:\n",
        "            lines = f.readlines()\n",
        "\n",
        "        # Create corresponding labels directory if it doesn't exist\n",
        "        output_labels_dir = os.path.join(output_directory, 'labels')\n",
        "        os.makedirs(output_labels_dir, exist_ok=True)\n",
        "\n",
        "        # Create corresponding images directory if it doesn't exist\n",
        "        output_images_dir = os.path.join(output_directory, 'images')\n",
        "        os.makedirs(output_images_dir, exist_ok=True)\n",
        "\n",
        "        # Iterate through each line in annotation.txt\n",
        "        for line in lines:\n",
        "            parts = line.strip().split()\n",
        "            frame_number = parts[0].zfill(4)  # Ensure 4-digit frame number\n",
        "            x, y, width, height = map(int, parts[1:5])\n",
        "            class_id = int(parts[5]) - 1  # Decrease class_id by 1\n",
        "\n",
        "            # Get image width and height\n",
        "            image_path = os.path.join(seq_path, f\"frame{frame_number}.jpg\")\n",
        "            with Image.open(image_path) as img:\n",
        "                image_width, image_height = img.size\n",
        "\n",
        "            # Convert annotation to YOLO format\n",
        "            yolo_annotation = convert_to_yolo(x, y, width, height, image_width, image_height)\n",
        "\n",
        "            # Write YOLO annotation to a text file\n",
        "            output_label_file = os.path.join(output_labels_dir, f\"{seq_dir}frame{frame_number}.txt\")\n",
        "            with open(output_label_file, 'a') as f:\n",
        "                f.write(f\"{class_id} {yolo_annotation}\\n\")\n",
        "\n",
        "            # Copy corresponding image frame to output/images directory\n",
        "            output_image_file = os.path.join(output_images_dir, f\"{seq_dir}frame{frame_number}.jpg\")\n",
        "            shutil.copy(image_path, output_image_file)\n",
        "\n",
        "print(\"Conversion completed!\")"
      ],
      "metadata": {
        "colab": {
          "base_uri": "https://localhost:8080/"
        },
        "id": "DCh6Afr7PBtf",
        "outputId": "9407171f-bf48-47ae-d54b-aefedd41c4a0"
      },
      "execution_count": null,
      "outputs": [
        {
          "output_type": "stream",
          "name": "stdout",
          "text": [
            "Conversion completed!\n"
          ]
        }
      ]
    },
    {
      "cell_type": "code",
      "source": [
        "!mkdir -p yolo_output/train/images\n",
        "!mkdir -p yolo_output/train/labels\n",
        "!mkdir -p yolo_output/val/images\n",
        "!mkdir -p yolo_output/val/labels"
      ],
      "metadata": {
        "id": "-Jt2UcKCQIZb"
      },
      "execution_count": null,
      "outputs": []
    },
    {
      "cell_type": "code",
      "source": [
        "!mv /content/output/images/seq{05,06,07,08,09,10,11,15,16,25,28,29}frame*.jpg yolo_output/val/images/\n",
        "!mv /content/output/labels/seq{05,06,07,08,09,10,11,15,16,25,28,29}frame*.txt yolo_output/val/labels/\n",
        "\n",
        "# Move remaining files for training set\n",
        "!mv /content/output/images/*.jpg yolo_output/train/images/\n",
        "!mv /content/output/labels/*.txt yolo_output/train/labels/"
      ],
      "metadata": {
        "id": "fn5iT7YPQkFA"
      },
      "execution_count": null,
      "outputs": []
    },
    {
      "cell_type": "code",
      "source": [
        "!pip install ultralytics"
      ],
      "metadata": {
        "colab": {
          "base_uri": "https://localhost:8080/"
        },
        "id": "auLfxZxHRTyB",
        "outputId": "5051bcff-a732-4308-f285-d1ed3ee7624f"
      },
      "execution_count": null,
      "outputs": [
        {
          "output_type": "stream",
          "name": "stdout",
          "text": [
            "Collecting ultralytics\n",
            "  Downloading ultralytics-8.1.42-py3-none-any.whl (749 kB)\n",
            "\u001b[?25l     \u001b[90m━━━━━━━━━━━━━━━━━━━━━━━━━━━━━━━━━━━━━━━━\u001b[0m \u001b[32m0.0/749.1 kB\u001b[0m \u001b[31m?\u001b[0m eta \u001b[36m-:--:--\u001b[0m\r\u001b[2K     \u001b[91m━━━━━━━━━━━━━━\u001b[0m\u001b[90m╺\u001b[0m\u001b[90m━━━━━━━━━━━━━━━━━━━━━━━━━\u001b[0m \u001b[32m266.2/749.1 kB\u001b[0m \u001b[31m7.8 MB/s\u001b[0m eta \u001b[36m0:00:01\u001b[0m\r\u001b[2K     \u001b[91m━━━━━━━━━━━━━━━━━━━━━━━━━━━━━━━━━━━━━━━\u001b[0m\u001b[91m╸\u001b[0m \u001b[32m747.5/749.1 kB\u001b[0m \u001b[31m12.0 MB/s\u001b[0m eta \u001b[36m0:00:01\u001b[0m\r\u001b[2K     \u001b[90m━━━━━━━━━━━━━━━━━━━━━━━━━━━━━━━━━━━━━━━━\u001b[0m \u001b[32m749.1/749.1 kB\u001b[0m \u001b[31m10.5 MB/s\u001b[0m eta \u001b[36m0:00:00\u001b[0m\n",
            "\u001b[?25hRequirement already satisfied: matplotlib>=3.3.0 in /usr/local/lib/python3.10/dist-packages (from ultralytics) (3.7.1)\n",
            "Requirement already satisfied: opencv-python>=4.6.0 in /usr/local/lib/python3.10/dist-packages (from ultralytics) (4.8.0.76)\n",
            "Requirement already satisfied: pillow>=7.1.2 in /usr/local/lib/python3.10/dist-packages (from ultralytics) (9.4.0)\n",
            "Requirement already satisfied: pyyaml>=5.3.1 in /usr/local/lib/python3.10/dist-packages (from ultralytics) (6.0.1)\n",
            "Requirement already satisfied: requests>=2.23.0 in /usr/local/lib/python3.10/dist-packages (from ultralytics) (2.31.0)\n",
            "Requirement already satisfied: scipy>=1.4.1 in /usr/local/lib/python3.10/dist-packages (from ultralytics) (1.11.4)\n",
            "Requirement already satisfied: torch>=1.8.0 in /usr/local/lib/python3.10/dist-packages (from ultralytics) (2.2.1+cu121)\n",
            "Requirement already satisfied: torchvision>=0.9.0 in /usr/local/lib/python3.10/dist-packages (from ultralytics) (0.17.1+cu121)\n",
            "Requirement already satisfied: tqdm>=4.64.0 in /usr/local/lib/python3.10/dist-packages (from ultralytics) (4.66.2)\n",
            "Requirement already satisfied: psutil in /usr/local/lib/python3.10/dist-packages (from ultralytics) (5.9.5)\n",
            "Requirement already satisfied: py-cpuinfo in /usr/local/lib/python3.10/dist-packages (from ultralytics) (9.0.0)\n",
            "Collecting thop>=0.1.1 (from ultralytics)\n",
            "  Downloading thop-0.1.1.post2209072238-py3-none-any.whl (15 kB)\n",
            "Requirement already satisfied: pandas>=1.1.4 in /usr/local/lib/python3.10/dist-packages (from ultralytics) (2.0.3)\n",
            "Requirement already satisfied: seaborn>=0.11.0 in /usr/local/lib/python3.10/dist-packages (from ultralytics) (0.13.1)\n",
            "Requirement already satisfied: contourpy>=1.0.1 in /usr/local/lib/python3.10/dist-packages (from matplotlib>=3.3.0->ultralytics) (1.2.0)\n",
            "Requirement already satisfied: cycler>=0.10 in /usr/local/lib/python3.10/dist-packages (from matplotlib>=3.3.0->ultralytics) (0.12.1)\n",
            "Requirement already satisfied: fonttools>=4.22.0 in /usr/local/lib/python3.10/dist-packages (from matplotlib>=3.3.0->ultralytics) (4.50.0)\n",
            "Requirement already satisfied: kiwisolver>=1.0.1 in /usr/local/lib/python3.10/dist-packages (from matplotlib>=3.3.0->ultralytics) (1.4.5)\n",
            "Requirement already satisfied: numpy>=1.20 in /usr/local/lib/python3.10/dist-packages (from matplotlib>=3.3.0->ultralytics) (1.25.2)\n",
            "Requirement already satisfied: packaging>=20.0 in /usr/local/lib/python3.10/dist-packages (from matplotlib>=3.3.0->ultralytics) (24.0)\n",
            "Requirement already satisfied: pyparsing>=2.3.1 in /usr/local/lib/python3.10/dist-packages (from matplotlib>=3.3.0->ultralytics) (3.1.2)\n",
            "Requirement already satisfied: python-dateutil>=2.7 in /usr/local/lib/python3.10/dist-packages (from matplotlib>=3.3.0->ultralytics) (2.8.2)\n",
            "Requirement already satisfied: pytz>=2020.1 in /usr/local/lib/python3.10/dist-packages (from pandas>=1.1.4->ultralytics) (2023.4)\n",
            "Requirement already satisfied: tzdata>=2022.1 in /usr/local/lib/python3.10/dist-packages (from pandas>=1.1.4->ultralytics) (2024.1)\n",
            "Requirement already satisfied: charset-normalizer<4,>=2 in /usr/local/lib/python3.10/dist-packages (from requests>=2.23.0->ultralytics) (3.3.2)\n",
            "Requirement already satisfied: idna<4,>=2.5 in /usr/local/lib/python3.10/dist-packages (from requests>=2.23.0->ultralytics) (3.6)\n",
            "Requirement already satisfied: urllib3<3,>=1.21.1 in /usr/local/lib/python3.10/dist-packages (from requests>=2.23.0->ultralytics) (2.0.7)\n",
            "Requirement already satisfied: certifi>=2017.4.17 in /usr/local/lib/python3.10/dist-packages (from requests>=2.23.0->ultralytics) (2024.2.2)\n",
            "Requirement already satisfied: filelock in /usr/local/lib/python3.10/dist-packages (from torch>=1.8.0->ultralytics) (3.13.3)\n",
            "Requirement already satisfied: typing-extensions>=4.8.0 in /usr/local/lib/python3.10/dist-packages (from torch>=1.8.0->ultralytics) (4.10.0)\n",
            "Requirement already satisfied: sympy in /usr/local/lib/python3.10/dist-packages (from torch>=1.8.0->ultralytics) (1.12)\n",
            "Requirement already satisfied: networkx in /usr/local/lib/python3.10/dist-packages (from torch>=1.8.0->ultralytics) (3.2.1)\n",
            "Requirement already satisfied: jinja2 in /usr/local/lib/python3.10/dist-packages (from torch>=1.8.0->ultralytics) (3.1.3)\n",
            "Requirement already satisfied: fsspec in /usr/local/lib/python3.10/dist-packages (from torch>=1.8.0->ultralytics) (2023.6.0)\n",
            "Collecting nvidia-cuda-nvrtc-cu12==12.1.105 (from torch>=1.8.0->ultralytics)\n",
            "  Downloading nvidia_cuda_nvrtc_cu12-12.1.105-py3-none-manylinux1_x86_64.whl (23.7 MB)\n",
            "\u001b[2K     \u001b[90m━━━━━━━━━━━━━━━━━━━━━━━━━━━━━━━━━━━━━━━━\u001b[0m \u001b[32m23.7/23.7 MB\u001b[0m \u001b[31m59.4 MB/s\u001b[0m eta \u001b[36m0:00:00\u001b[0m\n",
            "\u001b[?25hCollecting nvidia-cuda-runtime-cu12==12.1.105 (from torch>=1.8.0->ultralytics)\n",
            "  Downloading nvidia_cuda_runtime_cu12-12.1.105-py3-none-manylinux1_x86_64.whl (823 kB)\n",
            "\u001b[2K     \u001b[90m━━━━━━━━━━━━━━━━━━━━━━━━━━━━━━━━━━━━━━━━\u001b[0m \u001b[32m823.6/823.6 kB\u001b[0m \u001b[31m62.9 MB/s\u001b[0m eta \u001b[36m0:00:00\u001b[0m\n",
            "\u001b[?25hCollecting nvidia-cuda-cupti-cu12==12.1.105 (from torch>=1.8.0->ultralytics)\n",
            "  Downloading nvidia_cuda_cupti_cu12-12.1.105-py3-none-manylinux1_x86_64.whl (14.1 MB)\n",
            "\u001b[2K     \u001b[90m━━━━━━━━━━━━━━━━━━━━━━━━━━━━━━━━━━━━━━━━\u001b[0m \u001b[32m14.1/14.1 MB\u001b[0m \u001b[31m85.1 MB/s\u001b[0m eta \u001b[36m0:00:00\u001b[0m\n",
            "\u001b[?25hCollecting nvidia-cudnn-cu12==8.9.2.26 (from torch>=1.8.0->ultralytics)\n",
            "  Downloading nvidia_cudnn_cu12-8.9.2.26-py3-none-manylinux1_x86_64.whl (731.7 MB)\n",
            "\u001b[2K     \u001b[90m━━━━━━━━━━━━━━━━━━━━━━━━━━━━━━━━━━━━━━━━\u001b[0m \u001b[32m731.7/731.7 MB\u001b[0m \u001b[31m2.0 MB/s\u001b[0m eta \u001b[36m0:00:00\u001b[0m\n",
            "\u001b[?25hCollecting nvidia-cublas-cu12==12.1.3.1 (from torch>=1.8.0->ultralytics)\n",
            "  Downloading nvidia_cublas_cu12-12.1.3.1-py3-none-manylinux1_x86_64.whl (410.6 MB)\n",
            "\u001b[2K     \u001b[90m━━━━━━━━━━━━━━━━━━━━━━━━━━━━━━━━━━━━━━━━\u001b[0m \u001b[32m410.6/410.6 MB\u001b[0m \u001b[31m2.9 MB/s\u001b[0m eta \u001b[36m0:00:00\u001b[0m\n",
            "\u001b[?25hCollecting nvidia-cufft-cu12==11.0.2.54 (from torch>=1.8.0->ultralytics)\n",
            "  Downloading nvidia_cufft_cu12-11.0.2.54-py3-none-manylinux1_x86_64.whl (121.6 MB)\n",
            "\u001b[2K     \u001b[90m━━━━━━━━━━━━━━━━━━━━━━━━━━━━━━━━━━━━━━━━\u001b[0m \u001b[32m121.6/121.6 MB\u001b[0m \u001b[31m8.2 MB/s\u001b[0m eta \u001b[36m0:00:00\u001b[0m\n",
            "\u001b[?25hCollecting nvidia-curand-cu12==10.3.2.106 (from torch>=1.8.0->ultralytics)\n",
            "  Downloading nvidia_curand_cu12-10.3.2.106-py3-none-manylinux1_x86_64.whl (56.5 MB)\n",
            "\u001b[2K     \u001b[90m━━━━━━━━━━━━━━━━━━━━━━━━━━━━━━━━━━━━━━━━\u001b[0m \u001b[32m56.5/56.5 MB\u001b[0m \u001b[31m12.2 MB/s\u001b[0m eta \u001b[36m0:00:00\u001b[0m\n",
            "\u001b[?25hCollecting nvidia-cusolver-cu12==11.4.5.107 (from torch>=1.8.0->ultralytics)\n",
            "  Downloading nvidia_cusolver_cu12-11.4.5.107-py3-none-manylinux1_x86_64.whl (124.2 MB)\n",
            "\u001b[2K     \u001b[90m━━━━━━━━━━━━━━━━━━━━━━━━━━━━━━━━━━━━━━━━\u001b[0m \u001b[32m124.2/124.2 MB\u001b[0m \u001b[31m8.2 MB/s\u001b[0m eta \u001b[36m0:00:00\u001b[0m\n",
            "\u001b[?25hCollecting nvidia-cusparse-cu12==12.1.0.106 (from torch>=1.8.0->ultralytics)\n",
            "  Downloading nvidia_cusparse_cu12-12.1.0.106-py3-none-manylinux1_x86_64.whl (196.0 MB)\n",
            "\u001b[2K     \u001b[90m━━━━━━━━━━━━━━━━━━━━━━━━━━━━━━━━━━━━━━━━\u001b[0m \u001b[32m196.0/196.0 MB\u001b[0m \u001b[31m6.4 MB/s\u001b[0m eta \u001b[36m0:00:00\u001b[0m\n",
            "\u001b[?25hCollecting nvidia-nccl-cu12==2.19.3 (from torch>=1.8.0->ultralytics)\n",
            "  Downloading nvidia_nccl_cu12-2.19.3-py3-none-manylinux1_x86_64.whl (166.0 MB)\n",
            "\u001b[2K     \u001b[90m━━━━━━━━━━━━━━━━━━━━━━━━━━━━━━━━━━━━━━━━\u001b[0m \u001b[32m166.0/166.0 MB\u001b[0m \u001b[31m7.1 MB/s\u001b[0m eta \u001b[36m0:00:00\u001b[0m\n",
            "\u001b[?25hCollecting nvidia-nvtx-cu12==12.1.105 (from torch>=1.8.0->ultralytics)\n",
            "  Downloading nvidia_nvtx_cu12-12.1.105-py3-none-manylinux1_x86_64.whl (99 kB)\n",
            "\u001b[2K     \u001b[90m━━━━━━━━━━━━━━━━━━━━━━━━━━━━━━━━━━━━━━━━\u001b[0m \u001b[32m99.1/99.1 kB\u001b[0m \u001b[31m14.6 MB/s\u001b[0m eta \u001b[36m0:00:00\u001b[0m\n",
            "\u001b[?25hRequirement already satisfied: triton==2.2.0 in /usr/local/lib/python3.10/dist-packages (from torch>=1.8.0->ultralytics) (2.2.0)\n",
            "Collecting nvidia-nvjitlink-cu12 (from nvidia-cusolver-cu12==11.4.5.107->torch>=1.8.0->ultralytics)\n",
            "  Downloading nvidia_nvjitlink_cu12-12.4.127-py3-none-manylinux2014_x86_64.whl (21.1 MB)\n",
            "\u001b[2K     \u001b[90m━━━━━━━━━━━━━━━━━━━━━━━━━━━━━━━━━━━━━━━━\u001b[0m \u001b[32m21.1/21.1 MB\u001b[0m \u001b[31m78.4 MB/s\u001b[0m eta \u001b[36m0:00:00\u001b[0m\n",
            "\u001b[?25hRequirement already satisfied: six>=1.5 in /usr/local/lib/python3.10/dist-packages (from python-dateutil>=2.7->matplotlib>=3.3.0->ultralytics) (1.16.0)\n",
            "Requirement already satisfied: MarkupSafe>=2.0 in /usr/local/lib/python3.10/dist-packages (from jinja2->torch>=1.8.0->ultralytics) (2.1.5)\n",
            "Requirement already satisfied: mpmath>=0.19 in /usr/local/lib/python3.10/dist-packages (from sympy->torch>=1.8.0->ultralytics) (1.3.0)\n",
            "Installing collected packages: nvidia-nvtx-cu12, nvidia-nvjitlink-cu12, nvidia-nccl-cu12, nvidia-curand-cu12, nvidia-cufft-cu12, nvidia-cuda-runtime-cu12, nvidia-cuda-nvrtc-cu12, nvidia-cuda-cupti-cu12, nvidia-cublas-cu12, nvidia-cusparse-cu12, nvidia-cudnn-cu12, nvidia-cusolver-cu12, thop, ultralytics\n",
            "Successfully installed nvidia-cublas-cu12-12.1.3.1 nvidia-cuda-cupti-cu12-12.1.105 nvidia-cuda-nvrtc-cu12-12.1.105 nvidia-cuda-runtime-cu12-12.1.105 nvidia-cudnn-cu12-8.9.2.26 nvidia-cufft-cu12-11.0.2.54 nvidia-curand-cu12-10.3.2.106 nvidia-cusolver-cu12-11.4.5.107 nvidia-cusparse-cu12-12.1.0.106 nvidia-nccl-cu12-2.19.3 nvidia-nvjitlink-cu12-12.4.127 nvidia-nvtx-cu12-12.1.105 thop-0.1.1.post2209072238 ultralytics-8.1.42\n"
          ]
        }
      ]
    },
    {
      "cell_type": "code",
      "source": [
        "from ultralytics import YOLO\n",
        "\n",
        "# Load a model\n",
        "model = YOLO('yolov9c.yaml')  # build a new model from YAML\n",
        "\n",
        "# Train the model\n",
        "results = model.train(data='data.yaml', epochs=100, imgsz=640)"
      ],
      "metadata": {
        "colab": {
          "base_uri": "https://localhost:8080/"
        },
        "id": "i2U7fkHwRCTo",
        "outputId": "abcfa758-ca7e-42ee-8c81-42b5fbe181fb"
      },
      "execution_count": null,
      "outputs": [
        {
          "output_type": "stream",
          "name": "stdout",
          "text": [
            "Ultralytics YOLOv8.1.42 🚀 Python-3.10.12 torch-2.2.1+cu121 CUDA:0 (Tesla T4, 15102MiB)\n",
            "\u001b[34m\u001b[1mengine/trainer: \u001b[0mtask=detect, mode=train, model=yolov9c.yaml, data=data.yaml, epochs=100, time=None, patience=100, batch=16, imgsz=640, save=True, save_period=-1, cache=False, device=None, workers=8, project=None, name=train, exist_ok=False, pretrained=True, optimizer=auto, verbose=True, seed=0, deterministic=True, single_cls=False, rect=False, cos_lr=False, close_mosaic=10, resume=False, amp=True, fraction=1.0, profile=False, freeze=None, multi_scale=False, overlap_mask=True, mask_ratio=4, dropout=0.0, val=True, split=val, save_json=False, save_hybrid=False, conf=None, iou=0.7, max_det=300, half=False, dnn=False, plots=True, source=None, vid_stride=1, stream_buffer=False, visualize=False, augment=False, agnostic_nms=False, classes=None, retina_masks=False, embed=None, show=False, save_frames=False, save_txt=False, save_conf=False, save_crop=False, show_labels=True, show_conf=True, show_boxes=True, line_width=None, format=torchscript, keras=False, optimize=False, int8=False, dynamic=False, simplify=False, opset=None, workspace=4, nms=False, lr0=0.01, lrf=0.01, momentum=0.937, weight_decay=0.0005, warmup_epochs=3.0, warmup_momentum=0.8, warmup_bias_lr=0.1, box=7.5, cls=0.5, dfl=1.5, pose=12.0, kobj=1.0, label_smoothing=0.0, nbs=64, hsv_h=0.015, hsv_s=0.7, hsv_v=0.4, degrees=0.0, translate=0.1, scale=0.5, shear=0.0, perspective=0.0, flipud=0.0, fliplr=0.5, bgr=0.0, mosaic=1.0, mixup=0.0, copy_paste=0.0, auto_augment=randaugment, erasing=0.4, crop_fraction=1.0, cfg=None, tracker=botsort.yaml, save_dir=runs/detect/train\n",
            "Overriding model.yaml nc=80 with nc=6\n",
            "\n",
            "                   from  n    params  module                                       arguments                     \n",
            "  0                  -1  1      1856  ultralytics.nn.modules.conv.Conv             [3, 64, 3, 2]                 \n",
            "  1                  -1  1     73984  ultralytics.nn.modules.conv.Conv             [64, 128, 3, 2]               \n",
            "  2                  -1  1    212864  ultralytics.nn.modules.block.RepNCSPELAN4    [128, 256, 128, 64, 1]        \n",
            "  3                  -1  1    164352  ultralytics.nn.modules.block.ADown           [256, 256]                    \n",
            "  4                  -1  1    847616  ultralytics.nn.modules.block.RepNCSPELAN4    [256, 512, 256, 128, 1]       \n",
            "  5                  -1  1    656384  ultralytics.nn.modules.block.ADown           [512, 512]                    \n",
            "  6                  -1  1   2857472  ultralytics.nn.modules.block.RepNCSPELAN4    [512, 512, 512, 256, 1]       \n",
            "  7                  -1  1    656384  ultralytics.nn.modules.block.ADown           [512, 512]                    \n",
            "  8                  -1  1   2857472  ultralytics.nn.modules.block.RepNCSPELAN4    [512, 512, 512, 256, 1]       \n",
            "  9                  -1  1    656896  ultralytics.nn.modules.block.SPPELAN         [512, 512, 256]               \n",
            " 10                  -1  1         0  torch.nn.modules.upsampling.Upsample         [None, 2, 'nearest']          \n",
            " 11             [-1, 6]  1         0  ultralytics.nn.modules.conv.Concat           [1]                           \n",
            " 12                  -1  1   3119616  ultralytics.nn.modules.block.RepNCSPELAN4    [1024, 512, 512, 256, 1]      \n",
            " 13                  -1  1         0  torch.nn.modules.upsampling.Upsample         [None, 2, 'nearest']          \n",
            " 14             [-1, 4]  1         0  ultralytics.nn.modules.conv.Concat           [1]                           \n",
            " 15                  -1  1    912640  ultralytics.nn.modules.block.RepNCSPELAN4    [1024, 256, 256, 128, 1]      \n",
            " 16                  -1  1    164352  ultralytics.nn.modules.block.ADown           [256, 256]                    \n",
            " 17            [-1, 12]  1         0  ultralytics.nn.modules.conv.Concat           [1]                           \n",
            " 18                  -1  1   2988544  ultralytics.nn.modules.block.RepNCSPELAN4    [768, 512, 512, 256, 1]       \n",
            " 19                  -1  1    656384  ultralytics.nn.modules.block.ADown           [512, 512]                    \n",
            " 20             [-1, 9]  1         0  ultralytics.nn.modules.conv.Concat           [1]                           \n",
            " 21                  -1  1   3119616  ultralytics.nn.modules.block.RepNCSPELAN4    [1024, 512, 512, 256, 1]      \n",
            " 22        [15, 18, 21]  1   5587426  ultralytics.nn.modules.head.Detect           [6, [256, 512, 512]]          \n",
            "YOLOv9c summary: 618 layers, 25533858 parameters, 25533842 gradients, 103.7 GFLOPs\n",
            "\n",
            "\u001b[34m\u001b[1mTensorBoard: \u001b[0mStart with 'tensorboard --logdir runs/detect/train', view at http://localhost:6006/\n",
            "Freezing layer 'model.22.dfl.conv.weight'\n",
            "\u001b[34m\u001b[1mAMP: \u001b[0mrunning Automatic Mixed Precision (AMP) checks with YOLOv8n...\n",
            "\u001b[34m\u001b[1mAMP: \u001b[0mchecks passed ✅\n"
          ]
        },
        {
          "output_type": "stream",
          "name": "stderr",
          "text": [
            "\u001b[34m\u001b[1mtrain: \u001b[0mScanning /content/yolo_output/train/labels.cache... 2576 images, 0 backgrounds, 8 corrupt: 100%|██████████| 2576/2576 [00:00<?, ?it/s]"
          ]
        },
        {
          "output_type": "stream",
          "name": "stdout",
          "text": [
            "\u001b[34m\u001b[1mtrain: \u001b[0mWARNING ⚠️ /content/yolo_output/train/images/seq21frame0171.jpg: ignoring corrupt image/label: non-normalized or out of bounds coordinates [     1.0644]\n",
            "\u001b[34m\u001b[1mtrain: \u001b[0mWARNING ⚠️ /content/yolo_output/train/images/seq22frame0141.jpg: ignoring corrupt image/label: non-normalized or out of bounds coordinates [     1.2511]\n",
            "\u001b[34m\u001b[1mtrain: \u001b[0mWARNING ⚠️ /content/yolo_output/train/images/seq38frame0101.jpg: ignoring corrupt image/label: non-normalized or out of bounds coordinates [      1.025]\n",
            "\u001b[34m\u001b[1mtrain: \u001b[0mWARNING ⚠️ /content/yolo_output/train/images/seq38frame0111.jpg: ignoring corrupt image/label: non-normalized or out of bounds coordinates [     1.0688]\n",
            "\u001b[34m\u001b[1mtrain: \u001b[0mWARNING ⚠️ /content/yolo_output/train/images/seq38frame0121.jpg: ignoring corrupt image/label: non-normalized or out of bounds coordinates [     1.0938]\n",
            "\u001b[34m\u001b[1mtrain: \u001b[0mWARNING ⚠️ /content/yolo_output/train/images/seq40frame0031.jpg: ignoring corrupt image/label: non-normalized or out of bounds coordinates [     1.0208]\n",
            "\u001b[34m\u001b[1mtrain: \u001b[0mWARNING ⚠️ /content/yolo_output/train/images/seq40frame0311.jpg: ignoring corrupt image/label: non-normalized or out of bounds coordinates [     1.0729]\n",
            "\u001b[34m\u001b[1mtrain: \u001b[0mWARNING ⚠️ /content/yolo_output/train/images/seq40frame0341.jpg: ignoring corrupt image/label: non-normalized or out of bounds coordinates [     1.1229]\n"
          ]
        },
        {
          "output_type": "stream",
          "name": "stderr",
          "text": [
            "\n"
          ]
        },
        {
          "output_type": "stream",
          "name": "stdout",
          "text": [
            "\u001b[34m\u001b[1malbumentations: \u001b[0mBlur(p=0.01, blur_limit=(3, 7)), MedianBlur(p=0.01, blur_limit=(3, 7)), ToGray(p=0.01), CLAHE(p=0.01, clip_limit=(1, 4.0), tile_grid_size=(8, 8))\n"
          ]
        },
        {
          "output_type": "stream",
          "name": "stderr",
          "text": [
            "\u001b[34m\u001b[1mval: \u001b[0mScanning /content/yolo_output/val/labels.cache... 890 images, 0 backgrounds, 2 corrupt: 100%|██████████| 890/890 [00:00<?, ?it/s]"
          ]
        },
        {
          "output_type": "stream",
          "name": "stdout",
          "text": [
            "\u001b[34m\u001b[1mval: \u001b[0mWARNING ⚠️ /content/yolo_output/val/images/seq15frame0401.jpg: ignoring corrupt image/label: negative label values [   -0.00125]\n",
            "\u001b[34m\u001b[1mval: \u001b[0mWARNING ⚠️ /content/yolo_output/val/images/seq25frame0221.jpg: ignoring corrupt image/label: non-normalized or out of bounds coordinates [     1.0354]\n"
          ]
        },
        {
          "output_type": "stream",
          "name": "stderr",
          "text": [
            "\n"
          ]
        },
        {
          "output_type": "stream",
          "name": "stdout",
          "text": [
            "Plotting labels to runs/detect/train/labels.jpg... \n",
            "\u001b[34m\u001b[1moptimizer:\u001b[0m 'optimizer=auto' found, ignoring 'lr0=0.01' and 'momentum=0.937' and determining best 'optimizer', 'lr0' and 'momentum' automatically... \n",
            "\u001b[34m\u001b[1moptimizer:\u001b[0m AdamW(lr=0.001, momentum=0.9) with parameter groups 154 weight(decay=0.0), 161 weight(decay=0.0005), 160 bias(decay=0.0)\n",
            "\u001b[34m\u001b[1mTensorBoard: \u001b[0mmodel graph visualization added ✅\n",
            "Image sizes 640 train, 640 val\n",
            "Using 2 dataloader workers\n",
            "Logging results to \u001b[1mruns/detect/train\u001b[0m\n",
            "Starting training for 100 epochs...\n",
            "\n",
            "      Epoch    GPU_mem   box_loss   cls_loss   dfl_loss  Instances       Size\n"
          ]
        },
        {
          "output_type": "stream",
          "name": "stderr",
          "text": [
            "      1/100      11.1G      2.826      3.268      3.383         63        640: 100%|██████████| 161/161 [02:12<00:00,  1.22it/s]\n",
            "                 Class     Images  Instances      Box(P          R      mAP50  mAP50-95): 100%|██████████| 28/28 [00:14<00:00,  1.90it/s]"
          ]
        },
        {
          "output_type": "stream",
          "name": "stdout",
          "text": [
            "                   all        888       4146      0.276      0.177     0.0801     0.0444\n"
          ]
        },
        {
          "output_type": "stream",
          "name": "stderr",
          "text": [
            "\n"
          ]
        },
        {
          "output_type": "stream",
          "name": "stdout",
          "text": [
            "\n",
            "      Epoch    GPU_mem   box_loss   cls_loss   dfl_loss  Instances       Size\n"
          ]
        },
        {
          "output_type": "stream",
          "name": "stderr",
          "text": [
            "      2/100      11.2G       1.58      1.882       2.03        119        640: 100%|██████████| 161/161 [02:05<00:00,  1.28it/s]\n",
            "                 Class     Images  Instances      Box(P          R      mAP50  mAP50-95): 100%|██████████| 28/28 [00:13<00:00,  2.08it/s]"
          ]
        },
        {
          "output_type": "stream",
          "name": "stdout",
          "text": [
            "                   all        888       4146      0.333      0.424      0.219       0.14\n"
          ]
        },
        {
          "output_type": "stream",
          "name": "stderr",
          "text": [
            "\n"
          ]
        },
        {
          "output_type": "stream",
          "name": "stdout",
          "text": [
            "\n",
            "      Epoch    GPU_mem   box_loss   cls_loss   dfl_loss  Instances       Size\n"
          ]
        },
        {
          "output_type": "stream",
          "name": "stderr",
          "text": [
            "      3/100      11.2G      1.275      1.462       1.68        106        640: 100%|██████████| 161/161 [02:05<00:00,  1.29it/s]\n",
            "                 Class     Images  Instances      Box(P          R      mAP50  mAP50-95): 100%|██████████| 28/28 [00:13<00:00,  2.14it/s]"
          ]
        },
        {
          "output_type": "stream",
          "name": "stdout",
          "text": [
            "                   all        888       4146       0.51      0.508      0.384      0.274\n"
          ]
        },
        {
          "output_type": "stream",
          "name": "stderr",
          "text": [
            "\n"
          ]
        },
        {
          "output_type": "stream",
          "name": "stdout",
          "text": [
            "\n",
            "      Epoch    GPU_mem   box_loss   cls_loss   dfl_loss  Instances       Size\n"
          ]
        },
        {
          "output_type": "stream",
          "name": "stderr",
          "text": [
            "      4/100      11.2G      1.084      1.137      1.481         92        640: 100%|██████████| 161/161 [02:04<00:00,  1.30it/s]\n",
            "                 Class     Images  Instances      Box(P          R      mAP50  mAP50-95): 100%|██████████| 28/28 [00:13<00:00,  2.13it/s]"
          ]
        },
        {
          "output_type": "stream",
          "name": "stdout",
          "text": [
            "                   all        888       4146      0.594      0.371      0.382      0.268\n"
          ]
        },
        {
          "output_type": "stream",
          "name": "stderr",
          "text": [
            "\n"
          ]
        },
        {
          "output_type": "stream",
          "name": "stdout",
          "text": [
            "\n",
            "      Epoch    GPU_mem   box_loss   cls_loss   dfl_loss  Instances       Size\n"
          ]
        },
        {
          "output_type": "stream",
          "name": "stderr",
          "text": [
            "      5/100      11.5G     0.9884     0.9864      1.393         64        640: 100%|██████████| 161/161 [02:04<00:00,  1.30it/s]\n",
            "                 Class     Images  Instances      Box(P          R      mAP50  mAP50-95): 100%|██████████| 28/28 [00:13<00:00,  2.14it/s]"
          ]
        },
        {
          "output_type": "stream",
          "name": "stdout",
          "text": [
            "                   all        888       4146      0.738      0.462      0.517      0.394\n"
          ]
        },
        {
          "output_type": "stream",
          "name": "stderr",
          "text": [
            "\n"
          ]
        },
        {
          "output_type": "stream",
          "name": "stdout",
          "text": [
            "\n",
            "      Epoch    GPU_mem   box_loss   cls_loss   dfl_loss  Instances       Size\n"
          ]
        },
        {
          "output_type": "stream",
          "name": "stderr",
          "text": [
            "      6/100      11.3G     0.9669     0.8895      1.354        104        640: 100%|██████████| 161/161 [02:04<00:00,  1.29it/s]\n",
            "                 Class     Images  Instances      Box(P          R      mAP50  mAP50-95): 100%|██████████| 28/28 [00:13<00:00,  2.12it/s]"
          ]
        },
        {
          "output_type": "stream",
          "name": "stdout",
          "text": [
            "                   all        888       4146      0.516      0.469      0.433      0.328\n"
          ]
        },
        {
          "output_type": "stream",
          "name": "stderr",
          "text": [
            "\n"
          ]
        },
        {
          "output_type": "stream",
          "name": "stdout",
          "text": [
            "\n",
            "      Epoch    GPU_mem   box_loss   cls_loss   dfl_loss  Instances       Size\n"
          ]
        },
        {
          "output_type": "stream",
          "name": "stderr",
          "text": [
            "      7/100      11.2G     0.8923     0.8076      1.287        109        640: 100%|██████████| 161/161 [02:04<00:00,  1.29it/s]\n",
            "                 Class     Images  Instances      Box(P          R      mAP50  mAP50-95): 100%|██████████| 28/28 [00:12<00:00,  2.17it/s]"
          ]
        },
        {
          "output_type": "stream",
          "name": "stdout",
          "text": [
            "                   all        888       4146      0.575      0.458      0.426      0.331\n"
          ]
        },
        {
          "output_type": "stream",
          "name": "stderr",
          "text": [
            "\n"
          ]
        },
        {
          "output_type": "stream",
          "name": "stdout",
          "text": [
            "\n",
            "      Epoch    GPU_mem   box_loss   cls_loss   dfl_loss  Instances       Size\n"
          ]
        },
        {
          "output_type": "stream",
          "name": "stderr",
          "text": [
            "      8/100      11.2G     0.8647       0.77      1.275        104        640: 100%|██████████| 161/161 [02:04<00:00,  1.30it/s]\n",
            "                 Class     Images  Instances      Box(P          R      mAP50  mAP50-95): 100%|██████████| 28/28 [00:13<00:00,  2.15it/s]"
          ]
        },
        {
          "output_type": "stream",
          "name": "stdout",
          "text": [
            "                   all        888       4146      0.672      0.523      0.537      0.434\n"
          ]
        },
        {
          "output_type": "stream",
          "name": "stderr",
          "text": [
            "\n"
          ]
        },
        {
          "output_type": "stream",
          "name": "stdout",
          "text": [
            "\n",
            "      Epoch    GPU_mem   box_loss   cls_loss   dfl_loss  Instances       Size\n"
          ]
        },
        {
          "output_type": "stream",
          "name": "stderr",
          "text": [
            "      9/100      11.5G       0.85     0.7361      1.249         70        640: 100%|██████████| 161/161 [02:03<00:00,  1.30it/s]\n",
            "                 Class     Images  Instances      Box(P          R      mAP50  mAP50-95): 100%|██████████| 28/28 [00:13<00:00,  2.14it/s]"
          ]
        },
        {
          "output_type": "stream",
          "name": "stdout",
          "text": [
            "                   all        888       4146      0.636      0.555      0.546      0.436\n"
          ]
        },
        {
          "output_type": "stream",
          "name": "stderr",
          "text": [
            "\n"
          ]
        },
        {
          "output_type": "stream",
          "name": "stdout",
          "text": [
            "\n",
            "      Epoch    GPU_mem   box_loss   cls_loss   dfl_loss  Instances       Size\n"
          ]
        },
        {
          "output_type": "stream",
          "name": "stderr",
          "text": [
            "     10/100        11G     0.8372     0.6911      1.235         80        640: 100%|██████████| 161/161 [02:04<00:00,  1.30it/s]\n",
            "                 Class     Images  Instances      Box(P          R      mAP50  mAP50-95): 100%|██████████| 28/28 [00:12<00:00,  2.15it/s]"
          ]
        },
        {
          "output_type": "stream",
          "name": "stdout",
          "text": [
            "                   all        888       4146      0.476      0.605      0.539      0.432\n"
          ]
        },
        {
          "output_type": "stream",
          "name": "stderr",
          "text": [
            "\n"
          ]
        },
        {
          "output_type": "stream",
          "name": "stdout",
          "text": [
            "\n",
            "      Epoch    GPU_mem   box_loss   cls_loss   dfl_loss  Instances       Size\n"
          ]
        },
        {
          "output_type": "stream",
          "name": "stderr",
          "text": [
            "     11/100      11.2G     0.8078      0.644      1.211         68        640: 100%|██████████| 161/161 [02:03<00:00,  1.30it/s]\n",
            "                 Class     Images  Instances      Box(P          R      mAP50  mAP50-95): 100%|██████████| 28/28 [00:12<00:00,  2.17it/s]"
          ]
        },
        {
          "output_type": "stream",
          "name": "stdout",
          "text": [
            "                   all        888       4146      0.639      0.607      0.597      0.478\n"
          ]
        },
        {
          "output_type": "stream",
          "name": "stderr",
          "text": [
            "\n"
          ]
        },
        {
          "output_type": "stream",
          "name": "stdout",
          "text": [
            "\n",
            "      Epoch    GPU_mem   box_loss   cls_loss   dfl_loss  Instances       Size\n"
          ]
        },
        {
          "output_type": "stream",
          "name": "stderr",
          "text": [
            "     12/100      11.4G     0.7967     0.6461      1.209         70        640: 100%|██████████| 161/161 [02:04<00:00,  1.30it/s]\n",
            "                 Class     Images  Instances      Box(P          R      mAP50  mAP50-95): 100%|██████████| 28/28 [00:13<00:00,  2.04it/s]"
          ]
        },
        {
          "output_type": "stream",
          "name": "stdout",
          "text": [
            "                   all        888       4146      0.692      0.583      0.557      0.451\n"
          ]
        },
        {
          "output_type": "stream",
          "name": "stderr",
          "text": [
            "\n"
          ]
        },
        {
          "output_type": "stream",
          "name": "stdout",
          "text": [
            "\n",
            "      Epoch    GPU_mem   box_loss   cls_loss   dfl_loss  Instances       Size\n"
          ]
        },
        {
          "output_type": "stream",
          "name": "stderr",
          "text": [
            "     13/100      11.2G     0.7827     0.6204      1.184         84        640: 100%|██████████| 161/161 [02:03<00:00,  1.30it/s]\n",
            "                 Class     Images  Instances      Box(P          R      mAP50  mAP50-95): 100%|██████████| 28/28 [00:12<00:00,  2.17it/s]"
          ]
        },
        {
          "output_type": "stream",
          "name": "stdout",
          "text": [
            "                   all        888       4146      0.644      0.627      0.547      0.434\n"
          ]
        },
        {
          "output_type": "stream",
          "name": "stderr",
          "text": [
            "\n"
          ]
        },
        {
          "output_type": "stream",
          "name": "stdout",
          "text": [
            "\n",
            "      Epoch    GPU_mem   box_loss   cls_loss   dfl_loss  Instances       Size\n"
          ]
        },
        {
          "output_type": "stream",
          "name": "stderr",
          "text": [
            "     14/100      11.2G     0.7839     0.6021      1.192         82        640: 100%|██████████| 161/161 [02:03<00:00,  1.30it/s]\n",
            "                 Class     Images  Instances      Box(P          R      mAP50  mAP50-95): 100%|██████████| 28/28 [00:13<00:00,  2.15it/s]"
          ]
        },
        {
          "output_type": "stream",
          "name": "stdout",
          "text": [
            "                   all        888       4146      0.742      0.616      0.616      0.497\n"
          ]
        },
        {
          "output_type": "stream",
          "name": "stderr",
          "text": [
            "\n"
          ]
        },
        {
          "output_type": "stream",
          "name": "stdout",
          "text": [
            "\n",
            "      Epoch    GPU_mem   box_loss   cls_loss   dfl_loss  Instances       Size\n"
          ]
        },
        {
          "output_type": "stream",
          "name": "stderr",
          "text": [
            "     15/100      11.2G     0.7632     0.5712      1.173         86        640: 100%|██████████| 161/161 [02:04<00:00,  1.30it/s]\n",
            "                 Class     Images  Instances      Box(P          R      mAP50  mAP50-95): 100%|██████████| 28/28 [00:13<00:00,  2.13it/s]"
          ]
        },
        {
          "output_type": "stream",
          "name": "stdout",
          "text": [
            "                   all        888       4146       0.53      0.587      0.544      0.444\n"
          ]
        },
        {
          "output_type": "stream",
          "name": "stderr",
          "text": [
            "\n"
          ]
        },
        {
          "output_type": "stream",
          "name": "stdout",
          "text": [
            "\n",
            "      Epoch    GPU_mem   box_loss   cls_loss   dfl_loss  Instances       Size\n"
          ]
        },
        {
          "output_type": "stream",
          "name": "stderr",
          "text": [
            "     16/100      11.1G     0.7614     0.5778      1.171         86        640: 100%|██████████| 161/161 [02:04<00:00,  1.30it/s]\n",
            "                 Class     Images  Instances      Box(P          R      mAP50  mAP50-95): 100%|██████████| 28/28 [00:12<00:00,  2.19it/s]"
          ]
        },
        {
          "output_type": "stream",
          "name": "stdout",
          "text": [
            "                   all        888       4146      0.505      0.594      0.519       0.42\n"
          ]
        },
        {
          "output_type": "stream",
          "name": "stderr",
          "text": [
            "\n"
          ]
        },
        {
          "output_type": "stream",
          "name": "stdout",
          "text": [
            "\n",
            "      Epoch    GPU_mem   box_loss   cls_loss   dfl_loss  Instances       Size\n"
          ]
        },
        {
          "output_type": "stream",
          "name": "stderr",
          "text": [
            "     17/100      11.2G     0.7428     0.5562      1.157         71        640: 100%|██████████| 161/161 [02:04<00:00,  1.30it/s]\n",
            "                 Class     Images  Instances      Box(P          R      mAP50  mAP50-95): 100%|██████████| 28/28 [00:13<00:00,  2.14it/s]"
          ]
        },
        {
          "output_type": "stream",
          "name": "stdout",
          "text": [
            "                   all        888       4146      0.614      0.543      0.476      0.386\n"
          ]
        },
        {
          "output_type": "stream",
          "name": "stderr",
          "text": [
            "\n"
          ]
        },
        {
          "output_type": "stream",
          "name": "stdout",
          "text": [
            "\n",
            "      Epoch    GPU_mem   box_loss   cls_loss   dfl_loss  Instances       Size\n"
          ]
        },
        {
          "output_type": "stream",
          "name": "stderr",
          "text": [
            "     18/100      11.2G     0.7403     0.5493       1.16         88        640: 100%|██████████| 161/161 [02:03<00:00,  1.30it/s]\n",
            "                 Class     Images  Instances      Box(P          R      mAP50  mAP50-95): 100%|██████████| 28/28 [00:12<00:00,  2.16it/s]"
          ]
        },
        {
          "output_type": "stream",
          "name": "stdout",
          "text": [
            "                   all        888       4146       0.47      0.589      0.505        0.4\n"
          ]
        },
        {
          "output_type": "stream",
          "name": "stderr",
          "text": [
            "\n"
          ]
        },
        {
          "output_type": "stream",
          "name": "stdout",
          "text": [
            "\n",
            "      Epoch    GPU_mem   box_loss   cls_loss   dfl_loss  Instances       Size\n"
          ]
        },
        {
          "output_type": "stream",
          "name": "stderr",
          "text": [
            "     19/100        11G     0.7323     0.5374      1.151         67        640: 100%|██████████| 161/161 [02:04<00:00,  1.29it/s]\n",
            "                 Class     Images  Instances      Box(P          R      mAP50  mAP50-95): 100%|██████████| 28/28 [00:13<00:00,  2.15it/s]"
          ]
        },
        {
          "output_type": "stream",
          "name": "stdout",
          "text": [
            "                   all        888       4146      0.808       0.61       0.63      0.511\n"
          ]
        },
        {
          "output_type": "stream",
          "name": "stderr",
          "text": [
            "\n"
          ]
        },
        {
          "output_type": "stream",
          "name": "stdout",
          "text": [
            "\n",
            "      Epoch    GPU_mem   box_loss   cls_loss   dfl_loss  Instances       Size\n"
          ]
        },
        {
          "output_type": "stream",
          "name": "stderr",
          "text": [
            "     20/100      11.5G     0.7247     0.5275      1.138         74        640: 100%|██████████| 161/161 [02:04<00:00,  1.30it/s]\n",
            "                 Class     Images  Instances      Box(P          R      mAP50  mAP50-95): 100%|██████████| 28/28 [00:12<00:00,  2.20it/s]"
          ]
        },
        {
          "output_type": "stream",
          "name": "stdout",
          "text": [
            "                   all        888       4146       0.47      0.615      0.505      0.411\n"
          ]
        },
        {
          "output_type": "stream",
          "name": "stderr",
          "text": [
            "\n"
          ]
        },
        {
          "output_type": "stream",
          "name": "stdout",
          "text": [
            "\n",
            "      Epoch    GPU_mem   box_loss   cls_loss   dfl_loss  Instances       Size\n"
          ]
        },
        {
          "output_type": "stream",
          "name": "stderr",
          "text": [
            "     21/100      11.2G     0.7234     0.5168      1.143         77        640: 100%|██████████| 161/161 [02:03<00:00,  1.30it/s]\n",
            "                 Class     Images  Instances      Box(P          R      mAP50  mAP50-95): 100%|██████████| 28/28 [00:13<00:00,  2.15it/s]"
          ]
        },
        {
          "output_type": "stream",
          "name": "stdout",
          "text": [
            "                   all        888       4146      0.494      0.607      0.534       0.43\n"
          ]
        },
        {
          "output_type": "stream",
          "name": "stderr",
          "text": [
            "\n"
          ]
        },
        {
          "output_type": "stream",
          "name": "stdout",
          "text": [
            "\n",
            "      Epoch    GPU_mem   box_loss   cls_loss   dfl_loss  Instances       Size\n"
          ]
        },
        {
          "output_type": "stream",
          "name": "stderr",
          "text": [
            "     22/100        11G      0.709     0.5065      1.134         86        640: 100%|██████████| 161/161 [02:04<00:00,  1.30it/s]\n",
            "                 Class     Images  Instances      Box(P          R      mAP50  mAP50-95): 100%|██████████| 28/28 [00:12<00:00,  2.19it/s]"
          ]
        },
        {
          "output_type": "stream",
          "name": "stdout",
          "text": [
            "                   all        888       4146      0.541      0.576      0.521      0.422\n"
          ]
        },
        {
          "output_type": "stream",
          "name": "stderr",
          "text": [
            "\n"
          ]
        },
        {
          "output_type": "stream",
          "name": "stdout",
          "text": [
            "\n",
            "      Epoch    GPU_mem   box_loss   cls_loss   dfl_loss  Instances       Size\n"
          ]
        },
        {
          "output_type": "stream",
          "name": "stderr",
          "text": [
            "     23/100      11.2G     0.7084     0.5038      1.129         79        640: 100%|██████████| 161/161 [02:04<00:00,  1.30it/s]\n",
            "                 Class     Images  Instances      Box(P          R      mAP50  mAP50-95): 100%|██████████| 28/28 [00:12<00:00,  2.17it/s]"
          ]
        },
        {
          "output_type": "stream",
          "name": "stdout",
          "text": [
            "                   all        888       4146      0.702      0.611      0.606      0.498\n"
          ]
        },
        {
          "output_type": "stream",
          "name": "stderr",
          "text": [
            "\n"
          ]
        },
        {
          "output_type": "stream",
          "name": "stdout",
          "text": [
            "\n",
            "      Epoch    GPU_mem   box_loss   cls_loss   dfl_loss  Instances       Size\n"
          ]
        },
        {
          "output_type": "stream",
          "name": "stderr",
          "text": [
            "     24/100      11.2G     0.7028     0.4937      1.126         70        640: 100%|██████████| 161/161 [02:04<00:00,  1.30it/s]\n",
            "                 Class     Images  Instances      Box(P          R      mAP50  mAP50-95): 100%|██████████| 28/28 [00:13<00:00,  2.15it/s]"
          ]
        },
        {
          "output_type": "stream",
          "name": "stdout",
          "text": [
            "                   all        888       4146      0.544      0.588      0.569      0.463\n"
          ]
        },
        {
          "output_type": "stream",
          "name": "stderr",
          "text": [
            "\n"
          ]
        },
        {
          "output_type": "stream",
          "name": "stdout",
          "text": [
            "\n",
            "      Epoch    GPU_mem   box_loss   cls_loss   dfl_loss  Instances       Size\n"
          ]
        },
        {
          "output_type": "stream",
          "name": "stderr",
          "text": [
            "     25/100      11.2G     0.6948     0.4906       1.12         65        640: 100%|██████████| 161/161 [02:03<00:00,  1.30it/s]\n",
            "                 Class     Images  Instances      Box(P          R      mAP50  mAP50-95): 100%|██████████| 28/28 [00:13<00:00,  2.14it/s]"
          ]
        },
        {
          "output_type": "stream",
          "name": "stdout",
          "text": [
            "                   all        888       4146      0.591      0.625      0.613      0.493\n"
          ]
        },
        {
          "output_type": "stream",
          "name": "stderr",
          "text": [
            "\n"
          ]
        },
        {
          "output_type": "stream",
          "name": "stdout",
          "text": [
            "\n",
            "      Epoch    GPU_mem   box_loss   cls_loss   dfl_loss  Instances       Size\n"
          ]
        },
        {
          "output_type": "stream",
          "name": "stderr",
          "text": [
            "     26/100      11.2G     0.6968     0.4883      1.125        117        640: 100%|██████████| 161/161 [02:04<00:00,  1.29it/s]\n",
            "                 Class     Images  Instances      Box(P          R      mAP50  mAP50-95): 100%|██████████| 28/28 [00:12<00:00,  2.16it/s]"
          ]
        },
        {
          "output_type": "stream",
          "name": "stdout",
          "text": [
            "                   all        888       4146      0.519      0.606      0.555      0.444\n"
          ]
        },
        {
          "output_type": "stream",
          "name": "stderr",
          "text": [
            "\n"
          ]
        },
        {
          "output_type": "stream",
          "name": "stdout",
          "text": [
            "\n",
            "      Epoch    GPU_mem   box_loss   cls_loss   dfl_loss  Instances       Size\n"
          ]
        },
        {
          "output_type": "stream",
          "name": "stderr",
          "text": [
            "     27/100      11.2G     0.6954     0.4718      1.119         67        640: 100%|██████████| 161/161 [02:03<00:00,  1.30it/s]\n",
            "                 Class     Images  Instances      Box(P          R      mAP50  mAP50-95): 100%|██████████| 28/28 [00:12<00:00,  2.18it/s]"
          ]
        },
        {
          "output_type": "stream",
          "name": "stdout",
          "text": [
            "                   all        888       4146      0.595      0.608      0.509      0.407\n"
          ]
        },
        {
          "output_type": "stream",
          "name": "stderr",
          "text": [
            "\n"
          ]
        },
        {
          "output_type": "stream",
          "name": "stdout",
          "text": [
            "\n",
            "      Epoch    GPU_mem   box_loss   cls_loss   dfl_loss  Instances       Size\n"
          ]
        },
        {
          "output_type": "stream",
          "name": "stderr",
          "text": [
            "     28/100      11.1G     0.6889     0.4745      1.113         70        640: 100%|██████████| 161/161 [02:03<00:00,  1.30it/s]\n",
            "                 Class     Images  Instances      Box(P          R      mAP50  mAP50-95): 100%|██████████| 28/28 [00:14<00:00,  1.94it/s]"
          ]
        },
        {
          "output_type": "stream",
          "name": "stdout",
          "text": [
            "                   all        888       4146      0.489      0.625      0.566      0.462\n"
          ]
        },
        {
          "output_type": "stream",
          "name": "stderr",
          "text": [
            "\n"
          ]
        },
        {
          "output_type": "stream",
          "name": "stdout",
          "text": [
            "\n",
            "      Epoch    GPU_mem   box_loss   cls_loss   dfl_loss  Instances       Size\n"
          ]
        },
        {
          "output_type": "stream",
          "name": "stderr",
          "text": [
            "     29/100      11.2G     0.6897      0.477      1.121         58        640: 100%|██████████| 161/161 [02:04<00:00,  1.30it/s]\n",
            "                 Class     Images  Instances      Box(P          R      mAP50  mAP50-95): 100%|██████████| 28/28 [00:13<00:00,  2.13it/s]"
          ]
        },
        {
          "output_type": "stream",
          "name": "stdout",
          "text": [
            "                   all        888       4146      0.604      0.577      0.594      0.486\n"
          ]
        },
        {
          "output_type": "stream",
          "name": "stderr",
          "text": [
            "\n"
          ]
        },
        {
          "output_type": "stream",
          "name": "stdout",
          "text": [
            "\n",
            "      Epoch    GPU_mem   box_loss   cls_loss   dfl_loss  Instances       Size\n"
          ]
        },
        {
          "output_type": "stream",
          "name": "stderr",
          "text": [
            "     30/100      11.5G     0.6783     0.4599      1.105         93        640: 100%|██████████| 161/161 [02:03<00:00,  1.30it/s]\n",
            "                 Class     Images  Instances      Box(P          R      mAP50  mAP50-95): 100%|██████████| 28/28 [00:12<00:00,  2.16it/s]"
          ]
        },
        {
          "output_type": "stream",
          "name": "stdout",
          "text": [
            "                   all        888       4146      0.459      0.645      0.539      0.436\n"
          ]
        },
        {
          "output_type": "stream",
          "name": "stderr",
          "text": [
            "\n"
          ]
        },
        {
          "output_type": "stream",
          "name": "stdout",
          "text": [
            "\n",
            "      Epoch    GPU_mem   box_loss   cls_loss   dfl_loss  Instances       Size\n"
          ]
        },
        {
          "output_type": "stream",
          "name": "stderr",
          "text": [
            "     31/100      11.2G     0.6718     0.4624      1.104         63        640: 100%|██████████| 161/161 [02:03<00:00,  1.30it/s]\n",
            "                 Class     Images  Instances      Box(P          R      mAP50  mAP50-95): 100%|██████████| 28/28 [00:13<00:00,  2.15it/s]"
          ]
        },
        {
          "output_type": "stream",
          "name": "stdout",
          "text": [
            "                   all        888       4146      0.722      0.557      0.593      0.476\n"
          ]
        },
        {
          "output_type": "stream",
          "name": "stderr",
          "text": [
            "\n"
          ]
        },
        {
          "output_type": "stream",
          "name": "stdout",
          "text": [
            "\n",
            "      Epoch    GPU_mem   box_loss   cls_loss   dfl_loss  Instances       Size\n"
          ]
        },
        {
          "output_type": "stream",
          "name": "stderr",
          "text": [
            "     32/100      11.4G     0.6733     0.4506      1.109         79        640: 100%|██████████| 161/161 [02:03<00:00,  1.30it/s]\n",
            "                 Class     Images  Instances      Box(P          R      mAP50  mAP50-95): 100%|██████████| 28/28 [00:13<00:00,  2.14it/s]"
          ]
        },
        {
          "output_type": "stream",
          "name": "stdout",
          "text": [
            "                   all        888       4146      0.571      0.566      0.572      0.464\n"
          ]
        },
        {
          "output_type": "stream",
          "name": "stderr",
          "text": [
            "\n"
          ]
        },
        {
          "output_type": "stream",
          "name": "stdout",
          "text": [
            "\n",
            "      Epoch    GPU_mem   box_loss   cls_loss   dfl_loss  Instances       Size\n"
          ]
        },
        {
          "output_type": "stream",
          "name": "stderr",
          "text": [
            "     33/100      11.2G     0.6687     0.4528      1.103        107        640: 100%|██████████| 161/161 [02:04<00:00,  1.30it/s]\n",
            "                 Class     Images  Instances      Box(P          R      mAP50  mAP50-95): 100%|██████████| 28/28 [00:13<00:00,  2.13it/s]"
          ]
        },
        {
          "output_type": "stream",
          "name": "stdout",
          "text": [
            "                   all        888       4146      0.494      0.596      0.536      0.437\n"
          ]
        },
        {
          "output_type": "stream",
          "name": "stderr",
          "text": [
            "\n"
          ]
        },
        {
          "output_type": "stream",
          "name": "stdout",
          "text": [
            "\n",
            "      Epoch    GPU_mem   box_loss   cls_loss   dfl_loss  Instances       Size\n"
          ]
        },
        {
          "output_type": "stream",
          "name": "stderr",
          "text": [
            "     34/100      11.2G     0.6676     0.4483        1.1         89        640: 100%|██████████| 161/161 [02:03<00:00,  1.30it/s]\n",
            "                 Class     Images  Instances      Box(P          R      mAP50  mAP50-95): 100%|██████████| 28/28 [00:13<00:00,  2.15it/s]"
          ]
        },
        {
          "output_type": "stream",
          "name": "stdout",
          "text": [
            "                   all        888       4146      0.479      0.626      0.543       0.44\n"
          ]
        },
        {
          "output_type": "stream",
          "name": "stderr",
          "text": [
            "\n"
          ]
        },
        {
          "output_type": "stream",
          "name": "stdout",
          "text": [
            "\n",
            "      Epoch    GPU_mem   box_loss   cls_loss   dfl_loss  Instances       Size\n"
          ]
        },
        {
          "output_type": "stream",
          "name": "stderr",
          "text": [
            "     35/100      11.5G     0.6578      0.446      1.098         61        640: 100%|██████████| 161/161 [02:04<00:00,  1.30it/s]\n",
            "                 Class     Images  Instances      Box(P          R      mAP50  mAP50-95): 100%|██████████| 28/28 [00:13<00:00,  2.01it/s]"
          ]
        },
        {
          "output_type": "stream",
          "name": "stdout",
          "text": [
            "                   all        888       4146       0.51      0.623      0.582      0.481\n"
          ]
        },
        {
          "output_type": "stream",
          "name": "stderr",
          "text": [
            "\n"
          ]
        },
        {
          "output_type": "stream",
          "name": "stdout",
          "text": [
            "\n",
            "      Epoch    GPU_mem   box_loss   cls_loss   dfl_loss  Instances       Size\n"
          ]
        },
        {
          "output_type": "stream",
          "name": "stderr",
          "text": [
            "     36/100      11.4G     0.6545     0.4294      1.091         44        640: 100%|██████████| 161/161 [02:04<00:00,  1.29it/s]\n",
            "                 Class     Images  Instances      Box(P          R      mAP50  mAP50-95): 100%|██████████| 28/28 [00:13<00:00,  2.14it/s]"
          ]
        },
        {
          "output_type": "stream",
          "name": "stdout",
          "text": [
            "                   all        888       4146       0.49      0.632      0.527      0.433\n"
          ]
        },
        {
          "output_type": "stream",
          "name": "stderr",
          "text": [
            "\n"
          ]
        },
        {
          "output_type": "stream",
          "name": "stdout",
          "text": [
            "\n",
            "      Epoch    GPU_mem   box_loss   cls_loss   dfl_loss  Instances       Size\n"
          ]
        },
        {
          "output_type": "stream",
          "name": "stderr",
          "text": [
            "     37/100      11.5G     0.6614     0.4301      1.091        116        640: 100%|██████████| 161/161 [02:03<00:00,  1.30it/s]\n",
            "                 Class     Images  Instances      Box(P          R      mAP50  mAP50-95): 100%|██████████| 28/28 [00:13<00:00,  2.14it/s]"
          ]
        },
        {
          "output_type": "stream",
          "name": "stdout",
          "text": [
            "                   all        888       4146      0.647       0.59      0.606      0.491\n"
          ]
        },
        {
          "output_type": "stream",
          "name": "stderr",
          "text": [
            "\n"
          ]
        },
        {
          "output_type": "stream",
          "name": "stdout",
          "text": [
            "\n",
            "      Epoch    GPU_mem   box_loss   cls_loss   dfl_loss  Instances       Size\n"
          ]
        },
        {
          "output_type": "stream",
          "name": "stderr",
          "text": [
            "     38/100      11.5G     0.6538     0.4341      1.091        101        640: 100%|██████████| 161/161 [02:04<00:00,  1.29it/s]\n",
            "                 Class     Images  Instances      Box(P          R      mAP50  mAP50-95): 100%|██████████| 28/28 [00:12<00:00,  2.17it/s]"
          ]
        },
        {
          "output_type": "stream",
          "name": "stdout",
          "text": [
            "                   all        888       4146      0.483      0.606      0.494      0.403\n"
          ]
        },
        {
          "output_type": "stream",
          "name": "stderr",
          "text": [
            "\n"
          ]
        },
        {
          "output_type": "stream",
          "name": "stdout",
          "text": [
            "\n",
            "      Epoch    GPU_mem   box_loss   cls_loss   dfl_loss  Instances       Size\n"
          ]
        },
        {
          "output_type": "stream",
          "name": "stderr",
          "text": [
            "     39/100      11.5G     0.6516     0.4251      1.086         60        640: 100%|██████████| 161/161 [02:03<00:00,  1.30it/s]\n",
            "                 Class     Images  Instances      Box(P          R      mAP50  mAP50-95): 100%|██████████| 28/28 [00:12<00:00,  2.18it/s]"
          ]
        },
        {
          "output_type": "stream",
          "name": "stdout",
          "text": [
            "                   all        888       4146      0.537      0.631      0.614      0.501\n"
          ]
        },
        {
          "output_type": "stream",
          "name": "stderr",
          "text": [
            "\n"
          ]
        },
        {
          "output_type": "stream",
          "name": "stdout",
          "text": [
            "\n",
            "      Epoch    GPU_mem   box_loss   cls_loss   dfl_loss  Instances       Size\n"
          ]
        },
        {
          "output_type": "stream",
          "name": "stderr",
          "text": [
            "     40/100      11.5G     0.6455     0.4166      1.083         85        640: 100%|██████████| 161/161 [02:03<00:00,  1.30it/s]\n",
            "                 Class     Images  Instances      Box(P          R      mAP50  mAP50-95): 100%|██████████| 28/28 [00:13<00:00,  2.15it/s]"
          ]
        },
        {
          "output_type": "stream",
          "name": "stdout",
          "text": [
            "                   all        888       4146      0.543      0.644      0.609      0.503\n"
          ]
        },
        {
          "output_type": "stream",
          "name": "stderr",
          "text": [
            "\n"
          ]
        },
        {
          "output_type": "stream",
          "name": "stdout",
          "text": [
            "\n",
            "      Epoch    GPU_mem   box_loss   cls_loss   dfl_loss  Instances       Size\n"
          ]
        },
        {
          "output_type": "stream",
          "name": "stderr",
          "text": [
            "     41/100      11.5G     0.6428     0.4139      1.082         72        640: 100%|██████████| 161/161 [02:03<00:00,  1.30it/s]\n",
            "                 Class     Images  Instances      Box(P          R      mAP50  mAP50-95): 100%|██████████| 28/28 [00:12<00:00,  2.17it/s]"
          ]
        },
        {
          "output_type": "stream",
          "name": "stdout",
          "text": [
            "                   all        888       4146      0.558      0.668      0.606      0.497\n"
          ]
        },
        {
          "output_type": "stream",
          "name": "stderr",
          "text": [
            "\n"
          ]
        },
        {
          "output_type": "stream",
          "name": "stdout",
          "text": [
            "\n",
            "      Epoch    GPU_mem   box_loss   cls_loss   dfl_loss  Instances       Size\n"
          ]
        },
        {
          "output_type": "stream",
          "name": "stderr",
          "text": [
            "     42/100      11.5G     0.6405     0.4045       1.08        121        640: 100%|██████████| 161/161 [02:03<00:00,  1.30it/s]\n",
            "                 Class     Images  Instances      Box(P          R      mAP50  mAP50-95): 100%|██████████| 28/28 [00:13<00:00,  2.08it/s]"
          ]
        },
        {
          "output_type": "stream",
          "name": "stdout",
          "text": [
            "                   all        888       4146      0.524      0.624      0.538      0.439\n"
          ]
        },
        {
          "output_type": "stream",
          "name": "stderr",
          "text": [
            "\n"
          ]
        },
        {
          "output_type": "stream",
          "name": "stdout",
          "text": [
            "\n",
            "      Epoch    GPU_mem   box_loss   cls_loss   dfl_loss  Instances       Size\n"
          ]
        },
        {
          "output_type": "stream",
          "name": "stderr",
          "text": [
            "     43/100      11.2G     0.6355     0.4102      1.077         85        640: 100%|██████████| 161/161 [02:03<00:00,  1.30it/s]\n",
            "                 Class     Images  Instances      Box(P          R      mAP50  mAP50-95): 100%|██████████| 28/28 [00:13<00:00,  2.14it/s]"
          ]
        },
        {
          "output_type": "stream",
          "name": "stdout",
          "text": [
            "                   all        888       4146      0.541      0.637      0.589      0.474\n"
          ]
        },
        {
          "output_type": "stream",
          "name": "stderr",
          "text": [
            "\n"
          ]
        },
        {
          "output_type": "stream",
          "name": "stdout",
          "text": [
            "\n",
            "      Epoch    GPU_mem   box_loss   cls_loss   dfl_loss  Instances       Size\n"
          ]
        },
        {
          "output_type": "stream",
          "name": "stderr",
          "text": [
            "     44/100      11.1G     0.6396     0.4127      1.076         94        640: 100%|██████████| 161/161 [02:03<00:00,  1.30it/s]\n",
            "                 Class     Images  Instances      Box(P          R      mAP50  mAP50-95): 100%|██████████| 28/28 [00:13<00:00,  2.15it/s]"
          ]
        },
        {
          "output_type": "stream",
          "name": "stdout",
          "text": [
            "                   all        888       4146      0.499      0.631      0.566      0.466\n"
          ]
        },
        {
          "output_type": "stream",
          "name": "stderr",
          "text": [
            "\n"
          ]
        },
        {
          "output_type": "stream",
          "name": "stdout",
          "text": [
            "\n",
            "      Epoch    GPU_mem   box_loss   cls_loss   dfl_loss  Instances       Size\n"
          ]
        },
        {
          "output_type": "stream",
          "name": "stderr",
          "text": [
            "     45/100      11.2G     0.6327      0.404       1.08        115        640: 100%|██████████| 161/161 [02:04<00:00,  1.29it/s]\n",
            "                 Class     Images  Instances      Box(P          R      mAP50  mAP50-95): 100%|██████████| 28/28 [00:13<00:00,  2.15it/s]"
          ]
        },
        {
          "output_type": "stream",
          "name": "stdout",
          "text": [
            "                   all        888       4146      0.698      0.602      0.583      0.482\n"
          ]
        },
        {
          "output_type": "stream",
          "name": "stderr",
          "text": [
            "\n"
          ]
        },
        {
          "output_type": "stream",
          "name": "stdout",
          "text": [
            "\n",
            "      Epoch    GPU_mem   box_loss   cls_loss   dfl_loss  Instances       Size\n"
          ]
        },
        {
          "output_type": "stream",
          "name": "stderr",
          "text": [
            "     46/100      11.2G     0.6252     0.3923      1.067         67        640: 100%|██████████| 161/161 [02:03<00:00,  1.30it/s]\n",
            "                 Class     Images  Instances      Box(P          R      mAP50  mAP50-95): 100%|██████████| 28/28 [00:13<00:00,  2.14it/s]"
          ]
        },
        {
          "output_type": "stream",
          "name": "stdout",
          "text": [
            "                   all        888       4146      0.521      0.648      0.599      0.495\n"
          ]
        },
        {
          "output_type": "stream",
          "name": "stderr",
          "text": [
            "\n"
          ]
        },
        {
          "output_type": "stream",
          "name": "stdout",
          "text": [
            "\n",
            "      Epoch    GPU_mem   box_loss   cls_loss   dfl_loss  Instances       Size\n"
          ]
        },
        {
          "output_type": "stream",
          "name": "stderr",
          "text": [
            "     47/100      11.2G     0.6316     0.4012      1.077         53        640: 100%|██████████| 161/161 [02:04<00:00,  1.30it/s]\n",
            "                 Class     Images  Instances      Box(P          R      mAP50  mAP50-95): 100%|██████████| 28/28 [00:13<00:00,  2.14it/s]"
          ]
        },
        {
          "output_type": "stream",
          "name": "stdout",
          "text": [
            "                   all        888       4146      0.528      0.614      0.575      0.474\n"
          ]
        },
        {
          "output_type": "stream",
          "name": "stderr",
          "text": [
            "\n"
          ]
        },
        {
          "output_type": "stream",
          "name": "stdout",
          "text": [
            "\n",
            "      Epoch    GPU_mem   box_loss   cls_loss   dfl_loss  Instances       Size\n"
          ]
        },
        {
          "output_type": "stream",
          "name": "stderr",
          "text": [
            "     48/100      11.5G     0.6231     0.3911      1.064         92        640: 100%|██████████| 161/161 [02:04<00:00,  1.30it/s]\n",
            "                 Class     Images  Instances      Box(P          R      mAP50  mAP50-95): 100%|██████████| 28/28 [00:13<00:00,  2.13it/s]"
          ]
        },
        {
          "output_type": "stream",
          "name": "stdout",
          "text": [
            "                   all        888       4146      0.527      0.642      0.606      0.498\n"
          ]
        },
        {
          "output_type": "stream",
          "name": "stderr",
          "text": [
            "\n"
          ]
        },
        {
          "output_type": "stream",
          "name": "stdout",
          "text": [
            "\n",
            "      Epoch    GPU_mem   box_loss   cls_loss   dfl_loss  Instances       Size\n"
          ]
        },
        {
          "output_type": "stream",
          "name": "stderr",
          "text": [
            "     49/100      11.2G     0.6246     0.3923      1.063         63        640: 100%|██████████| 161/161 [02:04<00:00,  1.29it/s]\n",
            "                 Class     Images  Instances      Box(P          R      mAP50  mAP50-95): 100%|██████████| 28/28 [00:12<00:00,  2.16it/s]"
          ]
        },
        {
          "output_type": "stream",
          "name": "stdout",
          "text": [
            "                   all        888       4146      0.513      0.654      0.593      0.492\n"
          ]
        },
        {
          "output_type": "stream",
          "name": "stderr",
          "text": [
            "\n"
          ]
        },
        {
          "output_type": "stream",
          "name": "stdout",
          "text": [
            "\n",
            "      Epoch    GPU_mem   box_loss   cls_loss   dfl_loss  Instances       Size\n"
          ]
        },
        {
          "output_type": "stream",
          "name": "stderr",
          "text": [
            "     50/100        11G     0.6191     0.3892      1.062         89        640: 100%|██████████| 161/161 [02:04<00:00,  1.30it/s]\n",
            "                 Class     Images  Instances      Box(P          R      mAP50  mAP50-95): 100%|██████████| 28/28 [00:13<00:00,  2.12it/s]"
          ]
        },
        {
          "output_type": "stream",
          "name": "stdout",
          "text": [
            "                   all        888       4146      0.504      0.626      0.549      0.448\n"
          ]
        },
        {
          "output_type": "stream",
          "name": "stderr",
          "text": [
            "\n"
          ]
        },
        {
          "output_type": "stream",
          "name": "stdout",
          "text": [
            "\n",
            "      Epoch    GPU_mem   box_loss   cls_loss   dfl_loss  Instances       Size\n"
          ]
        },
        {
          "output_type": "stream",
          "name": "stderr",
          "text": [
            "     51/100      11.2G     0.6226     0.3867      1.065        117        640: 100%|██████████| 161/161 [02:04<00:00,  1.29it/s]\n",
            "                 Class     Images  Instances      Box(P          R      mAP50  mAP50-95): 100%|██████████| 28/28 [00:13<00:00,  2.14it/s]"
          ]
        },
        {
          "output_type": "stream",
          "name": "stdout",
          "text": [
            "                   all        888       4146      0.565      0.642      0.594      0.494\n"
          ]
        },
        {
          "output_type": "stream",
          "name": "stderr",
          "text": [
            "\n"
          ]
        },
        {
          "output_type": "stream",
          "name": "stdout",
          "text": [
            "\n",
            "      Epoch    GPU_mem   box_loss   cls_loss   dfl_loss  Instances       Size\n"
          ]
        },
        {
          "output_type": "stream",
          "name": "stderr",
          "text": [
            "     52/100      11.2G     0.6133     0.3842      1.062         95        640: 100%|██████████| 161/161 [02:04<00:00,  1.29it/s]\n",
            "                 Class     Images  Instances      Box(P          R      mAP50  mAP50-95): 100%|██████████| 28/28 [00:13<00:00,  2.14it/s]"
          ]
        },
        {
          "output_type": "stream",
          "name": "stdout",
          "text": [
            "                   all        888       4146      0.514      0.615      0.516      0.424\n"
          ]
        },
        {
          "output_type": "stream",
          "name": "stderr",
          "text": [
            "\n"
          ]
        },
        {
          "output_type": "stream",
          "name": "stdout",
          "text": [
            "\n",
            "      Epoch    GPU_mem   box_loss   cls_loss   dfl_loss  Instances       Size\n"
          ]
        },
        {
          "output_type": "stream",
          "name": "stderr",
          "text": [
            "     53/100      11.5G     0.6097     0.3798      1.057         72        640: 100%|██████████| 161/161 [02:03<00:00,  1.30it/s]\n",
            "                 Class     Images  Instances      Box(P          R      mAP50  mAP50-95): 100%|██████████| 28/28 [00:13<00:00,  2.15it/s]"
          ]
        },
        {
          "output_type": "stream",
          "name": "stdout",
          "text": [
            "                   all        888       4146      0.546      0.639       0.57       0.47\n"
          ]
        },
        {
          "output_type": "stream",
          "name": "stderr",
          "text": [
            "\n"
          ]
        },
        {
          "output_type": "stream",
          "name": "stdout",
          "text": [
            "\n",
            "      Epoch    GPU_mem   box_loss   cls_loss   dfl_loss  Instances       Size\n"
          ]
        },
        {
          "output_type": "stream",
          "name": "stderr",
          "text": [
            "     54/100      11.2G     0.6104     0.3769      1.052         74        640: 100%|██████████| 161/161 [02:03<00:00,  1.30it/s]\n",
            "                 Class     Images  Instances      Box(P          R      mAP50  mAP50-95): 100%|██████████| 28/28 [00:13<00:00,  2.15it/s]"
          ]
        },
        {
          "output_type": "stream",
          "name": "stdout",
          "text": [
            "                   all        888       4146      0.579      0.616      0.597      0.498\n"
          ]
        },
        {
          "output_type": "stream",
          "name": "stderr",
          "text": [
            "\n"
          ]
        },
        {
          "output_type": "stream",
          "name": "stdout",
          "text": [
            "\n",
            "      Epoch    GPU_mem   box_loss   cls_loss   dfl_loss  Instances       Size\n"
          ]
        },
        {
          "output_type": "stream",
          "name": "stderr",
          "text": [
            "     55/100      11.2G     0.6113      0.377      1.062         90        640: 100%|██████████| 161/161 [02:03<00:00,  1.30it/s]\n",
            "                 Class     Images  Instances      Box(P          R      mAP50  mAP50-95): 100%|██████████| 28/28 [00:13<00:00,  2.15it/s]"
          ]
        },
        {
          "output_type": "stream",
          "name": "stdout",
          "text": [
            "                   all        888       4146      0.579       0.61      0.605      0.505\n"
          ]
        },
        {
          "output_type": "stream",
          "name": "stderr",
          "text": [
            "\n"
          ]
        },
        {
          "output_type": "stream",
          "name": "stdout",
          "text": [
            "\n",
            "      Epoch    GPU_mem   box_loss   cls_loss   dfl_loss  Instances       Size\n"
          ]
        },
        {
          "output_type": "stream",
          "name": "stderr",
          "text": [
            "     56/100      11.4G     0.5992     0.3713      1.054        121        640: 100%|██████████| 161/161 [02:04<00:00,  1.29it/s]\n",
            "                 Class     Images  Instances      Box(P          R      mAP50  mAP50-95): 100%|██████████| 28/28 [00:12<00:00,  2.16it/s]"
          ]
        },
        {
          "output_type": "stream",
          "name": "stdout",
          "text": [
            "                   all        888       4146      0.624      0.628      0.635      0.525\n"
          ]
        },
        {
          "output_type": "stream",
          "name": "stderr",
          "text": [
            "\n"
          ]
        },
        {
          "output_type": "stream",
          "name": "stdout",
          "text": [
            "\n",
            "      Epoch    GPU_mem   box_loss   cls_loss   dfl_loss  Instances       Size\n"
          ]
        },
        {
          "output_type": "stream",
          "name": "stderr",
          "text": [
            "     57/100      11.2G     0.5996      0.369      1.051         93        640: 100%|██████████| 161/161 [02:03<00:00,  1.30it/s]\n",
            "                 Class     Images  Instances      Box(P          R      mAP50  mAP50-95): 100%|██████████| 28/28 [00:13<00:00,  2.09it/s]"
          ]
        },
        {
          "output_type": "stream",
          "name": "stdout",
          "text": [
            "                   all        888       4146      0.522      0.639      0.556      0.462\n"
          ]
        },
        {
          "output_type": "stream",
          "name": "stderr",
          "text": [
            "\n"
          ]
        },
        {
          "output_type": "stream",
          "name": "stdout",
          "text": [
            "\n",
            "      Epoch    GPU_mem   box_loss   cls_loss   dfl_loss  Instances       Size\n"
          ]
        },
        {
          "output_type": "stream",
          "name": "stderr",
          "text": [
            "     58/100      11.2G     0.6025     0.3681      1.062         64        640: 100%|██████████| 161/161 [02:03<00:00,  1.30it/s]\n",
            "                 Class     Images  Instances      Box(P          R      mAP50  mAP50-95): 100%|██████████| 28/28 [00:13<00:00,  2.02it/s]"
          ]
        },
        {
          "output_type": "stream",
          "name": "stdout",
          "text": [
            "                   all        888       4146       0.56      0.636       0.61       0.51\n"
          ]
        },
        {
          "output_type": "stream",
          "name": "stderr",
          "text": [
            "\n"
          ]
        },
        {
          "output_type": "stream",
          "name": "stdout",
          "text": [
            "\n",
            "      Epoch    GPU_mem   box_loss   cls_loss   dfl_loss  Instances       Size\n"
          ]
        },
        {
          "output_type": "stream",
          "name": "stderr",
          "text": [
            "     59/100        11G     0.5991     0.3663      1.048        110        640: 100%|██████████| 161/161 [02:04<00:00,  1.30it/s]\n",
            "                 Class     Images  Instances      Box(P          R      mAP50  mAP50-95): 100%|██████████| 28/28 [00:13<00:00,  2.14it/s]"
          ]
        },
        {
          "output_type": "stream",
          "name": "stdout",
          "text": [
            "                   all        888       4146      0.555      0.653      0.598      0.496\n"
          ]
        },
        {
          "output_type": "stream",
          "name": "stderr",
          "text": [
            "\n"
          ]
        },
        {
          "output_type": "stream",
          "name": "stdout",
          "text": [
            "\n",
            "      Epoch    GPU_mem   box_loss   cls_loss   dfl_loss  Instances       Size\n"
          ]
        },
        {
          "output_type": "stream",
          "name": "stderr",
          "text": [
            "     60/100      11.2G     0.5927     0.3624      1.047         86        640: 100%|██████████| 161/161 [02:03<00:00,  1.30it/s]\n",
            "                 Class     Images  Instances      Box(P          R      mAP50  mAP50-95): 100%|██████████| 28/28 [00:13<00:00,  2.14it/s]"
          ]
        },
        {
          "output_type": "stream",
          "name": "stdout",
          "text": [
            "                   all        888       4146      0.534      0.641      0.569      0.472\n"
          ]
        },
        {
          "output_type": "stream",
          "name": "stderr",
          "text": [
            "\n"
          ]
        },
        {
          "output_type": "stream",
          "name": "stdout",
          "text": [
            "\n",
            "      Epoch    GPU_mem   box_loss   cls_loss   dfl_loss  Instances       Size\n"
          ]
        },
        {
          "output_type": "stream",
          "name": "stderr",
          "text": [
            "     61/100      11.2G     0.5916     0.3576      1.044         86        640: 100%|██████████| 161/161 [02:03<00:00,  1.30it/s]\n",
            "                 Class     Images  Instances      Box(P          R      mAP50  mAP50-95): 100%|██████████| 28/28 [00:12<00:00,  2.18it/s]"
          ]
        },
        {
          "output_type": "stream",
          "name": "stdout",
          "text": [
            "                   all        888       4146      0.713      0.628      0.615      0.509\n"
          ]
        },
        {
          "output_type": "stream",
          "name": "stderr",
          "text": [
            "\n"
          ]
        },
        {
          "output_type": "stream",
          "name": "stdout",
          "text": [
            "\n",
            "      Epoch    GPU_mem   box_loss   cls_loss   dfl_loss  Instances       Size\n"
          ]
        },
        {
          "output_type": "stream",
          "name": "stderr",
          "text": [
            "     62/100      11.5G      0.593     0.3653      1.046         88        640: 100%|██████████| 161/161 [02:03<00:00,  1.30it/s]\n",
            "                 Class     Images  Instances      Box(P          R      mAP50  mAP50-95): 100%|██████████| 28/28 [00:13<00:00,  2.15it/s]"
          ]
        },
        {
          "output_type": "stream",
          "name": "stdout",
          "text": [
            "                   all        888       4146      0.602      0.623      0.613      0.509\n"
          ]
        },
        {
          "output_type": "stream",
          "name": "stderr",
          "text": [
            "\n"
          ]
        },
        {
          "output_type": "stream",
          "name": "stdout",
          "text": [
            "\n",
            "      Epoch    GPU_mem   box_loss   cls_loss   dfl_loss  Instances       Size\n"
          ]
        },
        {
          "output_type": "stream",
          "name": "stderr",
          "text": [
            "     63/100      11.5G     0.5845     0.3528      1.044         76        640: 100%|██████████| 161/161 [02:04<00:00,  1.30it/s]\n",
            "                 Class     Images  Instances      Box(P          R      mAP50  mAP50-95): 100%|██████████| 28/28 [00:12<00:00,  2.20it/s]"
          ]
        },
        {
          "output_type": "stream",
          "name": "stdout",
          "text": [
            "                   all        888       4146       0.54      0.626      0.574      0.478\n"
          ]
        },
        {
          "output_type": "stream",
          "name": "stderr",
          "text": [
            "\n"
          ]
        },
        {
          "output_type": "stream",
          "name": "stdout",
          "text": [
            "\n",
            "      Epoch    GPU_mem   box_loss   cls_loss   dfl_loss  Instances       Size\n"
          ]
        },
        {
          "output_type": "stream",
          "name": "stderr",
          "text": [
            "     64/100      11.4G     0.5906     0.3634      1.041         65        640: 100%|██████████| 161/161 [02:03<00:00,  1.30it/s]\n",
            "                 Class     Images  Instances      Box(P          R      mAP50  mAP50-95): 100%|██████████| 28/28 [00:12<00:00,  2.16it/s]"
          ]
        },
        {
          "output_type": "stream",
          "name": "stdout",
          "text": [
            "                   all        888       4146      0.505      0.621      0.557      0.462\n"
          ]
        },
        {
          "output_type": "stream",
          "name": "stderr",
          "text": [
            "\n"
          ]
        },
        {
          "output_type": "stream",
          "name": "stdout",
          "text": [
            "\n",
            "      Epoch    GPU_mem   box_loss   cls_loss   dfl_loss  Instances       Size\n"
          ]
        },
        {
          "output_type": "stream",
          "name": "stderr",
          "text": [
            "     65/100      11.5G     0.5804     0.3508      1.036         71        640: 100%|██████████| 161/161 [02:03<00:00,  1.30it/s]\n",
            "                 Class     Images  Instances      Box(P          R      mAP50  mAP50-95): 100%|██████████| 28/28 [00:12<00:00,  2.16it/s]"
          ]
        },
        {
          "output_type": "stream",
          "name": "stdout",
          "text": [
            "                   all        888       4146       0.54      0.615      0.565      0.467\n"
          ]
        },
        {
          "output_type": "stream",
          "name": "stderr",
          "text": [
            "\n"
          ]
        },
        {
          "output_type": "stream",
          "name": "stdout",
          "text": [
            "\n",
            "      Epoch    GPU_mem   box_loss   cls_loss   dfl_loss  Instances       Size\n"
          ]
        },
        {
          "output_type": "stream",
          "name": "stderr",
          "text": [
            "     66/100      11.5G     0.5854     0.3503      1.038         60        640: 100%|██████████| 161/161 [02:03<00:00,  1.30it/s]\n",
            "                 Class     Images  Instances      Box(P          R      mAP50  mAP50-95): 100%|██████████| 28/28 [00:13<00:00,  2.15it/s]"
          ]
        },
        {
          "output_type": "stream",
          "name": "stdout",
          "text": [
            "                   all        888       4146      0.535       0.65      0.589      0.485\n"
          ]
        },
        {
          "output_type": "stream",
          "name": "stderr",
          "text": [
            "\n"
          ]
        },
        {
          "output_type": "stream",
          "name": "stdout",
          "text": [
            "\n",
            "      Epoch    GPU_mem   box_loss   cls_loss   dfl_loss  Instances       Size\n"
          ]
        },
        {
          "output_type": "stream",
          "name": "stderr",
          "text": [
            "     67/100      11.5G     0.5798     0.3438      1.039         80        640: 100%|██████████| 161/161 [02:03<00:00,  1.30it/s]\n",
            "                 Class     Images  Instances      Box(P          R      mAP50  mAP50-95): 100%|██████████| 28/28 [00:12<00:00,  2.16it/s]"
          ]
        },
        {
          "output_type": "stream",
          "name": "stdout",
          "text": [
            "                   all        888       4146      0.577      0.645      0.615      0.506\n"
          ]
        },
        {
          "output_type": "stream",
          "name": "stderr",
          "text": [
            "\n"
          ]
        },
        {
          "output_type": "stream",
          "name": "stdout",
          "text": [
            "\n",
            "      Epoch    GPU_mem   box_loss   cls_loss   dfl_loss  Instances       Size\n"
          ]
        },
        {
          "output_type": "stream",
          "name": "stderr",
          "text": [
            "     68/100      11.4G     0.5801      0.344      1.038         62        640: 100%|██████████| 161/161 [02:03<00:00,  1.30it/s]\n",
            "                 Class     Images  Instances      Box(P          R      mAP50  mAP50-95): 100%|██████████| 28/28 [00:13<00:00,  2.14it/s]"
          ]
        },
        {
          "output_type": "stream",
          "name": "stdout",
          "text": [
            "                   all        888       4146      0.542      0.624      0.591      0.491\n"
          ]
        },
        {
          "output_type": "stream",
          "name": "stderr",
          "text": [
            "\n"
          ]
        },
        {
          "output_type": "stream",
          "name": "stdout",
          "text": [
            "\n",
            "      Epoch    GPU_mem   box_loss   cls_loss   dfl_loss  Instances       Size\n"
          ]
        },
        {
          "output_type": "stream",
          "name": "stderr",
          "text": [
            "     69/100      11.5G     0.5753     0.3408      1.035         69        640: 100%|██████████| 161/161 [02:03<00:00,  1.30it/s]\n",
            "                 Class     Images  Instances      Box(P          R      mAP50  mAP50-95): 100%|██████████| 28/28 [00:12<00:00,  2.17it/s]"
          ]
        },
        {
          "output_type": "stream",
          "name": "stdout",
          "text": [
            "                   all        888       4146      0.546      0.623      0.566      0.467\n"
          ]
        },
        {
          "output_type": "stream",
          "name": "stderr",
          "text": [
            "\n"
          ]
        },
        {
          "output_type": "stream",
          "name": "stdout",
          "text": [
            "\n",
            "      Epoch    GPU_mem   box_loss   cls_loss   dfl_loss  Instances       Size\n"
          ]
        },
        {
          "output_type": "stream",
          "name": "stderr",
          "text": [
            "     70/100      11.2G     0.5731     0.3407      1.034         89        640: 100%|██████████| 161/161 [02:03<00:00,  1.30it/s]\n",
            "                 Class     Images  Instances      Box(P          R      mAP50  mAP50-95): 100%|██████████| 28/28 [00:13<00:00,  2.14it/s]"
          ]
        },
        {
          "output_type": "stream",
          "name": "stdout",
          "text": [
            "                   all        888       4146      0.544      0.627      0.577       0.48\n"
          ]
        },
        {
          "output_type": "stream",
          "name": "stderr",
          "text": [
            "\n"
          ]
        },
        {
          "output_type": "stream",
          "name": "stdout",
          "text": [
            "\n",
            "      Epoch    GPU_mem   box_loss   cls_loss   dfl_loss  Instances       Size\n"
          ]
        },
        {
          "output_type": "stream",
          "name": "stderr",
          "text": [
            "     71/100      11.2G     0.5749     0.3376      1.035         73        640: 100%|██████████| 161/161 [02:04<00:00,  1.30it/s]\n",
            "                 Class     Images  Instances      Box(P          R      mAP50  mAP50-95): 100%|██████████| 28/28 [00:12<00:00,  2.17it/s]"
          ]
        },
        {
          "output_type": "stream",
          "name": "stdout",
          "text": [
            "                   all        888       4146      0.555      0.644      0.587      0.485\n"
          ]
        },
        {
          "output_type": "stream",
          "name": "stderr",
          "text": [
            "\n"
          ]
        },
        {
          "output_type": "stream",
          "name": "stdout",
          "text": [
            "\n",
            "      Epoch    GPU_mem   box_loss   cls_loss   dfl_loss  Instances       Size\n"
          ]
        },
        {
          "output_type": "stream",
          "name": "stderr",
          "text": [
            "     72/100      11.2G     0.5704     0.3349      1.023        112        640: 100%|██████████| 161/161 [02:04<00:00,  1.30it/s]\n",
            "                 Class     Images  Instances      Box(P          R      mAP50  mAP50-95): 100%|██████████| 28/28 [00:13<00:00,  2.15it/s]"
          ]
        },
        {
          "output_type": "stream",
          "name": "stdout",
          "text": [
            "                   all        888       4146      0.551      0.633      0.584      0.482\n"
          ]
        },
        {
          "output_type": "stream",
          "name": "stderr",
          "text": [
            "\n"
          ]
        },
        {
          "output_type": "stream",
          "name": "stdout",
          "text": [
            "\n",
            "      Epoch    GPU_mem   box_loss   cls_loss   dfl_loss  Instances       Size\n"
          ]
        },
        {
          "output_type": "stream",
          "name": "stderr",
          "text": [
            "     73/100      11.2G     0.5646      0.333      1.028         53        640: 100%|██████████| 161/161 [02:03<00:00,  1.30it/s]\n",
            "                 Class     Images  Instances      Box(P          R      mAP50  mAP50-95): 100%|██████████| 28/28 [00:13<00:00,  2.15it/s]"
          ]
        },
        {
          "output_type": "stream",
          "name": "stdout",
          "text": [
            "                   all        888       4146      0.555      0.635      0.577      0.478\n"
          ]
        },
        {
          "output_type": "stream",
          "name": "stderr",
          "text": [
            "\n"
          ]
        },
        {
          "output_type": "stream",
          "name": "stdout",
          "text": [
            "\n",
            "      Epoch    GPU_mem   box_loss   cls_loss   dfl_loss  Instances       Size\n"
          ]
        },
        {
          "output_type": "stream",
          "name": "stderr",
          "text": [
            "     74/100      11.2G      0.563     0.3334      1.028         97        640: 100%|██████████| 161/161 [02:03<00:00,  1.30it/s]\n",
            "                 Class     Images  Instances      Box(P          R      mAP50  mAP50-95): 100%|██████████| 28/28 [00:12<00:00,  2.16it/s]"
          ]
        },
        {
          "output_type": "stream",
          "name": "stdout",
          "text": [
            "                   all        888       4146      0.588       0.63      0.633      0.525\n"
          ]
        },
        {
          "output_type": "stream",
          "name": "stderr",
          "text": [
            "\n"
          ]
        },
        {
          "output_type": "stream",
          "name": "stdout",
          "text": [
            "\n",
            "      Epoch    GPU_mem   box_loss   cls_loss   dfl_loss  Instances       Size\n"
          ]
        },
        {
          "output_type": "stream",
          "name": "stderr",
          "text": [
            "     75/100      11.2G     0.5632     0.3309      1.029         55        640: 100%|██████████| 161/161 [02:03<00:00,  1.30it/s]\n",
            "                 Class     Images  Instances      Box(P          R      mAP50  mAP50-95): 100%|██████████| 28/28 [00:12<00:00,  2.19it/s]"
          ]
        },
        {
          "output_type": "stream",
          "name": "stdout",
          "text": [
            "                   all        888       4146      0.529      0.639      0.565      0.466\n"
          ]
        },
        {
          "output_type": "stream",
          "name": "stderr",
          "text": [
            "\n"
          ]
        },
        {
          "output_type": "stream",
          "name": "stdout",
          "text": [
            "\n",
            "      Epoch    GPU_mem   box_loss   cls_loss   dfl_loss  Instances       Size\n"
          ]
        },
        {
          "output_type": "stream",
          "name": "stderr",
          "text": [
            "     76/100      11.5G     0.5599       0.33      1.027         81        640: 100%|██████████| 161/161 [02:03<00:00,  1.30it/s]\n",
            "                 Class     Images  Instances      Box(P          R      mAP50  mAP50-95): 100%|██████████| 28/28 [00:12<00:00,  2.15it/s]"
          ]
        },
        {
          "output_type": "stream",
          "name": "stdout",
          "text": [
            "                   all        888       4146      0.565      0.641      0.587      0.486\n"
          ]
        },
        {
          "output_type": "stream",
          "name": "stderr",
          "text": [
            "\n"
          ]
        },
        {
          "output_type": "stream",
          "name": "stdout",
          "text": [
            "\n",
            "      Epoch    GPU_mem   box_loss   cls_loss   dfl_loss  Instances       Size\n"
          ]
        },
        {
          "output_type": "stream",
          "name": "stderr",
          "text": [
            "     77/100      11.2G     0.5545     0.3247      1.024         98        640: 100%|██████████| 161/161 [02:03<00:00,  1.30it/s]\n",
            "                 Class     Images  Instances      Box(P          R      mAP50  mAP50-95): 100%|██████████| 28/28 [00:12<00:00,  2.22it/s]"
          ]
        },
        {
          "output_type": "stream",
          "name": "stdout",
          "text": [
            "                   all        888       4146      0.565      0.611      0.608      0.505\n"
          ]
        },
        {
          "output_type": "stream",
          "name": "stderr",
          "text": [
            "\n"
          ]
        },
        {
          "output_type": "stream",
          "name": "stdout",
          "text": [
            "\n",
            "      Epoch    GPU_mem   box_loss   cls_loss   dfl_loss  Instances       Size\n"
          ]
        },
        {
          "output_type": "stream",
          "name": "stderr",
          "text": [
            "     78/100      11.2G     0.5524     0.3194      1.018         63        640: 100%|██████████| 161/161 [02:04<00:00,  1.30it/s]\n",
            "                 Class     Images  Instances      Box(P          R      mAP50  mAP50-95): 100%|██████████| 28/28 [00:12<00:00,  2.19it/s]"
          ]
        },
        {
          "output_type": "stream",
          "name": "stdout",
          "text": [
            "                   all        888       4146      0.553      0.617      0.557      0.461\n"
          ]
        },
        {
          "output_type": "stream",
          "name": "stderr",
          "text": [
            "\n"
          ]
        },
        {
          "output_type": "stream",
          "name": "stdout",
          "text": [
            "\n",
            "      Epoch    GPU_mem   box_loss   cls_loss   dfl_loss  Instances       Size\n"
          ]
        },
        {
          "output_type": "stream",
          "name": "stderr",
          "text": [
            "     79/100      11.2G     0.5528     0.3256      1.021         91        640: 100%|██████████| 161/161 [02:04<00:00,  1.29it/s]\n",
            "                 Class     Images  Instances      Box(P          R      mAP50  mAP50-95): 100%|██████████| 28/28 [00:12<00:00,  2.16it/s]"
          ]
        },
        {
          "output_type": "stream",
          "name": "stdout",
          "text": [
            "                   all        888       4146      0.564      0.621      0.588      0.488\n"
          ]
        },
        {
          "output_type": "stream",
          "name": "stderr",
          "text": [
            "\n"
          ]
        },
        {
          "output_type": "stream",
          "name": "stdout",
          "text": [
            "\n",
            "      Epoch    GPU_mem   box_loss   cls_loss   dfl_loss  Instances       Size\n"
          ]
        },
        {
          "output_type": "stream",
          "name": "stderr",
          "text": [
            "     80/100      11.5G     0.5543     0.3207      1.019         74        640: 100%|██████████| 161/161 [02:03<00:00,  1.30it/s]\n",
            "                 Class     Images  Instances      Box(P          R      mAP50  mAP50-95): 100%|██████████| 28/28 [00:12<00:00,  2.20it/s]"
          ]
        },
        {
          "output_type": "stream",
          "name": "stdout",
          "text": [
            "                   all        888       4146      0.569      0.637      0.586      0.486\n"
          ]
        },
        {
          "output_type": "stream",
          "name": "stderr",
          "text": [
            "\n"
          ]
        },
        {
          "output_type": "stream",
          "name": "stdout",
          "text": [
            "\n",
            "      Epoch    GPU_mem   box_loss   cls_loss   dfl_loss  Instances       Size\n"
          ]
        },
        {
          "output_type": "stream",
          "name": "stderr",
          "text": [
            "     81/100      11.2G     0.5545     0.3215      1.022         49        640: 100%|██████████| 161/161 [02:03<00:00,  1.30it/s]\n",
            "                 Class     Images  Instances      Box(P          R      mAP50  mAP50-95): 100%|██████████| 28/28 [00:12<00:00,  2.20it/s]"
          ]
        },
        {
          "output_type": "stream",
          "name": "stdout",
          "text": [
            "                   all        888       4146      0.558       0.65      0.575      0.476\n"
          ]
        },
        {
          "output_type": "stream",
          "name": "stderr",
          "text": [
            "\n"
          ]
        },
        {
          "output_type": "stream",
          "name": "stdout",
          "text": [
            "\n",
            "      Epoch    GPU_mem   box_loss   cls_loss   dfl_loss  Instances       Size\n"
          ]
        },
        {
          "output_type": "stream",
          "name": "stderr",
          "text": [
            "     82/100      11.5G     0.5475     0.3182      1.016        102        640: 100%|██████████| 161/161 [02:04<00:00,  1.29it/s]\n",
            "                 Class     Images  Instances      Box(P          R      mAP50  mAP50-95): 100%|██████████| 28/28 [00:12<00:00,  2.17it/s]"
          ]
        },
        {
          "output_type": "stream",
          "name": "stdout",
          "text": [
            "                   all        888       4146      0.547      0.628      0.562      0.463\n"
          ]
        },
        {
          "output_type": "stream",
          "name": "stderr",
          "text": [
            "\n"
          ]
        },
        {
          "output_type": "stream",
          "name": "stdout",
          "text": [
            "\n",
            "      Epoch    GPU_mem   box_loss   cls_loss   dfl_loss  Instances       Size\n"
          ]
        },
        {
          "output_type": "stream",
          "name": "stderr",
          "text": [
            "     83/100      11.5G     0.5438     0.3123      1.021         77        640: 100%|██████████| 161/161 [02:04<00:00,  1.30it/s]\n",
            "                 Class     Images  Instances      Box(P          R      mAP50  mAP50-95): 100%|██████████| 28/28 [00:12<00:00,  2.18it/s]"
          ]
        },
        {
          "output_type": "stream",
          "name": "stdout",
          "text": [
            "                   all        888       4146      0.543      0.617      0.545      0.451\n"
          ]
        },
        {
          "output_type": "stream",
          "name": "stderr",
          "text": [
            "\n"
          ]
        },
        {
          "output_type": "stream",
          "name": "stdout",
          "text": [
            "\n",
            "      Epoch    GPU_mem   box_loss   cls_loss   dfl_loss  Instances       Size\n"
          ]
        },
        {
          "output_type": "stream",
          "name": "stderr",
          "text": [
            "     84/100      11.5G     0.5428     0.3134      1.012         98        640: 100%|██████████| 161/161 [02:03<00:00,  1.30it/s]\n",
            "                 Class     Images  Instances      Box(P          R      mAP50  mAP50-95): 100%|██████████| 28/28 [00:12<00:00,  2.16it/s]"
          ]
        },
        {
          "output_type": "stream",
          "name": "stdout",
          "text": [
            "                   all        888       4146      0.576      0.642      0.591      0.492\n"
          ]
        },
        {
          "output_type": "stream",
          "name": "stderr",
          "text": [
            "\n"
          ]
        },
        {
          "output_type": "stream",
          "name": "stdout",
          "text": [
            "\n",
            "      Epoch    GPU_mem   box_loss   cls_loss   dfl_loss  Instances       Size\n"
          ]
        },
        {
          "output_type": "stream",
          "name": "stderr",
          "text": [
            "     85/100      11.2G     0.5399     0.3104      1.013        135        640: 100%|██████████| 161/161 [02:03<00:00,  1.30it/s]\n",
            "                 Class     Images  Instances      Box(P          R      mAP50  mAP50-95): 100%|██████████| 28/28 [00:12<00:00,  2.17it/s]"
          ]
        },
        {
          "output_type": "stream",
          "name": "stdout",
          "text": [
            "                   all        888       4146      0.578      0.618      0.591      0.491\n"
          ]
        },
        {
          "output_type": "stream",
          "name": "stderr",
          "text": [
            "\n"
          ]
        },
        {
          "output_type": "stream",
          "name": "stdout",
          "text": [
            "\n",
            "      Epoch    GPU_mem   box_loss   cls_loss   dfl_loss  Instances       Size\n"
          ]
        },
        {
          "output_type": "stream",
          "name": "stderr",
          "text": [
            "     86/100      11.5G     0.5374      0.309       1.01         95        640: 100%|██████████| 161/161 [02:03<00:00,  1.30it/s]\n",
            "                 Class     Images  Instances      Box(P          R      mAP50  mAP50-95): 100%|██████████| 28/28 [00:12<00:00,  2.17it/s]"
          ]
        },
        {
          "output_type": "stream",
          "name": "stdout",
          "text": [
            "                   all        888       4146      0.566      0.643      0.573      0.479\n"
          ]
        },
        {
          "output_type": "stream",
          "name": "stderr",
          "text": [
            "\n"
          ]
        },
        {
          "output_type": "stream",
          "name": "stdout",
          "text": [
            "\n",
            "      Epoch    GPU_mem   box_loss   cls_loss   dfl_loss  Instances       Size\n"
          ]
        },
        {
          "output_type": "stream",
          "name": "stderr",
          "text": [
            "     87/100      11.5G     0.5355     0.3083      1.011         88        640: 100%|██████████| 161/161 [02:03<00:00,  1.30it/s]\n",
            "                 Class     Images  Instances      Box(P          R      mAP50  mAP50-95): 100%|██████████| 28/28 [00:12<00:00,  2.17it/s]"
          ]
        },
        {
          "output_type": "stream",
          "name": "stdout",
          "text": [
            "                   all        888       4146      0.566      0.647      0.582      0.481\n"
          ]
        },
        {
          "output_type": "stream",
          "name": "stderr",
          "text": [
            "\n"
          ]
        },
        {
          "output_type": "stream",
          "name": "stdout",
          "text": [
            "\n",
            "      Epoch    GPU_mem   box_loss   cls_loss   dfl_loss  Instances       Size\n"
          ]
        },
        {
          "output_type": "stream",
          "name": "stderr",
          "text": [
            "     88/100      11.1G     0.5307     0.3051       1.01        101        640: 100%|██████████| 161/161 [02:03<00:00,  1.30it/s]\n",
            "                 Class     Images  Instances      Box(P          R      mAP50  mAP50-95): 100%|██████████| 28/28 [00:12<00:00,  2.20it/s]"
          ]
        },
        {
          "output_type": "stream",
          "name": "stdout",
          "text": [
            "                   all        888       4146      0.557      0.644       0.58      0.482\n"
          ]
        },
        {
          "output_type": "stream",
          "name": "stderr",
          "text": [
            "\n"
          ]
        },
        {
          "output_type": "stream",
          "name": "stdout",
          "text": [
            "\n",
            "      Epoch    GPU_mem   box_loss   cls_loss   dfl_loss  Instances       Size\n"
          ]
        },
        {
          "output_type": "stream",
          "name": "stderr",
          "text": [
            "     89/100      11.5G     0.5315     0.3059      1.007         78        640: 100%|██████████| 161/161 [02:03<00:00,  1.30it/s]\n",
            "                 Class     Images  Instances      Box(P          R      mAP50  mAP50-95): 100%|██████████| 28/28 [00:12<00:00,  2.17it/s]"
          ]
        },
        {
          "output_type": "stream",
          "name": "stdout",
          "text": [
            "                   all        888       4146      0.554      0.635      0.566       0.47\n"
          ]
        },
        {
          "output_type": "stream",
          "name": "stderr",
          "text": [
            "\n"
          ]
        },
        {
          "output_type": "stream",
          "name": "stdout",
          "text": [
            "\n",
            "      Epoch    GPU_mem   box_loss   cls_loss   dfl_loss  Instances       Size\n"
          ]
        },
        {
          "output_type": "stream",
          "name": "stderr",
          "text": [
            "     90/100      11.5G     0.5331     0.3035      1.009         63        640: 100%|██████████| 161/161 [02:03<00:00,  1.30it/s]\n",
            "                 Class     Images  Instances      Box(P          R      mAP50  mAP50-95): 100%|██████████| 28/28 [00:13<00:00,  2.15it/s]"
          ]
        },
        {
          "output_type": "stream",
          "name": "stdout",
          "text": [
            "                   all        888       4146      0.563      0.621       0.56      0.461\n"
          ]
        },
        {
          "output_type": "stream",
          "name": "stderr",
          "text": [
            "\n"
          ]
        },
        {
          "output_type": "stream",
          "name": "stdout",
          "text": [
            "Closing dataloader mosaic\n",
            "\u001b[34m\u001b[1malbumentations: \u001b[0mBlur(p=0.01, blur_limit=(3, 7)), MedianBlur(p=0.01, blur_limit=(3, 7)), ToGray(p=0.01), CLAHE(p=0.01, clip_limit=(1, 4.0), tile_grid_size=(8, 8))\n",
            "\n",
            "      Epoch    GPU_mem   box_loss   cls_loss   dfl_loss  Instances       Size\n"
          ]
        },
        {
          "output_type": "stream",
          "name": "stderr",
          "text": [
            "     91/100      11.3G     0.4748     0.2456      0.975         36        640: 100%|██████████| 161/161 [02:05<00:00,  1.28it/s]\n",
            "                 Class     Images  Instances      Box(P          R      mAP50  mAP50-95): 100%|██████████| 28/28 [00:12<00:00,  2.19it/s]"
          ]
        },
        {
          "output_type": "stream",
          "name": "stdout",
          "text": [
            "                   all        888       4146      0.552       0.62      0.564      0.466\n"
          ]
        },
        {
          "output_type": "stream",
          "name": "stderr",
          "text": [
            "\n"
          ]
        },
        {
          "output_type": "stream",
          "name": "stdout",
          "text": [
            "\n",
            "      Epoch    GPU_mem   box_loss   cls_loss   dfl_loss  Instances       Size\n"
          ]
        },
        {
          "output_type": "stream",
          "name": "stderr",
          "text": [
            "     92/100      11.1G     0.4675     0.2413      0.968         37        640: 100%|██████████| 161/161 [02:03<00:00,  1.31it/s]\n",
            "                 Class     Images  Instances      Box(P          R      mAP50  mAP50-95): 100%|██████████| 28/28 [00:13<00:00,  2.15it/s]"
          ]
        },
        {
          "output_type": "stream",
          "name": "stdout",
          "text": [
            "                   all        888       4146      0.543      0.625      0.566      0.474\n"
          ]
        },
        {
          "output_type": "stream",
          "name": "stderr",
          "text": [
            "\n"
          ]
        },
        {
          "output_type": "stream",
          "name": "stdout",
          "text": [
            "\n",
            "      Epoch    GPU_mem   box_loss   cls_loss   dfl_loss  Instances       Size\n"
          ]
        },
        {
          "output_type": "stream",
          "name": "stderr",
          "text": [
            "     93/100      11.5G     0.4622     0.2354     0.9691         38        640: 100%|██████████| 161/161 [02:03<00:00,  1.30it/s]\n",
            "                 Class     Images  Instances      Box(P          R      mAP50  mAP50-95): 100%|██████████| 28/28 [00:13<00:00,  2.15it/s]"
          ]
        },
        {
          "output_type": "stream",
          "name": "stdout",
          "text": [
            "                   all        888       4146      0.556      0.619       0.58      0.485\n"
          ]
        },
        {
          "output_type": "stream",
          "name": "stderr",
          "text": [
            "\n"
          ]
        },
        {
          "output_type": "stream",
          "name": "stdout",
          "text": [
            "\n",
            "      Epoch    GPU_mem   box_loss   cls_loss   dfl_loss  Instances       Size\n"
          ]
        },
        {
          "output_type": "stream",
          "name": "stderr",
          "text": [
            "     94/100      11.3G     0.4632      0.237     0.9674         47        640: 100%|██████████| 161/161 [02:03<00:00,  1.31it/s]\n",
            "                 Class     Images  Instances      Box(P          R      mAP50  mAP50-95): 100%|██████████| 28/28 [00:12<00:00,  2.20it/s]"
          ]
        },
        {
          "output_type": "stream",
          "name": "stdout",
          "text": [
            "                   all        888       4146      0.561      0.624       0.58      0.481\n"
          ]
        },
        {
          "output_type": "stream",
          "name": "stderr",
          "text": [
            "\n"
          ]
        },
        {
          "output_type": "stream",
          "name": "stdout",
          "text": [
            "\n",
            "      Epoch    GPU_mem   box_loss   cls_loss   dfl_loss  Instances       Size\n"
          ]
        },
        {
          "output_type": "stream",
          "name": "stderr",
          "text": [
            "     95/100      11.5G     0.4577     0.2329      0.963         38        640: 100%|██████████| 161/161 [02:03<00:00,  1.31it/s]\n",
            "                 Class     Images  Instances      Box(P          R      mAP50  mAP50-95): 100%|██████████| 28/28 [00:12<00:00,  2.20it/s]"
          ]
        },
        {
          "output_type": "stream",
          "name": "stdout",
          "text": [
            "                   all        888       4146       0.57      0.617      0.586      0.489\n"
          ]
        },
        {
          "output_type": "stream",
          "name": "stderr",
          "text": [
            "\n"
          ]
        },
        {
          "output_type": "stream",
          "name": "stdout",
          "text": [
            "\n",
            "      Epoch    GPU_mem   box_loss   cls_loss   dfl_loss  Instances       Size\n"
          ]
        },
        {
          "output_type": "stream",
          "name": "stderr",
          "text": [
            "     96/100      11.1G     0.4557     0.2293     0.9673         42        640: 100%|██████████| 161/161 [02:02<00:00,  1.31it/s]\n",
            "                 Class     Images  Instances      Box(P          R      mAP50  mAP50-95): 100%|██████████| 28/28 [00:12<00:00,  2.19it/s]"
          ]
        },
        {
          "output_type": "stream",
          "name": "stdout",
          "text": [
            "                   all        888       4146      0.558      0.621      0.564      0.469\n"
          ]
        },
        {
          "output_type": "stream",
          "name": "stderr",
          "text": [
            "\n"
          ]
        },
        {
          "output_type": "stream",
          "name": "stdout",
          "text": [
            "\n",
            "      Epoch    GPU_mem   box_loss   cls_loss   dfl_loss  Instances       Size\n"
          ]
        },
        {
          "output_type": "stream",
          "name": "stderr",
          "text": [
            "     97/100      11.1G     0.4554     0.2313     0.9623         47        640: 100%|██████████| 161/161 [02:02<00:00,  1.31it/s]\n",
            "                 Class     Images  Instances      Box(P          R      mAP50  mAP50-95): 100%|██████████| 28/28 [00:13<00:00,  2.09it/s]"
          ]
        },
        {
          "output_type": "stream",
          "name": "stdout",
          "text": [
            "                   all        888       4146      0.559      0.619      0.568      0.471\n"
          ]
        },
        {
          "output_type": "stream",
          "name": "stderr",
          "text": [
            "\n"
          ]
        },
        {
          "output_type": "stream",
          "name": "stdout",
          "text": [
            "\n",
            "      Epoch    GPU_mem   box_loss   cls_loss   dfl_loss  Instances       Size\n"
          ]
        },
        {
          "output_type": "stream",
          "name": "stderr",
          "text": [
            "     98/100      10.9G     0.4521     0.2272     0.9597         37        640: 100%|██████████| 161/161 [02:03<00:00,  1.30it/s]\n",
            "                 Class     Images  Instances      Box(P          R      mAP50  mAP50-95): 100%|██████████| 28/28 [00:13<00:00,  2.14it/s]"
          ]
        },
        {
          "output_type": "stream",
          "name": "stdout",
          "text": [
            "                   all        888       4146      0.562      0.624      0.576      0.477\n"
          ]
        },
        {
          "output_type": "stream",
          "name": "stderr",
          "text": [
            "\n"
          ]
        },
        {
          "output_type": "stream",
          "name": "stdout",
          "text": [
            "\n",
            "      Epoch    GPU_mem   box_loss   cls_loss   dfl_loss  Instances       Size\n"
          ]
        },
        {
          "output_type": "stream",
          "name": "stderr",
          "text": [
            "     99/100        11G     0.4497     0.2261     0.9615         38        640: 100%|██████████| 161/161 [02:03<00:00,  1.31it/s]\n",
            "                 Class     Images  Instances      Box(P          R      mAP50  mAP50-95): 100%|██████████| 28/28 [00:13<00:00,  2.13it/s]"
          ]
        },
        {
          "output_type": "stream",
          "name": "stdout",
          "text": [
            "                   all        888       4146      0.556      0.621      0.564      0.468\n"
          ]
        },
        {
          "output_type": "stream",
          "name": "stderr",
          "text": [
            "\n"
          ]
        },
        {
          "output_type": "stream",
          "name": "stdout",
          "text": [
            "\n",
            "      Epoch    GPU_mem   box_loss   cls_loss   dfl_loss  Instances       Size\n"
          ]
        },
        {
          "output_type": "stream",
          "name": "stderr",
          "text": [
            "    100/100      11.1G      0.446     0.2235     0.9563         45        640: 100%|██████████| 161/161 [02:04<00:00,  1.30it/s]\n",
            "                 Class     Images  Instances      Box(P          R      mAP50  mAP50-95): 100%|██████████| 28/28 [00:13<00:00,  2.13it/s]"
          ]
        },
        {
          "output_type": "stream",
          "name": "stdout",
          "text": [
            "                   all        888       4146      0.555      0.624      0.571      0.473\n"
          ]
        },
        {
          "output_type": "stream",
          "name": "stderr",
          "text": [
            "\n"
          ]
        },
        {
          "output_type": "stream",
          "name": "stdout",
          "text": [
            "\n",
            "100 epochs completed in 3.858 hours.\n",
            "Optimizer stripped from runs/detect/train/weights/last.pt, 51.6MB\n",
            "Optimizer stripped from runs/detect/train/weights/best.pt, 51.6MB\n",
            "\n",
            "Validating runs/detect/train/weights/best.pt...\n",
            "Ultralytics YOLOv8.1.42 🚀 Python-3.10.12 torch-2.2.1+cu121 CUDA:0 (Tesla T4, 15102MiB)\n",
            "YOLOv9c summary (fused): 384 layers, 25323874 parameters, 0 gradients, 102.3 GFLOPs\n"
          ]
        },
        {
          "output_type": "stream",
          "name": "stderr",
          "text": [
            "                 Class     Images  Instances      Box(P          R      mAP50  mAP50-95): 100%|██████████| 28/28 [00:18<00:00,  1.54it/s]\n"
          ]
        },
        {
          "output_type": "stream",
          "name": "stdout",
          "text": [
            "                   all        888       4146      0.624      0.628      0.634      0.525\n",
            "               class_0        888        242          0          0    0.00578    0.00377\n",
            "               class_1        888        687      0.647      0.641      0.713      0.572\n",
            "               class_2        888        583      0.814      0.585      0.717      0.627\n",
            "               class_3        888        477      0.947      0.868       0.96      0.759\n",
            "               class_4        888       1375      0.565        0.7      0.606       0.48\n",
            "               class_5        888        782      0.771      0.974      0.806       0.71\n",
            "Speed: 0.2ms preprocess, 10.1ms inference, 0.0ms loss, 1.7ms postprocess per image\n",
            "Results saved to \u001b[1mruns/detect/train\u001b[0m\n"
          ]
        }
      ]
    },
    {
      "cell_type": "code",
      "source": [
        "import locale\n",
        "locale.getpreferredencoding = lambda: \"UTF-8\""
      ],
      "metadata": {
        "id": "38cuqnWzvHv9"
      },
      "execution_count": null,
      "outputs": []
    },
    {
      "cell_type": "code",
      "source": [
        "!zip -r yoloV9_runs.zip runs/"
      ],
      "metadata": {
        "colab": {
          "base_uri": "https://localhost:8080/"
        },
        "id": "2iivs_x0uI-H",
        "outputId": "3ffac758-b269-475b-c249-102a5f7d9b0f"
      },
      "execution_count": null,
      "outputs": [
        {
          "output_type": "stream",
          "name": "stdout",
          "text": [
            "  adding: runs/ (stored 0%)\n",
            "  adding: runs/detect/ (stored 0%)\n",
            "  adding: runs/detect/train/ (stored 0%)\n",
            "  adding: runs/detect/train/train_batch1.jpg (deflated 5%)\n",
            "  adding: runs/detect/train/P_curve.png (deflated 8%)\n",
            "  adding: runs/detect/train/events.out.tfevents.1712211401.b773fe34189c.6921.0 (deflated 91%)\n",
            "  adding: runs/detect/train/val_batch0_pred.jpg (deflated 7%)\n",
            "  adding: runs/detect/train/labels_correlogram.jpg (deflated 34%)\n",
            "  adding: runs/detect/train/val_batch1_pred.jpg (deflated 10%)\n",
            "  adding: runs/detect/train/F1_curve.png (deflated 9%)\n",
            "  adding: runs/detect/train/train_batch0.jpg (deflated 4%)\n",
            "  adding: runs/detect/train/weights/ (stored 0%)\n",
            "  adding: runs/detect/train/weights/last.pt (deflated 9%)\n",
            "  adding: runs/detect/train/weights/best.pt (deflated 9%)\n",
            "  adding: runs/detect/train/results.png (deflated 8%)\n",
            "  adding: runs/detect/train/train_batch14491.jpg (deflated 15%)\n",
            "  adding: runs/detect/train/results.csv (deflated 85%)\n",
            "  adding: runs/detect/train/args.yaml (deflated 53%)\n",
            "  adding: runs/detect/train/labels.jpg (deflated 33%)\n",
            "  adding: runs/detect/train/train_batch14490.jpg (deflated 14%)\n",
            "  adding: runs/detect/train/R_curve.png (deflated 8%)\n",
            "  adding: runs/detect/train/train_batch2.jpg (deflated 5%)\n",
            "  adding: runs/detect/train/val_batch2_pred.jpg (deflated 10%)\n",
            "  adding: runs/detect/train/val_batch1_labels.jpg (deflated 10%)\n",
            "  adding: runs/detect/train/train_batch14492.jpg (deflated 11%)\n",
            "  adding: runs/detect/train/confusion_matrix.png (deflated 23%)\n",
            "  adding: runs/detect/train/PR_curve.png (deflated 10%)\n",
            "  adding: runs/detect/train/val_batch2_labels.jpg (deflated 10%)\n",
            "  adding: runs/detect/train/val_batch0_labels.jpg (deflated 7%)\n",
            "  adding: runs/detect/train/confusion_matrix_normalized.png (deflated 22%)\n"
          ]
        }
      ]
    },
    {
      "cell_type": "code",
      "source": [
        "!cp yoloV9_runs.zip /content/drive/MyDrive"
      ],
      "metadata": {
        "id": "8t-NlRJhXwj9"
      },
      "execution_count": null,
      "outputs": []
    },
    {
      "cell_type": "code",
      "source": [
        "!cp -r /content/runs /content/drive/MyDrive/yolov9_runs"
      ],
      "metadata": {
        "id": "AgE3nHPYlYdj"
      },
      "execution_count": null,
      "outputs": []
    },
    {
      "cell_type": "code",
      "source": [
        "!rm -rf runs"
      ],
      "metadata": {
        "id": "dr2M7kB5XoHc"
      },
      "execution_count": null,
      "outputs": []
    },
    {
      "cell_type": "code",
      "source": [
        "from google.colab import drive\n",
        "drive.mount('/content/drive')"
      ],
      "metadata": {
        "colab": {
          "base_uri": "https://localhost:8080/"
        },
        "id": "hFMYhjcvufPX",
        "outputId": "f6a99128-3b1e-47e2-8802-30677109c90b"
      },
      "execution_count": null,
      "outputs": [
        {
          "output_type": "stream",
          "name": "stdout",
          "text": [
            "Mounted at /content/drive\n"
          ]
        }
      ]
    },
    {
      "cell_type": "code",
      "source": [
        "import torch\n",
        "\n",
        "# Manually release memory\n",
        "torch.cuda.empty_cache()"
      ],
      "metadata": {
        "id": "oRDe4gYNZpRl"
      },
      "execution_count": null,
      "outputs": []
    },
    {
      "cell_type": "code",
      "source": [],
      "metadata": {
        "id": "eljRrX7XZrq8"
      },
      "execution_count": null,
      "outputs": []
    }
  ]
}